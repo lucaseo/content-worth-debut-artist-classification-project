{
 "cells": [
  {
   "cell_type": "code",
   "execution_count": null,
   "metadata": {},
   "outputs": [],
   "source": [
    "import sqlalchemy, pickle\n",
    "from sqlalchemy.ext.declarative import declarative_base\n",
    "from sqlalchemy import Column, Integer, String\n",
    "from sqlalchemy.orm import sessionmaker\n",
    "from sqlalchemy import and_, or_\n",
    "import MySQLdb, pickle"
   ]
  },
  {
   "cell_type": "code",
   "execution_count": null,
   "metadata": {},
   "outputs": [],
   "source": [
    "import numpy as np\n",
    "import pandas as pd"
   ]
  },
  {
   "cell_type": "markdown",
   "metadata": {},
   "source": [
    "### Access to AWS MySQL  Server"
   ]
  },
  {
   "cell_type": "code",
   "execution_count": null,
   "metadata": {},
   "outputs": [],
   "source": [
    "pw = pickle.load(open(\"../crawler/mysql_pw.pickle\", \"rb\"))"
   ]
  },
  {
   "cell_type": "code",
   "execution_count": null,
   "metadata": {},
   "outputs": [],
   "source": [
    "engine = sqlalchemy.create_engine(\"mysql+mysqldb://root:\" + pw + \"@52.78.44.120/project_rookie\")"
   ]
  },
  {
   "cell_type": "markdown",
   "metadata": {},
   "source": [
    "## ORM"
   ]
  },
  {
   "cell_type": "code",
   "execution_count": null,
   "metadata": {},
   "outputs": [],
   "source": [
    "# print ORM result\n",
    "\n",
    "def disp(datas):\n",
    "    for data in datas:\n",
    "        print(data)"
   ]
  },
  {
   "cell_type": "code",
   "execution_count": null,
   "metadata": {},
   "outputs": [],
   "source": [
    "# ORM to DataFrame\n",
    "\n",
    "def orm_to_df(orm, artist, album, target):\n",
    "\n",
    "    df = pd.DataFrame(columns=[artist, album, target])\n",
    "\n",
    "    for i in orm:\n",
    "\n",
    "        data = {\n",
    "            'artist' : i.__dict__[artist],\n",
    "            'album' : i.__dict__[album],\n",
    "            target : i.__dict__[target],\n",
    "        }\n",
    "        df.loc[len(df)] = data\n",
    "        \n",
    "    return df"
   ]
  },
  {
   "cell_type": "code",
   "execution_count": null,
   "metadata": {},
   "outputs": [],
   "source": [
    "Base = declarative_base()"
   ]
  },
  {
   "cell_type": "code",
   "execution_count": null,
   "metadata": {},
   "outputs": [],
   "source": [
    "Base.metadata.create_all(engine)"
   ]
  },
  {
   "cell_type": "code",
   "execution_count": null,
   "metadata": {},
   "outputs": [],
   "source": [
    "Session = sessionmaker(bind=engine)\n",
    "session = Session()"
   ]
  },
  {
   "cell_type": "markdown",
   "metadata": {},
   "source": [
    "## Load Buzz Data"
   ]
  },
  {
   "cell_type": "markdown",
   "metadata": {},
   "source": [
    "### ORM - Buzz Billboard"
   ]
  },
  {
   "cell_type": "code",
   "execution_count": null,
   "metadata": {},
   "outputs": [],
   "source": [
    "class Buzz_Billboard(Base):\n",
    "    __tablename__ = 'buzz_billboard'\n",
    "\n",
    "    index = Column(Integer, primary_key=True)\n",
    "    artist = Column(String)\n",
    "    album = Column(String)\n",
    "    freq_billboard = Column(Integer)\n",
    "    \n",
    "    def __init__(self, index, artist, album, freq_billboard):\n",
    "        self.index = index\n",
    "        self.artist = artist\n",
    "        self.album = album\n",
    "        self.freq_billboard = freq_billboard\n",
    "\n",
    "    \n",
    "    def __repr__(self):\n",
    "        return \"<index {}, {}, {}, {}>\".format(self.index, self.artist, self.album, self.freq_billboard)"
   ]
  },
  {
   "cell_type": "code",
   "execution_count": null,
   "metadata": {},
   "outputs": [],
   "source": [
    "freq_billboard = session.query(Buzz_Billboard).all()\n",
    "df_freq_billboard = orm_to_df(freq_billboard, 'artist', 'album', 'freq_billboard')\n",
    "print(df_freq_billboard.shape)\n",
    "df_freq_billboard.head()"
   ]
  },
  {
   "cell_type": "markdown",
   "metadata": {},
   "source": [
    "### ORM - Buzz Genius"
   ]
  },
  {
   "cell_type": "code",
   "execution_count": null,
   "metadata": {},
   "outputs": [],
   "source": [
    "class Buzz_Genius(Base):\n",
    "    __tablename__ = 'buzz_genius'\n",
    "\n",
    "    index = Column(Integer, primary_key=True)\n",
    "    artist = Column(String)\n",
    "    album = Column(String)\n",
    "    freq_genius = Column(Integer)\n",
    "    \n",
    "    def __init__(self, index, artist, album, freq_genius):\n",
    "        self.index = index\n",
    "        self.artist = artist\n",
    "        self.album = album\n",
    "        self.freq_genius = freq_genius\n",
    "\n",
    "    \n",
    "    def __repr__(self):\n",
    "        return \"<index {}, {}, {}, {}>\".format(self.index, self.artist, self.album, self.freq_genius)"
   ]
  },
  {
   "cell_type": "code",
   "execution_count": null,
   "metadata": {},
   "outputs": [],
   "source": [
    "freq_genius = session.query(Buzz_Genius).all()\n",
    "df_freq_genius = orm_to_df(freq_genius, 'artist', 'album', 'freq_genius')\n",
    "print(df_freq_genius.shape)\n",
    "df_freq_genius.head()"
   ]
  },
  {
   "cell_type": "markdown",
   "metadata": {},
   "source": [
    "### ORM - Buzz The Source"
   ]
  },
  {
   "cell_type": "code",
   "execution_count": null,
   "metadata": {},
   "outputs": [],
   "source": [
    "class Buzz_theSource(Base):\n",
    "    __tablename__ = 'buzz_theSource'\n",
    "\n",
    "    index = Column(Integer, primary_key=True)\n",
    "    artist = Column(String)\n",
    "    album = Column(String)\n",
    "    freq_theSource = Column(Integer)\n",
    "    \n",
    "    def __init__(self, index, artist, album, freq_theSource):\n",
    "        self.index = index\n",
    "        self.artist = artist\n",
    "        self.album = album\n",
    "        self.freq_theSource = freq_theSource\n",
    "\n",
    "    \n",
    "    def __repr__(self):\n",
    "        return \"<index {}, {}, {}, {}>\".format(self.index, self.artist, self.album, self.freq_theSource)"
   ]
  },
  {
   "cell_type": "code",
   "execution_count": null,
   "metadata": {},
   "outputs": [],
   "source": [
    "freq_theSource = session.query(Buzz_theSource).all()\n",
    "df_freq_theSource = orm_to_df(freq_theSource, 'artist', 'album', 'freq_theSource')\n",
    "print(df_freq_theSource.shape)\n",
    "df_freq_theSource.head()"
   ]
  },
  {
   "cell_type": "markdown",
   "metadata": {},
   "source": [
    "### ORM - Buzz XXL"
   ]
  },
  {
   "cell_type": "code",
   "execution_count": null,
   "metadata": {},
   "outputs": [],
   "source": [
    "class Buzz_xxl(Base):\n",
    "    __tablename__ = 'buzz_xxl'\n",
    "\n",
    "    index = Column(Integer, primary_key=True)\n",
    "    artist = Column(String)\n",
    "    album = Column(String)\n",
    "    freq_xxl = Column(Integer)\n",
    "    \n",
    "    def __init__(self, index, artist, album, freq_xxl):\n",
    "        self.index = index\n",
    "        self.artist = artist\n",
    "        self.album = album\n",
    "        self.freq_xxl = freq_xxl\n",
    "\n",
    "    \n",
    "    def __repr__(self):\n",
    "        return \"<index {}, {}, {}, {}>\".format(self.index, self.artist, self.album, self.freq_xxl)"
   ]
  },
  {
   "cell_type": "code",
   "execution_count": null,
   "metadata": {},
   "outputs": [],
   "source": [
    "freq_xxl = session.query(Buzz_xxl).all()\n",
    "df_freq_xxl = orm_to_df(freq_xxl, 'artist', 'album', 'freq_xxl')\n",
    "print(df_freq_xxl.shape)\n",
    "df_freq_xxl.head()"
   ]
  },
  {
   "cell_type": "code",
   "execution_count": null,
   "metadata": {},
   "outputs": [],
   "source": [
    "df_buzz = pd.concat([df_freq_billboard, df_freq_genius['freq_genius'], df_freq_theSource['freq_theSource'], df_freq_xxl['freq_xxl']], axis=1)\n",
    "print(df_buzz.shape)\n",
    "df_buzz.head()"
   ]
  },
  {
   "cell_type": "markdown",
   "metadata": {},
   "source": [
    "* * * *"
   ]
  },
  {
   "cell_type": "markdown",
   "metadata": {},
   "source": [
    "## Load Rating Data"
   ]
  },
  {
   "cell_type": "markdown",
   "metadata": {},
   "source": [
    "### ORM - Rating AOTY"
   ]
  },
  {
   "cell_type": "code",
   "execution_count": null,
   "metadata": {},
   "outputs": [],
   "source": [
    "class Rating_AOTY(Base):\n",
    "    __tablename__ = 'rating_AOTY'\n",
    "\n",
    "    index = Column(Integer, primary_key=True)\n",
    "    artist = Column(String)\n",
    "    album = Column(String)\n",
    "    rating = Column(Integer)\n",
    "    \n",
    "    def __init__(self, index, artist, album, rating):\n",
    "        self.index = index\n",
    "        self.artist = artist\n",
    "        self.album = album\n",
    "        self.rating = rating\n",
    "\n",
    "    \n",
    "    def __repr__(self):\n",
    "        return \"<index {}, {}, {}, {}>\".format(self.index, self.artist, self.album, self.rating)"
   ]
  },
  {
   "cell_type": "code",
   "execution_count": null,
   "metadata": {},
   "outputs": [],
   "source": [
    "rating_AOTY = session.query(Rating_AOTY).all()\n",
    "df_rating_AOTY = orm_to_df(rating_AOTY, 'artist', 'album', 'rating')\n",
    "df_rating_AOTY['rating_AOTY'] = df_rating_AOTY['rating']\n",
    "df_rating_AOTY.drop(columns=['rating'], inplace=True)\n",
    "print(df_rating_AOTY.shape)\n",
    "df_rating_AOTY.head()"
   ]
  },
  {
   "cell_type": "markdown",
   "metadata": {},
   "source": [
    "### ORM - Rating Pitchfork"
   ]
  },
  {
   "cell_type": "code",
   "execution_count": null,
   "metadata": {},
   "outputs": [],
   "source": [
    "class Rating_Pitchfork(Base):\n",
    "    __tablename__ = 'rating_pitchFork'\n",
    "\n",
    "    index = Column(Integer, primary_key=True)\n",
    "    artist = Column(String)\n",
    "    album = Column(String)\n",
    "    ratings = Column(Integer)\n",
    "    \n",
    "    def __init__(self, index, artist, album, rating):\n",
    "\n",
    "        self.artist = artist\n",
    "        self.album = album\n",
    "        self.ratings = ratings\n",
    "\n",
    "    \n",
    "    def __repr__(self):\n",
    "        return \"<index {}, {}, {}, {}>\".format(self.artist, self.album, self.ratings)"
   ]
  },
  {
   "cell_type": "code",
   "execution_count": null,
   "metadata": {},
   "outputs": [],
   "source": [
    "rating_pitchfork = session.query(Rating_Pitchfork).all()\n",
    "df_rating_pitchfork = orm_to_df(rating_pitchfork, 'artist', 'album', 'ratings')\n",
    "df_rating_pitchfork['rating_pitch'] = df_rating_pitchfork['ratings']\n",
    "df_rating_pitchfork.drop(columns=['ratings'], inplace=True)\n",
    "print(df_rating_pitchfork.shape)\n",
    "df_rating_pitchfork.head()"
   ]
  },
  {
   "cell_type": "markdown",
   "metadata": {},
   "source": [
    "### ORM - Rating Meta"
   ]
  },
  {
   "cell_type": "code",
   "execution_count": null,
   "metadata": {},
   "outputs": [],
   "source": [
    "class Rating_Meta(Base):\n",
    "    __tablename__ = 'rating_meta'\n",
    "\n",
    "    index = Column(Integer, primary_key=True)\n",
    "    artist = Column(String)\n",
    "    album = Column(String)\n",
    "    meta = Column(Integer)\n",
    "    \n",
    "    def __init__(self, index, artist, album, meta):\n",
    "        self.index = index\n",
    "        self.artist = artist\n",
    "        self.album = album\n",
    "        self.meta = meta\n",
    "\n",
    "    \n",
    "    def __repr__(self):\n",
    "        return \"<index {}, {}, {}, {}>\".format(self.index, self.artist, self.album, self.meta)"
   ]
  },
  {
   "cell_type": "code",
   "execution_count": null,
   "metadata": {},
   "outputs": [],
   "source": [
    "rating_meta = session.query(Rating_Meta).all()\n",
    "df_rating_meta = orm_to_df(rating_meta, 'artist', 'album', 'meta')\n",
    "df_rating_meta['rating_meta'] = df_rating_meta['meta']\n",
    "df_rating_meta.drop(columns=['meta'], inplace=True)\n",
    "print(df_rating_meta.shape)\n",
    "df_rating_meta.head()"
   ]
  },
  {
   "cell_type": "markdown",
   "metadata": {},
   "source": [
    "* * * * "
   ]
  },
  {
   "cell_type": "markdown",
   "metadata": {},
   "source": [
    "## Load SNS Follower Data"
   ]
  },
  {
   "cell_type": "code",
   "execution_count": null,
   "metadata": {},
   "outputs": [],
   "source": [
    "class SNS_followers(Base):\n",
    "    __tablename__ = 'sns_followers'\n",
    "\n",
    "    index = Column(Integer, primary_key=True)\n",
    "    artist = Column(String)\n",
    "    twitter = Column(String)\n",
    "    instagram = Column(String)\n",
    "    facebook = Column(String)\n",
    "    youtube = Column(String)\n",
    "    soundcloud = Column(String)\n",
    "    spotify = Column(String)\n",
    "    \n",
    "    def __init__(self, index, artist, twitter, instagram, facebook, youtube, soundcloud, spotify):\n",
    "        self.index = index\n",
    "        self.artist = artist\n",
    "        self.twitter = twitter\n",
    "        self.instagram = instagram\n",
    "        self.facebook = facebook\n",
    "        self.youtube = youtube\n",
    "        self.soundcloud = soundcloud\n",
    "        self.spotify = spotify\n",
    "    \n",
    "    def __repr__(self):\n",
    "        return \"<index {}, {}, {}, {}, {}, {}, {}, {}>\".format(self.index, self.artist, self.twitter, self.instagram, self.facebook, self.youtube, self.soundcloud, self.spotify)"
   ]
  },
  {
   "cell_type": "code",
   "execution_count": null,
   "metadata": {},
   "outputs": [],
   "source": [
    "# ORM to DataFrame\n",
    "\n",
    "def orm_to_df_sns(orm):\n",
    "\n",
    "    df = pd.DataFrame(columns=['artist', 'twitter', 'instagram', 'facebook', 'youtube', 'soundcloud', 'spotify'])\n",
    "\n",
    "    for i in orm:\n",
    "\n",
    "        data = {\n",
    "            'artist' : i.__dict__['artist'],\n",
    "            'twitter' : i.__dict__['twitter'],\n",
    "            'instagram' : i.__dict__['instagram'],\n",
    "            'facebook' : i.__dict__['facebook'],\n",
    "            'youtube' : i.__dict__['youtube'],\n",
    "            'soundcloud' : i.__dict__['soundcloud'],\n",
    "            'spotify' : i.__dict__['spotify'],\n",
    "        }\n",
    "        df.loc[len(df)] = data\n",
    "        \n",
    "    return df"
   ]
  },
  {
   "cell_type": "code",
   "execution_count": null,
   "metadata": {},
   "outputs": [],
   "source": [
    "sns_followers = session.query(SNS_followers).all()\n",
    "df_sns_followers = orm_to_df_sns(sns_followers)\n",
    "print(df_sns_followers.shape)\n",
    "df_sns_followers.head()"
   ]
  },
  {
   "cell_type": "markdown",
   "metadata": {},
   "source": [
    "* * * *"
   ]
  },
  {
   "cell_type": "markdown",
   "metadata": {},
   "source": [
    "## Load debut album list"
   ]
  },
  {
   "cell_type": "code",
   "execution_count": null,
   "metadata": {},
   "outputs": [],
   "source": [
    "df_debut = pd.read_csv(\"../data/final_list_debut_album.csv\")\n",
    "print(df_debut.shape)\n",
    "df_debut.head()"
   ]
  },
  {
   "cell_type": "code",
   "execution_count": null,
   "metadata": {},
   "outputs": [],
   "source": [
    "df_debut.info()"
   ]
  },
  {
   "cell_type": "markdown",
   "metadata": {},
   "source": [
    "## Load target variables labeled list"
   ]
  },
  {
   "cell_type": "code",
   "execution_count": null,
   "metadata": {},
   "outputs": [],
   "source": [
    "df_answer_GDB = pd.read_csv(\"../data/survey/survey-LE-GDB.csv\")\n",
    "print(df_answer_GDB.shape)\n",
    "df_answer_GDB.head()"
   ]
  },
  {
   "cell_type": "code",
   "execution_count": null,
   "metadata": {},
   "outputs": [],
   "source": [
    "df_answer_Melo = pd.read_csv(\"../data/survey/survey-LE-Melo_2.csv\")\n",
    "print(df_answer_Melo.shape)\n",
    "df_answer_Melo.head()"
   ]
  },
  {
   "cell_type": "markdown",
   "metadata": {},
   "source": [
    "* * * *"
   ]
  },
  {
   "cell_type": "markdown",
   "metadata": {},
   "source": [
    "* * * *"
   ]
  },
  {
   "cell_type": "markdown",
   "metadata": {},
   "source": [
    "### Merge Label"
   ]
  },
  {
   "cell_type": "code",
   "execution_count": null,
   "metadata": {},
   "outputs": [],
   "source": [
    "label = pd.merge(df_answer_GDB, df_debut, how='inner', on='artist')"
   ]
  },
  {
   "cell_type": "code",
   "execution_count": null,
   "metadata": {},
   "outputs": [],
   "source": [
    "label = pd.merge(label, df_answer_Melo, how='inner', on='artist')"
   ]
  },
  {
   "cell_type": "code",
   "execution_count": null,
   "metadata": {},
   "outputs": [],
   "source": [
    "label = label.drop(columns=['album_x', 'genre_x', 'album_y', 'genre_y'])"
   ]
  },
  {
   "cell_type": "code",
   "execution_count": null,
   "metadata": {},
   "outputs": [],
   "source": [
    "label['label'] = label['label_GDB'] + label['label_Melo']"
   ]
  },
  {
   "cell_type": "code",
   "execution_count": null,
   "metadata": {},
   "outputs": [],
   "source": [
    "label.info()"
   ]
  },
  {
   "cell_type": "markdown",
   "metadata": {},
   "source": [
    "#### final labeling"
   ]
  },
  {
   "cell_type": "code",
   "execution_count": null,
   "metadata": {},
   "outputs": [],
   "source": [
    "label['label'] = label['label'].apply(lambda x : 1 if x > 0 else 0)"
   ]
  },
  {
   "cell_type": "code",
   "execution_count": null,
   "metadata": {},
   "outputs": [],
   "source": [
    "label = label.drop(columns=['label_GDB', 'label_Melo'])"
   ]
  },
  {
   "cell_type": "code",
   "execution_count": null,
   "metadata": {},
   "outputs": [],
   "source": [
    "label.head()"
   ]
  },
  {
   "cell_type": "code",
   "execution_count": null,
   "metadata": {},
   "outputs": [],
   "source": []
  },
  {
   "cell_type": "code",
   "execution_count": null,
   "metadata": {},
   "outputs": [],
   "source": []
  },
  {
   "cell_type": "code",
   "execution_count": null,
   "metadata": {},
   "outputs": [],
   "source": []
  },
  {
   "cell_type": "markdown",
   "metadata": {},
   "source": [
    "#### Merge Buzz"
   ]
  },
  {
   "cell_type": "code",
   "execution_count": null,
   "metadata": {},
   "outputs": [],
   "source": [
    "label2 = label.merge(df_buzz, how='left')"
   ]
  },
  {
   "cell_type": "code",
   "execution_count": null,
   "metadata": {},
   "outputs": [],
   "source": [
    "label2.info()"
   ]
  },
  {
   "cell_type": "code",
   "execution_count": null,
   "metadata": {
    "scrolled": false
   },
   "outputs": [],
   "source": [
    "label2.head()"
   ]
  },
  {
   "cell_type": "markdown",
   "metadata": {},
   "source": [
    "#### Merge rating"
   ]
  },
  {
   "cell_type": "code",
   "execution_count": null,
   "metadata": {},
   "outputs": [],
   "source": [
    "label2 = label2.merge(df_rating_AOTY[['artist', 'album', 'rating_AOTY']], how='left')\n",
    "label2 = label2.merge(df_rating_meta[['artist', 'album', 'rating_meta']], how='left')\n",
    "label2 = label2.merge(df_rating_pitchfork[['artist', 'album', 'rating_pitch']], how='left')"
   ]
  },
  {
   "cell_type": "markdown",
   "metadata": {},
   "source": [
    "#### Merge SNS"
   ]
  },
  {
   "cell_type": "code",
   "execution_count": null,
   "metadata": {},
   "outputs": [],
   "source": [
    "label2 = label2.merge(df_sns_followers, how='left')"
   ]
  },
  {
   "cell_type": "code",
   "execution_count": null,
   "metadata": {},
   "outputs": [],
   "source": [
    "label2.info()"
   ]
  },
  {
   "cell_type": "code",
   "execution_count": null,
   "metadata": {},
   "outputs": [],
   "source": [
    "label2[['twitter', 'instagram', 'facebook', 'youtube', 'soundcloud', 'spotify']] = label2[['twitter', 'instagram', 'facebook', 'youtube', 'soundcloud', 'spotify']].fillna(value=0)"
   ]
  },
  {
   "cell_type": "code",
   "execution_count": null,
   "metadata": {},
   "outputs": [],
   "source": [
    "label2.columns"
   ]
  },
  {
   "cell_type": "code",
   "execution_count": null,
   "metadata": {},
   "outputs": [],
   "source": [
    "df = pd.DataFrame(label2, columns = ['label', 'artist', 'album', 'genre', 'single_count','freq_billboard',\n",
    "       'freq_genius', 'freq_theSource', 'freq_xxl', 'rating_AOTY',\n",
    "       'rating_meta', 'rating_pitch', 'twitter', 'instagram', 'facebook',\n",
    "       'spotify', 'soundcloud', 'youtube'])"
   ]
  },
  {
   "cell_type": "code",
   "execution_count": null,
   "metadata": {},
   "outputs": [],
   "source": []
  },
  {
   "cell_type": "code",
   "execution_count": null,
   "metadata": {},
   "outputs": [],
   "source": [
    "df.info()"
   ]
  },
  {
   "cell_type": "code",
   "execution_count": null,
   "metadata": {},
   "outputs": [],
   "source": [
    "df"
   ]
  },
  {
   "cell_type": "code",
   "execution_count": null,
   "metadata": {},
   "outputs": [],
   "source": [
    "df.to_csv(\"../data/df_baseline.csv\", index=False, encoding='utf-8')"
   ]
  },
  {
   "cell_type": "code",
   "execution_count": null,
   "metadata": {},
   "outputs": [],
   "source": []
  }
 ],
 "metadata": {
  "kernelspec": {
   "display_name": "Python 3",
   "language": "python",
   "name": "python3"
  },
  "language_info": {
   "codemirror_mode": {
    "name": "ipython",
    "version": 3
   },
   "file_extension": ".py",
   "mimetype": "text/x-python",
   "name": "python",
   "nbconvert_exporter": "python",
   "pygments_lexer": "ipython3",
   "version": "3.6.2"
  }
 },
 "nbformat": 4,
 "nbformat_minor": 2
}
