{
 "cells": [
  {
   "cell_type": "code",
   "execution_count": 1,
   "metadata": {},
   "outputs": [],
   "source": [
    "import numpy as np\n",
    "import pandas as pd"
   ]
  },
  {
   "cell_type": "markdown",
   "metadata": {},
   "source": [
    "### Load debut album list"
   ]
  },
  {
   "cell_type": "code",
   "execution_count": 2,
   "metadata": {},
   "outputs": [
    {
     "name": "stdout",
     "output_type": "stream",
     "text": [
      "(1092, 4)\n"
     ]
    },
    {
     "data": {
      "text/html": [
       "<div>\n",
       "<style scoped>\n",
       "    .dataframe tbody tr th:only-of-type {\n",
       "        vertical-align: middle;\n",
       "    }\n",
       "\n",
       "    .dataframe tbody tr th {\n",
       "        vertical-align: top;\n",
       "    }\n",
       "\n",
       "    .dataframe thead th {\n",
       "        text-align: right;\n",
       "    }\n",
       "</style>\n",
       "<table border=\"1\" class=\"dataframe\">\n",
       "  <thead>\n",
       "    <tr style=\"text-align: right;\">\n",
       "      <th></th>\n",
       "      <th>artist</th>\n",
       "      <th>album</th>\n",
       "      <th>genre</th>\n",
       "      <th>single_count</th>\n",
       "    </tr>\n",
       "  </thead>\n",
       "  <tbody>\n",
       "    <tr>\n",
       "      <th>0</th>\n",
       "      <td>Flash Bang Grenada</td>\n",
       "      <td>10 Haters</td>\n",
       "      <td>hiphop</td>\n",
       "      <td>0</td>\n",
       "    </tr>\n",
       "    <tr>\n",
       "      <th>1</th>\n",
       "      <td>Aggro Santos</td>\n",
       "      <td>AggroSantos.com</td>\n",
       "      <td>hiphop</td>\n",
       "      <td>3</td>\n",
       "    </tr>\n",
       "    <tr>\n",
       "      <th>2</th>\n",
       "      <td>AKA</td>\n",
       "      <td>Altar Ego</td>\n",
       "      <td>hiphop</td>\n",
       "      <td>4</td>\n",
       "    </tr>\n",
       "    <tr>\n",
       "      <th>3</th>\n",
       "      <td>Shlohmo</td>\n",
       "      <td>Bad Vibes</td>\n",
       "      <td>hiphop</td>\n",
       "      <td>0</td>\n",
       "    </tr>\n",
       "    <tr>\n",
       "      <th>4</th>\n",
       "      <td>Glasses Malone</td>\n",
       "      <td>Beach Cruiser</td>\n",
       "      <td>hiphop</td>\n",
       "      <td>4</td>\n",
       "    </tr>\n",
       "  </tbody>\n",
       "</table>\n",
       "</div>"
      ],
      "text/plain": [
       "               artist            album   genre  single_count\n",
       "0  Flash Bang Grenada        10 Haters  hiphop             0\n",
       "1        Aggro Santos  AggroSantos.com  hiphop             3\n",
       "2                 AKA        Altar Ego  hiphop             4\n",
       "3             Shlohmo        Bad Vibes  hiphop             0\n",
       "4      Glasses Malone    Beach Cruiser  hiphop             4"
      ]
     },
     "execution_count": 2,
     "metadata": {},
     "output_type": "execute_result"
    }
   ],
   "source": [
    "df_debut = pd.read_csv(\"../data/final_list_debut_album.csv\")\n",
    "print(df_debut.shape)\n",
    "df_debut.head()"
   ]
  },
  {
   "cell_type": "code",
   "execution_count": 3,
   "metadata": {},
   "outputs": [
    {
     "name": "stdout",
     "output_type": "stream",
     "text": [
      "<class 'pandas.core.frame.DataFrame'>\n",
      "RangeIndex: 1092 entries, 0 to 1091\n",
      "Data columns (total 4 columns):\n",
      "artist          1092 non-null object\n",
      "album           1092 non-null object\n",
      "genre           1092 non-null object\n",
      "single_count    1092 non-null int64\n",
      "dtypes: int64(1), object(3)\n",
      "memory usage: 34.2+ KB\n"
     ]
    }
   ],
   "source": [
    "df_debut.info()"
   ]
  },
  {
   "cell_type": "markdown",
   "metadata": {},
   "source": [
    "### Load target variables labeled list"
   ]
  },
  {
   "cell_type": "code",
   "execution_count": 4,
   "metadata": {},
   "outputs": [
    {
     "name": "stdout",
     "output_type": "stream",
     "text": [
      "(1095, 4)\n"
     ]
    },
    {
     "data": {
      "text/html": [
       "<div>\n",
       "<style scoped>\n",
       "    .dataframe tbody tr th:only-of-type {\n",
       "        vertical-align: middle;\n",
       "    }\n",
       "\n",
       "    .dataframe tbody tr th {\n",
       "        vertical-align: top;\n",
       "    }\n",
       "\n",
       "    .dataframe thead th {\n",
       "        text-align: right;\n",
       "    }\n",
       "</style>\n",
       "<table border=\"1\" class=\"dataframe\">\n",
       "  <thead>\n",
       "    <tr style=\"text-align: right;\">\n",
       "      <th></th>\n",
       "      <th>artist</th>\n",
       "      <th>album</th>\n",
       "      <th>genre</th>\n",
       "      <th>label_GDB</th>\n",
       "    </tr>\n",
       "  </thead>\n",
       "  <tbody>\n",
       "    <tr>\n",
       "      <th>0</th>\n",
       "      <td>Flash Bang Grenada</td>\n",
       "      <td>10 Haters</td>\n",
       "      <td>hiphop</td>\n",
       "      <td>0</td>\n",
       "    </tr>\n",
       "    <tr>\n",
       "      <th>1</th>\n",
       "      <td>Aggro Santos</td>\n",
       "      <td>AggroSantos.com</td>\n",
       "      <td>hiphop</td>\n",
       "      <td>0</td>\n",
       "    </tr>\n",
       "    <tr>\n",
       "      <th>2</th>\n",
       "      <td>AKA</td>\n",
       "      <td>Altar Ego</td>\n",
       "      <td>hiphop</td>\n",
       "      <td>0</td>\n",
       "    </tr>\n",
       "    <tr>\n",
       "      <th>3</th>\n",
       "      <td>Shlohmo</td>\n",
       "      <td>Bad Vibes</td>\n",
       "      <td>hiphop</td>\n",
       "      <td>0</td>\n",
       "    </tr>\n",
       "    <tr>\n",
       "      <th>4</th>\n",
       "      <td>Glasses Malone</td>\n",
       "      <td>Beach Cruiser</td>\n",
       "      <td>hiphop</td>\n",
       "      <td>0</td>\n",
       "    </tr>\n",
       "  </tbody>\n",
       "</table>\n",
       "</div>"
      ],
      "text/plain": [
       "               artist            album   genre  label_GDB\n",
       "0  Flash Bang Grenada        10 Haters  hiphop          0\n",
       "1        Aggro Santos  AggroSantos.com  hiphop          0\n",
       "2                 AKA        Altar Ego  hiphop          0\n",
       "3             Shlohmo        Bad Vibes  hiphop          0\n",
       "4      Glasses Malone    Beach Cruiser  hiphop          0"
      ]
     },
     "execution_count": 4,
     "metadata": {},
     "output_type": "execute_result"
    }
   ],
   "source": [
    "df_answer_GDB = pd.read_csv(\"../data/survey/survey-LE-GDB.csv\")\n",
    "print(df_answer_GDB.shape)\n",
    "df_answer_GDB.head()"
   ]
  },
  {
   "cell_type": "code",
   "execution_count": 5,
   "metadata": {},
   "outputs": [
    {
     "name": "stdout",
     "output_type": "stream",
     "text": [
      "(1095, 4)\n"
     ]
    },
    {
     "data": {
      "text/html": [
       "<div>\n",
       "<style scoped>\n",
       "    .dataframe tbody tr th:only-of-type {\n",
       "        vertical-align: middle;\n",
       "    }\n",
       "\n",
       "    .dataframe tbody tr th {\n",
       "        vertical-align: top;\n",
       "    }\n",
       "\n",
       "    .dataframe thead th {\n",
       "        text-align: right;\n",
       "    }\n",
       "</style>\n",
       "<table border=\"1\" class=\"dataframe\">\n",
       "  <thead>\n",
       "    <tr style=\"text-align: right;\">\n",
       "      <th></th>\n",
       "      <th>artist</th>\n",
       "      <th>album</th>\n",
       "      <th>genre</th>\n",
       "      <th>label_Melo</th>\n",
       "    </tr>\n",
       "  </thead>\n",
       "  <tbody>\n",
       "    <tr>\n",
       "      <th>0</th>\n",
       "      <td>Flash Bang Grenada</td>\n",
       "      <td>10 Haters</td>\n",
       "      <td>hiphop</td>\n",
       "      <td>0</td>\n",
       "    </tr>\n",
       "    <tr>\n",
       "      <th>1</th>\n",
       "      <td>Aggro Santos</td>\n",
       "      <td>AggroSantos.com</td>\n",
       "      <td>hiphop</td>\n",
       "      <td>0</td>\n",
       "    </tr>\n",
       "    <tr>\n",
       "      <th>2</th>\n",
       "      <td>AKA</td>\n",
       "      <td>Altar Ego</td>\n",
       "      <td>hiphop</td>\n",
       "      <td>0</td>\n",
       "    </tr>\n",
       "    <tr>\n",
       "      <th>3</th>\n",
       "      <td>Shlohmo</td>\n",
       "      <td>Bad Vibes</td>\n",
       "      <td>hiphop</td>\n",
       "      <td>0</td>\n",
       "    </tr>\n",
       "    <tr>\n",
       "      <th>4</th>\n",
       "      <td>Glasses Malone</td>\n",
       "      <td>Beach Cruiser</td>\n",
       "      <td>hiphop</td>\n",
       "      <td>0</td>\n",
       "    </tr>\n",
       "  </tbody>\n",
       "</table>\n",
       "</div>"
      ],
      "text/plain": [
       "               artist            album   genre  label_Melo\n",
       "0  Flash Bang Grenada        10 Haters  hiphop           0\n",
       "1        Aggro Santos  AggroSantos.com  hiphop           0\n",
       "2                 AKA        Altar Ego  hiphop           0\n",
       "3             Shlohmo        Bad Vibes  hiphop           0\n",
       "4      Glasses Malone    Beach Cruiser  hiphop           0"
      ]
     },
     "execution_count": 5,
     "metadata": {},
     "output_type": "execute_result"
    }
   ],
   "source": [
    "df_answer_Melo = pd.read_csv(\"../data/survey/survey-LE-Melo_2.csv\")\n",
    "print(df_answer_Melo.shape)\n",
    "df_answer_Melo.head()"
   ]
  },
  {
   "cell_type": "markdown",
   "metadata": {},
   "source": [
    "* * * *"
   ]
  },
  {
   "cell_type": "markdown",
   "metadata": {},
   "source": [
    "### Load buzz"
   ]
  },
  {
   "cell_type": "code",
   "execution_count": 6,
   "metadata": {},
   "outputs": [
    {
     "name": "stdout",
     "output_type": "stream",
     "text": [
      "(1951, 3)\n"
     ]
    },
    {
     "data": {
      "text/html": [
       "<div>\n",
       "<style scoped>\n",
       "    .dataframe tbody tr th:only-of-type {\n",
       "        vertical-align: middle;\n",
       "    }\n",
       "\n",
       "    .dataframe tbody tr th {\n",
       "        vertical-align: top;\n",
       "    }\n",
       "\n",
       "    .dataframe thead th {\n",
       "        text-align: right;\n",
       "    }\n",
       "</style>\n",
       "<table border=\"1\" class=\"dataframe\">\n",
       "  <thead>\n",
       "    <tr style=\"text-align: right;\">\n",
       "      <th></th>\n",
       "      <th>artist</th>\n",
       "      <th>album</th>\n",
       "      <th>freq_billboard</th>\n",
       "    </tr>\n",
       "  </thead>\n",
       "  <tbody>\n",
       "    <tr>\n",
       "      <th>0</th>\n",
       "      <td>2Cellos</td>\n",
       "      <td>2Cellos</td>\n",
       "      <td>0</td>\n",
       "    </tr>\n",
       "    <tr>\n",
       "      <th>1</th>\n",
       "      <td>Deep Dark Robot</td>\n",
       "      <td>8 Songs About a Girl</td>\n",
       "      <td>0</td>\n",
       "    </tr>\n",
       "    <tr>\n",
       "      <th>2</th>\n",
       "      <td>The Young Professionals</td>\n",
       "      <td>9am to 5pm 5pm to Whenever</td>\n",
       "      <td>0</td>\n",
       "    </tr>\n",
       "    <tr>\n",
       "      <th>3</th>\n",
       "      <td>Flash Bang Grenada</td>\n",
       "      <td>10 Haters</td>\n",
       "      <td>0</td>\n",
       "    </tr>\n",
       "    <tr>\n",
       "      <th>4</th>\n",
       "      <td>Her Majesty &amp; the Wolves</td>\n",
       "      <td>111</td>\n",
       "      <td>0</td>\n",
       "    </tr>\n",
       "  </tbody>\n",
       "</table>\n",
       "</div>"
      ],
      "text/plain": [
       "                     artist                       album  freq_billboard\n",
       "0                   2Cellos                     2Cellos               0\n",
       "1           Deep Dark Robot        8 Songs About a Girl               0\n",
       "2   The Young Professionals  9am to 5pm 5pm to Whenever               0\n",
       "3        Flash Bang Grenada                   10 Haters               0\n",
       "4  Her Majesty & the Wolves                         111               0"
      ]
     },
     "execution_count": 6,
     "metadata": {},
     "output_type": "execute_result"
    }
   ],
   "source": [
    "df_buzz_billboard = pd.read_csv(\"../data/buzz/buzz_billboard.csv\")\n",
    "print(df_buzz_billboard.shape)\n",
    "df_buzz_billboard.head()"
   ]
  },
  {
   "cell_type": "code",
   "execution_count": 7,
   "metadata": {},
   "outputs": [
    {
     "name": "stdout",
     "output_type": "stream",
     "text": [
      "(1951, 3)\n"
     ]
    },
    {
     "data": {
      "text/html": [
       "<div>\n",
       "<style scoped>\n",
       "    .dataframe tbody tr th:only-of-type {\n",
       "        vertical-align: middle;\n",
       "    }\n",
       "\n",
       "    .dataframe tbody tr th {\n",
       "        vertical-align: top;\n",
       "    }\n",
       "\n",
       "    .dataframe thead th {\n",
       "        text-align: right;\n",
       "    }\n",
       "</style>\n",
       "<table border=\"1\" class=\"dataframe\">\n",
       "  <thead>\n",
       "    <tr style=\"text-align: right;\">\n",
       "      <th></th>\n",
       "      <th>artist</th>\n",
       "      <th>album</th>\n",
       "      <th>freq_genius</th>\n",
       "    </tr>\n",
       "  </thead>\n",
       "  <tbody>\n",
       "    <tr>\n",
       "      <th>0</th>\n",
       "      <td>2Cellos</td>\n",
       "      <td>2Cellos</td>\n",
       "      <td>0</td>\n",
       "    </tr>\n",
       "    <tr>\n",
       "      <th>1</th>\n",
       "      <td>Deep Dark Robot</td>\n",
       "      <td>8 Songs About a Girl</td>\n",
       "      <td>0</td>\n",
       "    </tr>\n",
       "    <tr>\n",
       "      <th>2</th>\n",
       "      <td>The Young Professionals</td>\n",
       "      <td>9am to 5pm 5pm to Whenever</td>\n",
       "      <td>0</td>\n",
       "    </tr>\n",
       "    <tr>\n",
       "      <th>3</th>\n",
       "      <td>Flash Bang Grenada</td>\n",
       "      <td>10 Haters</td>\n",
       "      <td>0</td>\n",
       "    </tr>\n",
       "    <tr>\n",
       "      <th>4</th>\n",
       "      <td>Her Majesty &amp; the Wolves</td>\n",
       "      <td>111</td>\n",
       "      <td>0</td>\n",
       "    </tr>\n",
       "  </tbody>\n",
       "</table>\n",
       "</div>"
      ],
      "text/plain": [
       "                     artist                       album  freq_genius\n",
       "0                   2Cellos                     2Cellos            0\n",
       "1           Deep Dark Robot        8 Songs About a Girl            0\n",
       "2   The Young Professionals  9am to 5pm 5pm to Whenever            0\n",
       "3        Flash Bang Grenada                   10 Haters            0\n",
       "4  Her Majesty & the Wolves                         111            0"
      ]
     },
     "execution_count": 7,
     "metadata": {},
     "output_type": "execute_result"
    }
   ],
   "source": [
    "df_buzz_genius = pd.read_csv(\"../data/buzz/buzz_genius.csv\")\n",
    "print(df_buzz_genius.shape)\n",
    "df_buzz_genius.head()"
   ]
  },
  {
   "cell_type": "code",
   "execution_count": 8,
   "metadata": {},
   "outputs": [
    {
     "name": "stdout",
     "output_type": "stream",
     "text": [
      "(1951, 3)\n"
     ]
    },
    {
     "data": {
      "text/html": [
       "<div>\n",
       "<style scoped>\n",
       "    .dataframe tbody tr th:only-of-type {\n",
       "        vertical-align: middle;\n",
       "    }\n",
       "\n",
       "    .dataframe tbody tr th {\n",
       "        vertical-align: top;\n",
       "    }\n",
       "\n",
       "    .dataframe thead th {\n",
       "        text-align: right;\n",
       "    }\n",
       "</style>\n",
       "<table border=\"1\" class=\"dataframe\">\n",
       "  <thead>\n",
       "    <tr style=\"text-align: right;\">\n",
       "      <th></th>\n",
       "      <th>artist</th>\n",
       "      <th>album</th>\n",
       "      <th>freq_theSource</th>\n",
       "    </tr>\n",
       "  </thead>\n",
       "  <tbody>\n",
       "    <tr>\n",
       "      <th>0</th>\n",
       "      <td>2Cellos</td>\n",
       "      <td>2Cellos</td>\n",
       "      <td>0</td>\n",
       "    </tr>\n",
       "    <tr>\n",
       "      <th>1</th>\n",
       "      <td>Deep Dark Robot</td>\n",
       "      <td>8 Songs About a Girl</td>\n",
       "      <td>0</td>\n",
       "    </tr>\n",
       "    <tr>\n",
       "      <th>2</th>\n",
       "      <td>The Young Professionals</td>\n",
       "      <td>9am to 5pm 5pm to Whenever</td>\n",
       "      <td>0</td>\n",
       "    </tr>\n",
       "    <tr>\n",
       "      <th>3</th>\n",
       "      <td>Flash Bang Grenada</td>\n",
       "      <td>10 Haters</td>\n",
       "      <td>0</td>\n",
       "    </tr>\n",
       "    <tr>\n",
       "      <th>4</th>\n",
       "      <td>Her Majesty &amp; the Wolves</td>\n",
       "      <td>111</td>\n",
       "      <td>7</td>\n",
       "    </tr>\n",
       "  </tbody>\n",
       "</table>\n",
       "</div>"
      ],
      "text/plain": [
       "                     artist                       album  freq_theSource\n",
       "0                   2Cellos                     2Cellos               0\n",
       "1           Deep Dark Robot        8 Songs About a Girl               0\n",
       "2   The Young Professionals  9am to 5pm 5pm to Whenever               0\n",
       "3        Flash Bang Grenada                   10 Haters               0\n",
       "4  Her Majesty & the Wolves                         111               7"
      ]
     },
     "execution_count": 8,
     "metadata": {},
     "output_type": "execute_result"
    }
   ],
   "source": [
    "df_buzz_theSource = pd.read_csv(\"../data/buzz/buzz_theSource.csv\")\n",
    "print(df_buzz_theSource.shape)\n",
    "df_buzz_theSource.head()"
   ]
  },
  {
   "cell_type": "code",
   "execution_count": 9,
   "metadata": {},
   "outputs": [
    {
     "name": "stdout",
     "output_type": "stream",
     "text": [
      "(1951, 3)\n"
     ]
    },
    {
     "data": {
      "text/html": [
       "<div>\n",
       "<style scoped>\n",
       "    .dataframe tbody tr th:only-of-type {\n",
       "        vertical-align: middle;\n",
       "    }\n",
       "\n",
       "    .dataframe tbody tr th {\n",
       "        vertical-align: top;\n",
       "    }\n",
       "\n",
       "    .dataframe thead th {\n",
       "        text-align: right;\n",
       "    }\n",
       "</style>\n",
       "<table border=\"1\" class=\"dataframe\">\n",
       "  <thead>\n",
       "    <tr style=\"text-align: right;\">\n",
       "      <th></th>\n",
       "      <th>artist</th>\n",
       "      <th>album</th>\n",
       "      <th>freq_xxl</th>\n",
       "    </tr>\n",
       "  </thead>\n",
       "  <tbody>\n",
       "    <tr>\n",
       "      <th>0</th>\n",
       "      <td>2Cellos</td>\n",
       "      <td>2Cellos</td>\n",
       "      <td>0</td>\n",
       "    </tr>\n",
       "    <tr>\n",
       "      <th>1</th>\n",
       "      <td>Deep Dark Robot</td>\n",
       "      <td>8 Songs About a Girl</td>\n",
       "      <td>14</td>\n",
       "    </tr>\n",
       "    <tr>\n",
       "      <th>2</th>\n",
       "      <td>The Young Professionals</td>\n",
       "      <td>9am to 5pm 5pm to Whenever</td>\n",
       "      <td>0</td>\n",
       "    </tr>\n",
       "    <tr>\n",
       "      <th>3</th>\n",
       "      <td>Flash Bang Grenada</td>\n",
       "      <td>10 Haters</td>\n",
       "      <td>0</td>\n",
       "    </tr>\n",
       "    <tr>\n",
       "      <th>4</th>\n",
       "      <td>Her Majesty &amp; the Wolves</td>\n",
       "      <td>111</td>\n",
       "      <td>5423</td>\n",
       "    </tr>\n",
       "  </tbody>\n",
       "</table>\n",
       "</div>"
      ],
      "text/plain": [
       "                     artist                       album  freq_xxl\n",
       "0                   2Cellos                     2Cellos         0\n",
       "1           Deep Dark Robot        8 Songs About a Girl        14\n",
       "2   The Young Professionals  9am to 5pm 5pm to Whenever         0\n",
       "3        Flash Bang Grenada                   10 Haters         0\n",
       "4  Her Majesty & the Wolves                         111      5423"
      ]
     },
     "execution_count": 9,
     "metadata": {},
     "output_type": "execute_result"
    }
   ],
   "source": [
    "df_buzz_xxl = pd.read_csv(\"../data/buzz/buzz_xxl.csv\")\n",
    "print(df_buzz_xxl.shape)\n",
    "df_buzz_xxl.head()"
   ]
  },
  {
   "cell_type": "code",
   "execution_count": 10,
   "metadata": {},
   "outputs": [],
   "source": [
    "df_buzz = pd.concat([df_buzz_billboard, df_buzz_genius['freq_genius'], df_buzz_theSource['freq_theSource'], df_buzz_xxl['freq_xxl']], axis=1)"
   ]
  },
  {
   "cell_type": "code",
   "execution_count": 11,
   "metadata": {},
   "outputs": [
    {
     "data": {
      "text/html": [
       "<div>\n",
       "<style scoped>\n",
       "    .dataframe tbody tr th:only-of-type {\n",
       "        vertical-align: middle;\n",
       "    }\n",
       "\n",
       "    .dataframe tbody tr th {\n",
       "        vertical-align: top;\n",
       "    }\n",
       "\n",
       "    .dataframe thead th {\n",
       "        text-align: right;\n",
       "    }\n",
       "</style>\n",
       "<table border=\"1\" class=\"dataframe\">\n",
       "  <thead>\n",
       "    <tr style=\"text-align: right;\">\n",
       "      <th></th>\n",
       "      <th>artist</th>\n",
       "      <th>album</th>\n",
       "      <th>freq_billboard</th>\n",
       "      <th>freq_genius</th>\n",
       "      <th>freq_theSource</th>\n",
       "      <th>freq_xxl</th>\n",
       "    </tr>\n",
       "  </thead>\n",
       "  <tbody>\n",
       "    <tr>\n",
       "      <th>0</th>\n",
       "      <td>2Cellos</td>\n",
       "      <td>2Cellos</td>\n",
       "      <td>0</td>\n",
       "      <td>0</td>\n",
       "      <td>0</td>\n",
       "      <td>0</td>\n",
       "    </tr>\n",
       "    <tr>\n",
       "      <th>1</th>\n",
       "      <td>Deep Dark Robot</td>\n",
       "      <td>8 Songs About a Girl</td>\n",
       "      <td>0</td>\n",
       "      <td>0</td>\n",
       "      <td>0</td>\n",
       "      <td>14</td>\n",
       "    </tr>\n",
       "    <tr>\n",
       "      <th>2</th>\n",
       "      <td>The Young Professionals</td>\n",
       "      <td>9am to 5pm 5pm to Whenever</td>\n",
       "      <td>0</td>\n",
       "      <td>0</td>\n",
       "      <td>0</td>\n",
       "      <td>0</td>\n",
       "    </tr>\n",
       "    <tr>\n",
       "      <th>3</th>\n",
       "      <td>Flash Bang Grenada</td>\n",
       "      <td>10 Haters</td>\n",
       "      <td>0</td>\n",
       "      <td>0</td>\n",
       "      <td>0</td>\n",
       "      <td>0</td>\n",
       "    </tr>\n",
       "    <tr>\n",
       "      <th>4</th>\n",
       "      <td>Her Majesty &amp; the Wolves</td>\n",
       "      <td>111</td>\n",
       "      <td>0</td>\n",
       "      <td>0</td>\n",
       "      <td>7</td>\n",
       "      <td>5423</td>\n",
       "    </tr>\n",
       "  </tbody>\n",
       "</table>\n",
       "</div>"
      ],
      "text/plain": [
       "                     artist                       album  freq_billboard  \\\n",
       "0                   2Cellos                     2Cellos               0   \n",
       "1           Deep Dark Robot        8 Songs About a Girl               0   \n",
       "2   The Young Professionals  9am to 5pm 5pm to Whenever               0   \n",
       "3        Flash Bang Grenada                   10 Haters               0   \n",
       "4  Her Majesty & the Wolves                         111               0   \n",
       "\n",
       "   freq_genius  freq_theSource  freq_xxl  \n",
       "0            0               0         0  \n",
       "1            0               0        14  \n",
       "2            0               0         0  \n",
       "3            0               0         0  \n",
       "4            0               7      5423  "
      ]
     },
     "execution_count": 11,
     "metadata": {},
     "output_type": "execute_result"
    }
   ],
   "source": [
    "df_buzz.head()"
   ]
  },
  {
   "cell_type": "markdown",
   "metadata": {},
   "source": [
    "* * * *"
   ]
  },
  {
   "cell_type": "markdown",
   "metadata": {},
   "source": [
    "### Load rating"
   ]
  },
  {
   "cell_type": "code",
   "execution_count": 12,
   "metadata": {},
   "outputs": [
    {
     "name": "stdout",
     "output_type": "stream",
     "text": [
      "(10198, 5)\n"
     ]
    },
    {
     "data": {
      "text/html": [
       "<div>\n",
       "<style scoped>\n",
       "    .dataframe tbody tr th:only-of-type {\n",
       "        vertical-align: middle;\n",
       "    }\n",
       "\n",
       "    .dataframe tbody tr th {\n",
       "        vertical-align: top;\n",
       "    }\n",
       "\n",
       "    .dataframe thead th {\n",
       "        text-align: right;\n",
       "    }\n",
       "</style>\n",
       "<table border=\"1\" class=\"dataframe\">\n",
       "  <thead>\n",
       "    <tr style=\"text-align: right;\">\n",
       "      <th></th>\n",
       "      <th>artist</th>\n",
       "      <th>album</th>\n",
       "      <th>user</th>\n",
       "      <th>date</th>\n",
       "      <th>rating_meta</th>\n",
       "    </tr>\n",
       "  </thead>\n",
       "  <tbody>\n",
       "    <tr>\n",
       "      <th>0</th>\n",
       "      <td>Lord Huron</td>\n",
       "      <td>Vide Noir</td>\n",
       "      <td>7.8</td>\n",
       "      <td>Apr 20, 2018</td>\n",
       "      <td>70</td>\n",
       "    </tr>\n",
       "    <tr>\n",
       "      <th>1</th>\n",
       "      <td>Alexis Taylor</td>\n",
       "      <td>Beautiful Thing</td>\n",
       "      <td>tbd</td>\n",
       "      <td>Apr 20, 2018</td>\n",
       "      <td>71</td>\n",
       "    </tr>\n",
       "    <tr>\n",
       "      <th>2</th>\n",
       "      <td>Old Crow Medicine Show</td>\n",
       "      <td>Volunteer</td>\n",
       "      <td>tbd</td>\n",
       "      <td>Apr 20, 2018</td>\n",
       "      <td>85</td>\n",
       "    </tr>\n",
       "    <tr>\n",
       "      <th>3</th>\n",
       "      <td>Drinks</td>\n",
       "      <td>Hippo Lite</td>\n",
       "      <td>tbd</td>\n",
       "      <td>Apr 20, 2018</td>\n",
       "      <td>72</td>\n",
       "    </tr>\n",
       "    <tr>\n",
       "      <th>4</th>\n",
       "      <td>A Perfect Circle</td>\n",
       "      <td>Eat the Elephant</td>\n",
       "      <td>7</td>\n",
       "      <td>Apr 20, 2018</td>\n",
       "      <td>80</td>\n",
       "    </tr>\n",
       "  </tbody>\n",
       "</table>\n",
       "</div>"
      ],
      "text/plain": [
       "                   artist             album user          date rating_meta\n",
       "0              Lord Huron         Vide Noir  7.8  Apr 20, 2018          70\n",
       "1           Alexis Taylor   Beautiful Thing  tbd  Apr 20, 2018          71\n",
       "2  Old Crow Medicine Show         Volunteer  tbd  Apr 20, 2018          85\n",
       "3                  Drinks        Hippo Lite  tbd  Apr 20, 2018          72\n",
       "4        A Perfect Circle  Eat the Elephant    7  Apr 20, 2018          80"
      ]
     },
     "execution_count": 12,
     "metadata": {},
     "output_type": "execute_result"
    }
   ],
   "source": [
    "df_rating_meta = pd.read_csv(\"../data/rating/scrapy-metacritic-1118-utf8.csv\")\n",
    "df_rating_meta['rating_meta'] = df_rating_meta['meta']\n",
    "df_rating_meta.drop(columns=['meta'], inplace=True)\n",
    "\n",
    "print(df_rating_meta.shape)\n",
    "df_rating_meta.head()"
   ]
  },
  {
   "cell_type": "code",
   "execution_count": 13,
   "metadata": {},
   "outputs": [
    {
     "name": "stdout",
     "output_type": "stream",
     "text": [
      "(8747, 5)\n"
     ]
    },
    {
     "data": {
      "text/html": [
       "<div>\n",
       "<style scoped>\n",
       "    .dataframe tbody tr th:only-of-type {\n",
       "        vertical-align: middle;\n",
       "    }\n",
       "\n",
       "    .dataframe tbody tr th {\n",
       "        vertical-align: top;\n",
       "    }\n",
       "\n",
       "    .dataframe thead th {\n",
       "        text-align: right;\n",
       "    }\n",
       "</style>\n",
       "<table border=\"1\" class=\"dataframe\">\n",
       "  <thead>\n",
       "    <tr style=\"text-align: right;\">\n",
       "      <th></th>\n",
       "      <th>index</th>\n",
       "      <th>artist</th>\n",
       "      <th>album</th>\n",
       "      <th>release_date</th>\n",
       "      <th>rating_pitch</th>\n",
       "    </tr>\n",
       "  </thead>\n",
       "  <tbody>\n",
       "    <tr>\n",
       "      <th>0</th>\n",
       "      <td>0</td>\n",
       "      <td>The National</td>\n",
       "      <td>Boxer (Live in Brussels)</td>\n",
       "      <td>21/04/2018</td>\n",
       "      <td>6.0</td>\n",
       "    </tr>\n",
       "    <tr>\n",
       "      <th>1</th>\n",
       "      <td>1</td>\n",
       "      <td>Smokepurpp</td>\n",
       "      <td>Bless Yo Trap</td>\n",
       "      <td>21/04/2018</td>\n",
       "      <td>4.8</td>\n",
       "    </tr>\n",
       "    <tr>\n",
       "      <th>2</th>\n",
       "      <td>2</td>\n",
       "      <td>Shuggie Otis</td>\n",
       "      <td>Inter-Fusion</td>\n",
       "      <td>21/04/2018</td>\n",
       "      <td>4.6</td>\n",
       "    </tr>\n",
       "    <tr>\n",
       "      <th>3</th>\n",
       "      <td>3</td>\n",
       "      <td>Post Animal</td>\n",
       "      <td>When I Think of You in a Castle</td>\n",
       "      <td>21/04/2018</td>\n",
       "      <td>6.9</td>\n",
       "    </tr>\n",
       "    <tr>\n",
       "      <th>4</th>\n",
       "      <td>4</td>\n",
       "      <td>John Maus</td>\n",
       "      <td>Addendum</td>\n",
       "      <td>20/04/2018</td>\n",
       "      <td>7.4</td>\n",
       "    </tr>\n",
       "  </tbody>\n",
       "</table>\n",
       "</div>"
      ],
      "text/plain": [
       "   index        artist                            album release_date  \\\n",
       "0      0  The National         Boxer (Live in Brussels)   21/04/2018   \n",
       "1      1    Smokepurpp                   Bless Yo Trap    21/04/2018   \n",
       "2      2  Shuggie Otis                    Inter-Fusion    21/04/2018   \n",
       "3      3   Post Animal  When I Think of You in a Castle   21/04/2018   \n",
       "4      4     John Maus                        Addendum    20/04/2018   \n",
       "\n",
       "   rating_pitch  \n",
       "0           6.0  \n",
       "1           4.8  \n",
       "2           4.6  \n",
       "3           6.9  \n",
       "4           7.4  "
      ]
     },
     "execution_count": 13,
     "metadata": {},
     "output_type": "execute_result"
    }
   ],
   "source": [
    "df_rating_pitch = pd.read_csv(\"../data/rating/rating_pitchfork-1118-utf8.csv\")\n",
    "df_rating_pitch['rating_pitch'] = df_rating_pitch['ratings']\n",
    "df_rating_pitch.drop(columns=['ratings'], inplace=True)\n",
    "\n",
    "print(df_rating_pitch.shape)\n",
    "df_rating_pitch.head()"
   ]
  },
  {
   "cell_type": "code",
   "execution_count": 14,
   "metadata": {},
   "outputs": [
    {
     "name": "stdout",
     "output_type": "stream",
     "text": [
      "(8946, 3)\n"
     ]
    },
    {
     "data": {
      "text/html": [
       "<div>\n",
       "<style scoped>\n",
       "    .dataframe tbody tr th:only-of-type {\n",
       "        vertical-align: middle;\n",
       "    }\n",
       "\n",
       "    .dataframe tbody tr th {\n",
       "        vertical-align: top;\n",
       "    }\n",
       "\n",
       "    .dataframe thead th {\n",
       "        text-align: right;\n",
       "    }\n",
       "</style>\n",
       "<table border=\"1\" class=\"dataframe\">\n",
       "  <thead>\n",
       "    <tr style=\"text-align: right;\">\n",
       "      <th></th>\n",
       "      <th>artist</th>\n",
       "      <th>album</th>\n",
       "      <th>rating_AOTY</th>\n",
       "    </tr>\n",
       "  </thead>\n",
       "  <tbody>\n",
       "    <tr>\n",
       "      <th>0</th>\n",
       "      <td>Janelle Monae</td>\n",
       "      <td>Dirty Computer</td>\n",
       "      <td>86</td>\n",
       "    </tr>\n",
       "    <tr>\n",
       "      <th>1</th>\n",
       "      <td>Post Malone</td>\n",
       "      <td>Beerbongs &amp; Bentleys</td>\n",
       "      <td>53</td>\n",
       "    </tr>\n",
       "    <tr>\n",
       "      <th>2</th>\n",
       "      <td>Grouper</td>\n",
       "      <td>Grid of Points</td>\n",
       "      <td>79</td>\n",
       "    </tr>\n",
       "    <tr>\n",
       "      <th>3</th>\n",
       "      <td>Speedy Ortiz</td>\n",
       "      <td>Twerp Verse</td>\n",
       "      <td>76</td>\n",
       "    </tr>\n",
       "    <tr>\n",
       "      <th>4</th>\n",
       "      <td>Anne-Marie</td>\n",
       "      <td>Speak Your Mind</td>\n",
       "      <td>55</td>\n",
       "    </tr>\n",
       "  </tbody>\n",
       "</table>\n",
       "</div>"
      ],
      "text/plain": [
       "          artist                 album  rating_AOTY\n",
       "0  Janelle Monae        Dirty Computer           86\n",
       "1    Post Malone  Beerbongs & Bentleys           53\n",
       "2        Grouper        Grid of Points           79\n",
       "3   Speedy Ortiz           Twerp Verse           76\n",
       "4     Anne-Marie       Speak Your Mind           55"
      ]
     },
     "execution_count": 14,
     "metadata": {},
     "output_type": "execute_result"
    }
   ],
   "source": [
    "df_rating_AOTY = pd.read_csv(\"../data/rating/rating_AOTY-utf8.csv\")\n",
    "df_rating_AOTY['rating_AOTY'] = df_rating_AOTY['rating']\n",
    "df_rating_AOTY.drop(columns=['rating'], inplace=True)\n",
    "\n",
    "print(df_rating_AOTY.shape)\n",
    "df_rating_AOTY.head()"
   ]
  },
  {
   "cell_type": "markdown",
   "metadata": {},
   "source": [
    "### Import SNS followers"
   ]
  },
  {
   "cell_type": "code",
   "execution_count": 15,
   "metadata": {},
   "outputs": [
    {
     "name": "stdout",
     "output_type": "stream",
     "text": [
      "(1095, 7)\n"
     ]
    },
    {
     "data": {
      "text/html": [
       "<div>\n",
       "<style scoped>\n",
       "    .dataframe tbody tr th:only-of-type {\n",
       "        vertical-align: middle;\n",
       "    }\n",
       "\n",
       "    .dataframe tbody tr th {\n",
       "        vertical-align: top;\n",
       "    }\n",
       "\n",
       "    .dataframe thead th {\n",
       "        text-align: right;\n",
       "    }\n",
       "</style>\n",
       "<table border=\"1\" class=\"dataframe\">\n",
       "  <thead>\n",
       "    <tr style=\"text-align: right;\">\n",
       "      <th></th>\n",
       "      <th>artist</th>\n",
       "      <th>twitter</th>\n",
       "      <th>instagram</th>\n",
       "      <th>facebook</th>\n",
       "      <th>spotify</th>\n",
       "      <th>soundcloud</th>\n",
       "      <th>youtube</th>\n",
       "    </tr>\n",
       "  </thead>\n",
       "  <tbody>\n",
       "    <tr>\n",
       "      <th>0</th>\n",
       "      <td>Flash Bang Grenada</td>\n",
       "      <td>0</td>\n",
       "      <td>0</td>\n",
       "      <td>0</td>\n",
       "      <td>346</td>\n",
       "      <td>0</td>\n",
       "      <td>0</td>\n",
       "    </tr>\n",
       "    <tr>\n",
       "      <th>1</th>\n",
       "      <td>Aggro Santos</td>\n",
       "      <td>63771</td>\n",
       "      <td>27415</td>\n",
       "      <td>596562</td>\n",
       "      <td>4675</td>\n",
       "      <td>585</td>\n",
       "      <td>7975</td>\n",
       "    </tr>\n",
       "    <tr>\n",
       "      <th>2</th>\n",
       "      <td>AKA</td>\n",
       "      <td>38958</td>\n",
       "      <td>0</td>\n",
       "      <td>0</td>\n",
       "      <td>22298</td>\n",
       "      <td>0</td>\n",
       "      <td>3643764</td>\n",
       "    </tr>\n",
       "    <tr>\n",
       "      <th>3</th>\n",
       "      <td>Shlohmo</td>\n",
       "      <td>91790</td>\n",
       "      <td>59340</td>\n",
       "      <td>209063</td>\n",
       "      <td>141268</td>\n",
       "      <td>283539</td>\n",
       "      <td>0</td>\n",
       "    </tr>\n",
       "    <tr>\n",
       "      <th>4</th>\n",
       "      <td>Glasses Malone</td>\n",
       "      <td>68417</td>\n",
       "      <td>48745</td>\n",
       "      <td>93741</td>\n",
       "      <td>16402</td>\n",
       "      <td>0</td>\n",
       "      <td>0</td>\n",
       "    </tr>\n",
       "  </tbody>\n",
       "</table>\n",
       "</div>"
      ],
      "text/plain": [
       "               artist  twitter  instagram  facebook  spotify  soundcloud  \\\n",
       "0  Flash Bang Grenada        0          0         0      346           0   \n",
       "1        Aggro Santos    63771      27415    596562     4675         585   \n",
       "2                 AKA    38958          0         0    22298           0   \n",
       "3             Shlohmo    91790      59340    209063   141268      283539   \n",
       "4      Glasses Malone    68417      48745     93741    16402           0   \n",
       "\n",
       "   youtube  \n",
       "0        0  \n",
       "1     7975  \n",
       "2  3643764  \n",
       "3        0  \n",
       "4        0  "
      ]
     },
     "execution_count": 15,
     "metadata": {},
     "output_type": "execute_result"
    }
   ],
   "source": [
    "df_sns = pd.read_csv(\"../data/sns-followers/sns_followers.csv\")\n",
    "print(df_sns.shape)\n",
    "df_sns.head()"
   ]
  },
  {
   "cell_type": "markdown",
   "metadata": {},
   "source": [
    "### Merge Label"
   ]
  },
  {
   "cell_type": "code",
   "execution_count": 16,
   "metadata": {},
   "outputs": [],
   "source": [
    "label = pd.merge(df_answer_GDB, df_debut, how='inner', on='artist')"
   ]
  },
  {
   "cell_type": "code",
   "execution_count": 17,
   "metadata": {},
   "outputs": [],
   "source": [
    "label = pd.merge(label, df_answer_Melo, how='inner', on='artist')"
   ]
  },
  {
   "cell_type": "code",
   "execution_count": 18,
   "metadata": {},
   "outputs": [],
   "source": [
    "label = label.drop(columns=['album_x', 'genre_x', 'album_y', 'genre_y'])"
   ]
  },
  {
   "cell_type": "code",
   "execution_count": 19,
   "metadata": {},
   "outputs": [],
   "source": [
    "# label['label_Melo'] = label['label_Melo_y']\n",
    "# label.drop(columns='label_Melo_y', inplace=True)"
   ]
  },
  {
   "cell_type": "code",
   "execution_count": 20,
   "metadata": {},
   "outputs": [],
   "source": [
    "label['label'] = label['label_GDB'] + label['label_Melo']"
   ]
  },
  {
   "cell_type": "code",
   "execution_count": 21,
   "metadata": {},
   "outputs": [
    {
     "name": "stdout",
     "output_type": "stream",
     "text": [
      "<class 'pandas.core.frame.DataFrame'>\n",
      "Int64Index: 1088 entries, 0 to 1087\n",
      "Data columns (total 7 columns):\n",
      "artist          1088 non-null object\n",
      "label_GDB       1088 non-null int64\n",
      "single_count    1088 non-null int64\n",
      "album           1088 non-null object\n",
      "genre           1088 non-null object\n",
      "label_Melo      1088 non-null int64\n",
      "label           1088 non-null int64\n",
      "dtypes: int64(4), object(3)\n",
      "memory usage: 68.0+ KB\n"
     ]
    }
   ],
   "source": [
    "label.info()"
   ]
  },
  {
   "cell_type": "markdown",
   "metadata": {},
   "source": [
    "#### final labeling"
   ]
  },
  {
   "cell_type": "code",
   "execution_count": 22,
   "metadata": {},
   "outputs": [],
   "source": [
    "label['label'] = label['label'].apply(lambda x : 1 if x > 0 else 0)"
   ]
  },
  {
   "cell_type": "code",
   "execution_count": 23,
   "metadata": {},
   "outputs": [],
   "source": [
    "label = label.drop(columns=['label_GDB', 'label_Melo'])"
   ]
  },
  {
   "cell_type": "code",
   "execution_count": 24,
   "metadata": {},
   "outputs": [
    {
     "data": {
      "text/html": [
       "<div>\n",
       "<style scoped>\n",
       "    .dataframe tbody tr th:only-of-type {\n",
       "        vertical-align: middle;\n",
       "    }\n",
       "\n",
       "    .dataframe tbody tr th {\n",
       "        vertical-align: top;\n",
       "    }\n",
       "\n",
       "    .dataframe thead th {\n",
       "        text-align: right;\n",
       "    }\n",
       "</style>\n",
       "<table border=\"1\" class=\"dataframe\">\n",
       "  <thead>\n",
       "    <tr style=\"text-align: right;\">\n",
       "      <th></th>\n",
       "      <th>artist</th>\n",
       "      <th>single_count</th>\n",
       "      <th>album</th>\n",
       "      <th>genre</th>\n",
       "      <th>label</th>\n",
       "    </tr>\n",
       "  </thead>\n",
       "  <tbody>\n",
       "    <tr>\n",
       "      <th>0</th>\n",
       "      <td>Flash Bang Grenada</td>\n",
       "      <td>0</td>\n",
       "      <td>10 Haters</td>\n",
       "      <td>hiphop</td>\n",
       "      <td>0</td>\n",
       "    </tr>\n",
       "    <tr>\n",
       "      <th>1</th>\n",
       "      <td>Aggro Santos</td>\n",
       "      <td>3</td>\n",
       "      <td>AggroSantos.com</td>\n",
       "      <td>hiphop</td>\n",
       "      <td>0</td>\n",
       "    </tr>\n",
       "    <tr>\n",
       "      <th>2</th>\n",
       "      <td>AKA</td>\n",
       "      <td>4</td>\n",
       "      <td>Altar Ego</td>\n",
       "      <td>hiphop</td>\n",
       "      <td>0</td>\n",
       "    </tr>\n",
       "    <tr>\n",
       "      <th>3</th>\n",
       "      <td>Shlohmo</td>\n",
       "      <td>0</td>\n",
       "      <td>Bad Vibes</td>\n",
       "      <td>hiphop</td>\n",
       "      <td>0</td>\n",
       "    </tr>\n",
       "    <tr>\n",
       "      <th>4</th>\n",
       "      <td>Glasses Malone</td>\n",
       "      <td>4</td>\n",
       "      <td>Beach Cruiser</td>\n",
       "      <td>hiphop</td>\n",
       "      <td>0</td>\n",
       "    </tr>\n",
       "  </tbody>\n",
       "</table>\n",
       "</div>"
      ],
      "text/plain": [
       "               artist  single_count            album   genre  label\n",
       "0  Flash Bang Grenada             0        10 Haters  hiphop      0\n",
       "1        Aggro Santos             3  AggroSantos.com  hiphop      0\n",
       "2                 AKA             4        Altar Ego  hiphop      0\n",
       "3             Shlohmo             0        Bad Vibes  hiphop      0\n",
       "4      Glasses Malone             4    Beach Cruiser  hiphop      0"
      ]
     },
     "execution_count": 24,
     "metadata": {},
     "output_type": "execute_result"
    }
   ],
   "source": [
    "label.head()"
   ]
  },
  {
   "cell_type": "code",
   "execution_count": null,
   "metadata": {},
   "outputs": [],
   "source": []
  },
  {
   "cell_type": "code",
   "execution_count": null,
   "metadata": {},
   "outputs": [],
   "source": []
  },
  {
   "cell_type": "code",
   "execution_count": null,
   "metadata": {},
   "outputs": [],
   "source": []
  },
  {
   "cell_type": "markdown",
   "metadata": {},
   "source": [
    "#### Merge Buzz"
   ]
  },
  {
   "cell_type": "code",
   "execution_count": 25,
   "metadata": {},
   "outputs": [],
   "source": [
    "label2 = label.merge(df_buzz, how='left')"
   ]
  },
  {
   "cell_type": "code",
   "execution_count": 26,
   "metadata": {},
   "outputs": [
    {
     "name": "stdout",
     "output_type": "stream",
     "text": [
      "<class 'pandas.core.frame.DataFrame'>\n",
      "Int64Index: 1088 entries, 0 to 1087\n",
      "Data columns (total 9 columns):\n",
      "artist            1088 non-null object\n",
      "single_count      1088 non-null int64\n",
      "album             1088 non-null object\n",
      "genre             1088 non-null object\n",
      "label             1088 non-null int64\n",
      "freq_billboard    1058 non-null float64\n",
      "freq_genius       1058 non-null float64\n",
      "freq_theSource    1058 non-null float64\n",
      "freq_xxl          1058 non-null float64\n",
      "dtypes: float64(4), int64(2), object(3)\n",
      "memory usage: 85.0+ KB\n"
     ]
    }
   ],
   "source": [
    "label2.info()"
   ]
  },
  {
   "cell_type": "code",
   "execution_count": 27,
   "metadata": {
    "scrolled": false
   },
   "outputs": [
    {
     "data": {
      "text/html": [
       "<div>\n",
       "<style scoped>\n",
       "    .dataframe tbody tr th:only-of-type {\n",
       "        vertical-align: middle;\n",
       "    }\n",
       "\n",
       "    .dataframe tbody tr th {\n",
       "        vertical-align: top;\n",
       "    }\n",
       "\n",
       "    .dataframe thead th {\n",
       "        text-align: right;\n",
       "    }\n",
       "</style>\n",
       "<table border=\"1\" class=\"dataframe\">\n",
       "  <thead>\n",
       "    <tr style=\"text-align: right;\">\n",
       "      <th></th>\n",
       "      <th>artist</th>\n",
       "      <th>single_count</th>\n",
       "      <th>album</th>\n",
       "      <th>genre</th>\n",
       "      <th>label</th>\n",
       "      <th>freq_billboard</th>\n",
       "      <th>freq_genius</th>\n",
       "      <th>freq_theSource</th>\n",
       "      <th>freq_xxl</th>\n",
       "    </tr>\n",
       "  </thead>\n",
       "  <tbody>\n",
       "    <tr>\n",
       "      <th>0</th>\n",
       "      <td>Flash Bang Grenada</td>\n",
       "      <td>0</td>\n",
       "      <td>10 Haters</td>\n",
       "      <td>hiphop</td>\n",
       "      <td>0</td>\n",
       "      <td>0.0</td>\n",
       "      <td>0.0</td>\n",
       "      <td>0.0</td>\n",
       "      <td>0.0</td>\n",
       "    </tr>\n",
       "    <tr>\n",
       "      <th>1</th>\n",
       "      <td>Aggro Santos</td>\n",
       "      <td>3</td>\n",
       "      <td>AggroSantos.com</td>\n",
       "      <td>hiphop</td>\n",
       "      <td>0</td>\n",
       "      <td>0.0</td>\n",
       "      <td>0.0</td>\n",
       "      <td>0.0</td>\n",
       "      <td>0.0</td>\n",
       "    </tr>\n",
       "    <tr>\n",
       "      <th>2</th>\n",
       "      <td>AKA</td>\n",
       "      <td>4</td>\n",
       "      <td>Altar Ego</td>\n",
       "      <td>hiphop</td>\n",
       "      <td>0</td>\n",
       "      <td>0.0</td>\n",
       "      <td>0.0</td>\n",
       "      <td>1.0</td>\n",
       "      <td>2.0</td>\n",
       "    </tr>\n",
       "    <tr>\n",
       "      <th>3</th>\n",
       "      <td>Shlohmo</td>\n",
       "      <td>0</td>\n",
       "      <td>Bad Vibes</td>\n",
       "      <td>hiphop</td>\n",
       "      <td>0</td>\n",
       "      <td>0.0</td>\n",
       "      <td>0.0</td>\n",
       "      <td>0.0</td>\n",
       "      <td>67.0</td>\n",
       "    </tr>\n",
       "    <tr>\n",
       "      <th>4</th>\n",
       "      <td>Glasses Malone</td>\n",
       "      <td>4</td>\n",
       "      <td>Beach Cruiser</td>\n",
       "      <td>hiphop</td>\n",
       "      <td>0</td>\n",
       "      <td>0.0</td>\n",
       "      <td>0.0</td>\n",
       "      <td>0.0</td>\n",
       "      <td>4.0</td>\n",
       "    </tr>\n",
       "  </tbody>\n",
       "</table>\n",
       "</div>"
      ],
      "text/plain": [
       "               artist  single_count            album   genre  label  \\\n",
       "0  Flash Bang Grenada             0        10 Haters  hiphop      0   \n",
       "1        Aggro Santos             3  AggroSantos.com  hiphop      0   \n",
       "2                 AKA             4        Altar Ego  hiphop      0   \n",
       "3             Shlohmo             0        Bad Vibes  hiphop      0   \n",
       "4      Glasses Malone             4    Beach Cruiser  hiphop      0   \n",
       "\n",
       "   freq_billboard  freq_genius  freq_theSource  freq_xxl  \n",
       "0             0.0          0.0             0.0       0.0  \n",
       "1             0.0          0.0             0.0       0.0  \n",
       "2             0.0          0.0             1.0       2.0  \n",
       "3             0.0          0.0             0.0      67.0  \n",
       "4             0.0          0.0             0.0       4.0  "
      ]
     },
     "execution_count": 27,
     "metadata": {},
     "output_type": "execute_result"
    }
   ],
   "source": [
    "label2.head()"
   ]
  },
  {
   "cell_type": "markdown",
   "metadata": {},
   "source": [
    "#### Merge rating"
   ]
  },
  {
   "cell_type": "code",
   "execution_count": 28,
   "metadata": {},
   "outputs": [],
   "source": [
    "label2 = label2.merge(df_rating_AOTY[['artist', 'album', 'rating_AOTY']], how='left')\n",
    "label2 = label2.merge(df_rating_meta[['artist', 'album', 'rating_meta']], how='left')\n",
    "label2 = label2.merge(df_rating_pitch[['artist', 'album', 'rating_pitch']], how='left')"
   ]
  },
  {
   "cell_type": "markdown",
   "metadata": {},
   "source": [
    "#### Merge SNS"
   ]
  },
  {
   "cell_type": "code",
   "execution_count": 29,
   "metadata": {},
   "outputs": [],
   "source": [
    "label2 = label2.merge(df_sns, how='left')"
   ]
  },
  {
   "cell_type": "code",
   "execution_count": 30,
   "metadata": {},
   "outputs": [
    {
     "name": "stdout",
     "output_type": "stream",
     "text": [
      "<class 'pandas.core.frame.DataFrame'>\n",
      "Int64Index: 1091 entries, 0 to 1090\n",
      "Data columns (total 18 columns):\n",
      "artist            1091 non-null object\n",
      "single_count      1091 non-null int64\n",
      "album             1091 non-null object\n",
      "genre             1091 non-null object\n",
      "label             1091 non-null int64\n",
      "freq_billboard    1061 non-null float64\n",
      "freq_genius       1061 non-null float64\n",
      "freq_theSource    1061 non-null float64\n",
      "freq_xxl          1061 non-null float64\n",
      "rating_AOTY       61 non-null float64\n",
      "rating_meta       324 non-null object\n",
      "rating_pitch      220 non-null float64\n",
      "twitter           1091 non-null int64\n",
      "instagram         1091 non-null int64\n",
      "facebook          1091 non-null int64\n",
      "spotify           1091 non-null int64\n",
      "soundcloud        1091 non-null int64\n",
      "youtube           1091 non-null int64\n",
      "dtypes: float64(6), int64(8), object(4)\n",
      "memory usage: 161.9+ KB\n"
     ]
    }
   ],
   "source": [
    "label2.info()"
   ]
  },
  {
   "cell_type": "code",
   "execution_count": null,
   "metadata": {},
   "outputs": [],
   "source": []
  },
  {
   "cell_type": "code",
   "execution_count": 31,
   "metadata": {},
   "outputs": [
    {
     "data": {
      "text/plain": [
       "Index(['artist', 'single_count', 'album', 'genre', 'label', 'freq_billboard',\n",
       "       'freq_genius', 'freq_theSource', 'freq_xxl', 'rating_AOTY',\n",
       "       'rating_meta', 'rating_pitch', 'twitter', 'instagram', 'facebook',\n",
       "       'spotify', 'soundcloud', 'youtube'],\n",
       "      dtype='object')"
      ]
     },
     "execution_count": 31,
     "metadata": {},
     "output_type": "execute_result"
    }
   ],
   "source": [
    "label2.columns"
   ]
  },
  {
   "cell_type": "code",
   "execution_count": 32,
   "metadata": {},
   "outputs": [],
   "source": [
    "df = pd.DataFrame(label2, columns = ['label', 'artist', 'album', 'genre', 'single_count','freq_billboard',\n",
    "       'freq_genius', 'freq_theSource', 'freq_xxl', 'rating_AOTY',\n",
    "       'rating_meta', 'rating_pitch', 'twitter', 'instagram', 'facebook',\n",
    "       'spotify', 'soundcloud', 'youtube'])"
   ]
  },
  {
   "cell_type": "code",
   "execution_count": 35,
   "metadata": {},
   "outputs": [
    {
     "name": "stdout",
     "output_type": "stream",
     "text": [
      "<class 'pandas.core.frame.DataFrame'>\n",
      "RangeIndex: 1091 entries, 0 to 1090\n",
      "Data columns (total 18 columns):\n",
      "label             1091 non-null int64\n",
      "artist            1091 non-null object\n",
      "album             1091 non-null object\n",
      "genre             1091 non-null object\n",
      "single_count      1091 non-null int64\n",
      "freq_billboard    1061 non-null float64\n",
      "freq_genius       1061 non-null float64\n",
      "freq_theSource    1061 non-null float64\n",
      "freq_xxl          1061 non-null float64\n",
      "rating_AOTY       61 non-null float64\n",
      "rating_meta       324 non-null float64\n",
      "rating_pitch      220 non-null float64\n",
      "twitter           1091 non-null int64\n",
      "instagram         1091 non-null int64\n",
      "facebook          1091 non-null int64\n",
      "spotify           1091 non-null int64\n",
      "soundcloud        1091 non-null int64\n",
      "youtube           1091 non-null int64\n",
      "dtypes: float64(7), int64(8), object(3)\n",
      "memory usage: 153.5+ KB\n"
     ]
    }
   ],
   "source": [
    "df.info()"
   ]
  },
  {
   "cell_type": "code",
   "execution_count": 33,
   "metadata": {},
   "outputs": [],
   "source": [
    "df.to_csv(\"df_baseline.csv\", index=False, encoding='utf-8')"
   ]
  },
  {
   "cell_type": "code",
   "execution_count": null,
   "metadata": {},
   "outputs": [],
   "source": []
  }
 ],
 "metadata": {
  "kernelspec": {
   "display_name": "Python 3",
   "language": "python",
   "name": "python3"
  },
  "language_info": {
   "codemirror_mode": {
    "name": "ipython",
    "version": 3
   },
   "file_extension": ".py",
   "mimetype": "text/x-python",
   "name": "python",
   "nbconvert_exporter": "python",
   "pygments_lexer": "ipython3",
   "version": "3.6.2"
  }
 },
 "nbformat": 4,
 "nbformat_minor": 2
}
