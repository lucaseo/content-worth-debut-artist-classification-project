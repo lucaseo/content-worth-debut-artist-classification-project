{
 "cells": [
  {
   "cell_type": "markdown",
   "metadata": {},
   "source": [
    "# Get data via SQLAlchemy"
   ]
  },
  {
   "cell_type": "code",
   "execution_count": null,
   "metadata": {},
   "outputs": [],
   "source": [
    "import sqlalchemy, pickle\n",
    "from sqlalchemy.ext.declarative import declarative_base\n",
    "from sqlalchemy import Column, Integer, String\n",
    "from sqlalchemy.orm import sessionmaker\n",
    "from sqlalchemy import and_, or_\n",
    "import MySQLdb, pickle"
   ]
  },
  {
   "cell_type": "code",
   "execution_count": null,
   "metadata": {},
   "outputs": [],
   "source": [
    "import pandas as pd"
   ]
  },
  {
   "cell_type": "markdown",
   "metadata": {},
   "source": [
    "### Access to MySQL Server"
   ]
  },
  {
   "cell_type": "code",
   "execution_count": null,
   "metadata": {},
   "outputs": [],
   "source": [
    "pw = pickle.load(open(\"../crawler/mysql_pw.pickle\", \"rb\"))"
   ]
  },
  {
   "cell_type": "code",
   "execution_count": null,
   "metadata": {},
   "outputs": [],
   "source": [
    "engine = sqlalchemy.create_engine(\"mysql+mysqldb://root:\" + pw + \"@52.78.44.120/project_rookie\")"
   ]
  },
  {
   "cell_type": "markdown",
   "metadata": {},
   "source": [
    "### ORM"
   ]
  },
  {
   "cell_type": "code",
   "execution_count": null,
   "metadata": {},
   "outputs": [],
   "source": [
    "Base = declarative_base()"
   ]
  },
  {
   "cell_type": "code",
   "execution_count": null,
   "metadata": {},
   "outputs": [],
   "source": [
    "def disp(datas):\n",
    "    for data in datas:\n",
    "        print(data)"
   ]
  },
  {
   "cell_type": "code",
   "execution_count": null,
   "metadata": {},
   "outputs": [],
   "source": [
    "def orm_to_df(orm):\n",
    "\n",
    "    df = pd.DataFrame(columns=['artist', 'album','freq_billboard'])\n",
    "\n",
    "    for i in orm:\n",
    "\n",
    "        data = {\n",
    "            'artist' : i.__dict__['artist'],\n",
    "            'album' : i.__dict__['album'],\n",
    "            'freq_billboard' : i.__dict__['freq_billboard'],\n",
    "        }\n",
    "        df.loc[len(df)] = data\n",
    "        \n",
    "    return df"
   ]
  },
  {
   "cell_type": "markdown",
   "metadata": {},
   "source": [
    "### ORM - Debut Album"
   ]
  },
  {
   "cell_type": "code",
   "execution_count": null,
   "metadata": {},
   "outputs": [],
   "source": [
    "class Debut(Base):\n",
    "    __tablename__ = 'debut_album'\n",
    "\n",
    "    index = Column(Integer, primary_key=True)\n",
    "    artist = Column(String)\n",
    "    album = Column(String)\n",
    "    genre = Column(String)\n",
    "    single_count = Column(Integer)\n",
    "    \n",
    "    def __init__(self, index, artist, album, genre, single_count):\n",
    "        self.index = index\n",
    "        self.artist = artist\n",
    "        self.album = album\n",
    "        self.genre = genre\n",
    "        self.single_count = single_count\n",
    "    \n",
    "    def __repr__(self):\n",
    "        return \"<index {}, {}, {}, {}, {}>\".format(self.index, self.artist, self.album, self.genre, self.single_count)"
   ]
  },
  {
   "cell_type": "code",
   "execution_count": null,
   "metadata": {},
   "outputs": [],
   "source": [
    "Base.metadata.create_all(engine)"
   ]
  },
  {
   "cell_type": "code",
   "execution_count": null,
   "metadata": {},
   "outputs": [],
   "source": [
    "Session = sessionmaker(bind=engine)\n",
    "session = Session()"
   ]
  },
  {
   "cell_type": "code",
   "execution_count": null,
   "metadata": {},
   "outputs": [],
   "source": [
    "results = session.query(Debut).all()\n",
    "results[0].__dict__"
   ]
  },
  {
   "cell_type": "code",
   "execution_count": null,
   "metadata": {},
   "outputs": [],
   "source": [
    "hiphop = session.query(Debut).filter(and_(~Debut.genre.contains(['K-pop']), Debut.genre.contains([\"hop\"])))\n",
    "hiphop_df = orm_to_df(hiphop)\n",
    "print(hiphop_df.shape)\n",
    "hiphop_df.head()"
   ]
  },
  {
   "cell_type": "code",
   "execution_count": null,
   "metadata": {},
   "outputs": [],
   "source": [
    "rap = session.query(Debut).filter(and_(~Debut.genre.contains(['K-pop']), Debut.genre.contains([\"Rap\"])))\n",
    "rap_df = orm_to_df(rap)\n",
    "print(rap_df.shape)\n",
    "rap_df.head()"
   ]
  },
  {
   "cell_type": "code",
   "execution_count": null,
   "metadata": {},
   "outputs": [],
   "source": [
    "trap = session.query(Debut).filter(and_(~Debut.genre.contains(['K-pop']), Debut.genre.contains([\"trap\"])))\n",
    "trap_df = orm_to_df(trap)\n",
    "print(trap_df.shape)\n",
    "trap_df.head()"
   ]
  },
  {
   "cell_type": "code",
   "execution_count": null,
   "metadata": {},
   "outputs": [],
   "source": [
    "hiphop_df = pd.concat([hiphop_df, rap_df, trap_df])\n",
    "hiphop_df.drop_duplicates(['artist', 'album'], inplace=True)\n",
    "hiphop_df['genre'] = \"hiphop\"\n",
    "hiphop_df"
   ]
  },
  {
   "cell_type": "code",
   "execution_count": null,
   "metadata": {},
   "outputs": [],
   "source": [
    "rnb = session.query(Debut).filter(and_(~Debut.genre.contains(['K-pop']), Debut.genre.contains([\"R&B\"])))\n",
    "rnb_df = orm_to_df(rnb)\n",
    "rnb_df['genre'] = 'rnb'\n",
    "print(rnb_df.shape)\n",
    "rnb_df.head()"
   ]
  },
  {
   "cell_type": "code",
   "execution_count": null,
   "metadata": {},
   "outputs": [],
   "source": [
    "soul = session.query(Debut).filter(and_(~Debut.genre.contains(['K-pop']), Debut.genre.contains([\"soul\"])))\n",
    "soul_df = orm_to_df(soul)\n",
    "soul_df['genre'] = 'soul'\n",
    "print(soul_df.shape)\n",
    "soul_df.head()"
   ]
  },
  {
   "cell_type": "code",
   "execution_count": null,
   "metadata": {},
   "outputs": [],
   "source": [
    "funk = session.query(Debut).filter(and_(~Debut.genre.contains(['K-pop']), Debut.genre.contains([\"funk\"])))\n",
    "funk_df = orm_to_df(funk)\n",
    "funk_df['genre'] = 'funk'\n",
    "print(funk_df.shape)\n",
    "funk_df.head()"
   ]
  },
  {
   "cell_type": "code",
   "execution_count": null,
   "metadata": {},
   "outputs": [],
   "source": [
    "pop = session.query(Debut).filter(and_(~Debut.genre.contains(['K-pop']), Debut.genre.contains([\"pop\"])))\n",
    "pop_df = orm_to_df(pop)\n",
    "pop_df['genre'] = 'pop'\n",
    "print(pop_df.shape)\n",
    "pop_df.head()"
   ]
  },
  {
   "cell_type": "markdown",
   "metadata": {},
   "source": [
    "### Concat all genres and drop duplicates rows (overlapping genres)"
   ]
  },
  {
   "cell_type": "code",
   "execution_count": null,
   "metadata": {},
   "outputs": [],
   "source": [
    "df_list = pd.concat([hiphop_df, rap_df, trap_df, rnb_df, soul_df, funk_df, pop_df])\n",
    "len(df_list)"
   ]
  },
  {
   "cell_type": "code",
   "execution_count": null,
   "metadata": {},
   "outputs": [],
   "source": [
    "df_list = df_list.drop_duplicates(['artist', 'album'])\n",
    "print(df_list.shape)\n",
    "df_list.head()"
   ]
  },
  {
   "cell_type": "markdown",
   "metadata": {},
   "source": [
    "### Save to csv file"
   ]
  },
  {
   "cell_type": "code",
   "execution_count": null,
   "metadata": {},
   "outputs": [],
   "source": [
    "df_list.to_csv('../data/final_list_debut_album.csv', index=False)"
   ]
  },
  {
   "cell_type": "code",
   "execution_count": null,
   "metadata": {},
   "outputs": [],
   "source": []
  }
 ],
 "metadata": {
  "kernelspec": {
   "display_name": "Python 3",
   "language": "python",
   "name": "python3"
  },
  "language_info": {
   "codemirror_mode": {
    "name": "ipython",
    "version": 3
   },
   "file_extension": ".py",
   "mimetype": "text/x-python",
   "name": "python",
   "nbconvert_exporter": "python",
   "pygments_lexer": "ipython3",
   "version": "3.6.2"
  }
 },
 "nbformat": 4,
 "nbformat_minor": 2
}
