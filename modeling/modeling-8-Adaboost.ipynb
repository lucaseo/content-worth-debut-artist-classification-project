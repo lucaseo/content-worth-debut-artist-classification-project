{
 "cells": [
  {
   "cell_type": "code",
   "execution_count": 3,
   "metadata": {},
   "outputs": [],
   "source": [
    "import pandas as pd\n",
    "import numpy as np\n",
    "\n",
    "from sklearn.model_selection import train_test_split\n",
    "from sklearn.ensemble import RandomForestClassifier\n",
    "from sklearn.metrics import confusion_matrix,precision_recall_curve,auc,\\\n",
    "roc_auc_score,roc_curve,recall_score,precision_score,classification_report,f1_score\n",
    "from sklearn.model_selection import cross_val_score\n",
    "\n",
    "from imblearn.under_sampling import *\n",
    "from collections import Counter\n",
    "\n",
    "import matplotlib.pyplot as plt\n",
    "import seaborn as sns\n",
    "sns.set_style('darkgrid')\n",
    "sns.set_context('poster')\n",
    "\n",
    "import warnings\n",
    "import time\n"
   ]
  },
  {
   "cell_type": "markdown",
   "metadata": {},
   "source": [
    "* * * *"
   ]
  },
  {
   "cell_type": "markdown",
   "metadata": {},
   "source": [
    "## Load Data"
   ]
  },
  {
   "cell_type": "code",
   "execution_count": 4,
   "metadata": {},
   "outputs": [],
   "source": [
    "df = pd.read_csv(\"../data/df_baseline.csv\")"
   ]
  },
  {
   "cell_type": "code",
   "execution_count": 5,
   "metadata": {},
   "outputs": [
    {
     "name": "stdout",
     "output_type": "stream",
     "text": [
      "(1083, 18)\n"
     ]
    },
    {
     "data": {
      "text/html": [
       "<div>\n",
       "<style scoped>\n",
       "    .dataframe tbody tr th:only-of-type {\n",
       "        vertical-align: middle;\n",
       "    }\n",
       "\n",
       "    .dataframe tbody tr th {\n",
       "        vertical-align: top;\n",
       "    }\n",
       "\n",
       "    .dataframe thead th {\n",
       "        text-align: right;\n",
       "    }\n",
       "</style>\n",
       "<table border=\"1\" class=\"dataframe\">\n",
       "  <thead>\n",
       "    <tr style=\"text-align: right;\">\n",
       "      <th></th>\n",
       "      <th>label</th>\n",
       "      <th>artist</th>\n",
       "      <th>album</th>\n",
       "      <th>genre</th>\n",
       "      <th>single_count</th>\n",
       "      <th>freq_billboard</th>\n",
       "      <th>freq_genius</th>\n",
       "      <th>freq_theSource</th>\n",
       "      <th>freq_xxl</th>\n",
       "      <th>rating_AOTY</th>\n",
       "      <th>rating_meta</th>\n",
       "      <th>rating_pitch</th>\n",
       "      <th>twitter</th>\n",
       "      <th>instagram</th>\n",
       "      <th>facebook</th>\n",
       "      <th>spotify</th>\n",
       "      <th>soundcloud</th>\n",
       "      <th>youtube</th>\n",
       "    </tr>\n",
       "  </thead>\n",
       "  <tbody>\n",
       "    <tr>\n",
       "      <th>0</th>\n",
       "      <td>0</td>\n",
       "      <td>1GN</td>\n",
       "      <td>1 Girl Nation</td>\n",
       "      <td>pop</td>\n",
       "      <td>1</td>\n",
       "      <td>0</td>\n",
       "      <td>0</td>\n",
       "      <td>0</td>\n",
       "      <td>3</td>\n",
       "      <td>NaN</td>\n",
       "      <td>NaN</td>\n",
       "      <td>NaN</td>\n",
       "      <td>13</td>\n",
       "      <td>10323</td>\n",
       "      <td>0</td>\n",
       "      <td>5925</td>\n",
       "      <td>0</td>\n",
       "      <td>25490</td>\n",
       "    </tr>\n",
       "    <tr>\n",
       "      <th>1</th>\n",
       "      <td>1</td>\n",
       "      <td>2 Chainz</td>\n",
       "      <td>Based on a T.R.U. Story</td>\n",
       "      <td>hiphop</td>\n",
       "      <td>3</td>\n",
       "      <td>0</td>\n",
       "      <td>1</td>\n",
       "      <td>30</td>\n",
       "      <td>195</td>\n",
       "      <td>NaN</td>\n",
       "      <td>55.0</td>\n",
       "      <td>4.5</td>\n",
       "      <td>4213051</td>\n",
       "      <td>4566472</td>\n",
       "      <td>6145306</td>\n",
       "      <td>2647895</td>\n",
       "      <td>187250</td>\n",
       "      <td>2640612</td>\n",
       "    </tr>\n",
       "    <tr>\n",
       "      <th>2</th>\n",
       "      <td>1</td>\n",
       "      <td>21 Savage</td>\n",
       "      <td>Issa Album</td>\n",
       "      <td>hiphop</td>\n",
       "      <td>1</td>\n",
       "      <td>2</td>\n",
       "      <td>4</td>\n",
       "      <td>10</td>\n",
       "      <td>332</td>\n",
       "      <td>66.0</td>\n",
       "      <td>70.0</td>\n",
       "      <td>6.5</td>\n",
       "      <td>2246173</td>\n",
       "      <td>7445482</td>\n",
       "      <td>1134519</td>\n",
       "      <td>3864308</td>\n",
       "      <td>789270</td>\n",
       "      <td>3332058</td>\n",
       "    </tr>\n",
       "    <tr>\n",
       "      <th>3</th>\n",
       "      <td>0</td>\n",
       "      <td>5 Seconds of Summer</td>\n",
       "      <td>5 Seconds of Summer</td>\n",
       "      <td>pop</td>\n",
       "      <td>4</td>\n",
       "      <td>8</td>\n",
       "      <td>0</td>\n",
       "      <td>51</td>\n",
       "      <td>711</td>\n",
       "      <td>NaN</td>\n",
       "      <td>65.0</td>\n",
       "      <td>NaN</td>\n",
       "      <td>12606911</td>\n",
       "      <td>7310498</td>\n",
       "      <td>10296778</td>\n",
       "      <td>2969521</td>\n",
       "      <td>191358</td>\n",
       "      <td>4031726</td>\n",
       "    </tr>\n",
       "    <tr>\n",
       "      <th>4</th>\n",
       "      <td>1</td>\n",
       "      <td>6lack</td>\n",
       "      <td>Free 6lack</td>\n",
       "      <td>hiphop</td>\n",
       "      <td>2</td>\n",
       "      <td>0</td>\n",
       "      <td>1</td>\n",
       "      <td>6</td>\n",
       "      <td>99</td>\n",
       "      <td>NaN</td>\n",
       "      <td>NaN</td>\n",
       "      <td>NaN</td>\n",
       "      <td>456200</td>\n",
       "      <td>839246</td>\n",
       "      <td>303208</td>\n",
       "      <td>805720</td>\n",
       "      <td>266100</td>\n",
       "      <td>463168</td>\n",
       "    </tr>\n",
       "  </tbody>\n",
       "</table>\n",
       "</div>"
      ],
      "text/plain": [
       "   label               artist                    album   genre  single_count  \\\n",
       "0      0                  1GN            1 Girl Nation     pop             1   \n",
       "1      1             2 Chainz  Based on a T.R.U. Story  hiphop             3   \n",
       "2      1            21 Savage               Issa Album  hiphop             1   \n",
       "3      0  5 Seconds of Summer      5 Seconds of Summer     pop             4   \n",
       "4      1                6lack               Free 6lack  hiphop             2   \n",
       "\n",
       "   freq_billboard  freq_genius  freq_theSource  freq_xxl  rating_AOTY  \\\n",
       "0               0            0               0         3          NaN   \n",
       "1               0            1              30       195          NaN   \n",
       "2               2            4              10       332         66.0   \n",
       "3               8            0              51       711          NaN   \n",
       "4               0            1               6        99          NaN   \n",
       "\n",
       "   rating_meta  rating_pitch   twitter  instagram  facebook  spotify  \\\n",
       "0          NaN           NaN        13      10323         0     5925   \n",
       "1         55.0           4.5   4213051    4566472   6145306  2647895   \n",
       "2         70.0           6.5   2246173    7445482   1134519  3864308   \n",
       "3         65.0           NaN  12606911    7310498  10296778  2969521   \n",
       "4          NaN           NaN    456200     839246    303208   805720   \n",
       "\n",
       "   soundcloud  youtube  \n",
       "0           0    25490  \n",
       "1      187250  2640612  \n",
       "2      789270  3332058  \n",
       "3      191358  4031726  \n",
       "4      266100   463168  "
      ]
     },
     "execution_count": 5,
     "metadata": {},
     "output_type": "execute_result"
    }
   ],
   "source": [
    "df = df.sort_values(by=['artist']).reset_index(drop=True)\n",
    "print(df.shape)\n",
    "df.head()"
   ]
  },
  {
   "cell_type": "code",
   "execution_count": 6,
   "metadata": {
    "scrolled": false
   },
   "outputs": [
    {
     "name": "stdout",
     "output_type": "stream",
     "text": [
      "<class 'pandas.core.frame.DataFrame'>\n",
      "RangeIndex: 1083 entries, 0 to 1082\n",
      "Data columns (total 18 columns):\n",
      "label             1083 non-null int64\n",
      "artist            1083 non-null object\n",
      "album             1083 non-null object\n",
      "genre             1083 non-null object\n",
      "single_count      1083 non-null int64\n",
      "freq_billboard    1083 non-null int64\n",
      "freq_genius       1083 non-null int64\n",
      "freq_theSource    1083 non-null int64\n",
      "freq_xxl          1083 non-null int64\n",
      "rating_AOTY       61 non-null float64\n",
      "rating_meta       324 non-null float64\n",
      "rating_pitch      220 non-null float64\n",
      "twitter           1083 non-null int64\n",
      "instagram         1083 non-null int64\n",
      "facebook          1083 non-null int64\n",
      "spotify           1083 non-null int64\n",
      "soundcloud        1083 non-null int64\n",
      "youtube           1083 non-null int64\n",
      "dtypes: float64(3), int64(12), object(3)\n",
      "memory usage: 152.4+ KB\n"
     ]
    }
   ],
   "source": [
    "df.info()"
   ]
  },
  {
   "cell_type": "code",
   "execution_count": 7,
   "metadata": {},
   "outputs": [
    {
     "data": {
      "text/html": [
       "<div>\n",
       "<style scoped>\n",
       "    .dataframe tbody tr th:only-of-type {\n",
       "        vertical-align: middle;\n",
       "    }\n",
       "\n",
       "    .dataframe tbody tr th {\n",
       "        vertical-align: top;\n",
       "    }\n",
       "\n",
       "    .dataframe thead th {\n",
       "        text-align: right;\n",
       "    }\n",
       "</style>\n",
       "<table border=\"1\" class=\"dataframe\">\n",
       "  <thead>\n",
       "    <tr style=\"text-align: right;\">\n",
       "      <th></th>\n",
       "      <th>label</th>\n",
       "      <th>single_count</th>\n",
       "      <th>freq_billboard</th>\n",
       "      <th>freq_genius</th>\n",
       "      <th>freq_theSource</th>\n",
       "      <th>freq_xxl</th>\n",
       "      <th>rating_AOTY</th>\n",
       "      <th>rating_meta</th>\n",
       "      <th>rating_pitch</th>\n",
       "      <th>twitter</th>\n",
       "      <th>instagram</th>\n",
       "      <th>facebook</th>\n",
       "      <th>spotify</th>\n",
       "      <th>soundcloud</th>\n",
       "      <th>youtube</th>\n",
       "    </tr>\n",
       "  </thead>\n",
       "  <tbody>\n",
       "    <tr>\n",
       "      <th>count</th>\n",
       "      <td>1083.000000</td>\n",
       "      <td>1083.000000</td>\n",
       "      <td>1083.000000</td>\n",
       "      <td>1083.000000</td>\n",
       "      <td>1083.000000</td>\n",
       "      <td>1083.000000</td>\n",
       "      <td>61.000000</td>\n",
       "      <td>324.000000</td>\n",
       "      <td>220.000000</td>\n",
       "      <td>1.083000e+03</td>\n",
       "      <td>1.083000e+03</td>\n",
       "      <td>1.083000e+03</td>\n",
       "      <td>1.083000e+03</td>\n",
       "      <td>1.083000e+03</td>\n",
       "      <td>1.083000e+03</td>\n",
       "    </tr>\n",
       "    <tr>\n",
       "      <th>mean</th>\n",
       "      <td>0.209603</td>\n",
       "      <td>2.595568</td>\n",
       "      <td>0.642659</td>\n",
       "      <td>1.395199</td>\n",
       "      <td>13.378578</td>\n",
       "      <td>232.204063</td>\n",
       "      <td>66.098361</td>\n",
       "      <td>71.015432</td>\n",
       "      <td>6.810000</td>\n",
       "      <td>8.162517e+05</td>\n",
       "      <td>1.148277e+06</td>\n",
       "      <td>9.392479e+05</td>\n",
       "      <td>4.052015e+05</td>\n",
       "      <td>2.045023e+05</td>\n",
       "      <td>5.766690e+05</td>\n",
       "    </tr>\n",
       "    <tr>\n",
       "      <th>std</th>\n",
       "      <td>0.407213</td>\n",
       "      <td>2.806590</td>\n",
       "      <td>3.372542</td>\n",
       "      <td>24.121972</td>\n",
       "      <td>40.525759</td>\n",
       "      <td>924.497039</td>\n",
       "      <td>16.944719</td>\n",
       "      <td>9.724840</td>\n",
       "      <td>1.360932</td>\n",
       "      <td>3.595182e+06</td>\n",
       "      <td>6.297742e+06</td>\n",
       "      <td>3.392730e+06</td>\n",
       "      <td>1.143469e+06</td>\n",
       "      <td>8.875424e+05</td>\n",
       "      <td>1.908113e+06</td>\n",
       "    </tr>\n",
       "    <tr>\n",
       "      <th>min</th>\n",
       "      <td>0.000000</td>\n",
       "      <td>0.000000</td>\n",
       "      <td>0.000000</td>\n",
       "      <td>0.000000</td>\n",
       "      <td>0.000000</td>\n",
       "      <td>0.000000</td>\n",
       "      <td>0.000000</td>\n",
       "      <td>34.000000</td>\n",
       "      <td>1.000000</td>\n",
       "      <td>0.000000e+00</td>\n",
       "      <td>0.000000e+00</td>\n",
       "      <td>0.000000e+00</td>\n",
       "      <td>0.000000e+00</td>\n",
       "      <td>0.000000e+00</td>\n",
       "      <td>0.000000e+00</td>\n",
       "    </tr>\n",
       "    <tr>\n",
       "      <th>25%</th>\n",
       "      <td>0.000000</td>\n",
       "      <td>0.000000</td>\n",
       "      <td>0.000000</td>\n",
       "      <td>0.000000</td>\n",
       "      <td>0.000000</td>\n",
       "      <td>0.000000</td>\n",
       "      <td>64.000000</td>\n",
       "      <td>65.000000</td>\n",
       "      <td>6.100000</td>\n",
       "      <td>3.949000e+03</td>\n",
       "      <td>0.000000e+00</td>\n",
       "      <td>1.013800e+04</td>\n",
       "      <td>7.023000e+03</td>\n",
       "      <td>0.000000e+00</td>\n",
       "      <td>0.000000e+00</td>\n",
       "    </tr>\n",
       "    <tr>\n",
       "      <th>50%</th>\n",
       "      <td>0.000000</td>\n",
       "      <td>2.000000</td>\n",
       "      <td>0.000000</td>\n",
       "      <td>0.000000</td>\n",
       "      <td>0.000000</td>\n",
       "      <td>6.000000</td>\n",
       "      <td>69.000000</td>\n",
       "      <td>72.500000</td>\n",
       "      <td>7.050000</td>\n",
       "      <td>4.024000e+04</td>\n",
       "      <td>3.099500e+04</td>\n",
       "      <td>7.855900e+04</td>\n",
       "      <td>4.727500e+04</td>\n",
       "      <td>1.736000e+03</td>\n",
       "      <td>1.924800e+04</td>\n",
       "    </tr>\n",
       "    <tr>\n",
       "      <th>75%</th>\n",
       "      <td>0.000000</td>\n",
       "      <td>4.000000</td>\n",
       "      <td>0.000000</td>\n",
       "      <td>0.000000</td>\n",
       "      <td>4.000000</td>\n",
       "      <td>65.500000</td>\n",
       "      <td>76.000000</td>\n",
       "      <td>78.000000</td>\n",
       "      <td>7.800000</td>\n",
       "      <td>2.889390e+05</td>\n",
       "      <td>3.010275e+05</td>\n",
       "      <td>4.527645e+05</td>\n",
       "      <td>2.269760e+05</td>\n",
       "      <td>3.220250e+04</td>\n",
       "      <td>2.148705e+05</td>\n",
       "    </tr>\n",
       "    <tr>\n",
       "      <th>max</th>\n",
       "      <td>1.000000</td>\n",
       "      <td>37.000000</td>\n",
       "      <td>73.000000</td>\n",
       "      <td>731.000000</td>\n",
       "      <td>200.000000</td>\n",
       "      <td>12802.000000</td>\n",
       "      <td>85.000000</td>\n",
       "      <td>92.000000</td>\n",
       "      <td>9.500000</td>\n",
       "      <td>5.696178e+07</td>\n",
       "      <td>1.366012e+08</td>\n",
       "      <td>6.167920e+07</td>\n",
       "      <td>1.382065e+07</td>\n",
       "      <td>9.710262e+06</td>\n",
       "      <td>2.367711e+07</td>\n",
       "    </tr>\n",
       "  </tbody>\n",
       "</table>\n",
       "</div>"
      ],
      "text/plain": [
       "             label  single_count  freq_billboard  freq_genius  freq_theSource  \\\n",
       "count  1083.000000   1083.000000     1083.000000  1083.000000     1083.000000   \n",
       "mean      0.209603      2.595568        0.642659     1.395199       13.378578   \n",
       "std       0.407213      2.806590        3.372542    24.121972       40.525759   \n",
       "min       0.000000      0.000000        0.000000     0.000000        0.000000   \n",
       "25%       0.000000      0.000000        0.000000     0.000000        0.000000   \n",
       "50%       0.000000      2.000000        0.000000     0.000000        0.000000   \n",
       "75%       0.000000      4.000000        0.000000     0.000000        4.000000   \n",
       "max       1.000000     37.000000       73.000000   731.000000      200.000000   \n",
       "\n",
       "           freq_xxl  rating_AOTY  rating_meta  rating_pitch       twitter  \\\n",
       "count   1083.000000    61.000000   324.000000    220.000000  1.083000e+03   \n",
       "mean     232.204063    66.098361    71.015432      6.810000  8.162517e+05   \n",
       "std      924.497039    16.944719     9.724840      1.360932  3.595182e+06   \n",
       "min        0.000000     0.000000    34.000000      1.000000  0.000000e+00   \n",
       "25%        0.000000    64.000000    65.000000      6.100000  3.949000e+03   \n",
       "50%        6.000000    69.000000    72.500000      7.050000  4.024000e+04   \n",
       "75%       65.500000    76.000000    78.000000      7.800000  2.889390e+05   \n",
       "max    12802.000000    85.000000    92.000000      9.500000  5.696178e+07   \n",
       "\n",
       "          instagram      facebook       spotify    soundcloud       youtube  \n",
       "count  1.083000e+03  1.083000e+03  1.083000e+03  1.083000e+03  1.083000e+03  \n",
       "mean   1.148277e+06  9.392479e+05  4.052015e+05  2.045023e+05  5.766690e+05  \n",
       "std    6.297742e+06  3.392730e+06  1.143469e+06  8.875424e+05  1.908113e+06  \n",
       "min    0.000000e+00  0.000000e+00  0.000000e+00  0.000000e+00  0.000000e+00  \n",
       "25%    0.000000e+00  1.013800e+04  7.023000e+03  0.000000e+00  0.000000e+00  \n",
       "50%    3.099500e+04  7.855900e+04  4.727500e+04  1.736000e+03  1.924800e+04  \n",
       "75%    3.010275e+05  4.527645e+05  2.269760e+05  3.220250e+04  2.148705e+05  \n",
       "max    1.366012e+08  6.167920e+07  1.382065e+07  9.710262e+06  2.367711e+07  "
      ]
     },
     "execution_count": 7,
     "metadata": {},
     "output_type": "execute_result"
    }
   ],
   "source": [
    "df.describe()"
   ]
  },
  {
   "cell_type": "markdown",
   "metadata": {},
   "source": [
    "* * * *"
   ]
  },
  {
   "cell_type": "markdown",
   "metadata": {},
   "source": [
    "# Feature Preprocessing & Engineering"
   ]
  },
  {
   "cell_type": "markdown",
   "metadata": {},
   "source": [
    "### Rating"
   ]
  },
  {
   "cell_type": "markdown",
   "metadata": {},
   "source": [
    "#### Scaling"
   ]
  },
  {
   "cell_type": "code",
   "execution_count": 8,
   "metadata": {},
   "outputs": [],
   "source": [
    "df['rating_pitch'] = df['rating_pitch'] * 10"
   ]
  },
  {
   "cell_type": "code",
   "execution_count": 9,
   "metadata": {},
   "outputs": [
    {
     "data": {
      "text/plain": [
       "0     NaN\n",
       "1    45.0\n",
       "2    65.0\n",
       "3     NaN\n",
       "4     NaN\n",
       "Name: rating_pitch, dtype: float64"
      ]
     },
     "execution_count": 9,
     "metadata": {},
     "output_type": "execute_result"
    }
   ],
   "source": [
    "df['rating_pitch'].head()"
   ]
  },
  {
   "cell_type": "code",
   "execution_count": 10,
   "metadata": {},
   "outputs": [],
   "source": [
    "def avg_rating():\n",
    "    for i in range(len(df)):\n",
    "        if np.isnan(df.loc[i, 'rating_meta']) == True:\n",
    "            if np.isnan(df.loc[i, 'rating_pitch']) == True:\n",
    "                if np.isnan(df.loc[i, 'rating_AOTY']) == True:\n",
    "                    df.loc[i, 'rating'] = 0\n",
    "                else:\n",
    "                    df.loc[i, 'rating'] = df.loc[i, 'rating_AOTY']\n",
    "            else:\n",
    "                df.loc[i, 'rating'] = df.loc[i, 'rating_pitch']\n",
    "        else:\n",
    "            df.loc[i, 'rating'] = df.loc[i, 'rating_meta']\n",
    "            \n",
    "    return df.head()"
   ]
  },
  {
   "cell_type": "code",
   "execution_count": 11,
   "metadata": {
    "scrolled": true
   },
   "outputs": [
    {
     "data": {
      "text/html": [
       "<div>\n",
       "<style scoped>\n",
       "    .dataframe tbody tr th:only-of-type {\n",
       "        vertical-align: middle;\n",
       "    }\n",
       "\n",
       "    .dataframe tbody tr th {\n",
       "        vertical-align: top;\n",
       "    }\n",
       "\n",
       "    .dataframe thead th {\n",
       "        text-align: right;\n",
       "    }\n",
       "</style>\n",
       "<table border=\"1\" class=\"dataframe\">\n",
       "  <thead>\n",
       "    <tr style=\"text-align: right;\">\n",
       "      <th></th>\n",
       "      <th>label</th>\n",
       "      <th>artist</th>\n",
       "      <th>album</th>\n",
       "      <th>genre</th>\n",
       "      <th>single_count</th>\n",
       "      <th>freq_billboard</th>\n",
       "      <th>freq_genius</th>\n",
       "      <th>freq_theSource</th>\n",
       "      <th>freq_xxl</th>\n",
       "      <th>rating_AOTY</th>\n",
       "      <th>rating_meta</th>\n",
       "      <th>rating_pitch</th>\n",
       "      <th>twitter</th>\n",
       "      <th>instagram</th>\n",
       "      <th>facebook</th>\n",
       "      <th>spotify</th>\n",
       "      <th>soundcloud</th>\n",
       "      <th>youtube</th>\n",
       "      <th>rating</th>\n",
       "    </tr>\n",
       "  </thead>\n",
       "  <tbody>\n",
       "    <tr>\n",
       "      <th>0</th>\n",
       "      <td>0</td>\n",
       "      <td>1GN</td>\n",
       "      <td>1 Girl Nation</td>\n",
       "      <td>pop</td>\n",
       "      <td>1</td>\n",
       "      <td>0</td>\n",
       "      <td>0</td>\n",
       "      <td>0</td>\n",
       "      <td>3</td>\n",
       "      <td>NaN</td>\n",
       "      <td>NaN</td>\n",
       "      <td>NaN</td>\n",
       "      <td>13</td>\n",
       "      <td>10323</td>\n",
       "      <td>0</td>\n",
       "      <td>5925</td>\n",
       "      <td>0</td>\n",
       "      <td>25490</td>\n",
       "      <td>0.0</td>\n",
       "    </tr>\n",
       "    <tr>\n",
       "      <th>1</th>\n",
       "      <td>1</td>\n",
       "      <td>2 Chainz</td>\n",
       "      <td>Based on a T.R.U. Story</td>\n",
       "      <td>hiphop</td>\n",
       "      <td>3</td>\n",
       "      <td>0</td>\n",
       "      <td>1</td>\n",
       "      <td>30</td>\n",
       "      <td>195</td>\n",
       "      <td>NaN</td>\n",
       "      <td>55.0</td>\n",
       "      <td>45.0</td>\n",
       "      <td>4213051</td>\n",
       "      <td>4566472</td>\n",
       "      <td>6145306</td>\n",
       "      <td>2647895</td>\n",
       "      <td>187250</td>\n",
       "      <td>2640612</td>\n",
       "      <td>55.0</td>\n",
       "    </tr>\n",
       "    <tr>\n",
       "      <th>2</th>\n",
       "      <td>1</td>\n",
       "      <td>21 Savage</td>\n",
       "      <td>Issa Album</td>\n",
       "      <td>hiphop</td>\n",
       "      <td>1</td>\n",
       "      <td>2</td>\n",
       "      <td>4</td>\n",
       "      <td>10</td>\n",
       "      <td>332</td>\n",
       "      <td>66.0</td>\n",
       "      <td>70.0</td>\n",
       "      <td>65.0</td>\n",
       "      <td>2246173</td>\n",
       "      <td>7445482</td>\n",
       "      <td>1134519</td>\n",
       "      <td>3864308</td>\n",
       "      <td>789270</td>\n",
       "      <td>3332058</td>\n",
       "      <td>70.0</td>\n",
       "    </tr>\n",
       "    <tr>\n",
       "      <th>3</th>\n",
       "      <td>0</td>\n",
       "      <td>5 Seconds of Summer</td>\n",
       "      <td>5 Seconds of Summer</td>\n",
       "      <td>pop</td>\n",
       "      <td>4</td>\n",
       "      <td>8</td>\n",
       "      <td>0</td>\n",
       "      <td>51</td>\n",
       "      <td>711</td>\n",
       "      <td>NaN</td>\n",
       "      <td>65.0</td>\n",
       "      <td>NaN</td>\n",
       "      <td>12606911</td>\n",
       "      <td>7310498</td>\n",
       "      <td>10296778</td>\n",
       "      <td>2969521</td>\n",
       "      <td>191358</td>\n",
       "      <td>4031726</td>\n",
       "      <td>65.0</td>\n",
       "    </tr>\n",
       "    <tr>\n",
       "      <th>4</th>\n",
       "      <td>1</td>\n",
       "      <td>6lack</td>\n",
       "      <td>Free 6lack</td>\n",
       "      <td>hiphop</td>\n",
       "      <td>2</td>\n",
       "      <td>0</td>\n",
       "      <td>1</td>\n",
       "      <td>6</td>\n",
       "      <td>99</td>\n",
       "      <td>NaN</td>\n",
       "      <td>NaN</td>\n",
       "      <td>NaN</td>\n",
       "      <td>456200</td>\n",
       "      <td>839246</td>\n",
       "      <td>303208</td>\n",
       "      <td>805720</td>\n",
       "      <td>266100</td>\n",
       "      <td>463168</td>\n",
       "      <td>0.0</td>\n",
       "    </tr>\n",
       "  </tbody>\n",
       "</table>\n",
       "</div>"
      ],
      "text/plain": [
       "   label               artist                    album   genre  single_count  \\\n",
       "0      0                  1GN            1 Girl Nation     pop             1   \n",
       "1      1             2 Chainz  Based on a T.R.U. Story  hiphop             3   \n",
       "2      1            21 Savage               Issa Album  hiphop             1   \n",
       "3      0  5 Seconds of Summer      5 Seconds of Summer     pop             4   \n",
       "4      1                6lack               Free 6lack  hiphop             2   \n",
       "\n",
       "   freq_billboard  freq_genius  freq_theSource  freq_xxl  rating_AOTY  \\\n",
       "0               0            0               0         3          NaN   \n",
       "1               0            1              30       195          NaN   \n",
       "2               2            4              10       332         66.0   \n",
       "3               8            0              51       711          NaN   \n",
       "4               0            1               6        99          NaN   \n",
       "\n",
       "   rating_meta  rating_pitch   twitter  instagram  facebook  spotify  \\\n",
       "0          NaN           NaN        13      10323         0     5925   \n",
       "1         55.0          45.0   4213051    4566472   6145306  2647895   \n",
       "2         70.0          65.0   2246173    7445482   1134519  3864308   \n",
       "3         65.0           NaN  12606911    7310498  10296778  2969521   \n",
       "4          NaN           NaN    456200     839246    303208   805720   \n",
       "\n",
       "   soundcloud  youtube  rating  \n",
       "0           0    25490     0.0  \n",
       "1      187250  2640612    55.0  \n",
       "2      789270  3332058    70.0  \n",
       "3      191358  4031726    65.0  \n",
       "4      266100   463168     0.0  "
      ]
     },
     "execution_count": 11,
     "metadata": {},
     "output_type": "execute_result"
    }
   ],
   "source": [
    "avg_rating()"
   ]
  },
  {
   "cell_type": "markdown",
   "metadata": {},
   "source": [
    "* * * *"
   ]
  },
  {
   "cell_type": "markdown",
   "metadata": {},
   "source": [
    "# Data Preparation for Modeling"
   ]
  },
  {
   "cell_type": "markdown",
   "metadata": {},
   "source": [
    "#### Genre `hiphop`, `R&B`, `Soul`, `Funk`, `Pop`"
   ]
  },
  {
   "cell_type": "code",
   "execution_count": 12,
   "metadata": {},
   "outputs": [],
   "source": [
    "df = pd.get_dummies(df, columns=['genre'])"
   ]
  },
  {
   "cell_type": "code",
   "execution_count": 13,
   "metadata": {},
   "outputs": [
    {
     "data": {
      "text/plain": [
       "Index(['label', 'artist', 'album', 'single_count', 'freq_billboard',\n",
       "       'freq_genius', 'freq_theSource', 'freq_xxl', 'rating_AOTY',\n",
       "       'rating_meta', 'rating_pitch', 'twitter', 'instagram', 'facebook',\n",
       "       'spotify', 'soundcloud', 'youtube', 'rating', 'genre_Soul',\n",
       "       'genre_funk', 'genre_hiphop', 'genre_pop', 'genre_rnb', 'genre_soul'],\n",
       "      dtype='object')"
      ]
     },
     "execution_count": 13,
     "metadata": {},
     "output_type": "execute_result"
    }
   ],
   "source": [
    "df.columns"
   ]
  },
  {
   "cell_type": "markdown",
   "metadata": {},
   "source": [
    "#### Split train & test data "
   ]
  },
  {
   "cell_type": "code",
   "execution_count": 14,
   "metadata": {},
   "outputs": [],
   "source": [
    "feature_names = ['single_count', \n",
    "                 'freq_billboard', 'freq_genius', 'freq_theSource', 'freq_xxl',\n",
    "                 'twitter', 'instagram', 'facebook',\n",
    "                 'spotify', 'soundcloud', 'youtube',\n",
    "                 'genre_funk', 'genre_hiphop', 'genre_pop', 'genre_rnb', 'genre_soul',\n",
    "                 'rating'\n",
    "                ]\n",
    "dfX = df[feature_names].copy()\n",
    "dfy = df['label'].copy()"
   ]
  },
  {
   "cell_type": "code",
   "execution_count": 15,
   "metadata": {},
   "outputs": [
    {
     "data": {
      "text/html": [
       "<div>\n",
       "<style scoped>\n",
       "    .dataframe tbody tr th:only-of-type {\n",
       "        vertical-align: middle;\n",
       "    }\n",
       "\n",
       "    .dataframe tbody tr th {\n",
       "        vertical-align: top;\n",
       "    }\n",
       "\n",
       "    .dataframe thead th {\n",
       "        text-align: right;\n",
       "    }\n",
       "</style>\n",
       "<table border=\"1\" class=\"dataframe\">\n",
       "  <thead>\n",
       "    <tr style=\"text-align: right;\">\n",
       "      <th></th>\n",
       "      <th>single_count</th>\n",
       "      <th>freq_billboard</th>\n",
       "      <th>freq_genius</th>\n",
       "      <th>freq_theSource</th>\n",
       "      <th>freq_xxl</th>\n",
       "      <th>twitter</th>\n",
       "      <th>instagram</th>\n",
       "      <th>facebook</th>\n",
       "      <th>spotify</th>\n",
       "      <th>soundcloud</th>\n",
       "      <th>youtube</th>\n",
       "      <th>genre_funk</th>\n",
       "      <th>genre_hiphop</th>\n",
       "      <th>genre_pop</th>\n",
       "      <th>genre_rnb</th>\n",
       "      <th>genre_soul</th>\n",
       "      <th>rating</th>\n",
       "    </tr>\n",
       "  </thead>\n",
       "  <tbody>\n",
       "    <tr>\n",
       "      <th>1078</th>\n",
       "      <td>0</td>\n",
       "      <td>0</td>\n",
       "      <td>0</td>\n",
       "      <td>1</td>\n",
       "      <td>45</td>\n",
       "      <td>9660</td>\n",
       "      <td>0</td>\n",
       "      <td>83296</td>\n",
       "      <td>84892</td>\n",
       "      <td>6447</td>\n",
       "      <td>99022</td>\n",
       "      <td>0</td>\n",
       "      <td>0</td>\n",
       "      <td>1</td>\n",
       "      <td>0</td>\n",
       "      <td>0</td>\n",
       "      <td>0.0</td>\n",
       "    </tr>\n",
       "    <tr>\n",
       "      <th>1079</th>\n",
       "      <td>0</td>\n",
       "      <td>0</td>\n",
       "      <td>0</td>\n",
       "      <td>0</td>\n",
       "      <td>0</td>\n",
       "      <td>1803</td>\n",
       "      <td>3011</td>\n",
       "      <td>11537</td>\n",
       "      <td>5337</td>\n",
       "      <td>711</td>\n",
       "      <td>0</td>\n",
       "      <td>0</td>\n",
       "      <td>0</td>\n",
       "      <td>1</td>\n",
       "      <td>0</td>\n",
       "      <td>0</td>\n",
       "      <td>0.0</td>\n",
       "    </tr>\n",
       "    <tr>\n",
       "      <th>1080</th>\n",
       "      <td>5</td>\n",
       "      <td>0</td>\n",
       "      <td>0</td>\n",
       "      <td>0</td>\n",
       "      <td>0</td>\n",
       "      <td>312739</td>\n",
       "      <td>0</td>\n",
       "      <td>2118</td>\n",
       "      <td>183626</td>\n",
       "      <td>0</td>\n",
       "      <td>0</td>\n",
       "      <td>0</td>\n",
       "      <td>0</td>\n",
       "      <td>1</td>\n",
       "      <td>0</td>\n",
       "      <td>0</td>\n",
       "      <td>0.0</td>\n",
       "    </tr>\n",
       "    <tr>\n",
       "      <th>1081</th>\n",
       "      <td>3</td>\n",
       "      <td>2</td>\n",
       "      <td>1</td>\n",
       "      <td>0</td>\n",
       "      <td>315</td>\n",
       "      <td>3413328</td>\n",
       "      <td>5759232</td>\n",
       "      <td>8626519</td>\n",
       "      <td>6663594</td>\n",
       "      <td>1018428</td>\n",
       "      <td>14572408</td>\n",
       "      <td>0</td>\n",
       "      <td>0</td>\n",
       "      <td>1</td>\n",
       "      <td>0</td>\n",
       "      <td>0</td>\n",
       "      <td>0.0</td>\n",
       "    </tr>\n",
       "    <tr>\n",
       "      <th>1082</th>\n",
       "      <td>3</td>\n",
       "      <td>0</td>\n",
       "      <td>0</td>\n",
       "      <td>0</td>\n",
       "      <td>761</td>\n",
       "      <td>0</td>\n",
       "      <td>0</td>\n",
       "      <td>576</td>\n",
       "      <td>17285</td>\n",
       "      <td>0</td>\n",
       "      <td>29666</td>\n",
       "      <td>0</td>\n",
       "      <td>0</td>\n",
       "      <td>1</td>\n",
       "      <td>0</td>\n",
       "      <td>0</td>\n",
       "      <td>56.0</td>\n",
       "    </tr>\n",
       "  </tbody>\n",
       "</table>\n",
       "</div>"
      ],
      "text/plain": [
       "      single_count  freq_billboard  freq_genius  freq_theSource  freq_xxl  \\\n",
       "1078             0               0            0               1        45   \n",
       "1079             0               0            0               0         0   \n",
       "1080             5               0            0               0         0   \n",
       "1081             3               2            1               0       315   \n",
       "1082             3               0            0               0       761   \n",
       "\n",
       "      twitter  instagram  facebook  spotify  soundcloud   youtube  genre_funk  \\\n",
       "1078     9660          0     83296    84892        6447     99022           0   \n",
       "1079     1803       3011     11537     5337         711         0           0   \n",
       "1080   312739          0      2118   183626           0         0           0   \n",
       "1081  3413328    5759232   8626519  6663594     1018428  14572408           0   \n",
       "1082        0          0       576    17285           0     29666           0   \n",
       "\n",
       "      genre_hiphop  genre_pop  genre_rnb  genre_soul  rating  \n",
       "1078             0          1          0           0     0.0  \n",
       "1079             0          1          0           0     0.0  \n",
       "1080             0          1          0           0     0.0  \n",
       "1081             0          1          0           0     0.0  \n",
       "1082             0          1          0           0    56.0  "
      ]
     },
     "execution_count": 15,
     "metadata": {},
     "output_type": "execute_result"
    }
   ],
   "source": [
    "dfX.tail()"
   ]
  },
  {
   "cell_type": "code",
   "execution_count": 16,
   "metadata": {},
   "outputs": [
    {
     "data": {
      "text/plain": [
       "1078    0\n",
       "1079    0\n",
       "1080    0\n",
       "1081    1\n",
       "1082    0\n",
       "Name: label, dtype: int64"
      ]
     },
     "execution_count": 16,
     "metadata": {},
     "output_type": "execute_result"
    }
   ],
   "source": [
    "dfy.tail()"
   ]
  },
  {
   "cell_type": "code",
   "execution_count": 17,
   "metadata": {},
   "outputs": [],
   "source": [
    "X_train, X_test, y_train, y_test = train_test_split(dfX, dfy, test_size=0.25, random_state=0)"
   ]
  },
  {
   "cell_type": "markdown",
   "metadata": {},
   "source": [
    "* * * *"
   ]
  },
  {
   "cell_type": "markdown",
   "metadata": {},
   "source": [
    "# Adaboost with DecisionTree"
   ]
  },
  {
   "cell_type": "code",
   "execution_count": 18,
   "metadata": {},
   "outputs": [],
   "source": [
    "from sklearn.tree import DecisionTreeClassifier"
   ]
  },
  {
   "cell_type": "code",
   "execution_count": 19,
   "metadata": {},
   "outputs": [
    {
     "data": {
      "text/plain": [
       "AdaBoostClassifier(algorithm='SAMME',\n",
       "          base_estimator=DecisionTreeClassifier(class_weight=None, criterion='gini', max_depth=2,\n",
       "            max_features=None, max_leaf_nodes=None,\n",
       "            min_impurity_decrease=0.0, min_impurity_split=None,\n",
       "            min_samples_leaf=1, min_samples_split=2,\n",
       "            min_weight_fraction_leaf=0.0, presort=False, random_state=0,\n",
       "            splitter='best'),\n",
       "          learning_rate=1.0, n_estimators=100, random_state=None)"
      ]
     },
     "execution_count": 19,
     "metadata": {},
     "output_type": "execute_result"
    }
   ],
   "source": [
    "from sklearn.ensemble import AdaBoostClassifier\n",
    "model_ada = AdaBoostClassifier(DecisionTreeClassifier(max_depth=2, random_state=0), \n",
    "                               algorithm=\"SAMME\", n_estimators=100)\n",
    "model_ada.fit(X_train, y_train)"
   ]
  },
  {
   "cell_type": "code",
   "execution_count": 20,
   "metadata": {},
   "outputs": [
    {
     "name": "stdout",
     "output_type": "stream",
     "text": [
      "[[633   8]\n",
      " [ 22 149]]\n"
     ]
    }
   ],
   "source": [
    "print(confusion_matrix(y_train, model_ada.predict(X_train)))"
   ]
  },
  {
   "cell_type": "code",
   "execution_count": 21,
   "metadata": {},
   "outputs": [
    {
     "name": "stdout",
     "output_type": "stream",
     "text": [
      "             precision    recall  f1-score   support\n",
      "\n",
      "          0       0.97      0.99      0.98       641\n",
      "          1       0.95      0.87      0.91       171\n",
      "\n",
      "avg / total       0.96      0.96      0.96       812\n",
      "\n"
     ]
    }
   ],
   "source": [
    "print(classification_report(y_train, model_ada.predict(X_train)))"
   ]
  },
  {
   "cell_type": "code",
   "execution_count": 22,
   "metadata": {},
   "outputs": [
    {
     "name": "stdout",
     "output_type": "stream",
     "text": [
      "[[205  10]\n",
      " [ 14  42]]\n"
     ]
    }
   ],
   "source": [
    "print(confusion_matrix(y_test, model_ada.predict(X_test)))"
   ]
  },
  {
   "cell_type": "code",
   "execution_count": 23,
   "metadata": {},
   "outputs": [
    {
     "name": "stdout",
     "output_type": "stream",
     "text": [
      "             precision    recall  f1-score   support\n",
      "\n",
      "          0       0.94      0.95      0.94       215\n",
      "          1       0.81      0.75      0.78        56\n",
      "\n",
      "avg / total       0.91      0.91      0.91       271\n",
      "\n"
     ]
    }
   ],
   "source": [
    "print(classification_report(y_test, model_ada.predict(X_test)))"
   ]
  },
  {
   "cell_type": "code",
   "execution_count": 24,
   "metadata": {},
   "outputs": [],
   "source": [
    "from sklearn.metrics import roc_curve\n",
    "from sklearn.metrics import auc\n",
    "\n",
    "fpr, tpr, thresholds = roc_curve(y_test, model_ada.predict_proba(X_test)[:, 1])"
   ]
  },
  {
   "cell_type": "code",
   "execution_count": 26,
   "metadata": {},
   "outputs": [
    {
     "data": {
      "image/png": "[encoded data removed]",
      "text/plain": [
       "<matplotlib.figure.Figure at 0x114e66898>"
      ]
     },
     "metadata": {},
     "output_type": "display_data"
    }
   ],
   "source": [
    "draw_roc_auc(model_ada)"
   ]
  },
  {
   "cell_type": "code",
   "execution_count": 27,
   "metadata": {},
   "outputs": [
    {
     "name": "stdout",
     "output_type": "stream",
     "text": [
      "single_count 0.07756005159307403\n",
      "freq_billboard 0.0123296827137643\n",
      "freq_genius 0.04162025811907911\n",
      "freq_theSource 0.02535537793219789\n",
      "freq_xxl 0.10752148475133032\n",
      "twitter 0.08018752591580365\n",
      "instagram 0.1039809492277445\n",
      "facebook 0.02413255401147591\n",
      "spotify 0.21064128737271726\n",
      "soundcloud 0.11810927068901135\n",
      "youtube 0.03456951636576168\n",
      "genre_funk 0.029977575190011884\n",
      "genre_hiphop 0.01119486157371242\n",
      "genre_pop 0.03690614066848062\n",
      "genre_rnb 0.004889323512787533\n",
      "genre_soul 0.016681310938693936\n",
      "rating 0.06434282942435347\n"
     ]
    }
   ],
   "source": [
    "for name, importance in zip(X_train.columns, model_ada.feature_importances_):\n",
    "    print(name, importance)"
   ]
  },
  {
   "cell_type": "markdown",
   "metadata": {},
   "source": [
    "# Undersampling"
   ]
  },
  {
   "cell_type": "code",
   "execution_count": 28,
   "metadata": {},
   "outputs": [],
   "source": [
    "rus = RandomUnderSampler(random_state=0)\n",
    "X_resampled_rus, y_resampled_rus = rus.fit_sample(X_train, y_train)"
   ]
  },
  {
   "cell_type": "code",
   "execution_count": 29,
   "metadata": {},
   "outputs": [
    {
     "data": {
      "text/plain": [
       "AdaBoostClassifier(algorithm='SAMME',\n",
       "          base_estimator=DecisionTreeClassifier(class_weight=None, criterion='gini', max_depth=2,\n",
       "            max_features=None, max_leaf_nodes=None,\n",
       "            min_impurity_decrease=0.0, min_impurity_split=None,\n",
       "            min_samples_leaf=1, min_samples_split=2,\n",
       "            min_weight_fraction_leaf=0.0, presort=False, random_state=0,\n",
       "            splitter='best'),\n",
       "          learning_rate=1.0, n_estimators=100, random_state=None)"
      ]
     },
     "execution_count": 29,
     "metadata": {},
     "output_type": "execute_result"
    }
   ],
   "source": [
    "model_ada = AdaBoostClassifier(DecisionTreeClassifier(max_depth=2, random_state=0), \n",
    "                               algorithm=\"SAMME\", n_estimators=100)\n",
    "model_ada.fit(X_resampled_rus, y_resampled_rus)"
   ]
  },
  {
   "cell_type": "code",
   "execution_count": 30,
   "metadata": {},
   "outputs": [
    {
     "name": "stdout",
     "output_type": "stream",
     "text": [
      "[[171   0]\n",
      " [  0 171]]\n"
     ]
    }
   ],
   "source": [
    "print(confusion_matrix(y_resampled_rus, model_ada.predict(X_resampled_rus)))"
   ]
  },
  {
   "cell_type": "code",
   "execution_count": 33,
   "metadata": {},
   "outputs": [
    {
     "name": "stdout",
     "output_type": "stream",
     "text": [
      "             precision    recall  f1-score   support\n",
      "\n",
      "          0       1.00      1.00      1.00       171\n",
      "          1       1.00      1.00      1.00       171\n",
      "\n",
      "avg / total       1.00      1.00      1.00       342\n",
      "\n"
     ]
    }
   ],
   "source": [
    "print(classification_report(y_resampled_rus, model_ada.predict(X_resampled_rus)))"
   ]
  },
  {
   "cell_type": "code",
   "execution_count": 31,
   "metadata": {},
   "outputs": [
    {
     "name": "stdout",
     "output_type": "stream",
     "text": [
      "[[177  38]\n",
      " [  6  50]]\n"
     ]
    }
   ],
   "source": [
    "print(confusion_matrix(y_test, model_ada.predict(X_test)))"
   ]
  },
  {
   "cell_type": "code",
   "execution_count": 32,
   "metadata": {},
   "outputs": [
    {
     "name": "stdout",
     "output_type": "stream",
     "text": [
      "             precision    recall  f1-score   support\n",
      "\n",
      "          0       0.97      0.82      0.89       215\n",
      "          1       0.57      0.89      0.69        56\n",
      "\n",
      "avg / total       0.88      0.84      0.85       271\n",
      "\n"
     ]
    }
   ],
   "source": [
    "print(classification_report(y_test, model_ada.predict(X_test)))"
   ]
  },
  {
   "cell_type": "code",
   "execution_count": 34,
   "metadata": {},
   "outputs": [
    {
     "data": {
      "image/png": "[encoded data removed]",
      "text/plain": [
       "<matplotlib.figure.Figure at 0x114e8e9b0>"
      ]
     },
     "metadata": {},
     "output_type": "display_data"
    }
   ],
   "source": [
    "draw_roc_auc(model_ada)"
   ]
  }
 ],
 "metadata": {
  "kernelspec": {
   "display_name": "Python 3",
   "language": "python",
   "name": "python3"
  },
  "language_info": {
   "codemirror_mode": {
    "name": "ipython",
    "version": 3
   },
   "file_extension": ".py",
   "mimetype": "text/x-python",
   "name": "python",
   "nbconvert_exporter": "python",
   "pygments_lexer": "ipython3",
   "version": "3.6.2"
  }
 },
 "nbformat": 4,
 "nbformat_minor": 2
}
