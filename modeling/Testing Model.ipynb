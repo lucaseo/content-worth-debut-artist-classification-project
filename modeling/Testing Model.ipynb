{
 "cells": [
  {
   "cell_type": "code",
   "execution_count": 1,
   "metadata": {},
   "outputs": [],
   "source": [
    "import pandas as pd\n",
    "import pickle"
   ]
  },
  {
   "cell_type": "markdown",
   "metadata": {},
   "source": [
    "### Load Model"
   ]
  },
  {
   "cell_type": "code",
   "execution_count": 2,
   "metadata": {},
   "outputs": [],
   "source": [
    "model = pickle.load(open(\"rfc_rus_gs.plk\", \"rb\"))"
   ]
  },
  {
   "cell_type": "markdown",
   "metadata": {},
   "source": [
    "### Input New Data"
   ]
  },
  {
   "cell_type": "code",
   "execution_count": 3,
   "metadata": {},
   "outputs": [],
   "source": [
    "data = {\n",
    "    'single_count': [2], \n",
    "    'genre_funk': [0],\n",
    "    'genre_hiphop': [1],\n",
    "    'genre_pop': [0],\n",
    "    'genre_rnb': [0],\n",
    "    'genre_soul': [0],\n",
    "    'freq_billboard': [1],\n",
    "    'freq_genius': [0],\n",
    "    'freq_theSource': [0],\n",
    "    'freq_xxl': [42],\n",
    "    'rating': [69],\n",
    "    'twitter': [912000],\n",
    "    'instagram': [3900000],\n",
    "    'facebook': [581939],\n",
    "    'youtube': [2170000],\n",
    "    'soundcloud': [384000],\n",
    "    'spotify': [854874]\n",
    "}"
   ]
  },
  {
   "cell_type": "code",
   "execution_count": 4,
   "metadata": {},
   "outputs": [],
   "source": [
    "test = pd.DataFrame.from_dict(data)"
   ]
  },
  {
   "cell_type": "markdown",
   "metadata": {},
   "source": [
    "### Predict"
   ]
  },
  {
   "cell_type": "code",
   "execution_count": 5,
   "metadata": {},
   "outputs": [
    {
     "data": {
      "text/plain": [
       "array([0])"
      ]
     },
     "execution_count": 5,
     "metadata": {},
     "output_type": "execute_result"
    }
   ],
   "source": [
    "model.predict(test)"
   ]
  },
  {
   "cell_type": "markdown",
   "metadata": {},
   "source": [
    "### Predict Probability"
   ]
  },
  {
   "cell_type": "code",
   "execution_count": 6,
   "metadata": {},
   "outputs": [
    {
     "data": {
      "text/plain": [
       "array([0.3])"
      ]
     },
     "execution_count": 6,
     "metadata": {},
     "output_type": "execute_result"
    }
   ],
   "source": [
    "model.predict_proba(test)[:, 1]"
   ]
  },
  {
   "cell_type": "code",
   "execution_count": null,
   "metadata": {},
   "outputs": [],
   "source": []
  },
  {
   "cell_type": "code",
   "execution_count": null,
   "metadata": {},
   "outputs": [],
   "source": []
  },
  {
   "cell_type": "code",
   "execution_count": null,
   "metadata": {},
   "outputs": [],
   "source": []
  },
  {
   "cell_type": "code",
   "execution_count": null,
   "metadata": {},
   "outputs": [],
   "source": []
  },
  {
   "cell_type": "code",
   "execution_count": null,
   "metadata": {},
   "outputs": [],
   "source": []
  },
  {
   "cell_type": "code",
   "execution_count": null,
   "metadata": {},
   "outputs": [],
   "source": []
  },
  {
   "cell_type": "code",
   "execution_count": null,
   "metadata": {},
   "outputs": [],
   "source": [
    "data2 = {\n",
    "    'single_count': 2, \n",
    "    'genre_funk': 0,\n",
    "    'genre_hiphop': 1,\n",
    "    'genre_pop': 0,\n",
    "    'genre_rnb': 0,\n",
    "    'genre_soul': 0,\n",
    "    'freq_billboard': 1,\n",
    "    'freq_genius': 0,\n",
    "    'freq_theSource': 0,\n",
    "    'freq_xxl': 42,\n",
    "    'rating': 69,\n",
    "    'twitter': 912000,\n",
    "    'instagram': 3900000,\n",
    "    'facebook': 581939,\n",
    "    'youtube': 2170000,\n",
    "    'soundcloud': 384000,\n",
    "    'spotify': 854874\n",
    "}"
   ]
  }
 ],
 "metadata": {
  "kernelspec": {
   "display_name": "Python 3",
   "language": "python",
   "name": "python3"
  },
  "language_info": {
   "codemirror_mode": {
    "name": "ipython",
    "version": 3
   },
   "file_extension": ".py",
   "mimetype": "text/x-python",
   "name": "python",
   "nbconvert_exporter": "python",
   "pygments_lexer": "ipython3",
   "version": "3.6.2"
  }
 },
 "nbformat": 4,
 "nbformat_minor": 2
}
