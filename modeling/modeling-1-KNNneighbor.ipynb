{
 "cells": [
  {
   "cell_type": "code",
   "execution_count": 11,
   "metadata": {},
   "outputs": [],
   "source": [
    "import pandas as pd\n",
    "df = pd.read_csv(\"../data/df_baseline.csv\")"
   ]
  },
  {
   "cell_type": "markdown",
   "metadata": {},
   "source": [
    "## Load Data"
   ]
  },
  {
   "cell_type": "code",
   "execution_count": 12,
   "metadata": {},
   "outputs": [
    {
     "name": "stdout",
     "output_type": "stream",
     "text": [
      "(1091, 18)\n"
     ]
    },
    {
     "data": {
      "text/html": [
       "<div>\n",
       "<style scoped>\n",
       "    .dataframe tbody tr th:only-of-type {\n",
       "        vertical-align: middle;\n",
       "    }\n",
       "\n",
       "    .dataframe tbody tr th {\n",
       "        vertical-align: top;\n",
       "    }\n",
       "\n",
       "    .dataframe thead th {\n",
       "        text-align: right;\n",
       "    }\n",
       "</style>\n",
       "<table border=\"1\" class=\"dataframe\">\n",
       "  <thead>\n",
       "    <tr style=\"text-align: right;\">\n",
       "      <th></th>\n",
       "      <th>label</th>\n",
       "      <th>artist</th>\n",
       "      <th>album</th>\n",
       "      <th>genre</th>\n",
       "      <th>single_count</th>\n",
       "      <th>freq_billboard</th>\n",
       "      <th>freq_genius</th>\n",
       "      <th>freq_theSource</th>\n",
       "      <th>freq_xxl</th>\n",
       "      <th>rating_AOTY</th>\n",
       "      <th>rating_meta</th>\n",
       "      <th>rating_pitch</th>\n",
       "      <th>twitter</th>\n",
       "      <th>instagram</th>\n",
       "      <th>facebook</th>\n",
       "      <th>spotify</th>\n",
       "      <th>soundcloud</th>\n",
       "      <th>youtube</th>\n",
       "    </tr>\n",
       "  </thead>\n",
       "  <tbody>\n",
       "    <tr>\n",
       "      <th>0</th>\n",
       "      <td>0</td>\n",
       "      <td>Flash Bang Grenada</td>\n",
       "      <td>10 Haters</td>\n",
       "      <td>hiphop</td>\n",
       "      <td>0</td>\n",
       "      <td>0</td>\n",
       "      <td>0</td>\n",
       "      <td>0</td>\n",
       "      <td>0</td>\n",
       "      <td>NaN</td>\n",
       "      <td>NaN</td>\n",
       "      <td>NaN</td>\n",
       "      <td>0</td>\n",
       "      <td>0</td>\n",
       "      <td>0</td>\n",
       "      <td>346</td>\n",
       "      <td>0</td>\n",
       "      <td>0</td>\n",
       "    </tr>\n",
       "    <tr>\n",
       "      <th>1</th>\n",
       "      <td>0</td>\n",
       "      <td>Aggro Santos</td>\n",
       "      <td>AggroSantos.com</td>\n",
       "      <td>hiphop</td>\n",
       "      <td>3</td>\n",
       "      <td>0</td>\n",
       "      <td>0</td>\n",
       "      <td>0</td>\n",
       "      <td>0</td>\n",
       "      <td>NaN</td>\n",
       "      <td>NaN</td>\n",
       "      <td>NaN</td>\n",
       "      <td>63771</td>\n",
       "      <td>27415</td>\n",
       "      <td>596562</td>\n",
       "      <td>4675</td>\n",
       "      <td>585</td>\n",
       "      <td>7975</td>\n",
       "    </tr>\n",
       "    <tr>\n",
       "      <th>2</th>\n",
       "      <td>0</td>\n",
       "      <td>AKA</td>\n",
       "      <td>Altar Ego</td>\n",
       "      <td>hiphop</td>\n",
       "      <td>4</td>\n",
       "      <td>0</td>\n",
       "      <td>0</td>\n",
       "      <td>1</td>\n",
       "      <td>2</td>\n",
       "      <td>NaN</td>\n",
       "      <td>NaN</td>\n",
       "      <td>NaN</td>\n",
       "      <td>38958</td>\n",
       "      <td>0</td>\n",
       "      <td>0</td>\n",
       "      <td>22298</td>\n",
       "      <td>0</td>\n",
       "      <td>3643764</td>\n",
       "    </tr>\n",
       "    <tr>\n",
       "      <th>3</th>\n",
       "      <td>0</td>\n",
       "      <td>Shlohmo</td>\n",
       "      <td>Bad Vibes</td>\n",
       "      <td>hiphop</td>\n",
       "      <td>0</td>\n",
       "      <td>0</td>\n",
       "      <td>0</td>\n",
       "      <td>0</td>\n",
       "      <td>67</td>\n",
       "      <td>NaN</td>\n",
       "      <td>NaN</td>\n",
       "      <td>7.8</td>\n",
       "      <td>91790</td>\n",
       "      <td>59340</td>\n",
       "      <td>209063</td>\n",
       "      <td>141268</td>\n",
       "      <td>283539</td>\n",
       "      <td>0</td>\n",
       "    </tr>\n",
       "    <tr>\n",
       "      <th>4</th>\n",
       "      <td>0</td>\n",
       "      <td>Glasses Malone</td>\n",
       "      <td>Beach Cruiser</td>\n",
       "      <td>hiphop</td>\n",
       "      <td>4</td>\n",
       "      <td>0</td>\n",
       "      <td>0</td>\n",
       "      <td>0</td>\n",
       "      <td>4</td>\n",
       "      <td>NaN</td>\n",
       "      <td>NaN</td>\n",
       "      <td>NaN</td>\n",
       "      <td>68417</td>\n",
       "      <td>48745</td>\n",
       "      <td>93741</td>\n",
       "      <td>16402</td>\n",
       "      <td>0</td>\n",
       "      <td>0</td>\n",
       "    </tr>\n",
       "  </tbody>\n",
       "</table>\n",
       "</div>"
      ],
      "text/plain": [
       "   label              artist            album   genre  single_count  \\\n",
       "0      0  Flash Bang Grenada        10 Haters  hiphop             0   \n",
       "1      0        Aggro Santos  AggroSantos.com  hiphop             3   \n",
       "2      0                 AKA        Altar Ego  hiphop             4   \n",
       "3      0             Shlohmo        Bad Vibes  hiphop             0   \n",
       "4      0      Glasses Malone    Beach Cruiser  hiphop             4   \n",
       "\n",
       "   freq_billboard  freq_genius  freq_theSource  freq_xxl  rating_AOTY  \\\n",
       "0               0            0               0         0          NaN   \n",
       "1               0            0               0         0          NaN   \n",
       "2               0            0               1         2          NaN   \n",
       "3               0            0               0        67          NaN   \n",
       "4               0            0               0         4          NaN   \n",
       "\n",
       "   rating_meta  rating_pitch  twitter  instagram  facebook  spotify  \\\n",
       "0          NaN           NaN        0          0         0      346   \n",
       "1          NaN           NaN    63771      27415    596562     4675   \n",
       "2          NaN           NaN    38958          0         0    22298   \n",
       "3          NaN           7.8    91790      59340    209063   141268   \n",
       "4          NaN           NaN    68417      48745     93741    16402   \n",
       "\n",
       "   soundcloud  youtube  \n",
       "0           0        0  \n",
       "1         585     7975  \n",
       "2           0  3643764  \n",
       "3      283539        0  \n",
       "4           0        0  "
      ]
     },
     "execution_count": 12,
     "metadata": {},
     "output_type": "execute_result"
    }
   ],
   "source": [
    "print(df.shape)\n",
    "df.head()"
   ]
  },
  {
   "cell_type": "code",
   "execution_count": 13,
   "metadata": {},
   "outputs": [
    {
     "name": "stdout",
     "output_type": "stream",
     "text": [
      "<class 'pandas.core.frame.DataFrame'>\n",
      "RangeIndex: 1091 entries, 0 to 1090\n",
      "Data columns (total 18 columns):\n",
      "label             1091 non-null int64\n",
      "artist            1091 non-null object\n",
      "album             1091 non-null object\n",
      "genre             1091 non-null object\n",
      "single_count      1091 non-null int64\n",
      "freq_billboard    1091 non-null int64\n",
      "freq_genius       1091 non-null int64\n",
      "freq_theSource    1091 non-null int64\n",
      "freq_xxl          1091 non-null int64\n",
      "rating_AOTY       61 non-null float64\n",
      "rating_meta       324 non-null float64\n",
      "rating_pitch      220 non-null float64\n",
      "twitter           1091 non-null int64\n",
      "instagram         1091 non-null int64\n",
      "facebook          1091 non-null int64\n",
      "spotify           1091 non-null int64\n",
      "soundcloud        1091 non-null int64\n",
      "youtube           1091 non-null int64\n",
      "dtypes: float64(3), int64(12), object(3)\n",
      "memory usage: 153.5+ KB\n"
     ]
    }
   ],
   "source": [
    "df.info()"
   ]
  },
  {
   "cell_type": "markdown",
   "metadata": {},
   "source": [
    "**Note**\n",
    "- 온라인매체 기사의 양, 평론가 평점은 Null Value가 있기 때문에, 당장 Decision Tree를 통해 학습을 시킬 수 없어, Feature에서 제외를 한다."
   ]
  },
  {
   "cell_type": "markdown",
   "metadata": {},
   "source": [
    "## Data Preparation for Modeling"
   ]
  },
  {
   "cell_type": "markdown",
   "metadata": {},
   "source": [
    "#### 장르 `hiphop`, `R&B`, `Soul`, `Funk`, `Pop`"
   ]
  },
  {
   "cell_type": "code",
   "execution_count": 14,
   "metadata": {},
   "outputs": [],
   "source": [
    "df = pd.get_dummies(df, columns=['genre'])"
   ]
  },
  {
   "cell_type": "code",
   "execution_count": 15,
   "metadata": {},
   "outputs": [
    {
     "data": {
      "text/plain": [
       "Index(['label', 'artist', 'album', 'single_count', 'freq_billboard',\n",
       "       'freq_genius', 'freq_theSource', 'freq_xxl', 'rating_AOTY',\n",
       "       'rating_meta', 'rating_pitch', 'twitter', 'instagram', 'facebook',\n",
       "       'spotify', 'soundcloud', 'youtube', 'genre_funk', 'genre_hiphop',\n",
       "       'genre_pop', 'genre_rnb', 'genre_soul'],\n",
       "      dtype='object')"
      ]
     },
     "execution_count": 15,
     "metadata": {},
     "output_type": "execute_result"
    }
   ],
   "source": [
    "df.columns"
   ]
  },
  {
   "cell_type": "markdown",
   "metadata": {},
   "source": [
    "#### Split train & test data "
   ]
  },
  {
   "cell_type": "code",
   "execution_count": 16,
   "metadata": {},
   "outputs": [],
   "source": [
    "feature_names = ['single_count', 'freq_billboard',\n",
    "                 'freq_genius', 'freq_theSource', 'freq_xxl',\n",
    "                 'twitter', 'instagram', 'facebook',\n",
    "                 'spotify', 'soundcloud', 'youtube',\n",
    "                 'genre_funk', 'genre_hiphop', 'genre_pop', 'genre_rnb', 'genre_soul']\n",
    "dfX = df[feature_names].copy()\n",
    "dfy = df['label'].copy()"
   ]
  },
  {
   "cell_type": "code",
   "execution_count": 17,
   "metadata": {},
   "outputs": [
    {
     "data": {
      "text/html": [
       "<div>\n",
       "<style scoped>\n",
       "    .dataframe tbody tr th:only-of-type {\n",
       "        vertical-align: middle;\n",
       "    }\n",
       "\n",
       "    .dataframe tbody tr th {\n",
       "        vertical-align: top;\n",
       "    }\n",
       "\n",
       "    .dataframe thead th {\n",
       "        text-align: right;\n",
       "    }\n",
       "</style>\n",
       "<table border=\"1\" class=\"dataframe\">\n",
       "  <thead>\n",
       "    <tr style=\"text-align: right;\">\n",
       "      <th></th>\n",
       "      <th>single_count</th>\n",
       "      <th>freq_billboard</th>\n",
       "      <th>freq_genius</th>\n",
       "      <th>freq_theSource</th>\n",
       "      <th>freq_xxl</th>\n",
       "      <th>twitter</th>\n",
       "      <th>instagram</th>\n",
       "      <th>facebook</th>\n",
       "      <th>spotify</th>\n",
       "      <th>soundcloud</th>\n",
       "      <th>youtube</th>\n",
       "      <th>genre_funk</th>\n",
       "      <th>genre_hiphop</th>\n",
       "      <th>genre_pop</th>\n",
       "      <th>genre_rnb</th>\n",
       "      <th>genre_soul</th>\n",
       "    </tr>\n",
       "  </thead>\n",
       "  <tbody>\n",
       "    <tr>\n",
       "      <th>1086</th>\n",
       "      <td>0</td>\n",
       "      <td>0</td>\n",
       "      <td>0</td>\n",
       "      <td>200</td>\n",
       "      <td>9</td>\n",
       "      <td>3708</td>\n",
       "      <td>7855</td>\n",
       "      <td>10703</td>\n",
       "      <td>15130</td>\n",
       "      <td>1043</td>\n",
       "      <td>14066</td>\n",
       "      <td>0</td>\n",
       "      <td>0</td>\n",
       "      <td>1</td>\n",
       "      <td>0</td>\n",
       "      <td>0</td>\n",
       "    </tr>\n",
       "    <tr>\n",
       "      <th>1087</th>\n",
       "      <td>3</td>\n",
       "      <td>2</td>\n",
       "      <td>0</td>\n",
       "      <td>0</td>\n",
       "      <td>9</td>\n",
       "      <td>600</td>\n",
       "      <td>286554</td>\n",
       "      <td>355355</td>\n",
       "      <td>329507</td>\n",
       "      <td>21954</td>\n",
       "      <td>1728617</td>\n",
       "      <td>0</td>\n",
       "      <td>0</td>\n",
       "      <td>1</td>\n",
       "      <td>0</td>\n",
       "      <td>0</td>\n",
       "    </tr>\n",
       "    <tr>\n",
       "      <th>1088</th>\n",
       "      <td>2</td>\n",
       "      <td>0</td>\n",
       "      <td>0</td>\n",
       "      <td>0</td>\n",
       "      <td>0</td>\n",
       "      <td>1913</td>\n",
       "      <td>23837</td>\n",
       "      <td>9187</td>\n",
       "      <td>16544</td>\n",
       "      <td>756</td>\n",
       "      <td>743</td>\n",
       "      <td>0</td>\n",
       "      <td>0</td>\n",
       "      <td>1</td>\n",
       "      <td>0</td>\n",
       "      <td>0</td>\n",
       "    </tr>\n",
       "    <tr>\n",
       "      <th>1089</th>\n",
       "      <td>6</td>\n",
       "      <td>2</td>\n",
       "      <td>0</td>\n",
       "      <td>0</td>\n",
       "      <td>0</td>\n",
       "      <td>11571</td>\n",
       "      <td>27192</td>\n",
       "      <td>27615</td>\n",
       "      <td>60983</td>\n",
       "      <td>6295</td>\n",
       "      <td>43228</td>\n",
       "      <td>0</td>\n",
       "      <td>0</td>\n",
       "      <td>1</td>\n",
       "      <td>0</td>\n",
       "      <td>0</td>\n",
       "    </tr>\n",
       "    <tr>\n",
       "      <th>1090</th>\n",
       "      <td>4</td>\n",
       "      <td>1</td>\n",
       "      <td>0</td>\n",
       "      <td>0</td>\n",
       "      <td>213</td>\n",
       "      <td>19974</td>\n",
       "      <td>27428</td>\n",
       "      <td>60138</td>\n",
       "      <td>37009</td>\n",
       "      <td>2341</td>\n",
       "      <td>22642</td>\n",
       "      <td>0</td>\n",
       "      <td>0</td>\n",
       "      <td>1</td>\n",
       "      <td>0</td>\n",
       "      <td>0</td>\n",
       "    </tr>\n",
       "  </tbody>\n",
       "</table>\n",
       "</div>"
      ],
      "text/plain": [
       "      single_count  freq_billboard  freq_genius  freq_theSource  freq_xxl  \\\n",
       "1086             0               0            0             200         9   \n",
       "1087             3               2            0               0         9   \n",
       "1088             2               0            0               0         0   \n",
       "1089             6               2            0               0         0   \n",
       "1090             4               1            0               0       213   \n",
       "\n",
       "      twitter  instagram  facebook  spotify  soundcloud  youtube  genre_funk  \\\n",
       "1086     3708       7855     10703    15130        1043    14066           0   \n",
       "1087      600     286554    355355   329507       21954  1728617           0   \n",
       "1088     1913      23837      9187    16544         756      743           0   \n",
       "1089    11571      27192     27615    60983        6295    43228           0   \n",
       "1090    19974      27428     60138    37009        2341    22642           0   \n",
       "\n",
       "      genre_hiphop  genre_pop  genre_rnb  genre_soul  \n",
       "1086             0          1          0           0  \n",
       "1087             0          1          0           0  \n",
       "1088             0          1          0           0  \n",
       "1089             0          1          0           0  \n",
       "1090             0          1          0           0  "
      ]
     },
     "execution_count": 17,
     "metadata": {},
     "output_type": "execute_result"
    }
   ],
   "source": [
    "dfX.tail()"
   ]
  },
  {
   "cell_type": "code",
   "execution_count": 18,
   "metadata": {},
   "outputs": [
    {
     "data": {
      "text/plain": [
       "1086    0\n",
       "1087    0\n",
       "1088    0\n",
       "1089    0\n",
       "1090    0\n",
       "Name: label, dtype: int64"
      ]
     },
     "execution_count": 18,
     "metadata": {},
     "output_type": "execute_result"
    }
   ],
   "source": [
    "dfy.tail()"
   ]
  },
  {
   "cell_type": "markdown",
   "metadata": {},
   "source": [
    "# KNN"
   ]
  },
  {
   "cell_type": "code",
   "execution_count": 21,
   "metadata": {},
   "outputs": [],
   "source": [
    "from sklearn.neighbors import KNeighborsClassifier"
   ]
  },
  {
   "cell_type": "code",
   "execution_count": 46,
   "metadata": {},
   "outputs": [],
   "source": [
    "model = KNeighborsClassifier(n_neighbors=10).fit(X_train, y_train)"
   ]
  },
  {
   "cell_type": "code",
   "execution_count": 47,
   "metadata": {},
   "outputs": [],
   "source": [
    "from sklearn.metrics import confusion_matrix"
   ]
  },
  {
   "cell_type": "code",
   "execution_count": 48,
   "metadata": {},
   "outputs": [
    {
     "data": {
      "text/plain": [
       "array([[209,  13],\n",
       "       [ 32,  19]])"
      ]
     },
     "execution_count": 48,
     "metadata": {},
     "output_type": "execute_result"
    }
   ],
   "source": [
    "confusion_matrix(y_test, model.predict(X_test))"
   ]
  },
  {
   "cell_type": "code",
   "execution_count": 49,
   "metadata": {},
   "outputs": [],
   "source": [
    "from sklearn.metrics import classification_report"
   ]
  },
  {
   "cell_type": "code",
   "execution_count": 52,
   "metadata": {},
   "outputs": [
    {
     "name": "stdout",
     "output_type": "stream",
     "text": [
      "             precision    recall  f1-score   support\n",
      "\n",
      "          0       0.87      0.94      0.90       222\n",
      "          1       0.59      0.37      0.46        51\n",
      "\n",
      "avg / total       0.82      0.84      0.82       273\n",
      "\n"
     ]
    }
   ],
   "source": [
    "print(classification_report(y_test, model.predict(X_test)))"
   ]
  },
  {
   "cell_type": "code",
   "execution_count": 51,
   "metadata": {},
   "outputs": [
    {
     "data": {
      "image/png": "[encoded data removed]",
      "text/plain": [
       "<matplotlib.figure.Figure at 0x1159a1b38>"
      ]
     },
     "metadata": {},
     "output_type": "display_data"
    }
   ],
   "source": [
    "from sklearn.metrics import roc_curve\n",
    "import matplotlib.pyplot as plt\n",
    "\n",
    "fpr, tpr, thresholds = roc_curve(y_test, model.predict_proba(X_test)[:, 1])\n",
    "\n",
    "plt.plot(fpr, tpr, label=\"Decision Tree\")\n",
    "plt.legend()\n",
    "plt.plot([0, 1], [0, 1], 'k--', label=\"random guess\")\n",
    "plt.xlabel('False Positive Rate (Fall-Out)')\n",
    "plt.ylabel('True Positive Rate (Recall)')\n",
    "plt.title('Receiver operating characteristic example')\n",
    "plt.show()"
   ]
  },
  {
   "cell_type": "code",
   "execution_count": 44,
   "metadata": {},
   "outputs": [
    {
     "data": {
      "text/plain": [
       "0.7476152623211447"
      ]
     },
     "execution_count": 44,
     "metadata": {},
     "output_type": "execute_result"
    }
   ],
   "source": [
    "from sklearn.metrics import auc\n",
    "auc(fpr, tpr)"
   ]
  }
 ],
 "metadata": {
  "kernelspec": {
   "display_name": "Python 3",
   "language": "python",
   "name": "python3"
  },
  "language_info": {
   "codemirror_mode": {
    "name": "ipython",
    "version": 3
   },
   "file_extension": ".py",
   "mimetype": "text/x-python",
   "name": "python",
   "nbconvert_exporter": "python",
   "pygments_lexer": "ipython3",
   "version": "3.6.2"
  }
 },
 "nbformat": 4,
 "nbformat_minor": 2
}
