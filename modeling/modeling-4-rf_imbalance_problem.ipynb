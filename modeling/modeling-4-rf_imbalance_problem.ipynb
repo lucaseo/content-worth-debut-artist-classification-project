{
 "cells": [
  {
   "cell_type": "code",
   "execution_count": 1,
   "metadata": {},
   "outputs": [],
   "source": [
    "import pandas as pd\n",
    "import numpy as np"
   ]
  },
  {
   "cell_type": "markdown",
   "metadata": {},
   "source": [
    "## Load Data"
   ]
  },
  {
   "cell_type": "code",
   "execution_count": 2,
   "metadata": {},
   "outputs": [],
   "source": [
    "df = pd.read_csv(\"../data/df_baseline.csv\")"
   ]
  },
  {
   "cell_type": "code",
   "execution_count": 3,
   "metadata": {},
   "outputs": [
    {
     "name": "stdout",
     "output_type": "stream",
     "text": [
      "(1083, 18)\n"
     ]
    }
   ],
   "source": [
    "print(df.shape)"
   ]
  },
  {
   "cell_type": "code",
   "execution_count": 4,
   "metadata": {
    "scrolled": false
   },
   "outputs": [
    {
     "name": "stdout",
     "output_type": "stream",
     "text": [
      "<class 'pandas.core.frame.DataFrame'>\n",
      "RangeIndex: 1083 entries, 0 to 1082\n",
      "Data columns (total 18 columns):\n",
      "label             1083 non-null int64\n",
      "artist            1083 non-null object\n",
      "album             1083 non-null object\n",
      "genre             1083 non-null object\n",
      "single_count      1083 non-null int64\n",
      "freq_billboard    1083 non-null int64\n",
      "freq_genius       1083 non-null int64\n",
      "freq_theSource    1083 non-null int64\n",
      "freq_xxl          1083 non-null int64\n",
      "rating_AOTY       61 non-null float64\n",
      "rating_meta       324 non-null float64\n",
      "rating_pitch      220 non-null float64\n",
      "twitter           1083 non-null int64\n",
      "instagram         1083 non-null int64\n",
      "facebook          1083 non-null int64\n",
      "spotify           1083 non-null int64\n",
      "soundcloud        1083 non-null int64\n",
      "youtube           1083 non-null int64\n",
      "dtypes: float64(3), int64(12), object(3)\n",
      "memory usage: 152.4+ KB\n"
     ]
    }
   ],
   "source": [
    "df.info()"
   ]
  },
  {
   "cell_type": "code",
   "execution_count": 5,
   "metadata": {},
   "outputs": [
    {
     "data": {
      "text/html": [
       "<div>\n",
       "<style scoped>\n",
       "    .dataframe tbody tr th:only-of-type {\n",
       "        vertical-align: middle;\n",
       "    }\n",
       "\n",
       "    .dataframe tbody tr th {\n",
       "        vertical-align: top;\n",
       "    }\n",
       "\n",
       "    .dataframe thead th {\n",
       "        text-align: right;\n",
       "    }\n",
       "</style>\n",
       "<table border=\"1\" class=\"dataframe\">\n",
       "  <thead>\n",
       "    <tr style=\"text-align: right;\">\n",
       "      <th></th>\n",
       "      <th>label</th>\n",
       "      <th>single_count</th>\n",
       "      <th>freq_billboard</th>\n",
       "      <th>freq_genius</th>\n",
       "      <th>freq_theSource</th>\n",
       "      <th>freq_xxl</th>\n",
       "      <th>rating_AOTY</th>\n",
       "      <th>rating_meta</th>\n",
       "      <th>rating_pitch</th>\n",
       "      <th>twitter</th>\n",
       "      <th>instagram</th>\n",
       "      <th>facebook</th>\n",
       "      <th>spotify</th>\n",
       "      <th>soundcloud</th>\n",
       "      <th>youtube</th>\n",
       "    </tr>\n",
       "  </thead>\n",
       "  <tbody>\n",
       "    <tr>\n",
       "      <th>count</th>\n",
       "      <td>1083.000000</td>\n",
       "      <td>1083.000000</td>\n",
       "      <td>1083.000000</td>\n",
       "      <td>1083.000000</td>\n",
       "      <td>1083.000000</td>\n",
       "      <td>1083.000000</td>\n",
       "      <td>61.000000</td>\n",
       "      <td>324.000000</td>\n",
       "      <td>220.000000</td>\n",
       "      <td>1.083000e+03</td>\n",
       "      <td>1.083000e+03</td>\n",
       "      <td>1.083000e+03</td>\n",
       "      <td>1.083000e+03</td>\n",
       "      <td>1.083000e+03</td>\n",
       "      <td>1.083000e+03</td>\n",
       "    </tr>\n",
       "    <tr>\n",
       "      <th>mean</th>\n",
       "      <td>0.209603</td>\n",
       "      <td>2.595568</td>\n",
       "      <td>0.642659</td>\n",
       "      <td>1.395199</td>\n",
       "      <td>13.378578</td>\n",
       "      <td>232.204063</td>\n",
       "      <td>66.098361</td>\n",
       "      <td>71.015432</td>\n",
       "      <td>6.810000</td>\n",
       "      <td>8.162517e+05</td>\n",
       "      <td>1.148277e+06</td>\n",
       "      <td>9.392479e+05</td>\n",
       "      <td>4.052015e+05</td>\n",
       "      <td>2.045023e+05</td>\n",
       "      <td>5.766690e+05</td>\n",
       "    </tr>\n",
       "    <tr>\n",
       "      <th>std</th>\n",
       "      <td>0.407213</td>\n",
       "      <td>2.806590</td>\n",
       "      <td>3.372542</td>\n",
       "      <td>24.121972</td>\n",
       "      <td>40.525759</td>\n",
       "      <td>924.497039</td>\n",
       "      <td>16.944719</td>\n",
       "      <td>9.724840</td>\n",
       "      <td>1.360932</td>\n",
       "      <td>3.595182e+06</td>\n",
       "      <td>6.297742e+06</td>\n",
       "      <td>3.392730e+06</td>\n",
       "      <td>1.143469e+06</td>\n",
       "      <td>8.875424e+05</td>\n",
       "      <td>1.908113e+06</td>\n",
       "    </tr>\n",
       "    <tr>\n",
       "      <th>min</th>\n",
       "      <td>0.000000</td>\n",
       "      <td>0.000000</td>\n",
       "      <td>0.000000</td>\n",
       "      <td>0.000000</td>\n",
       "      <td>0.000000</td>\n",
       "      <td>0.000000</td>\n",
       "      <td>0.000000</td>\n",
       "      <td>34.000000</td>\n",
       "      <td>1.000000</td>\n",
       "      <td>0.000000e+00</td>\n",
       "      <td>0.000000e+00</td>\n",
       "      <td>0.000000e+00</td>\n",
       "      <td>0.000000e+00</td>\n",
       "      <td>0.000000e+00</td>\n",
       "      <td>0.000000e+00</td>\n",
       "    </tr>\n",
       "    <tr>\n",
       "      <th>25%</th>\n",
       "      <td>0.000000</td>\n",
       "      <td>0.000000</td>\n",
       "      <td>0.000000</td>\n",
       "      <td>0.000000</td>\n",
       "      <td>0.000000</td>\n",
       "      <td>0.000000</td>\n",
       "      <td>64.000000</td>\n",
       "      <td>65.000000</td>\n",
       "      <td>6.100000</td>\n",
       "      <td>3.949000e+03</td>\n",
       "      <td>0.000000e+00</td>\n",
       "      <td>1.013800e+04</td>\n",
       "      <td>7.023000e+03</td>\n",
       "      <td>0.000000e+00</td>\n",
       "      <td>0.000000e+00</td>\n",
       "    </tr>\n",
       "    <tr>\n",
       "      <th>50%</th>\n",
       "      <td>0.000000</td>\n",
       "      <td>2.000000</td>\n",
       "      <td>0.000000</td>\n",
       "      <td>0.000000</td>\n",
       "      <td>0.000000</td>\n",
       "      <td>6.000000</td>\n",
       "      <td>69.000000</td>\n",
       "      <td>72.500000</td>\n",
       "      <td>7.050000</td>\n",
       "      <td>4.024000e+04</td>\n",
       "      <td>3.099500e+04</td>\n",
       "      <td>7.855900e+04</td>\n",
       "      <td>4.727500e+04</td>\n",
       "      <td>1.736000e+03</td>\n",
       "      <td>1.924800e+04</td>\n",
       "    </tr>\n",
       "    <tr>\n",
       "      <th>75%</th>\n",
       "      <td>0.000000</td>\n",
       "      <td>4.000000</td>\n",
       "      <td>0.000000</td>\n",
       "      <td>0.000000</td>\n",
       "      <td>4.000000</td>\n",
       "      <td>65.500000</td>\n",
       "      <td>76.000000</td>\n",
       "      <td>78.000000</td>\n",
       "      <td>7.800000</td>\n",
       "      <td>2.889390e+05</td>\n",
       "      <td>3.010275e+05</td>\n",
       "      <td>4.527645e+05</td>\n",
       "      <td>2.269760e+05</td>\n",
       "      <td>3.220250e+04</td>\n",
       "      <td>2.148705e+05</td>\n",
       "    </tr>\n",
       "    <tr>\n",
       "      <th>max</th>\n",
       "      <td>1.000000</td>\n",
       "      <td>37.000000</td>\n",
       "      <td>73.000000</td>\n",
       "      <td>731.000000</td>\n",
       "      <td>200.000000</td>\n",
       "      <td>12802.000000</td>\n",
       "      <td>85.000000</td>\n",
       "      <td>92.000000</td>\n",
       "      <td>9.500000</td>\n",
       "      <td>5.696178e+07</td>\n",
       "      <td>1.366012e+08</td>\n",
       "      <td>6.167920e+07</td>\n",
       "      <td>1.382065e+07</td>\n",
       "      <td>9.710262e+06</td>\n",
       "      <td>2.367711e+07</td>\n",
       "    </tr>\n",
       "  </tbody>\n",
       "</table>\n",
       "</div>"
      ],
      "text/plain": [
       "             label  single_count  freq_billboard  freq_genius  freq_theSource  \\\n",
       "count  1083.000000   1083.000000     1083.000000  1083.000000     1083.000000   \n",
       "mean      0.209603      2.595568        0.642659     1.395199       13.378578   \n",
       "std       0.407213      2.806590        3.372542    24.121972       40.525759   \n",
       "min       0.000000      0.000000        0.000000     0.000000        0.000000   \n",
       "25%       0.000000      0.000000        0.000000     0.000000        0.000000   \n",
       "50%       0.000000      2.000000        0.000000     0.000000        0.000000   \n",
       "75%       0.000000      4.000000        0.000000     0.000000        4.000000   \n",
       "max       1.000000     37.000000       73.000000   731.000000      200.000000   \n",
       "\n",
       "           freq_xxl  rating_AOTY  rating_meta  rating_pitch       twitter  \\\n",
       "count   1083.000000    61.000000   324.000000    220.000000  1.083000e+03   \n",
       "mean     232.204063    66.098361    71.015432      6.810000  8.162517e+05   \n",
       "std      924.497039    16.944719     9.724840      1.360932  3.595182e+06   \n",
       "min        0.000000     0.000000    34.000000      1.000000  0.000000e+00   \n",
       "25%        0.000000    64.000000    65.000000      6.100000  3.949000e+03   \n",
       "50%        6.000000    69.000000    72.500000      7.050000  4.024000e+04   \n",
       "75%       65.500000    76.000000    78.000000      7.800000  2.889390e+05   \n",
       "max    12802.000000    85.000000    92.000000      9.500000  5.696178e+07   \n",
       "\n",
       "          instagram      facebook       spotify    soundcloud       youtube  \n",
       "count  1.083000e+03  1.083000e+03  1.083000e+03  1.083000e+03  1.083000e+03  \n",
       "mean   1.148277e+06  9.392479e+05  4.052015e+05  2.045023e+05  5.766690e+05  \n",
       "std    6.297742e+06  3.392730e+06  1.143469e+06  8.875424e+05  1.908113e+06  \n",
       "min    0.000000e+00  0.000000e+00  0.000000e+00  0.000000e+00  0.000000e+00  \n",
       "25%    0.000000e+00  1.013800e+04  7.023000e+03  0.000000e+00  0.000000e+00  \n",
       "50%    3.099500e+04  7.855900e+04  4.727500e+04  1.736000e+03  1.924800e+04  \n",
       "75%    3.010275e+05  4.527645e+05  2.269760e+05  3.220250e+04  2.148705e+05  \n",
       "max    1.366012e+08  6.167920e+07  1.382065e+07  9.710262e+06  2.367711e+07  "
      ]
     },
     "execution_count": 5,
     "metadata": {},
     "output_type": "execute_result"
    }
   ],
   "source": [
    "df.describe()"
   ]
  },
  {
   "cell_type": "code",
   "execution_count": 6,
   "metadata": {},
   "outputs": [],
   "source": [
    "yes_ = df[df['label'].isin([1])]"
   ]
  },
  {
   "cell_type": "code",
   "execution_count": 7,
   "metadata": {
    "scrolled": true
   },
   "outputs": [
    {
     "data": {
      "text/html": [
       "<div>\n",
       "<style scoped>\n",
       "    .dataframe tbody tr th:only-of-type {\n",
       "        vertical-align: middle;\n",
       "    }\n",
       "\n",
       "    .dataframe tbody tr th {\n",
       "        vertical-align: top;\n",
       "    }\n",
       "\n",
       "    .dataframe thead th {\n",
       "        text-align: right;\n",
       "    }\n",
       "</style>\n",
       "<table border=\"1\" class=\"dataframe\">\n",
       "  <thead>\n",
       "    <tr style=\"text-align: right;\">\n",
       "      <th></th>\n",
       "      <th>label</th>\n",
       "      <th>single_count</th>\n",
       "      <th>freq_billboard</th>\n",
       "      <th>freq_genius</th>\n",
       "      <th>freq_theSource</th>\n",
       "      <th>freq_xxl</th>\n",
       "      <th>rating_AOTY</th>\n",
       "      <th>rating_meta</th>\n",
       "      <th>rating_pitch</th>\n",
       "      <th>twitter</th>\n",
       "      <th>instagram</th>\n",
       "      <th>facebook</th>\n",
       "      <th>spotify</th>\n",
       "      <th>soundcloud</th>\n",
       "      <th>youtube</th>\n",
       "    </tr>\n",
       "  </thead>\n",
       "  <tbody>\n",
       "    <tr>\n",
       "      <th>count</th>\n",
       "      <td>227.0</td>\n",
       "      <td>227.000000</td>\n",
       "      <td>227.000000</td>\n",
       "      <td>227.000000</td>\n",
       "      <td>227.000000</td>\n",
       "      <td>227.000000</td>\n",
       "      <td>33.000000</td>\n",
       "      <td>120.000000</td>\n",
       "      <td>103.000000</td>\n",
       "      <td>2.270000e+02</td>\n",
       "      <td>2.270000e+02</td>\n",
       "      <td>2.270000e+02</td>\n",
       "      <td>2.270000e+02</td>\n",
       "      <td>2.270000e+02</td>\n",
       "      <td>2.270000e+02</td>\n",
       "    </tr>\n",
       "    <tr>\n",
       "      <th>mean</th>\n",
       "      <td>1.0</td>\n",
       "      <td>2.907489</td>\n",
       "      <td>0.964758</td>\n",
       "      <td>0.643172</td>\n",
       "      <td>17.982379</td>\n",
       "      <td>258.325991</td>\n",
       "      <td>68.363636</td>\n",
       "      <td>72.025000</td>\n",
       "      <td>6.837864</td>\n",
       "      <td>2.430011e+06</td>\n",
       "      <td>3.878439e+06</td>\n",
       "      <td>2.509261e+06</td>\n",
       "      <td>1.356707e+06</td>\n",
       "      <td>6.488239e+05</td>\n",
       "      <td>1.843418e+06</td>\n",
       "    </tr>\n",
       "    <tr>\n",
       "      <th>std</th>\n",
       "      <td>0.0</td>\n",
       "      <td>1.810805</td>\n",
       "      <td>2.470819</td>\n",
       "      <td>1.762562</td>\n",
       "      <td>36.018796</td>\n",
       "      <td>664.825021</td>\n",
       "      <td>14.546946</td>\n",
       "      <td>10.104881</td>\n",
       "      <td>1.473632</td>\n",
       "      <td>6.754882e+06</td>\n",
       "      <td>1.263746e+07</td>\n",
       "      <td>6.175053e+06</td>\n",
       "      <td>2.107270e+06</td>\n",
       "      <td>1.562514e+06</td>\n",
       "      <td>3.596950e+06</td>\n",
       "    </tr>\n",
       "    <tr>\n",
       "      <th>min</th>\n",
       "      <td>1.0</td>\n",
       "      <td>0.000000</td>\n",
       "      <td>0.000000</td>\n",
       "      <td>0.000000</td>\n",
       "      <td>0.000000</td>\n",
       "      <td>0.000000</td>\n",
       "      <td>0.000000</td>\n",
       "      <td>37.000000</td>\n",
       "      <td>1.000000</td>\n",
       "      <td>0.000000e+00</td>\n",
       "      <td>0.000000e+00</td>\n",
       "      <td>0.000000e+00</td>\n",
       "      <td>0.000000e+00</td>\n",
       "      <td>0.000000e+00</td>\n",
       "      <td>0.000000e+00</td>\n",
       "    </tr>\n",
       "    <tr>\n",
       "      <th>25%</th>\n",
       "      <td>1.0</td>\n",
       "      <td>2.000000</td>\n",
       "      <td>0.000000</td>\n",
       "      <td>0.000000</td>\n",
       "      <td>1.000000</td>\n",
       "      <td>10.500000</td>\n",
       "      <td>65.000000</td>\n",
       "      <td>65.750000</td>\n",
       "      <td>6.100000</td>\n",
       "      <td>9.397350e+04</td>\n",
       "      <td>1.141615e+05</td>\n",
       "      <td>1.027655e+05</td>\n",
       "      <td>1.368160e+05</td>\n",
       "      <td>2.575250e+04</td>\n",
       "      <td>3.406400e+04</td>\n",
       "    </tr>\n",
       "    <tr>\n",
       "      <th>50%</th>\n",
       "      <td>1.0</td>\n",
       "      <td>3.000000</td>\n",
       "      <td>0.000000</td>\n",
       "      <td>0.000000</td>\n",
       "      <td>5.000000</td>\n",
       "      <td>52.000000</td>\n",
       "      <td>69.000000</td>\n",
       "      <td>74.500000</td>\n",
       "      <td>7.000000</td>\n",
       "      <td>3.623860e+05</td>\n",
       "      <td>5.453760e+05</td>\n",
       "      <td>4.182690e+05</td>\n",
       "      <td>4.593500e+05</td>\n",
       "      <td>1.107470e+05</td>\n",
       "      <td>3.305790e+05</td>\n",
       "    </tr>\n",
       "    <tr>\n",
       "      <th>75%</th>\n",
       "      <td>1.0</td>\n",
       "      <td>4.000000</td>\n",
       "      <td>1.000000</td>\n",
       "      <td>0.000000</td>\n",
       "      <td>17.000000</td>\n",
       "      <td>188.500000</td>\n",
       "      <td>76.000000</td>\n",
       "      <td>79.000000</td>\n",
       "      <td>7.800000</td>\n",
       "      <td>1.664763e+06</td>\n",
       "      <td>3.646688e+06</td>\n",
       "      <td>2.160193e+06</td>\n",
       "      <td>1.660770e+06</td>\n",
       "      <td>4.147850e+05</td>\n",
       "      <td>2.009862e+06</td>\n",
       "    </tr>\n",
       "    <tr>\n",
       "      <th>max</th>\n",
       "      <td>1.0</td>\n",
       "      <td>8.000000</td>\n",
       "      <td>20.000000</td>\n",
       "      <td>15.000000</td>\n",
       "      <td>200.000000</td>\n",
       "      <td>5431.000000</td>\n",
       "      <td>85.000000</td>\n",
       "      <td>92.000000</td>\n",
       "      <td>9.500000</td>\n",
       "      <td>5.696178e+07</td>\n",
       "      <td>1.366012e+08</td>\n",
       "      <td>6.167920e+07</td>\n",
       "      <td>1.382065e+07</td>\n",
       "      <td>9.710262e+06</td>\n",
       "      <td>2.367711e+07</td>\n",
       "    </tr>\n",
       "  </tbody>\n",
       "</table>\n",
       "</div>"
      ],
      "text/plain": [
       "       label  single_count  freq_billboard  freq_genius  freq_theSource  \\\n",
       "count  227.0    227.000000      227.000000   227.000000      227.000000   \n",
       "mean     1.0      2.907489        0.964758     0.643172       17.982379   \n",
       "std      0.0      1.810805        2.470819     1.762562       36.018796   \n",
       "min      1.0      0.000000        0.000000     0.000000        0.000000   \n",
       "25%      1.0      2.000000        0.000000     0.000000        1.000000   \n",
       "50%      1.0      3.000000        0.000000     0.000000        5.000000   \n",
       "75%      1.0      4.000000        1.000000     0.000000       17.000000   \n",
       "max      1.0      8.000000       20.000000    15.000000      200.000000   \n",
       "\n",
       "          freq_xxl  rating_AOTY  rating_meta  rating_pitch       twitter  \\\n",
       "count   227.000000    33.000000   120.000000    103.000000  2.270000e+02   \n",
       "mean    258.325991    68.363636    72.025000      6.837864  2.430011e+06   \n",
       "std     664.825021    14.546946    10.104881      1.473632  6.754882e+06   \n",
       "min       0.000000     0.000000    37.000000      1.000000  0.000000e+00   \n",
       "25%      10.500000    65.000000    65.750000      6.100000  9.397350e+04   \n",
       "50%      52.000000    69.000000    74.500000      7.000000  3.623860e+05   \n",
       "75%     188.500000    76.000000    79.000000      7.800000  1.664763e+06   \n",
       "max    5431.000000    85.000000    92.000000      9.500000  5.696178e+07   \n",
       "\n",
       "          instagram      facebook       spotify    soundcloud       youtube  \n",
       "count  2.270000e+02  2.270000e+02  2.270000e+02  2.270000e+02  2.270000e+02  \n",
       "mean   3.878439e+06  2.509261e+06  1.356707e+06  6.488239e+05  1.843418e+06  \n",
       "std    1.263746e+07  6.175053e+06  2.107270e+06  1.562514e+06  3.596950e+06  \n",
       "min    0.000000e+00  0.000000e+00  0.000000e+00  0.000000e+00  0.000000e+00  \n",
       "25%    1.141615e+05  1.027655e+05  1.368160e+05  2.575250e+04  3.406400e+04  \n",
       "50%    5.453760e+05  4.182690e+05  4.593500e+05  1.107470e+05  3.305790e+05  \n",
       "75%    3.646688e+06  2.160193e+06  1.660770e+06  4.147850e+05  2.009862e+06  \n",
       "max    1.366012e+08  6.167920e+07  1.382065e+07  9.710262e+06  2.367711e+07  "
      ]
     },
     "execution_count": 7,
     "metadata": {},
     "output_type": "execute_result"
    }
   ],
   "source": [
    "yes_.describe()"
   ]
  },
  {
   "cell_type": "markdown",
   "metadata": {},
   "source": [
    "# Feature Engineering"
   ]
  },
  {
   "cell_type": "markdown",
   "metadata": {},
   "source": [
    "### Rating"
   ]
  },
  {
   "cell_type": "markdown",
   "metadata": {},
   "source": [
    "#### 스케일링"
   ]
  },
  {
   "cell_type": "code",
   "execution_count": 8,
   "metadata": {},
   "outputs": [],
   "source": [
    "df['rating_pitch'] = df['rating_pitch'] * 10"
   ]
  },
  {
   "cell_type": "code",
   "execution_count": 9,
   "metadata": {},
   "outputs": [
    {
     "data": {
      "text/plain": [
       "0     NaN\n",
       "1     NaN\n",
       "2     NaN\n",
       "3    78.0\n",
       "4     NaN\n",
       "Name: rating_pitch, dtype: float64"
      ]
     },
     "execution_count": 9,
     "metadata": {},
     "output_type": "execute_result"
    }
   ],
   "source": [
    "df['rating_pitch'].head()"
   ]
  },
  {
   "cell_type": "code",
   "execution_count": 10,
   "metadata": {},
   "outputs": [],
   "source": [
    "def avg_rating():\n",
    "    for i in range(len(df)):\n",
    "        if np.isnan(df.loc[i, 'rating_meta']) == True:\n",
    "            if np.isnan(df.loc[i, 'rating_pitch']) == True:\n",
    "                if np.isnan(df.loc[i, 'rating_AOTY']) == True:\n",
    "                    df.loc[i, 'rating'] = 0\n",
    "                else:\n",
    "                    df.loc[i, 'rating'] = df.loc[i, 'rating_AOTY']\n",
    "            else:\n",
    "                df.loc[i, 'rating'] = df.loc[i, 'rating_pitch']\n",
    "        else:\n",
    "            df.loc[i, 'rating'] = df.loc[i, 'rating_meta']\n",
    "            \n",
    "    return df.head()"
   ]
  },
  {
   "cell_type": "code",
   "execution_count": 11,
   "metadata": {
    "scrolled": true
   },
   "outputs": [
    {
     "data": {
      "text/html": [
       "<div>\n",
       "<style scoped>\n",
       "    .dataframe tbody tr th:only-of-type {\n",
       "        vertical-align: middle;\n",
       "    }\n",
       "\n",
       "    .dataframe tbody tr th {\n",
       "        vertical-align: top;\n",
       "    }\n",
       "\n",
       "    .dataframe thead th {\n",
       "        text-align: right;\n",
       "    }\n",
       "</style>\n",
       "<table border=\"1\" class=\"dataframe\">\n",
       "  <thead>\n",
       "    <tr style=\"text-align: right;\">\n",
       "      <th></th>\n",
       "      <th>label</th>\n",
       "      <th>artist</th>\n",
       "      <th>album</th>\n",
       "      <th>genre</th>\n",
       "      <th>single_count</th>\n",
       "      <th>freq_billboard</th>\n",
       "      <th>freq_genius</th>\n",
       "      <th>freq_theSource</th>\n",
       "      <th>freq_xxl</th>\n",
       "      <th>rating_AOTY</th>\n",
       "      <th>rating_meta</th>\n",
       "      <th>rating_pitch</th>\n",
       "      <th>twitter</th>\n",
       "      <th>instagram</th>\n",
       "      <th>facebook</th>\n",
       "      <th>spotify</th>\n",
       "      <th>soundcloud</th>\n",
       "      <th>youtube</th>\n",
       "      <th>rating</th>\n",
       "    </tr>\n",
       "  </thead>\n",
       "  <tbody>\n",
       "    <tr>\n",
       "      <th>0</th>\n",
       "      <td>0</td>\n",
       "      <td>Flash Bang Grenada</td>\n",
       "      <td>10 Haters</td>\n",
       "      <td>hiphop</td>\n",
       "      <td>0</td>\n",
       "      <td>0</td>\n",
       "      <td>0</td>\n",
       "      <td>0</td>\n",
       "      <td>0</td>\n",
       "      <td>NaN</td>\n",
       "      <td>NaN</td>\n",
       "      <td>NaN</td>\n",
       "      <td>0</td>\n",
       "      <td>0</td>\n",
       "      <td>0</td>\n",
       "      <td>346</td>\n",
       "      <td>0</td>\n",
       "      <td>0</td>\n",
       "      <td>0.0</td>\n",
       "    </tr>\n",
       "    <tr>\n",
       "      <th>1</th>\n",
       "      <td>0</td>\n",
       "      <td>Aggro Santos</td>\n",
       "      <td>AggroSantos.com</td>\n",
       "      <td>hiphop</td>\n",
       "      <td>3</td>\n",
       "      <td>0</td>\n",
       "      <td>0</td>\n",
       "      <td>0</td>\n",
       "      <td>0</td>\n",
       "      <td>NaN</td>\n",
       "      <td>NaN</td>\n",
       "      <td>NaN</td>\n",
       "      <td>63771</td>\n",
       "      <td>27415</td>\n",
       "      <td>596562</td>\n",
       "      <td>4675</td>\n",
       "      <td>585</td>\n",
       "      <td>7975</td>\n",
       "      <td>0.0</td>\n",
       "    </tr>\n",
       "    <tr>\n",
       "      <th>2</th>\n",
       "      <td>0</td>\n",
       "      <td>AKA</td>\n",
       "      <td>Altar Ego</td>\n",
       "      <td>hiphop</td>\n",
       "      <td>4</td>\n",
       "      <td>0</td>\n",
       "      <td>0</td>\n",
       "      <td>1</td>\n",
       "      <td>2</td>\n",
       "      <td>NaN</td>\n",
       "      <td>NaN</td>\n",
       "      <td>NaN</td>\n",
       "      <td>38958</td>\n",
       "      <td>0</td>\n",
       "      <td>0</td>\n",
       "      <td>22298</td>\n",
       "      <td>0</td>\n",
       "      <td>3643764</td>\n",
       "      <td>0.0</td>\n",
       "    </tr>\n",
       "    <tr>\n",
       "      <th>3</th>\n",
       "      <td>0</td>\n",
       "      <td>Shlohmo</td>\n",
       "      <td>Bad Vibes</td>\n",
       "      <td>hiphop</td>\n",
       "      <td>0</td>\n",
       "      <td>0</td>\n",
       "      <td>0</td>\n",
       "      <td>0</td>\n",
       "      <td>67</td>\n",
       "      <td>NaN</td>\n",
       "      <td>NaN</td>\n",
       "      <td>78.0</td>\n",
       "      <td>91790</td>\n",
       "      <td>59340</td>\n",
       "      <td>209063</td>\n",
       "      <td>141268</td>\n",
       "      <td>283539</td>\n",
       "      <td>0</td>\n",
       "      <td>78.0</td>\n",
       "    </tr>\n",
       "    <tr>\n",
       "      <th>4</th>\n",
       "      <td>0</td>\n",
       "      <td>Glasses Malone</td>\n",
       "      <td>Beach Cruiser</td>\n",
       "      <td>hiphop</td>\n",
       "      <td>4</td>\n",
       "      <td>0</td>\n",
       "      <td>0</td>\n",
       "      <td>0</td>\n",
       "      <td>4</td>\n",
       "      <td>NaN</td>\n",
       "      <td>NaN</td>\n",
       "      <td>NaN</td>\n",
       "      <td>68417</td>\n",
       "      <td>48745</td>\n",
       "      <td>93741</td>\n",
       "      <td>16402</td>\n",
       "      <td>0</td>\n",
       "      <td>0</td>\n",
       "      <td>0.0</td>\n",
       "    </tr>\n",
       "  </tbody>\n",
       "</table>\n",
       "</div>"
      ],
      "text/plain": [
       "   label              artist            album   genre  single_count  \\\n",
       "0      0  Flash Bang Grenada        10 Haters  hiphop             0   \n",
       "1      0        Aggro Santos  AggroSantos.com  hiphop             3   \n",
       "2      0                 AKA        Altar Ego  hiphop             4   \n",
       "3      0             Shlohmo        Bad Vibes  hiphop             0   \n",
       "4      0      Glasses Malone    Beach Cruiser  hiphop             4   \n",
       "\n",
       "   freq_billboard  freq_genius  freq_theSource  freq_xxl  rating_AOTY  \\\n",
       "0               0            0               0         0          NaN   \n",
       "1               0            0               0         0          NaN   \n",
       "2               0            0               1         2          NaN   \n",
       "3               0            0               0        67          NaN   \n",
       "4               0            0               0         4          NaN   \n",
       "\n",
       "   rating_meta  rating_pitch  twitter  instagram  facebook  spotify  \\\n",
       "0          NaN           NaN        0          0         0      346   \n",
       "1          NaN           NaN    63771      27415    596562     4675   \n",
       "2          NaN           NaN    38958          0         0    22298   \n",
       "3          NaN          78.0    91790      59340    209063   141268   \n",
       "4          NaN           NaN    68417      48745     93741    16402   \n",
       "\n",
       "   soundcloud  youtube  rating  \n",
       "0           0        0     0.0  \n",
       "1         585     7975     0.0  \n",
       "2           0  3643764     0.0  \n",
       "3      283539        0    78.0  \n",
       "4           0        0     0.0  "
      ]
     },
     "execution_count": 11,
     "metadata": {},
     "output_type": "execute_result"
    }
   ],
   "source": [
    "avg_rating()"
   ]
  },
  {
   "cell_type": "markdown",
   "metadata": {},
   "source": [
    "## Data Preparation for Modeling"
   ]
  },
  {
   "cell_type": "markdown",
   "metadata": {},
   "source": [
    "#### 장르 `hiphop`, `R&B`, `Soul`, `Funk`, `Pop`"
   ]
  },
  {
   "cell_type": "code",
   "execution_count": 13,
   "metadata": {},
   "outputs": [],
   "source": [
    "df = pd.get_dummies(df, columns=['genre'])"
   ]
  },
  {
   "cell_type": "code",
   "execution_count": 14,
   "metadata": {},
   "outputs": [
    {
     "data": {
      "text/plain": [
       "Index(['label', 'artist', 'album', 'single_count', 'freq_billboard',\n",
       "       'freq_genius', 'freq_theSource', 'freq_xxl', 'rating_AOTY',\n",
       "       'rating_meta', 'rating_pitch', 'twitter', 'instagram', 'facebook',\n",
       "       'spotify', 'soundcloud', 'youtube', 'rating', 'genre_Soul',\n",
       "       'genre_funk', 'genre_hiphop', 'genre_pop', 'genre_rnb', 'genre_soul'],\n",
       "      dtype='object')"
      ]
     },
     "execution_count": 14,
     "metadata": {},
     "output_type": "execute_result"
    }
   ],
   "source": [
    "df.columns"
   ]
  },
  {
   "cell_type": "code",
   "execution_count": 15,
   "metadata": {},
   "outputs": [
    {
     "data": {
      "text/html": [
       "<div>\n",
       "<style scoped>\n",
       "    .dataframe tbody tr th:only-of-type {\n",
       "        vertical-align: middle;\n",
       "    }\n",
       "\n",
       "    .dataframe tbody tr th {\n",
       "        vertical-align: top;\n",
       "    }\n",
       "\n",
       "    .dataframe thead th {\n",
       "        text-align: right;\n",
       "    }\n",
       "</style>\n",
       "<table border=\"1\" class=\"dataframe\">\n",
       "  <thead>\n",
       "    <tr style=\"text-align: right;\">\n",
       "      <th></th>\n",
       "      <th>label</th>\n",
       "      <th>artist</th>\n",
       "      <th>album</th>\n",
       "      <th>single_count</th>\n",
       "      <th>freq_billboard</th>\n",
       "      <th>freq_genius</th>\n",
       "      <th>freq_theSource</th>\n",
       "      <th>freq_xxl</th>\n",
       "      <th>rating_AOTY</th>\n",
       "      <th>rating_meta</th>\n",
       "      <th>...</th>\n",
       "      <th>spotify</th>\n",
       "      <th>soundcloud</th>\n",
       "      <th>youtube</th>\n",
       "      <th>rating</th>\n",
       "      <th>genre_Soul</th>\n",
       "      <th>genre_funk</th>\n",
       "      <th>genre_hiphop</th>\n",
       "      <th>genre_pop</th>\n",
       "      <th>genre_rnb</th>\n",
       "      <th>genre_soul</th>\n",
       "    </tr>\n",
       "  </thead>\n",
       "  <tbody>\n",
       "    <tr>\n",
       "      <th>0</th>\n",
       "      <td>0</td>\n",
       "      <td>Flash Bang Grenada</td>\n",
       "      <td>10 Haters</td>\n",
       "      <td>0</td>\n",
       "      <td>0</td>\n",
       "      <td>0</td>\n",
       "      <td>0</td>\n",
       "      <td>0</td>\n",
       "      <td>NaN</td>\n",
       "      <td>NaN</td>\n",
       "      <td>...</td>\n",
       "      <td>346</td>\n",
       "      <td>0</td>\n",
       "      <td>0</td>\n",
       "      <td>0.0</td>\n",
       "      <td>0</td>\n",
       "      <td>0</td>\n",
       "      <td>1</td>\n",
       "      <td>0</td>\n",
       "      <td>0</td>\n",
       "      <td>0</td>\n",
       "    </tr>\n",
       "    <tr>\n",
       "      <th>1</th>\n",
       "      <td>0</td>\n",
       "      <td>Aggro Santos</td>\n",
       "      <td>AggroSantos.com</td>\n",
       "      <td>3</td>\n",
       "      <td>0</td>\n",
       "      <td>0</td>\n",
       "      <td>0</td>\n",
       "      <td>0</td>\n",
       "      <td>NaN</td>\n",
       "      <td>NaN</td>\n",
       "      <td>...</td>\n",
       "      <td>4675</td>\n",
       "      <td>585</td>\n",
       "      <td>7975</td>\n",
       "      <td>0.0</td>\n",
       "      <td>0</td>\n",
       "      <td>0</td>\n",
       "      <td>1</td>\n",
       "      <td>0</td>\n",
       "      <td>0</td>\n",
       "      <td>0</td>\n",
       "    </tr>\n",
       "    <tr>\n",
       "      <th>2</th>\n",
       "      <td>0</td>\n",
       "      <td>AKA</td>\n",
       "      <td>Altar Ego</td>\n",
       "      <td>4</td>\n",
       "      <td>0</td>\n",
       "      <td>0</td>\n",
       "      <td>1</td>\n",
       "      <td>2</td>\n",
       "      <td>NaN</td>\n",
       "      <td>NaN</td>\n",
       "      <td>...</td>\n",
       "      <td>22298</td>\n",
       "      <td>0</td>\n",
       "      <td>3643764</td>\n",
       "      <td>0.0</td>\n",
       "      <td>0</td>\n",
       "      <td>0</td>\n",
       "      <td>1</td>\n",
       "      <td>0</td>\n",
       "      <td>0</td>\n",
       "      <td>0</td>\n",
       "    </tr>\n",
       "    <tr>\n",
       "      <th>3</th>\n",
       "      <td>0</td>\n",
       "      <td>Shlohmo</td>\n",
       "      <td>Bad Vibes</td>\n",
       "      <td>0</td>\n",
       "      <td>0</td>\n",
       "      <td>0</td>\n",
       "      <td>0</td>\n",
       "      <td>67</td>\n",
       "      <td>NaN</td>\n",
       "      <td>NaN</td>\n",
       "      <td>...</td>\n",
       "      <td>141268</td>\n",
       "      <td>283539</td>\n",
       "      <td>0</td>\n",
       "      <td>78.0</td>\n",
       "      <td>0</td>\n",
       "      <td>0</td>\n",
       "      <td>1</td>\n",
       "      <td>0</td>\n",
       "      <td>0</td>\n",
       "      <td>0</td>\n",
       "    </tr>\n",
       "    <tr>\n",
       "      <th>4</th>\n",
       "      <td>0</td>\n",
       "      <td>Glasses Malone</td>\n",
       "      <td>Beach Cruiser</td>\n",
       "      <td>4</td>\n",
       "      <td>0</td>\n",
       "      <td>0</td>\n",
       "      <td>0</td>\n",
       "      <td>4</td>\n",
       "      <td>NaN</td>\n",
       "      <td>NaN</td>\n",
       "      <td>...</td>\n",
       "      <td>16402</td>\n",
       "      <td>0</td>\n",
       "      <td>0</td>\n",
       "      <td>0.0</td>\n",
       "      <td>0</td>\n",
       "      <td>0</td>\n",
       "      <td>1</td>\n",
       "      <td>0</td>\n",
       "      <td>0</td>\n",
       "      <td>0</td>\n",
       "    </tr>\n",
       "  </tbody>\n",
       "</table>\n",
       "<p>5 rows × 24 columns</p>\n",
       "</div>"
      ],
      "text/plain": [
       "   label              artist            album  single_count  freq_billboard  \\\n",
       "0      0  Flash Bang Grenada        10 Haters             0               0   \n",
       "1      0        Aggro Santos  AggroSantos.com             3               0   \n",
       "2      0                 AKA        Altar Ego             4               0   \n",
       "3      0             Shlohmo        Bad Vibes             0               0   \n",
       "4      0      Glasses Malone    Beach Cruiser             4               0   \n",
       "\n",
       "   freq_genius  freq_theSource  freq_xxl  rating_AOTY  rating_meta  \\\n",
       "0            0               0         0          NaN          NaN   \n",
       "1            0               0         0          NaN          NaN   \n",
       "2            0               1         2          NaN          NaN   \n",
       "3            0               0        67          NaN          NaN   \n",
       "4            0               0         4          NaN          NaN   \n",
       "\n",
       "      ...      spotify  soundcloud  youtube  rating  genre_Soul  genre_funk  \\\n",
       "0     ...          346           0        0     0.0           0           0   \n",
       "1     ...         4675         585     7975     0.0           0           0   \n",
       "2     ...        22298           0  3643764     0.0           0           0   \n",
       "3     ...       141268      283539        0    78.0           0           0   \n",
       "4     ...        16402           0        0     0.0           0           0   \n",
       "\n",
       "   genre_hiphop  genre_pop  genre_rnb  genre_soul  \n",
       "0             1          0          0           0  \n",
       "1             1          0          0           0  \n",
       "2             1          0          0           0  \n",
       "3             1          0          0           0  \n",
       "4             1          0          0           0  \n",
       "\n",
       "[5 rows x 24 columns]"
      ]
     },
     "execution_count": 15,
     "metadata": {},
     "output_type": "execute_result"
    }
   ],
   "source": [
    "df.head()"
   ]
  },
  {
   "cell_type": "markdown",
   "metadata": {},
   "source": [
    "#### Split train & test data "
   ]
  },
  {
   "cell_type": "code",
   "execution_count": 16,
   "metadata": {},
   "outputs": [],
   "source": [
    "feature_names = ['single_count', \n",
    "                 'freq_billboard', 'freq_genius', 'freq_theSource', 'freq_xxl',\n",
    "                 'twitter', 'instagram', 'facebook',\n",
    "                 'spotify', 'soundcloud', 'youtube',\n",
    "                 'genre_funk', 'genre_hiphop', 'genre_pop', 'genre_rnb', 'genre_soul',\n",
    "                 'rating'\n",
    "                ]\n",
    "dfX = df[feature_names].copy()\n",
    "dfy = df['label'].copy()"
   ]
  },
  {
   "cell_type": "code",
   "execution_count": 17,
   "metadata": {},
   "outputs": [
    {
     "data": {
      "text/html": [
       "<div>\n",
       "<style scoped>\n",
       "    .dataframe tbody tr th:only-of-type {\n",
       "        vertical-align: middle;\n",
       "    }\n",
       "\n",
       "    .dataframe tbody tr th {\n",
       "        vertical-align: top;\n",
       "    }\n",
       "\n",
       "    .dataframe thead th {\n",
       "        text-align: right;\n",
       "    }\n",
       "</style>\n",
       "<table border=\"1\" class=\"dataframe\">\n",
       "  <thead>\n",
       "    <tr style=\"text-align: right;\">\n",
       "      <th></th>\n",
       "      <th>single_count</th>\n",
       "      <th>freq_billboard</th>\n",
       "      <th>freq_genius</th>\n",
       "      <th>freq_theSource</th>\n",
       "      <th>freq_xxl</th>\n",
       "      <th>twitter</th>\n",
       "      <th>instagram</th>\n",
       "      <th>facebook</th>\n",
       "      <th>spotify</th>\n",
       "      <th>soundcloud</th>\n",
       "      <th>youtube</th>\n",
       "      <th>genre_funk</th>\n",
       "      <th>genre_hiphop</th>\n",
       "      <th>genre_pop</th>\n",
       "      <th>genre_rnb</th>\n",
       "      <th>genre_soul</th>\n",
       "      <th>rating</th>\n",
       "    </tr>\n",
       "  </thead>\n",
       "  <tbody>\n",
       "    <tr>\n",
       "      <th>1078</th>\n",
       "      <td>0</td>\n",
       "      <td>0</td>\n",
       "      <td>0</td>\n",
       "      <td>200</td>\n",
       "      <td>9</td>\n",
       "      <td>3708</td>\n",
       "      <td>7855</td>\n",
       "      <td>10703</td>\n",
       "      <td>15130</td>\n",
       "      <td>1043</td>\n",
       "      <td>14066</td>\n",
       "      <td>0</td>\n",
       "      <td>0</td>\n",
       "      <td>1</td>\n",
       "      <td>0</td>\n",
       "      <td>0</td>\n",
       "      <td>73.0</td>\n",
       "    </tr>\n",
       "    <tr>\n",
       "      <th>1079</th>\n",
       "      <td>3</td>\n",
       "      <td>2</td>\n",
       "      <td>0</td>\n",
       "      <td>0</td>\n",
       "      <td>9</td>\n",
       "      <td>600</td>\n",
       "      <td>286554</td>\n",
       "      <td>355355</td>\n",
       "      <td>329507</td>\n",
       "      <td>21954</td>\n",
       "      <td>1728617</td>\n",
       "      <td>0</td>\n",
       "      <td>0</td>\n",
       "      <td>1</td>\n",
       "      <td>0</td>\n",
       "      <td>0</td>\n",
       "      <td>76.0</td>\n",
       "    </tr>\n",
       "    <tr>\n",
       "      <th>1080</th>\n",
       "      <td>2</td>\n",
       "      <td>0</td>\n",
       "      <td>0</td>\n",
       "      <td>0</td>\n",
       "      <td>0</td>\n",
       "      <td>1913</td>\n",
       "      <td>23837</td>\n",
       "      <td>9187</td>\n",
       "      <td>16544</td>\n",
       "      <td>756</td>\n",
       "      <td>743</td>\n",
       "      <td>0</td>\n",
       "      <td>0</td>\n",
       "      <td>1</td>\n",
       "      <td>0</td>\n",
       "      <td>0</td>\n",
       "      <td>76.0</td>\n",
       "    </tr>\n",
       "    <tr>\n",
       "      <th>1081</th>\n",
       "      <td>6</td>\n",
       "      <td>2</td>\n",
       "      <td>0</td>\n",
       "      <td>0</td>\n",
       "      <td>0</td>\n",
       "      <td>11571</td>\n",
       "      <td>27192</td>\n",
       "      <td>27615</td>\n",
       "      <td>60983</td>\n",
       "      <td>6295</td>\n",
       "      <td>43228</td>\n",
       "      <td>0</td>\n",
       "      <td>0</td>\n",
       "      <td>1</td>\n",
       "      <td>0</td>\n",
       "      <td>0</td>\n",
       "      <td>73.0</td>\n",
       "    </tr>\n",
       "    <tr>\n",
       "      <th>1082</th>\n",
       "      <td>4</td>\n",
       "      <td>1</td>\n",
       "      <td>0</td>\n",
       "      <td>0</td>\n",
       "      <td>213</td>\n",
       "      <td>19974</td>\n",
       "      <td>27428</td>\n",
       "      <td>60138</td>\n",
       "      <td>37009</td>\n",
       "      <td>2341</td>\n",
       "      <td>22642</td>\n",
       "      <td>0</td>\n",
       "      <td>0</td>\n",
       "      <td>1</td>\n",
       "      <td>0</td>\n",
       "      <td>0</td>\n",
       "      <td>67.0</td>\n",
       "    </tr>\n",
       "  </tbody>\n",
       "</table>\n",
       "</div>"
      ],
      "text/plain": [
       "      single_count  freq_billboard  freq_genius  freq_theSource  freq_xxl  \\\n",
       "1078             0               0            0             200         9   \n",
       "1079             3               2            0               0         9   \n",
       "1080             2               0            0               0         0   \n",
       "1081             6               2            0               0         0   \n",
       "1082             4               1            0               0       213   \n",
       "\n",
       "      twitter  instagram  facebook  spotify  soundcloud  youtube  genre_funk  \\\n",
       "1078     3708       7855     10703    15130        1043    14066           0   \n",
       "1079      600     286554    355355   329507       21954  1728617           0   \n",
       "1080     1913      23837      9187    16544         756      743           0   \n",
       "1081    11571      27192     27615    60983        6295    43228           0   \n",
       "1082    19974      27428     60138    37009        2341    22642           0   \n",
       "\n",
       "      genre_hiphop  genre_pop  genre_rnb  genre_soul  rating  \n",
       "1078             0          1          0           0    73.0  \n",
       "1079             0          1          0           0    76.0  \n",
       "1080             0          1          0           0    76.0  \n",
       "1081             0          1          0           0    73.0  \n",
       "1082             0          1          0           0    67.0  "
      ]
     },
     "execution_count": 17,
     "metadata": {},
     "output_type": "execute_result"
    }
   ],
   "source": [
    "dfX.tail()"
   ]
  },
  {
   "cell_type": "code",
   "execution_count": 18,
   "metadata": {},
   "outputs": [
    {
     "data": {
      "text/plain": [
       "1078    0\n",
       "1079    0\n",
       "1080    0\n",
       "1081    0\n",
       "1082    0\n",
       "Name: label, dtype: int64"
      ]
     },
     "execution_count": 18,
     "metadata": {},
     "output_type": "execute_result"
    }
   ],
   "source": [
    "dfy.tail()"
   ]
  },
  {
   "cell_type": "code",
   "execution_count": 19,
   "metadata": {},
   "outputs": [],
   "source": [
    "from sklearn.model_selection import train_test_split\n",
    "X_train, X_test, y_train, y_test = train_test_split(dfX, dfy, test_size=0.25, random_state=0)"
   ]
  },
  {
   "cell_type": "markdown",
   "metadata": {},
   "source": [
    "Recall (Sensitivity) $ \\dfrac{TP}{TP+FN} $ 이 매우 중요다고 판단할 수 있다.\n",
    "\n",
    "\n",
    "**Precision의 경우**\n",
    "- False Positive :\n",
    "    - 무시해도 될 신인인데 굳이 컨텐츠를 생산했다. \n",
    "        - 뭐 어때, 에너지 소비하긴 했지만 괜찮.\n",
    "\n",
    "**Recall의 경우**\n",
    "- False Negative:\n",
    "    - 빠르게 컨텐츠를 생산해야 하는 신인인데, 걸러버렸다.\n",
    "        - 다른 매체에 선수를 뺐길 수 있다. 유저 유입이 적어짐.\n",
    "        - 다른 부가 한국에서의 공연 에이전시 계약, 머천다이즈 등 부가적인 기회들을 놓쳐버릴 수 있음.\n",
    "        \n",
    "     "
   ]
  },
  {
   "cell_type": "markdown",
   "metadata": {},
   "source": [
    "# Random Forest"
   ]
  },
  {
   "cell_type": "code",
   "execution_count": 20,
   "metadata": {},
   "outputs": [],
   "source": [
    "from sklearn.ensemble import RandomForestClassifier"
   ]
  },
  {
   "cell_type": "code",
   "execution_count": 21,
   "metadata": {},
   "outputs": [],
   "source": [
    "model2 = RandomForestClassifier(criterion='entropy', n_estimators=10, max_depth=10,\n",
    "                                min_samples_split=5, min_samples_leaf=5\n",
    "                                ).fit(X_train, y_train)"
   ]
  },
  {
   "cell_type": "code",
   "execution_count": 26,
   "metadata": {},
   "outputs": [],
   "source": [
    "from sklearn.metrics import confusion_matrix\n",
    "from sklearn.metrics import classification_report"
   ]
  },
  {
   "cell_type": "code",
   "execution_count": 27,
   "metadata": {},
   "outputs": [
    {
     "data": {
      "text/plain": [
       "array([[635,  11],\n",
       "       [ 34, 132]])"
      ]
     },
     "execution_count": 27,
     "metadata": {},
     "output_type": "execute_result"
    }
   ],
   "source": [
    "confusion_matrix(y_train, model2.predict(X_train))"
   ]
  },
  {
   "cell_type": "code",
   "execution_count": 29,
   "metadata": {},
   "outputs": [
    {
     "name": "stdout",
     "output_type": "stream",
     "text": [
      "             precision    recall  f1-score   support\n",
      "\n",
      "          0       0.95      0.98      0.97       646\n",
      "          1       0.92      0.80      0.85       166\n",
      "\n",
      "avg / total       0.94      0.94      0.94       812\n",
      "\n"
     ]
    }
   ],
   "source": [
    "print(classification_report(y_train, model2.predict(X_train)))"
   ]
  },
  {
   "cell_type": "code",
   "execution_count": 28,
   "metadata": {},
   "outputs": [
    {
     "data": {
      "text/plain": [
       "array([[199,  11],\n",
       "       [ 23,  38]])"
      ]
     },
     "execution_count": 28,
     "metadata": {},
     "output_type": "execute_result"
    }
   ],
   "source": [
    "confusion_matrix(y_test, model2.predict(X_test))"
   ]
  },
  {
   "cell_type": "code",
   "execution_count": 30,
   "metadata": {},
   "outputs": [
    {
     "name": "stdout",
     "output_type": "stream",
     "text": [
      "             precision    recall  f1-score   support\n",
      "\n",
      "          0       0.90      0.95      0.92       210\n",
      "          1       0.78      0.62      0.69        61\n",
      "\n",
      "avg / total       0.87      0.87      0.87       271\n",
      "\n"
     ]
    }
   ],
   "source": [
    "print(classification_report(y_test, model2.predict(X_test)))"
   ]
  },
  {
   "cell_type": "code",
   "execution_count": 33,
   "metadata": {},
   "outputs": [],
   "source": [
    "from sklearn.metrics import roc_curve\n",
    "\n",
    "fpr, tpr, thresholds = roc_curve(y_test, model2.predict_proba(X_test)[:, 1])"
   ]
  },
  {
   "cell_type": "code",
   "execution_count": 34,
   "metadata": {},
   "outputs": [],
   "source": [
    "import matplotlib.pyplot as plt\n",
    "\n",
    "def draw_roc():\n",
    "   \n",
    "    plt.figure(figsize=(10, 10))\n",
    "\n",
    "    plt.plot(fpr, tpr, label=\"roc curve\")\n",
    "    plt.legend()\n",
    "    plt.plot([0, 1], [0, 1], 'k--', label=\"random guess\")\n",
    "    plt.xlabel('False Positive Rate (Fall-Out)')\n",
    "    plt.ylabel('True Positive Rate (Recall)')\n",
    "    plt.title('Receiver operating characteristic example')\n",
    "    plt.show()"
   ]
  },
  {
   "cell_type": "code",
   "execution_count": 35,
   "metadata": {},
   "outputs": [
    {
     "data": {
      "image/png": "[encoded data removed]",
      "text/plain": [
       "<matplotlib.figure.Figure at 0x11380d668>"
      ]
     },
     "metadata": {},
     "output_type": "display_data"
    }
   ],
   "source": [
    "draw_roc()"
   ]
  },
  {
   "cell_type": "code",
   "execution_count": 36,
   "metadata": {},
   "outputs": [
    {
     "data": {
      "text/plain": [
       "0.9221311475409837"
      ]
     },
     "execution_count": 36,
     "metadata": {},
     "output_type": "execute_result"
    }
   ],
   "source": [
    "from sklearn.metrics import auc\n",
    "auc(fpr, tpr)"
   ]
  },
  {
   "cell_type": "code",
   "execution_count": 38,
   "metadata": {},
   "outputs": [
    {
     "name": "stdout",
     "output_type": "stream",
     "text": [
      "single_count 0.023323612345794505\n",
      "freq_billboard 0.016404434859931503\n",
      "freq_genius 0.002951838697303387\n",
      "freq_theSource 0.04515111828059282\n",
      "freq_xxl 0.09656650489901092\n",
      "twitter 0.10048290443819333\n",
      "instagram 0.0743732135604632\n",
      "facebook 0.03389831776666568\n",
      "spotify 0.21033642189395035\n",
      "soundcloud 0.17501223529397542\n",
      "youtube 0.044844721328465446\n",
      "genre_funk 0.0005582000511766651\n",
      "genre_hiphop 0.029505994200007674\n",
      "genre_pop 0.08758386055957305\n",
      "genre_rnb 0.003295649129775542\n",
      "genre_soul 0.0\n",
      "rating 0.05571097269512058\n"
     ]
    }
   ],
   "source": [
    "for name, importance in zip(dfX.columns, model2.feature_importances_):\n",
    "    print(name, importance)"
   ]
  },
  {
   "cell_type": "markdown",
   "metadata": {},
   "source": [
    "# Imbalanced Problem"
   ]
  },
  {
   "cell_type": "markdown",
   "metadata": {},
   "source": [
    "### Over sampling"
   ]
  },
  {
   "cell_type": "code",
   "execution_count": null,
   "metadata": {},
   "outputs": [],
   "source": [
    "from imblearn.over_sampling import *"
   ]
  },
  {
   "cell_type": "code",
   "execution_count": null,
   "metadata": {},
   "outputs": [],
   "source": [
    "ros = RandomOverSampler(random_state=0)"
   ]
  },
  {
   "cell_type": "code",
   "execution_count": null,
   "metadata": {},
   "outputs": [],
   "source": [
    "X_resampled, y_resampled = ros.fit_sample(X_train, y_train)"
   ]
  },
  {
   "cell_type": "code",
   "execution_count": null,
   "metadata": {},
   "outputs": [],
   "source": [
    "from collections import Counter\n",
    "print(sorted(Counter(y_resampled).items()))"
   ]
  },
  {
   "cell_type": "code",
   "execution_count": null,
   "metadata": {},
   "outputs": [],
   "source": [
    "model5 = RandomForestClassifier(criterion='entropy', n_estimators=10, max_depth=10,\n",
    "                                min_samples_split=2 , min_samples_leaf=1\n",
    "                                ).fit(X_resampled, y_resampled)"
   ]
  },
  {
   "cell_type": "code",
   "execution_count": null,
   "metadata": {},
   "outputs": [],
   "source": [
    "confusion_matrix(y_train, model5.predict(X_train))"
   ]
  },
  {
   "cell_type": "code",
   "execution_count": null,
   "metadata": {},
   "outputs": [],
   "source": [
    "confusion_matrix(y_test, model5.predict(X_test))"
   ]
  },
  {
   "cell_type": "code",
   "execution_count": null,
   "metadata": {},
   "outputs": [],
   "source": [
    "print(classification_report(y_train, model5.predict(X_train)))"
   ]
  },
  {
   "cell_type": "code",
   "execution_count": null,
   "metadata": {},
   "outputs": [],
   "source": [
    "print(classification_report(y_test, model5.predict(X_test)))"
   ]
  },
  {
   "cell_type": "code",
   "execution_count": null,
   "metadata": {},
   "outputs": [],
   "source": [
    "fpr, tpr, thresholds = roc_curve(y_test, model5.predict_proba(X_test)[:, 1])"
   ]
  },
  {
   "cell_type": "code",
   "execution_count": null,
   "metadata": {},
   "outputs": [],
   "source": [
    "draw_roc()"
   ]
  },
  {
   "cell_type": "code",
   "execution_count": null,
   "metadata": {},
   "outputs": [],
   "source": [
    "auc(fpr, tpr)"
   ]
  },
  {
   "cell_type": "markdown",
   "metadata": {},
   "source": [
    "### Undersampling"
   ]
  },
  {
   "cell_type": "code",
   "execution_count": 39,
   "metadata": {},
   "outputs": [],
   "source": [
    "from imblearn.under_sampling import *"
   ]
  },
  {
   "cell_type": "code",
   "execution_count": 40,
   "metadata": {},
   "outputs": [],
   "source": [
    "rus = RandomUnderSampler(random_state=0)"
   ]
  },
  {
   "cell_type": "code",
   "execution_count": 41,
   "metadata": {},
   "outputs": [],
   "source": [
    "X_resampled_rus, y_resampled_rus = rus.fit_sample(X_train, y_train)"
   ]
  },
  {
   "cell_type": "code",
   "execution_count": 42,
   "metadata": {},
   "outputs": [
    {
     "name": "stdout",
     "output_type": "stream",
     "text": [
      "[(0, 166), (1, 166)]\n"
     ]
    }
   ],
   "source": [
    "from collections import Counter\n",
    "print(sorted(Counter(y_resampled_rus).items()))"
   ]
  },
  {
   "cell_type": "code",
   "execution_count": 43,
   "metadata": {},
   "outputs": [],
   "source": [
    "model6 = RandomForestClassifier(criterion='entropy', n_estimators=10, max_depth=10,\n",
    "                                min_samples_split=2 , min_samples_leaf=1\n",
    "                                ).fit(X_resampled_rus, y_resampled_rus)"
   ]
  },
  {
   "cell_type": "code",
   "execution_count": 44,
   "metadata": {},
   "outputs": [
    {
     "data": {
      "text/plain": [
       "array([[590,  56],\n",
       "       [  2, 164]])"
      ]
     },
     "execution_count": 44,
     "metadata": {},
     "output_type": "execute_result"
    }
   ],
   "source": [
    "confusion_matrix(y_train, model6.predict(X_train))"
   ]
  },
  {
   "cell_type": "code",
   "execution_count": 45,
   "metadata": {},
   "outputs": [
    {
     "name": "stdout",
     "output_type": "stream",
     "text": [
      "             precision    recall  f1-score   support\n",
      "\n",
      "          0       1.00      0.91      0.95       646\n",
      "          1       0.75      0.99      0.85       166\n",
      "\n",
      "avg / total       0.95      0.93      0.93       812\n",
      "\n"
     ]
    }
   ],
   "source": [
    "print(classification_report(y_train, model6.predict(X_train)))"
   ]
  },
  {
   "cell_type": "code",
   "execution_count": 46,
   "metadata": {},
   "outputs": [
    {
     "data": {
      "text/plain": [
       "array([[184,  26],\n",
       "       [ 14,  47]])"
      ]
     },
     "execution_count": 46,
     "metadata": {},
     "output_type": "execute_result"
    }
   ],
   "source": [
    "confusion_matrix(y_test, model6.predict(X_test))"
   ]
  },
  {
   "cell_type": "code",
   "execution_count": 47,
   "metadata": {},
   "outputs": [
    {
     "name": "stdout",
     "output_type": "stream",
     "text": [
      "             precision    recall  f1-score   support\n",
      "\n",
      "          0       0.93      0.88      0.90       210\n",
      "          1       0.64      0.77      0.70        61\n",
      "\n",
      "avg / total       0.87      0.85      0.86       271\n",
      "\n"
     ]
    }
   ],
   "source": [
    "print(classification_report(y_test, model6.predict(X_test)))"
   ]
  },
  {
   "cell_type": "code",
   "execution_count": 48,
   "metadata": {},
   "outputs": [],
   "source": [
    "fpr, tpr, thresholds = roc_curve(y_test, model6.predict_proba(X_test)[:, 1])"
   ]
  },
  {
   "cell_type": "code",
   "execution_count": 49,
   "metadata": {},
   "outputs": [
    {
     "data": {
      "image/png": "[encoded data removed]",
      "text/plain": [
       "<matplotlib.figure.Figure at 0x115369940>"
      ]
     },
     "metadata": {},
     "output_type": "display_data"
    }
   ],
   "source": [
    "draw_roc()"
   ]
  },
  {
   "cell_type": "code",
   "execution_count": 50,
   "metadata": {},
   "outputs": [
    {
     "data": {
      "text/plain": [
       "0.9169789227166276"
      ]
     },
     "execution_count": 50,
     "metadata": {},
     "output_type": "execute_result"
    }
   ],
   "source": [
    "auc(fpr, tpr)"
   ]
  },
  {
   "cell_type": "markdown",
   "metadata": {},
   "source": [
    "# Grid Search"
   ]
  },
  {
   "cell_type": "code",
   "execution_count": 51,
   "metadata": {},
   "outputs": [],
   "source": [
    "from sklearn.model_selection import GridSearchCV"
   ]
  },
  {
   "cell_type": "code",
   "execution_count": 55,
   "metadata": {},
   "outputs": [],
   "source": [
    "rfc = RandomForestClassifier()\n",
    "\n",
    "param_grid = {\n",
    "    'bootstrap': [True],\n",
    "     'class_weight': [None],\n",
    "    'criterion': ['entropy'],\n",
    "    'max_depth': [None, 3, ],\n",
    "    'max_features': ['auto'],\n",
    "    'max_leaf_nodes': [None],\n",
    "    'min_impurity_decrease': [0.0],\n",
    "    'min_impurity_split': [None],\n",
    "    'min_samples_leaf': [2, 3, 4, 5, 7],\n",
    "    'min_samples_split': [2, 3, 4, 5],\n",
    "    'min_weight_fraction_leaf': [0.0],\n",
    "    'n_estimators': [3],\n",
    "    'random_state': [None],\n",
    "     'oob_score': [False],\n",
    "     'verbose': [0],\n",
    "     'warm_start': [False]\n",
    "}\n",
    "\n",
    "\n",
    "gs = GridSearchCV(estimator=rfc, param_grid=param_grid, scoring='recall', cv=10, n_jobs=1)"
   ]
  },
  {
   "cell_type": "code",
   "execution_count": 56,
   "metadata": {},
   "outputs": [
    {
     "name": "stdout",
     "output_type": "stream",
     "text": [
      "CPU times: user 3.11 s, sys: 33 ms, total: 3.15 s\n",
      "Wall time: 3.19 s\n"
     ]
    }
   ],
   "source": [
    "%%time\n",
    "gs_result = gs.fit(X_resampled_rus, y_resampled_rus)"
   ]
  },
  {
   "cell_type": "code",
   "execution_count": 60,
   "metadata": {},
   "outputs": [
    {
     "data": {
      "text/plain": [
       "0.8493975903614458"
      ]
     },
     "execution_count": 60,
     "metadata": {},
     "output_type": "execute_result"
    }
   ],
   "source": [
    "gs_result.best_score_"
   ]
  },
  {
   "cell_type": "code",
   "execution_count": 61,
   "metadata": {},
   "outputs": [
    {
     "data": {
      "text/plain": [
       "{'bootstrap': True,\n",
       " 'class_weight': None,\n",
       " 'criterion': 'entropy',\n",
       " 'max_depth': 3,\n",
       " 'max_features': 'auto',\n",
       " 'max_leaf_nodes': None,\n",
       " 'min_impurity_decrease': 0.0,\n",
       " 'min_impurity_split': None,\n",
       " 'min_samples_leaf': 3,\n",
       " 'min_samples_split': 4,\n",
       " 'min_weight_fraction_leaf': 0.0,\n",
       " 'n_estimators': 3,\n",
       " 'oob_score': False,\n",
       " 'random_state': None,\n",
       " 'verbose': 0,\n",
       " 'warm_start': False}"
      ]
     },
     "execution_count": 61,
     "metadata": {},
     "output_type": "execute_result"
    }
   ],
   "source": [
    "gs_result.best_params_"
   ]
  },
  {
   "cell_type": "code",
   "execution_count": 62,
   "metadata": {},
   "outputs": [
    {
     "data": {
      "text/plain": [
       "GridSearchCV(cv=10, error_score='raise',\n",
       "       estimator=RandomForestClassifier(bootstrap=True, class_weight=None, criterion='gini',\n",
       "            max_depth=None, max_features='auto', max_leaf_nodes=None,\n",
       "            min_impurity_decrease=0.0, min_impurity_split=None,\n",
       "            min_samples_leaf=1, min_samples_split=2,\n",
       "            min_weight_fraction_leaf=0.0, n_estimators=10, n_jobs=1,\n",
       "            oob_score=False, random_state=None, verbose=0,\n",
       "            warm_start=False),\n",
       "       fit_params=None, iid=True, n_jobs=1,\n",
       "       param_grid={'bootstrap': [True], 'class_weight': [None], 'criterion': ['entropy'], 'max_depth': [None, 3], 'max_features': ['auto'], 'max_leaf_nodes': [None], 'min_impurity_decrease': [0.0], 'min_impurity_split': [None], 'min_samples_leaf': [2, 3, 4, 5, 7], 'min_samples_split': [2, 3, 4, 5], 'min_weight_fraction_leaf': [0.0], 'n_estimators': [3], 'random_state': [None], 'oob_score': [False], 'verbose': [0], 'warm_start': [False]},\n",
       "       pre_dispatch='2*n_jobs', refit=True, return_train_score='warn',\n",
       "       scoring='recall', verbose=0)"
      ]
     },
     "execution_count": 62,
     "metadata": {},
     "output_type": "execute_result"
    }
   ],
   "source": [
    "gs_result"
   ]
  },
  {
   "cell_type": "code",
   "execution_count": 63,
   "metadata": {},
   "outputs": [],
   "source": [
    "model3 = RandomForestClassifier(criterion='entropy', n_estimators=5, max_depth=None,\n",
    "                                min_samples_split=4 , min_samples_leaf=7\n",
    "                                ).fit(X_resampled_rus, y_resampled_rus)"
   ]
  },
  {
   "cell_type": "code",
   "execution_count": 64,
   "metadata": {},
   "outputs": [
    {
     "data": {
      "text/plain": [
       "array([[552,  94],\n",
       "       [ 19, 147]])"
      ]
     },
     "execution_count": 64,
     "metadata": {},
     "output_type": "execute_result"
    }
   ],
   "source": [
    "confusion_matrix(y_train, model3.predict(X_train))"
   ]
  },
  {
   "cell_type": "code",
   "execution_count": 65,
   "metadata": {},
   "outputs": [
    {
     "data": {
      "text/plain": [
       "array([[185,  25],\n",
       "       [  6,  55]])"
      ]
     },
     "execution_count": 65,
     "metadata": {},
     "output_type": "execute_result"
    }
   ],
   "source": [
    "confusion_matrix(y_test, model3.predict(X_test))"
   ]
  },
  {
   "cell_type": "code",
   "execution_count": 66,
   "metadata": {},
   "outputs": [
    {
     "name": "stdout",
     "output_type": "stream",
     "text": [
      "             precision    recall  f1-score   support\n",
      "\n",
      "          0       0.97      0.85      0.91       646\n",
      "          1       0.61      0.89      0.72       166\n",
      "\n",
      "avg / total       0.89      0.86      0.87       812\n",
      "\n"
     ]
    }
   ],
   "source": [
    "print(classification_report(y_train, model3.predict(X_train)))"
   ]
  },
  {
   "cell_type": "code",
   "execution_count": 67,
   "metadata": {},
   "outputs": [
    {
     "name": "stdout",
     "output_type": "stream",
     "text": [
      "             precision    recall  f1-score   support\n",
      "\n",
      "          0       0.97      0.88      0.92       210\n",
      "          1       0.69      0.90      0.78        61\n",
      "\n",
      "avg / total       0.91      0.89      0.89       271\n",
      "\n"
     ]
    }
   ],
   "source": [
    "print(classification_report(y_test, model3.predict(X_test)))"
   ]
  },
  {
   "cell_type": "code",
   "execution_count": 68,
   "metadata": {},
   "outputs": [],
   "source": [
    "fpr, tpr, thresholds = roc_curve(y_test, model3.predict_proba(X_test)[:, 1])"
   ]
  },
  {
   "cell_type": "code",
   "execution_count": 69,
   "metadata": {},
   "outputs": [
    {
     "data": {
      "image/png": "[encoded data removed]",
      "text/plain": [
       "<matplotlib.figure.Figure at 0x11497eac8>"
      ]
     },
     "metadata": {},
     "output_type": "display_data"
    }
   ],
   "source": [
    "draw_roc()"
   ]
  },
  {
   "cell_type": "code",
   "execution_count": 70,
   "metadata": {},
   "outputs": [
    {
     "data": {
      "text/plain": [
       "0.9252927400468384"
      ]
     },
     "execution_count": 70,
     "metadata": {},
     "output_type": "execute_result"
    }
   ],
   "source": [
    "auc(fpr, tpr)"
   ]
  }
 ],
 "metadata": {
  "kernelspec": {
   "display_name": "Python 3",
   "language": "python",
   "name": "python3"
  },
  "language_info": {
   "codemirror_mode": {
    "name": "ipython",
    "version": 3
   },
   "file_extension": ".py",
   "mimetype": "text/x-python",
   "name": "python",
   "nbconvert_exporter": "python",
   "pygments_lexer": "ipython3",
   "version": "3.6.2"
  }
 },
 "nbformat": 4,
 "nbformat_minor": 2
}
