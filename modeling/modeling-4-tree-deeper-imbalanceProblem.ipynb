{
 "cells": [
  {
   "cell_type": "markdown",
   "metadata": {},
   "source": [
    "Recall (Sensitivity) $ \\dfrac{TP}{TP+FN} $ 이 매우 중요다고 판단할 수 있다.\n",
    "\n",
    "\n",
    "**Precision의 경우**\n",
    "- False Positive :\n",
    "    - 무시해도 될 신인인데 굳이 컨텐츠를 생산했다. \n",
    "        - 뭐 어때, 에너지 소비하긴 했지만 괜찮.\n",
    "\n",
    "**Recall의 경우**\n",
    "- False Negative:\n",
    "    - 빠르게 컨텐츠를 생산해야 하는 신인인데, 걸러버렸다.\n",
    "        - 다른 매체에 선수를 뺐길 수 있다. 유저 유입이 적어짐.\n",
    "        - 다른 부가 한국에서의 공연 에이전시 계약, 머천다이즈 등 부가적인 기회들을 놓쳐버릴 수 있음.\n",
    "        \n",
    "     "
   ]
  },
  {
   "cell_type": "code",
   "execution_count": 1,
   "metadata": {},
   "outputs": [],
   "source": [
    "import pandas as pd\n",
    "import numpy as np"
   ]
  },
  {
   "cell_type": "code",
   "execution_count": 2,
   "metadata": {},
   "outputs": [],
   "source": [
    "import pandas as pd\n",
    "import numpy as np\n",
    "import operator\n",
    "import sklearn\n",
    "from sklearn.preprocessing import StandardScaler\n",
    "from sklearn.ensemble import RandomForestClassifier\n",
    "from sklearn.manifold import TSNE\n",
    "from sklearn.model_selection import train_test_split\n",
    "import imblearn\n",
    "from imblearn.over_sampling import SMOTE\n",
    "import itertools\n",
    "from collections import Counter\n",
    "from sklearn.metrics import confusion_matrix,precision_recall_curve,auc,\\\n",
    "roc_auc_score,roc_curve,recall_score,precision_score,classification_report,f1_score\n",
    "from sklearn.model_selection import cross_val_score\n",
    "import warnings\n",
    "import time\n",
    "\n",
    "import matplotlib.pyplot as plt\n",
    "import seaborn as sns\n",
    "sns.set_style('darkgrid')\n",
    "sns.set_context('poster')"
   ]
  },
  {
   "cell_type": "markdown",
   "metadata": {},
   "source": [
    "## Load Data"
   ]
  },
  {
   "cell_type": "code",
   "execution_count": 3,
   "metadata": {},
   "outputs": [],
   "source": [
    "df = pd.read_csv(\"../data/df_baseline.csv\")"
   ]
  },
  {
   "cell_type": "code",
   "execution_count": 4,
   "metadata": {},
   "outputs": [
    {
     "name": "stdout",
     "output_type": "stream",
     "text": [
      "(1083, 18)\n"
     ]
    },
    {
     "data": {
      "text/html": [
       "<div>\n",
       "<style scoped>\n",
       "    .dataframe tbody tr th:only-of-type {\n",
       "        vertical-align: middle;\n",
       "    }\n",
       "\n",
       "    .dataframe tbody tr th {\n",
       "        vertical-align: top;\n",
       "    }\n",
       "\n",
       "    .dataframe thead th {\n",
       "        text-align: right;\n",
       "    }\n",
       "</style>\n",
       "<table border=\"1\" class=\"dataframe\">\n",
       "  <thead>\n",
       "    <tr style=\"text-align: right;\">\n",
       "      <th></th>\n",
       "      <th>label</th>\n",
       "      <th>artist</th>\n",
       "      <th>album</th>\n",
       "      <th>genre</th>\n",
       "      <th>single_count</th>\n",
       "      <th>freq_billboard</th>\n",
       "      <th>freq_genius</th>\n",
       "      <th>freq_theSource</th>\n",
       "      <th>freq_xxl</th>\n",
       "      <th>rating_AOTY</th>\n",
       "      <th>rating_meta</th>\n",
       "      <th>rating_pitch</th>\n",
       "      <th>twitter</th>\n",
       "      <th>instagram</th>\n",
       "      <th>facebook</th>\n",
       "      <th>spotify</th>\n",
       "      <th>soundcloud</th>\n",
       "      <th>youtube</th>\n",
       "    </tr>\n",
       "  </thead>\n",
       "  <tbody>\n",
       "    <tr>\n",
       "      <th>0</th>\n",
       "      <td>0</td>\n",
       "      <td>1GN</td>\n",
       "      <td>1 Girl Nation</td>\n",
       "      <td>pop</td>\n",
       "      <td>1</td>\n",
       "      <td>0</td>\n",
       "      <td>0</td>\n",
       "      <td>0</td>\n",
       "      <td>3</td>\n",
       "      <td>NaN</td>\n",
       "      <td>NaN</td>\n",
       "      <td>NaN</td>\n",
       "      <td>13</td>\n",
       "      <td>10323</td>\n",
       "      <td>0</td>\n",
       "      <td>5925</td>\n",
       "      <td>0</td>\n",
       "      <td>25490</td>\n",
       "    </tr>\n",
       "    <tr>\n",
       "      <th>1</th>\n",
       "      <td>1</td>\n",
       "      <td>2 Chainz</td>\n",
       "      <td>Based on a T.R.U. Story</td>\n",
       "      <td>hiphop</td>\n",
       "      <td>3</td>\n",
       "      <td>0</td>\n",
       "      <td>1</td>\n",
       "      <td>30</td>\n",
       "      <td>195</td>\n",
       "      <td>NaN</td>\n",
       "      <td>55.0</td>\n",
       "      <td>4.5</td>\n",
       "      <td>4213051</td>\n",
       "      <td>4566472</td>\n",
       "      <td>6145306</td>\n",
       "      <td>2647895</td>\n",
       "      <td>187250</td>\n",
       "      <td>2640612</td>\n",
       "    </tr>\n",
       "    <tr>\n",
       "      <th>2</th>\n",
       "      <td>1</td>\n",
       "      <td>21 Savage</td>\n",
       "      <td>Issa Album</td>\n",
       "      <td>hiphop</td>\n",
       "      <td>1</td>\n",
       "      <td>2</td>\n",
       "      <td>4</td>\n",
       "      <td>10</td>\n",
       "      <td>332</td>\n",
       "      <td>66.0</td>\n",
       "      <td>70.0</td>\n",
       "      <td>6.5</td>\n",
       "      <td>2246173</td>\n",
       "      <td>7445482</td>\n",
       "      <td>1134519</td>\n",
       "      <td>3864308</td>\n",
       "      <td>789270</td>\n",
       "      <td>3332058</td>\n",
       "    </tr>\n",
       "    <tr>\n",
       "      <th>3</th>\n",
       "      <td>0</td>\n",
       "      <td>5 Seconds of Summer</td>\n",
       "      <td>5 Seconds of Summer</td>\n",
       "      <td>pop</td>\n",
       "      <td>4</td>\n",
       "      <td>8</td>\n",
       "      <td>0</td>\n",
       "      <td>51</td>\n",
       "      <td>711</td>\n",
       "      <td>NaN</td>\n",
       "      <td>65.0</td>\n",
       "      <td>NaN</td>\n",
       "      <td>12606911</td>\n",
       "      <td>7310498</td>\n",
       "      <td>10296778</td>\n",
       "      <td>2969521</td>\n",
       "      <td>191358</td>\n",
       "      <td>4031726</td>\n",
       "    </tr>\n",
       "    <tr>\n",
       "      <th>4</th>\n",
       "      <td>1</td>\n",
       "      <td>6lack</td>\n",
       "      <td>Free 6lack</td>\n",
       "      <td>hiphop</td>\n",
       "      <td>2</td>\n",
       "      <td>0</td>\n",
       "      <td>1</td>\n",
       "      <td>6</td>\n",
       "      <td>99</td>\n",
       "      <td>NaN</td>\n",
       "      <td>NaN</td>\n",
       "      <td>NaN</td>\n",
       "      <td>456200</td>\n",
       "      <td>839246</td>\n",
       "      <td>303208</td>\n",
       "      <td>805720</td>\n",
       "      <td>266100</td>\n",
       "      <td>463168</td>\n",
       "    </tr>\n",
       "  </tbody>\n",
       "</table>\n",
       "</div>"
      ],
      "text/plain": [
       "   label               artist                    album   genre  single_count  \\\n",
       "0      0                  1GN            1 Girl Nation     pop             1   \n",
       "1      1             2 Chainz  Based on a T.R.U. Story  hiphop             3   \n",
       "2      1            21 Savage               Issa Album  hiphop             1   \n",
       "3      0  5 Seconds of Summer      5 Seconds of Summer     pop             4   \n",
       "4      1                6lack               Free 6lack  hiphop             2   \n",
       "\n",
       "   freq_billboard  freq_genius  freq_theSource  freq_xxl  rating_AOTY  \\\n",
       "0               0            0               0         3          NaN   \n",
       "1               0            1              30       195          NaN   \n",
       "2               2            4              10       332         66.0   \n",
       "3               8            0              51       711          NaN   \n",
       "4               0            1               6        99          NaN   \n",
       "\n",
       "   rating_meta  rating_pitch   twitter  instagram  facebook  spotify  \\\n",
       "0          NaN           NaN        13      10323         0     5925   \n",
       "1         55.0           4.5   4213051    4566472   6145306  2647895   \n",
       "2         70.0           6.5   2246173    7445482   1134519  3864308   \n",
       "3         65.0           NaN  12606911    7310498  10296778  2969521   \n",
       "4          NaN           NaN    456200     839246    303208   805720   \n",
       "\n",
       "   soundcloud  youtube  \n",
       "0           0    25490  \n",
       "1      187250  2640612  \n",
       "2      789270  3332058  \n",
       "3      191358  4031726  \n",
       "4      266100   463168  "
      ]
     },
     "execution_count": 4,
     "metadata": {},
     "output_type": "execute_result"
    }
   ],
   "source": [
    "df = df.sort_values(by=['artist']).reset_index(drop=True)\n",
    "print(df.shape)\n",
    "df.head()"
   ]
  },
  {
   "cell_type": "code",
   "execution_count": 5,
   "metadata": {
    "scrolled": false
   },
   "outputs": [
    {
     "name": "stdout",
     "output_type": "stream",
     "text": [
      "<class 'pandas.core.frame.DataFrame'>\n",
      "RangeIndex: 1083 entries, 0 to 1082\n",
      "Data columns (total 18 columns):\n",
      "label             1083 non-null int64\n",
      "artist            1083 non-null object\n",
      "album             1083 non-null object\n",
      "genre             1083 non-null object\n",
      "single_count      1083 non-null int64\n",
      "freq_billboard    1083 non-null int64\n",
      "freq_genius       1083 non-null int64\n",
      "freq_theSource    1083 non-null int64\n",
      "freq_xxl          1083 non-null int64\n",
      "rating_AOTY       61 non-null float64\n",
      "rating_meta       324 non-null float64\n",
      "rating_pitch      220 non-null float64\n",
      "twitter           1083 non-null int64\n",
      "instagram         1083 non-null int64\n",
      "facebook          1083 non-null int64\n",
      "spotify           1083 non-null int64\n",
      "soundcloud        1083 non-null int64\n",
      "youtube           1083 non-null int64\n",
      "dtypes: float64(3), int64(12), object(3)\n",
      "memory usage: 152.4+ KB\n"
     ]
    }
   ],
   "source": [
    "df.info()"
   ]
  },
  {
   "cell_type": "code",
   "execution_count": 6,
   "metadata": {},
   "outputs": [
    {
     "data": {
      "text/html": [
       "<div>\n",
       "<style scoped>\n",
       "    .dataframe tbody tr th:only-of-type {\n",
       "        vertical-align: middle;\n",
       "    }\n",
       "\n",
       "    .dataframe tbody tr th {\n",
       "        vertical-align: top;\n",
       "    }\n",
       "\n",
       "    .dataframe thead th {\n",
       "        text-align: right;\n",
       "    }\n",
       "</style>\n",
       "<table border=\"1\" class=\"dataframe\">\n",
       "  <thead>\n",
       "    <tr style=\"text-align: right;\">\n",
       "      <th></th>\n",
       "      <th>label</th>\n",
       "      <th>single_count</th>\n",
       "      <th>freq_billboard</th>\n",
       "      <th>freq_genius</th>\n",
       "      <th>freq_theSource</th>\n",
       "      <th>freq_xxl</th>\n",
       "      <th>rating_AOTY</th>\n",
       "      <th>rating_meta</th>\n",
       "      <th>rating_pitch</th>\n",
       "      <th>twitter</th>\n",
       "      <th>instagram</th>\n",
       "      <th>facebook</th>\n",
       "      <th>spotify</th>\n",
       "      <th>soundcloud</th>\n",
       "      <th>youtube</th>\n",
       "    </tr>\n",
       "  </thead>\n",
       "  <tbody>\n",
       "    <tr>\n",
       "      <th>count</th>\n",
       "      <td>1083.000000</td>\n",
       "      <td>1083.000000</td>\n",
       "      <td>1083.000000</td>\n",
       "      <td>1083.000000</td>\n",
       "      <td>1083.000000</td>\n",
       "      <td>1083.000000</td>\n",
       "      <td>61.000000</td>\n",
       "      <td>324.000000</td>\n",
       "      <td>220.000000</td>\n",
       "      <td>1.083000e+03</td>\n",
       "      <td>1.083000e+03</td>\n",
       "      <td>1.083000e+03</td>\n",
       "      <td>1.083000e+03</td>\n",
       "      <td>1.083000e+03</td>\n",
       "      <td>1.083000e+03</td>\n",
       "    </tr>\n",
       "    <tr>\n",
       "      <th>mean</th>\n",
       "      <td>0.209603</td>\n",
       "      <td>2.595568</td>\n",
       "      <td>0.642659</td>\n",
       "      <td>1.395199</td>\n",
       "      <td>13.378578</td>\n",
       "      <td>232.204063</td>\n",
       "      <td>66.098361</td>\n",
       "      <td>71.015432</td>\n",
       "      <td>6.810000</td>\n",
       "      <td>8.162517e+05</td>\n",
       "      <td>1.148277e+06</td>\n",
       "      <td>9.392479e+05</td>\n",
       "      <td>4.052015e+05</td>\n",
       "      <td>2.045023e+05</td>\n",
       "      <td>5.766690e+05</td>\n",
       "    </tr>\n",
       "    <tr>\n",
       "      <th>std</th>\n",
       "      <td>0.407213</td>\n",
       "      <td>2.806590</td>\n",
       "      <td>3.372542</td>\n",
       "      <td>24.121972</td>\n",
       "      <td>40.525759</td>\n",
       "      <td>924.497039</td>\n",
       "      <td>16.944719</td>\n",
       "      <td>9.724840</td>\n",
       "      <td>1.360932</td>\n",
       "      <td>3.595182e+06</td>\n",
       "      <td>6.297742e+06</td>\n",
       "      <td>3.392730e+06</td>\n",
       "      <td>1.143469e+06</td>\n",
       "      <td>8.875424e+05</td>\n",
       "      <td>1.908113e+06</td>\n",
       "    </tr>\n",
       "    <tr>\n",
       "      <th>min</th>\n",
       "      <td>0.000000</td>\n",
       "      <td>0.000000</td>\n",
       "      <td>0.000000</td>\n",
       "      <td>0.000000</td>\n",
       "      <td>0.000000</td>\n",
       "      <td>0.000000</td>\n",
       "      <td>0.000000</td>\n",
       "      <td>34.000000</td>\n",
       "      <td>1.000000</td>\n",
       "      <td>0.000000e+00</td>\n",
       "      <td>0.000000e+00</td>\n",
       "      <td>0.000000e+00</td>\n",
       "      <td>0.000000e+00</td>\n",
       "      <td>0.000000e+00</td>\n",
       "      <td>0.000000e+00</td>\n",
       "    </tr>\n",
       "    <tr>\n",
       "      <th>25%</th>\n",
       "      <td>0.000000</td>\n",
       "      <td>0.000000</td>\n",
       "      <td>0.000000</td>\n",
       "      <td>0.000000</td>\n",
       "      <td>0.000000</td>\n",
       "      <td>0.000000</td>\n",
       "      <td>64.000000</td>\n",
       "      <td>65.000000</td>\n",
       "      <td>6.100000</td>\n",
       "      <td>3.949000e+03</td>\n",
       "      <td>0.000000e+00</td>\n",
       "      <td>1.013800e+04</td>\n",
       "      <td>7.023000e+03</td>\n",
       "      <td>0.000000e+00</td>\n",
       "      <td>0.000000e+00</td>\n",
       "    </tr>\n",
       "    <tr>\n",
       "      <th>50%</th>\n",
       "      <td>0.000000</td>\n",
       "      <td>2.000000</td>\n",
       "      <td>0.000000</td>\n",
       "      <td>0.000000</td>\n",
       "      <td>0.000000</td>\n",
       "      <td>6.000000</td>\n",
       "      <td>69.000000</td>\n",
       "      <td>72.500000</td>\n",
       "      <td>7.050000</td>\n",
       "      <td>4.024000e+04</td>\n",
       "      <td>3.099500e+04</td>\n",
       "      <td>7.855900e+04</td>\n",
       "      <td>4.727500e+04</td>\n",
       "      <td>1.736000e+03</td>\n",
       "      <td>1.924800e+04</td>\n",
       "    </tr>\n",
       "    <tr>\n",
       "      <th>75%</th>\n",
       "      <td>0.000000</td>\n",
       "      <td>4.000000</td>\n",
       "      <td>0.000000</td>\n",
       "      <td>0.000000</td>\n",
       "      <td>4.000000</td>\n",
       "      <td>65.500000</td>\n",
       "      <td>76.000000</td>\n",
       "      <td>78.000000</td>\n",
       "      <td>7.800000</td>\n",
       "      <td>2.889390e+05</td>\n",
       "      <td>3.010275e+05</td>\n",
       "      <td>4.527645e+05</td>\n",
       "      <td>2.269760e+05</td>\n",
       "      <td>3.220250e+04</td>\n",
       "      <td>2.148705e+05</td>\n",
       "    </tr>\n",
       "    <tr>\n",
       "      <th>max</th>\n",
       "      <td>1.000000</td>\n",
       "      <td>37.000000</td>\n",
       "      <td>73.000000</td>\n",
       "      <td>731.000000</td>\n",
       "      <td>200.000000</td>\n",
       "      <td>12802.000000</td>\n",
       "      <td>85.000000</td>\n",
       "      <td>92.000000</td>\n",
       "      <td>9.500000</td>\n",
       "      <td>5.696178e+07</td>\n",
       "      <td>1.366012e+08</td>\n",
       "      <td>6.167920e+07</td>\n",
       "      <td>1.382065e+07</td>\n",
       "      <td>9.710262e+06</td>\n",
       "      <td>2.367711e+07</td>\n",
       "    </tr>\n",
       "  </tbody>\n",
       "</table>\n",
       "</div>"
      ],
      "text/plain": [
       "             label  single_count  freq_billboard  freq_genius  freq_theSource  \\\n",
       "count  1083.000000   1083.000000     1083.000000  1083.000000     1083.000000   \n",
       "mean      0.209603      2.595568        0.642659     1.395199       13.378578   \n",
       "std       0.407213      2.806590        3.372542    24.121972       40.525759   \n",
       "min       0.000000      0.000000        0.000000     0.000000        0.000000   \n",
       "25%       0.000000      0.000000        0.000000     0.000000        0.000000   \n",
       "50%       0.000000      2.000000        0.000000     0.000000        0.000000   \n",
       "75%       0.000000      4.000000        0.000000     0.000000        4.000000   \n",
       "max       1.000000     37.000000       73.000000   731.000000      200.000000   \n",
       "\n",
       "           freq_xxl  rating_AOTY  rating_meta  rating_pitch       twitter  \\\n",
       "count   1083.000000    61.000000   324.000000    220.000000  1.083000e+03   \n",
       "mean     232.204063    66.098361    71.015432      6.810000  8.162517e+05   \n",
       "std      924.497039    16.944719     9.724840      1.360932  3.595182e+06   \n",
       "min        0.000000     0.000000    34.000000      1.000000  0.000000e+00   \n",
       "25%        0.000000    64.000000    65.000000      6.100000  3.949000e+03   \n",
       "50%        6.000000    69.000000    72.500000      7.050000  4.024000e+04   \n",
       "75%       65.500000    76.000000    78.000000      7.800000  2.889390e+05   \n",
       "max    12802.000000    85.000000    92.000000      9.500000  5.696178e+07   \n",
       "\n",
       "          instagram      facebook       spotify    soundcloud       youtube  \n",
       "count  1.083000e+03  1.083000e+03  1.083000e+03  1.083000e+03  1.083000e+03  \n",
       "mean   1.148277e+06  9.392479e+05  4.052015e+05  2.045023e+05  5.766690e+05  \n",
       "std    6.297742e+06  3.392730e+06  1.143469e+06  8.875424e+05  1.908113e+06  \n",
       "min    0.000000e+00  0.000000e+00  0.000000e+00  0.000000e+00  0.000000e+00  \n",
       "25%    0.000000e+00  1.013800e+04  7.023000e+03  0.000000e+00  0.000000e+00  \n",
       "50%    3.099500e+04  7.855900e+04  4.727500e+04  1.736000e+03  1.924800e+04  \n",
       "75%    3.010275e+05  4.527645e+05  2.269760e+05  3.220250e+04  2.148705e+05  \n",
       "max    1.366012e+08  6.167920e+07  1.382065e+07  9.710262e+06  2.367711e+07  "
      ]
     },
     "execution_count": 6,
     "metadata": {},
     "output_type": "execute_result"
    }
   ],
   "source": [
    "df.describe()"
   ]
  },
  {
   "cell_type": "markdown",
   "metadata": {},
   "source": [
    "# Feature Engineering"
   ]
  },
  {
   "cell_type": "markdown",
   "metadata": {},
   "source": [
    "### Rating"
   ]
  },
  {
   "cell_type": "markdown",
   "metadata": {},
   "source": [
    "#### 스케일링"
   ]
  },
  {
   "cell_type": "code",
   "execution_count": 7,
   "metadata": {},
   "outputs": [],
   "source": [
    "df['rating_pitch'] = df['rating_pitch'] * 10"
   ]
  },
  {
   "cell_type": "code",
   "execution_count": 8,
   "metadata": {},
   "outputs": [
    {
     "data": {
      "text/plain": [
       "0     NaN\n",
       "1    45.0\n",
       "2    65.0\n",
       "3     NaN\n",
       "4     NaN\n",
       "Name: rating_pitch, dtype: float64"
      ]
     },
     "execution_count": 8,
     "metadata": {},
     "output_type": "execute_result"
    }
   ],
   "source": [
    "df['rating_pitch'].head()"
   ]
  },
  {
   "cell_type": "code",
   "execution_count": 9,
   "metadata": {},
   "outputs": [],
   "source": [
    "def avg_rating():\n",
    "    for i in range(len(df)):\n",
    "        if np.isnan(df.loc[i, 'rating_meta']) == True:\n",
    "            if np.isnan(df.loc[i, 'rating_pitch']) == True:\n",
    "                if np.isnan(df.loc[i, 'rating_AOTY']) == True:\n",
    "                    df.loc[i, 'rating'] = 0\n",
    "                else:\n",
    "                    df.loc[i, 'rating'] = df.loc[i, 'rating_AOTY']\n",
    "            else:\n",
    "                df.loc[i, 'rating'] = df.loc[i, 'rating_pitch']\n",
    "        else:\n",
    "            df.loc[i, 'rating'] = df.loc[i, 'rating_meta']\n",
    "            \n",
    "    return df.head()"
   ]
  },
  {
   "cell_type": "code",
   "execution_count": 10,
   "metadata": {
    "scrolled": true
   },
   "outputs": [
    {
     "data": {
      "text/html": [
       "<div>\n",
       "<style scoped>\n",
       "    .dataframe tbody tr th:only-of-type {\n",
       "        vertical-align: middle;\n",
       "    }\n",
       "\n",
       "    .dataframe tbody tr th {\n",
       "        vertical-align: top;\n",
       "    }\n",
       "\n",
       "    .dataframe thead th {\n",
       "        text-align: right;\n",
       "    }\n",
       "</style>\n",
       "<table border=\"1\" class=\"dataframe\">\n",
       "  <thead>\n",
       "    <tr style=\"text-align: right;\">\n",
       "      <th></th>\n",
       "      <th>label</th>\n",
       "      <th>artist</th>\n",
       "      <th>album</th>\n",
       "      <th>genre</th>\n",
       "      <th>single_count</th>\n",
       "      <th>freq_billboard</th>\n",
       "      <th>freq_genius</th>\n",
       "      <th>freq_theSource</th>\n",
       "      <th>freq_xxl</th>\n",
       "      <th>rating_AOTY</th>\n",
       "      <th>rating_meta</th>\n",
       "      <th>rating_pitch</th>\n",
       "      <th>twitter</th>\n",
       "      <th>instagram</th>\n",
       "      <th>facebook</th>\n",
       "      <th>spotify</th>\n",
       "      <th>soundcloud</th>\n",
       "      <th>youtube</th>\n",
       "      <th>rating</th>\n",
       "    </tr>\n",
       "  </thead>\n",
       "  <tbody>\n",
       "    <tr>\n",
       "      <th>0</th>\n",
       "      <td>0</td>\n",
       "      <td>1GN</td>\n",
       "      <td>1 Girl Nation</td>\n",
       "      <td>pop</td>\n",
       "      <td>1</td>\n",
       "      <td>0</td>\n",
       "      <td>0</td>\n",
       "      <td>0</td>\n",
       "      <td>3</td>\n",
       "      <td>NaN</td>\n",
       "      <td>NaN</td>\n",
       "      <td>NaN</td>\n",
       "      <td>13</td>\n",
       "      <td>10323</td>\n",
       "      <td>0</td>\n",
       "      <td>5925</td>\n",
       "      <td>0</td>\n",
       "      <td>25490</td>\n",
       "      <td>0.0</td>\n",
       "    </tr>\n",
       "    <tr>\n",
       "      <th>1</th>\n",
       "      <td>1</td>\n",
       "      <td>2 Chainz</td>\n",
       "      <td>Based on a T.R.U. Story</td>\n",
       "      <td>hiphop</td>\n",
       "      <td>3</td>\n",
       "      <td>0</td>\n",
       "      <td>1</td>\n",
       "      <td>30</td>\n",
       "      <td>195</td>\n",
       "      <td>NaN</td>\n",
       "      <td>55.0</td>\n",
       "      <td>45.0</td>\n",
       "      <td>4213051</td>\n",
       "      <td>4566472</td>\n",
       "      <td>6145306</td>\n",
       "      <td>2647895</td>\n",
       "      <td>187250</td>\n",
       "      <td>2640612</td>\n",
       "      <td>55.0</td>\n",
       "    </tr>\n",
       "    <tr>\n",
       "      <th>2</th>\n",
       "      <td>1</td>\n",
       "      <td>21 Savage</td>\n",
       "      <td>Issa Album</td>\n",
       "      <td>hiphop</td>\n",
       "      <td>1</td>\n",
       "      <td>2</td>\n",
       "      <td>4</td>\n",
       "      <td>10</td>\n",
       "      <td>332</td>\n",
       "      <td>66.0</td>\n",
       "      <td>70.0</td>\n",
       "      <td>65.0</td>\n",
       "      <td>2246173</td>\n",
       "      <td>7445482</td>\n",
       "      <td>1134519</td>\n",
       "      <td>3864308</td>\n",
       "      <td>789270</td>\n",
       "      <td>3332058</td>\n",
       "      <td>70.0</td>\n",
       "    </tr>\n",
       "    <tr>\n",
       "      <th>3</th>\n",
       "      <td>0</td>\n",
       "      <td>5 Seconds of Summer</td>\n",
       "      <td>5 Seconds of Summer</td>\n",
       "      <td>pop</td>\n",
       "      <td>4</td>\n",
       "      <td>8</td>\n",
       "      <td>0</td>\n",
       "      <td>51</td>\n",
       "      <td>711</td>\n",
       "      <td>NaN</td>\n",
       "      <td>65.0</td>\n",
       "      <td>NaN</td>\n",
       "      <td>12606911</td>\n",
       "      <td>7310498</td>\n",
       "      <td>10296778</td>\n",
       "      <td>2969521</td>\n",
       "      <td>191358</td>\n",
       "      <td>4031726</td>\n",
       "      <td>65.0</td>\n",
       "    </tr>\n",
       "    <tr>\n",
       "      <th>4</th>\n",
       "      <td>1</td>\n",
       "      <td>6lack</td>\n",
       "      <td>Free 6lack</td>\n",
       "      <td>hiphop</td>\n",
       "      <td>2</td>\n",
       "      <td>0</td>\n",
       "      <td>1</td>\n",
       "      <td>6</td>\n",
       "      <td>99</td>\n",
       "      <td>NaN</td>\n",
       "      <td>NaN</td>\n",
       "      <td>NaN</td>\n",
       "      <td>456200</td>\n",
       "      <td>839246</td>\n",
       "      <td>303208</td>\n",
       "      <td>805720</td>\n",
       "      <td>266100</td>\n",
       "      <td>463168</td>\n",
       "      <td>0.0</td>\n",
       "    </tr>\n",
       "  </tbody>\n",
       "</table>\n",
       "</div>"
      ],
      "text/plain": [
       "   label               artist                    album   genre  single_count  \\\n",
       "0      0                  1GN            1 Girl Nation     pop             1   \n",
       "1      1             2 Chainz  Based on a T.R.U. Story  hiphop             3   \n",
       "2      1            21 Savage               Issa Album  hiphop             1   \n",
       "3      0  5 Seconds of Summer      5 Seconds of Summer     pop             4   \n",
       "4      1                6lack               Free 6lack  hiphop             2   \n",
       "\n",
       "   freq_billboard  freq_genius  freq_theSource  freq_xxl  rating_AOTY  \\\n",
       "0               0            0               0         3          NaN   \n",
       "1               0            1              30       195          NaN   \n",
       "2               2            4              10       332         66.0   \n",
       "3               8            0              51       711          NaN   \n",
       "4               0            1               6        99          NaN   \n",
       "\n",
       "   rating_meta  rating_pitch   twitter  instagram  facebook  spotify  \\\n",
       "0          NaN           NaN        13      10323         0     5925   \n",
       "1         55.0          45.0   4213051    4566472   6145306  2647895   \n",
       "2         70.0          65.0   2246173    7445482   1134519  3864308   \n",
       "3         65.0           NaN  12606911    7310498  10296778  2969521   \n",
       "4          NaN           NaN    456200     839246    303208   805720   \n",
       "\n",
       "   soundcloud  youtube  rating  \n",
       "0           0    25490     0.0  \n",
       "1      187250  2640612    55.0  \n",
       "2      789270  3332058    70.0  \n",
       "3      191358  4031726    65.0  \n",
       "4      266100   463168     0.0  "
      ]
     },
     "execution_count": 10,
     "metadata": {},
     "output_type": "execute_result"
    }
   ],
   "source": [
    "avg_rating()"
   ]
  },
  {
   "cell_type": "markdown",
   "metadata": {},
   "source": [
    "## Data Preparation for Modeling"
   ]
  },
  {
   "cell_type": "markdown",
   "metadata": {},
   "source": [
    "#### 장르 `hiphop`, `R&B`, `Soul`, `Funk`, `Pop`"
   ]
  },
  {
   "cell_type": "code",
   "execution_count": 11,
   "metadata": {},
   "outputs": [],
   "source": [
    "df = pd.get_dummies(df, columns=['genre'])"
   ]
  },
  {
   "cell_type": "code",
   "execution_count": 12,
   "metadata": {},
   "outputs": [
    {
     "data": {
      "text/plain": [
       "Index(['label', 'artist', 'album', 'single_count', 'freq_billboard',\n",
       "       'freq_genius', 'freq_theSource', 'freq_xxl', 'rating_AOTY',\n",
       "       'rating_meta', 'rating_pitch', 'twitter', 'instagram', 'facebook',\n",
       "       'spotify', 'soundcloud', 'youtube', 'rating', 'genre_Soul',\n",
       "       'genre_funk', 'genre_hiphop', 'genre_pop', 'genre_rnb', 'genre_soul'],\n",
       "      dtype='object')"
      ]
     },
     "execution_count": 12,
     "metadata": {},
     "output_type": "execute_result"
    }
   ],
   "source": [
    "df.columns"
   ]
  },
  {
   "cell_type": "code",
   "execution_count": 13,
   "metadata": {},
   "outputs": [
    {
     "data": {
      "text/html": [
       "<div>\n",
       "<style scoped>\n",
       "    .dataframe tbody tr th:only-of-type {\n",
       "        vertical-align: middle;\n",
       "    }\n",
       "\n",
       "    .dataframe tbody tr th {\n",
       "        vertical-align: top;\n",
       "    }\n",
       "\n",
       "    .dataframe thead th {\n",
       "        text-align: right;\n",
       "    }\n",
       "</style>\n",
       "<table border=\"1\" class=\"dataframe\">\n",
       "  <thead>\n",
       "    <tr style=\"text-align: right;\">\n",
       "      <th></th>\n",
       "      <th>label</th>\n",
       "      <th>artist</th>\n",
       "      <th>album</th>\n",
       "      <th>single_count</th>\n",
       "      <th>freq_billboard</th>\n",
       "      <th>freq_genius</th>\n",
       "      <th>freq_theSource</th>\n",
       "      <th>freq_xxl</th>\n",
       "      <th>rating_AOTY</th>\n",
       "      <th>rating_meta</th>\n",
       "      <th>...</th>\n",
       "      <th>spotify</th>\n",
       "      <th>soundcloud</th>\n",
       "      <th>youtube</th>\n",
       "      <th>rating</th>\n",
       "      <th>genre_Soul</th>\n",
       "      <th>genre_funk</th>\n",
       "      <th>genre_hiphop</th>\n",
       "      <th>genre_pop</th>\n",
       "      <th>genre_rnb</th>\n",
       "      <th>genre_soul</th>\n",
       "    </tr>\n",
       "  </thead>\n",
       "  <tbody>\n",
       "    <tr>\n",
       "      <th>0</th>\n",
       "      <td>0</td>\n",
       "      <td>1GN</td>\n",
       "      <td>1 Girl Nation</td>\n",
       "      <td>1</td>\n",
       "      <td>0</td>\n",
       "      <td>0</td>\n",
       "      <td>0</td>\n",
       "      <td>3</td>\n",
       "      <td>NaN</td>\n",
       "      <td>NaN</td>\n",
       "      <td>...</td>\n",
       "      <td>5925</td>\n",
       "      <td>0</td>\n",
       "      <td>25490</td>\n",
       "      <td>0.0</td>\n",
       "      <td>0</td>\n",
       "      <td>0</td>\n",
       "      <td>0</td>\n",
       "      <td>1</td>\n",
       "      <td>0</td>\n",
       "      <td>0</td>\n",
       "    </tr>\n",
       "    <tr>\n",
       "      <th>1</th>\n",
       "      <td>1</td>\n",
       "      <td>2 Chainz</td>\n",
       "      <td>Based on a T.R.U. Story</td>\n",
       "      <td>3</td>\n",
       "      <td>0</td>\n",
       "      <td>1</td>\n",
       "      <td>30</td>\n",
       "      <td>195</td>\n",
       "      <td>NaN</td>\n",
       "      <td>55.0</td>\n",
       "      <td>...</td>\n",
       "      <td>2647895</td>\n",
       "      <td>187250</td>\n",
       "      <td>2640612</td>\n",
       "      <td>55.0</td>\n",
       "      <td>0</td>\n",
       "      <td>0</td>\n",
       "      <td>1</td>\n",
       "      <td>0</td>\n",
       "      <td>0</td>\n",
       "      <td>0</td>\n",
       "    </tr>\n",
       "    <tr>\n",
       "      <th>2</th>\n",
       "      <td>1</td>\n",
       "      <td>21 Savage</td>\n",
       "      <td>Issa Album</td>\n",
       "      <td>1</td>\n",
       "      <td>2</td>\n",
       "      <td>4</td>\n",
       "      <td>10</td>\n",
       "      <td>332</td>\n",
       "      <td>66.0</td>\n",
       "      <td>70.0</td>\n",
       "      <td>...</td>\n",
       "      <td>3864308</td>\n",
       "      <td>789270</td>\n",
       "      <td>3332058</td>\n",
       "      <td>70.0</td>\n",
       "      <td>0</td>\n",
       "      <td>0</td>\n",
       "      <td>1</td>\n",
       "      <td>0</td>\n",
       "      <td>0</td>\n",
       "      <td>0</td>\n",
       "    </tr>\n",
       "    <tr>\n",
       "      <th>3</th>\n",
       "      <td>0</td>\n",
       "      <td>5 Seconds of Summer</td>\n",
       "      <td>5 Seconds of Summer</td>\n",
       "      <td>4</td>\n",
       "      <td>8</td>\n",
       "      <td>0</td>\n",
       "      <td>51</td>\n",
       "      <td>711</td>\n",
       "      <td>NaN</td>\n",
       "      <td>65.0</td>\n",
       "      <td>...</td>\n",
       "      <td>2969521</td>\n",
       "      <td>191358</td>\n",
       "      <td>4031726</td>\n",
       "      <td>65.0</td>\n",
       "      <td>0</td>\n",
       "      <td>0</td>\n",
       "      <td>0</td>\n",
       "      <td>1</td>\n",
       "      <td>0</td>\n",
       "      <td>0</td>\n",
       "    </tr>\n",
       "    <tr>\n",
       "      <th>4</th>\n",
       "      <td>1</td>\n",
       "      <td>6lack</td>\n",
       "      <td>Free 6lack</td>\n",
       "      <td>2</td>\n",
       "      <td>0</td>\n",
       "      <td>1</td>\n",
       "      <td>6</td>\n",
       "      <td>99</td>\n",
       "      <td>NaN</td>\n",
       "      <td>NaN</td>\n",
       "      <td>...</td>\n",
       "      <td>805720</td>\n",
       "      <td>266100</td>\n",
       "      <td>463168</td>\n",
       "      <td>0.0</td>\n",
       "      <td>0</td>\n",
       "      <td>0</td>\n",
       "      <td>1</td>\n",
       "      <td>0</td>\n",
       "      <td>0</td>\n",
       "      <td>0</td>\n",
       "    </tr>\n",
       "  </tbody>\n",
       "</table>\n",
       "<p>5 rows × 24 columns</p>\n",
       "</div>"
      ],
      "text/plain": [
       "   label               artist                    album  single_count  \\\n",
       "0      0                  1GN            1 Girl Nation             1   \n",
       "1      1             2 Chainz  Based on a T.R.U. Story             3   \n",
       "2      1            21 Savage               Issa Album             1   \n",
       "3      0  5 Seconds of Summer      5 Seconds of Summer             4   \n",
       "4      1                6lack               Free 6lack             2   \n",
       "\n",
       "   freq_billboard  freq_genius  freq_theSource  freq_xxl  rating_AOTY  \\\n",
       "0               0            0               0         3          NaN   \n",
       "1               0            1              30       195          NaN   \n",
       "2               2            4              10       332         66.0   \n",
       "3               8            0              51       711          NaN   \n",
       "4               0            1               6        99          NaN   \n",
       "\n",
       "   rating_meta     ...      spotify  soundcloud  youtube  rating  genre_Soul  \\\n",
       "0          NaN     ...         5925           0    25490     0.0           0   \n",
       "1         55.0     ...      2647895      187250  2640612    55.0           0   \n",
       "2         70.0     ...      3864308      789270  3332058    70.0           0   \n",
       "3         65.0     ...      2969521      191358  4031726    65.0           0   \n",
       "4          NaN     ...       805720      266100   463168     0.0           0   \n",
       "\n",
       "   genre_funk  genre_hiphop  genre_pop  genre_rnb  genre_soul  \n",
       "0           0             0          1          0           0  \n",
       "1           0             1          0          0           0  \n",
       "2           0             1          0          0           0  \n",
       "3           0             0          1          0           0  \n",
       "4           0             1          0          0           0  \n",
       "\n",
       "[5 rows x 24 columns]"
      ]
     },
     "execution_count": 13,
     "metadata": {},
     "output_type": "execute_result"
    }
   ],
   "source": [
    "df.head()"
   ]
  },
  {
   "cell_type": "markdown",
   "metadata": {},
   "source": [
    "#### Split train & test data "
   ]
  },
  {
   "cell_type": "code",
   "execution_count": 14,
   "metadata": {},
   "outputs": [],
   "source": [
    "feature_names = ['single_count', \n",
    "                 'freq_billboard', 'freq_genius', 'freq_theSource', 'freq_xxl',\n",
    "                 'twitter', 'instagram', 'facebook',\n",
    "                 'spotify', 'soundcloud', 'youtube',\n",
    "                 'genre_funk', 'genre_hiphop', 'genre_pop', 'genre_rnb', 'genre_soul',\n",
    "                 'rating'\n",
    "                ]\n",
    "dfX = df[feature_names].copy()\n",
    "dfy = df['label'].copy()"
   ]
  },
  {
   "cell_type": "code",
   "execution_count": 15,
   "metadata": {},
   "outputs": [
    {
     "data": {
      "text/html": [
       "<div>\n",
       "<style scoped>\n",
       "    .dataframe tbody tr th:only-of-type {\n",
       "        vertical-align: middle;\n",
       "    }\n",
       "\n",
       "    .dataframe tbody tr th {\n",
       "        vertical-align: top;\n",
       "    }\n",
       "\n",
       "    .dataframe thead th {\n",
       "        text-align: right;\n",
       "    }\n",
       "</style>\n",
       "<table border=\"1\" class=\"dataframe\">\n",
       "  <thead>\n",
       "    <tr style=\"text-align: right;\">\n",
       "      <th></th>\n",
       "      <th>single_count</th>\n",
       "      <th>freq_billboard</th>\n",
       "      <th>freq_genius</th>\n",
       "      <th>freq_theSource</th>\n",
       "      <th>freq_xxl</th>\n",
       "      <th>twitter</th>\n",
       "      <th>instagram</th>\n",
       "      <th>facebook</th>\n",
       "      <th>spotify</th>\n",
       "      <th>soundcloud</th>\n",
       "      <th>youtube</th>\n",
       "      <th>genre_funk</th>\n",
       "      <th>genre_hiphop</th>\n",
       "      <th>genre_pop</th>\n",
       "      <th>genre_rnb</th>\n",
       "      <th>genre_soul</th>\n",
       "      <th>rating</th>\n",
       "    </tr>\n",
       "  </thead>\n",
       "  <tbody>\n",
       "    <tr>\n",
       "      <th>1078</th>\n",
       "      <td>0</td>\n",
       "      <td>0</td>\n",
       "      <td>0</td>\n",
       "      <td>1</td>\n",
       "      <td>45</td>\n",
       "      <td>9660</td>\n",
       "      <td>0</td>\n",
       "      <td>83296</td>\n",
       "      <td>84892</td>\n",
       "      <td>6447</td>\n",
       "      <td>99022</td>\n",
       "      <td>0</td>\n",
       "      <td>0</td>\n",
       "      <td>1</td>\n",
       "      <td>0</td>\n",
       "      <td>0</td>\n",
       "      <td>0.0</td>\n",
       "    </tr>\n",
       "    <tr>\n",
       "      <th>1079</th>\n",
       "      <td>0</td>\n",
       "      <td>0</td>\n",
       "      <td>0</td>\n",
       "      <td>0</td>\n",
       "      <td>0</td>\n",
       "      <td>1803</td>\n",
       "      <td>3011</td>\n",
       "      <td>11537</td>\n",
       "      <td>5337</td>\n",
       "      <td>711</td>\n",
       "      <td>0</td>\n",
       "      <td>0</td>\n",
       "      <td>0</td>\n",
       "      <td>1</td>\n",
       "      <td>0</td>\n",
       "      <td>0</td>\n",
       "      <td>0.0</td>\n",
       "    </tr>\n",
       "    <tr>\n",
       "      <th>1080</th>\n",
       "      <td>5</td>\n",
       "      <td>0</td>\n",
       "      <td>0</td>\n",
       "      <td>0</td>\n",
       "      <td>0</td>\n",
       "      <td>312739</td>\n",
       "      <td>0</td>\n",
       "      <td>2118</td>\n",
       "      <td>183626</td>\n",
       "      <td>0</td>\n",
       "      <td>0</td>\n",
       "      <td>0</td>\n",
       "      <td>0</td>\n",
       "      <td>1</td>\n",
       "      <td>0</td>\n",
       "      <td>0</td>\n",
       "      <td>0.0</td>\n",
       "    </tr>\n",
       "    <tr>\n",
       "      <th>1081</th>\n",
       "      <td>3</td>\n",
       "      <td>2</td>\n",
       "      <td>1</td>\n",
       "      <td>0</td>\n",
       "      <td>315</td>\n",
       "      <td>3413328</td>\n",
       "      <td>5759232</td>\n",
       "      <td>8626519</td>\n",
       "      <td>6663594</td>\n",
       "      <td>1018428</td>\n",
       "      <td>14572408</td>\n",
       "      <td>0</td>\n",
       "      <td>0</td>\n",
       "      <td>1</td>\n",
       "      <td>0</td>\n",
       "      <td>0</td>\n",
       "      <td>0.0</td>\n",
       "    </tr>\n",
       "    <tr>\n",
       "      <th>1082</th>\n",
       "      <td>3</td>\n",
       "      <td>0</td>\n",
       "      <td>0</td>\n",
       "      <td>0</td>\n",
       "      <td>761</td>\n",
       "      <td>0</td>\n",
       "      <td>0</td>\n",
       "      <td>576</td>\n",
       "      <td>17285</td>\n",
       "      <td>0</td>\n",
       "      <td>29666</td>\n",
       "      <td>0</td>\n",
       "      <td>0</td>\n",
       "      <td>1</td>\n",
       "      <td>0</td>\n",
       "      <td>0</td>\n",
       "      <td>56.0</td>\n",
       "    </tr>\n",
       "  </tbody>\n",
       "</table>\n",
       "</div>"
      ],
      "text/plain": [
       "      single_count  freq_billboard  freq_genius  freq_theSource  freq_xxl  \\\n",
       "1078             0               0            0               1        45   \n",
       "1079             0               0            0               0         0   \n",
       "1080             5               0            0               0         0   \n",
       "1081             3               2            1               0       315   \n",
       "1082             3               0            0               0       761   \n",
       "\n",
       "      twitter  instagram  facebook  spotify  soundcloud   youtube  genre_funk  \\\n",
       "1078     9660          0     83296    84892        6447     99022           0   \n",
       "1079     1803       3011     11537     5337         711         0           0   \n",
       "1080   312739          0      2118   183626           0         0           0   \n",
       "1081  3413328    5759232   8626519  6663594     1018428  14572408           0   \n",
       "1082        0          0       576    17285           0     29666           0   \n",
       "\n",
       "      genre_hiphop  genre_pop  genre_rnb  genre_soul  rating  \n",
       "1078             0          1          0           0     0.0  \n",
       "1079             0          1          0           0     0.0  \n",
       "1080             0          1          0           0     0.0  \n",
       "1081             0          1          0           0     0.0  \n",
       "1082             0          1          0           0    56.0  "
      ]
     },
     "execution_count": 15,
     "metadata": {},
     "output_type": "execute_result"
    }
   ],
   "source": [
    "dfX.tail()"
   ]
  },
  {
   "cell_type": "code",
   "execution_count": 16,
   "metadata": {},
   "outputs": [
    {
     "data": {
      "text/plain": [
       "1078    0\n",
       "1079    0\n",
       "1080    0\n",
       "1081    1\n",
       "1082    0\n",
       "Name: label, dtype: int64"
      ]
     },
     "execution_count": 16,
     "metadata": {},
     "output_type": "execute_result"
    }
   ],
   "source": [
    "dfy.tail()"
   ]
  },
  {
   "cell_type": "code",
   "execution_count": 17,
   "metadata": {},
   "outputs": [],
   "source": [
    "from sklearn.model_selection import train_test_split\n",
    "X_train, X_test, y_train, y_test = train_test_split(dfX, dfy, test_size=0.3, random_state=0)"
   ]
  },
  {
   "cell_type": "code",
   "execution_count": null,
   "metadata": {},
   "outputs": [],
   "source": []
  },
  {
   "cell_type": "markdown",
   "metadata": {},
   "source": [
    "# Random Forest"
   ]
  },
  {
   "cell_type": "code",
   "execution_count": 18,
   "metadata": {},
   "outputs": [],
   "source": [
    "from sklearn.ensemble import RandomForestClassifier"
   ]
  },
  {
   "cell_type": "code",
   "execution_count": 19,
   "metadata": {},
   "outputs": [],
   "source": [
    "model = RandomForestClassifier(criterion='entropy', n_estimators=10, max_depth=10,\n",
    "                                min_samples_split=5, min_samples_leaf=5\n",
    "                                ).fit(X_train, y_train)"
   ]
  },
  {
   "cell_type": "code",
   "execution_count": 20,
   "metadata": {},
   "outputs": [
    {
     "data": {
      "text/plain": [
       "array([[589,   9],\n",
       "       [ 32, 128]])"
      ]
     },
     "execution_count": 20,
     "metadata": {},
     "output_type": "execute_result"
    }
   ],
   "source": [
    "from sklearn.metrics import confusion_matrix\n",
    "confusion_matrix(y_train, model.predict(X_train))"
   ]
  },
  {
   "cell_type": "code",
   "execution_count": 21,
   "metadata": {},
   "outputs": [
    {
     "name": "stdout",
     "output_type": "stream",
     "text": [
      "             precision    recall  f1-score   support\n",
      "\n",
      "          0       0.95      0.98      0.97       598\n",
      "          1       0.93      0.80      0.86       160\n",
      "\n",
      "avg / total       0.95      0.95      0.94       758\n",
      "\n"
     ]
    }
   ],
   "source": [
    "from sklearn.metrics import classification_report\n",
    "print(classification_report(y_train, model.predict(X_train)))"
   ]
  },
  {
   "cell_type": "code",
   "execution_count": 22,
   "metadata": {},
   "outputs": [
    {
     "data": {
      "text/plain": [
       "array([[247,  11],\n",
       "       [ 22,  45]])"
      ]
     },
     "execution_count": 22,
     "metadata": {},
     "output_type": "execute_result"
    }
   ],
   "source": [
    "confusion_matrix(y_test, model.predict(X_test))"
   ]
  },
  {
   "cell_type": "code",
   "execution_count": 23,
   "metadata": {},
   "outputs": [
    {
     "name": "stdout",
     "output_type": "stream",
     "text": [
      "             precision    recall  f1-score   support\n",
      "\n",
      "          0       0.92      0.96      0.94       258\n",
      "          1       0.80      0.67      0.73        67\n",
      "\n",
      "avg / total       0.89      0.90      0.89       325\n",
      "\n"
     ]
    }
   ],
   "source": [
    "print(classification_report(y_test, model.predict(X_test)))"
   ]
  },
  {
   "cell_type": "code",
   "execution_count": 24,
   "metadata": {},
   "outputs": [],
   "source": [
    "from sklearn.metrics import roc_curve\n",
    "\n",
    "fpr, tpr, thresholds = roc_curve(y_test, model.predict_proba(X_test)[:, 1])"
   ]
  },
  {
   "cell_type": "code",
   "execution_count": 25,
   "metadata": {},
   "outputs": [],
   "source": [
    "import matplotlib.pyplot as plt\n",
    "\n",
    "def draw_roc():\n",
    "   \n",
    "    plt.figure(figsize=(10, 10))\n",
    "\n",
    "    plt.plot(fpr, tpr, label=\"roc curve\")\n",
    "    plt.legend()\n",
    "    plt.plot([0, 1], [0, 1], 'k--', label=\"random guess\")\n",
    "    plt.xlabel('False Positive Rate (Fall-Out)')\n",
    "    plt.ylabel('True Positive Rate (Recall)')\n",
    "    plt.title('Receiver operating characteristic example')\n",
    "    plt.show()"
   ]
  },
  {
   "cell_type": "code",
   "execution_count": 26,
   "metadata": {},
   "outputs": [
    {
     "data": {
      "image/png": "[encoded data removed]",
      "text/plain": [
       "<matplotlib.figure.Figure at 0x11436d9b0>"
      ]
     },
     "metadata": {},
     "output_type": "display_data"
    }
   ],
   "source": [
    "draw_roc()"
   ]
  },
  {
   "cell_type": "code",
   "execution_count": 27,
   "metadata": {},
   "outputs": [
    {
     "data": {
      "text/plain": [
       "0.937550618998033"
      ]
     },
     "execution_count": 27,
     "metadata": {},
     "output_type": "execute_result"
    }
   ],
   "source": [
    "from sklearn.metrics import auc\n",
    "\n",
    "auc(fpr, tpr)"
   ]
  },
  {
   "cell_type": "code",
   "execution_count": 28,
   "metadata": {},
   "outputs": [
    {
     "name": "stdout",
     "output_type": "stream",
     "text": [
      "single_count 0.027193363048494058\n",
      "freq_billboard 0.0036237052772300936\n",
      "freq_genius 0.02042445063325533\n",
      "freq_theSource 0.048320943955846664\n",
      "freq_xxl 0.09827521170738368\n",
      "twitter 0.08813296231192173\n",
      "instagram 0.08895039718353867\n",
      "facebook 0.040958785974519143\n",
      "spotify 0.1908051255158394\n",
      "soundcloud 0.1740719879712169\n",
      "youtube 0.0581600898129672\n",
      "genre_funk 0.0\n",
      "genre_hiphop 0.013693270317899974\n",
      "genre_pop 0.0765418441135443\n",
      "genre_rnb 0.004367522787791372\n",
      "genre_soul 0.0027618624630419654\n",
      "rating 0.06371847692550951\n"
     ]
    }
   ],
   "source": [
    "for name, importance in zip(X_train.columns, model.feature_importances_):\n",
    "    print(name, importance)"
   ]
  },
  {
   "cell_type": "code",
   "execution_count": 29,
   "metadata": {},
   "outputs": [],
   "source": [
    "scores_dict = {num_trees:[] for num_trees in np.logspace(start=1,stop=3.478,num=20).astype(int)}\n",
    "oob_err_dict = {num_trees:0 for num_trees in np.logspace(start=1,stop=3.478,num=20).astype(int)}\n",
    "k = 10\n",
    "for num_trees in np.logspace(start=1,stop=3.478,num=20).astype(int):\n",
    "    warnings.filterwarnings(\"ignore\")\n",
    "    clf = RandomForestClassifier(n_estimators=num_trees, n_jobs=-1, max_depth=10, oob_score=True)\n",
    "    scores = cross_val_score(clf, X_train, y_train, cv=k, n_jobs=-1)\n",
    "    model = clf.fit(X_train, y_train)\n",
    "    preds = model.predict(X_test)\n",
    "    precision = precision_score(y_test, preds)\n",
    "    recall = recall_score(y_test, preds)\n",
    "    f1 = f1_score(y_test, preds)\n",
    "    scores_dict[num_trees].append([scores.mean(), precision, recall, f1])\n",
    "    temp_oob = 1 - clf.oob_score_\n",
    "    oob_err_dict[num_trees] = temp_oob"
   ]
  },
  {
   "cell_type": "code",
   "execution_count": 30,
   "metadata": {},
   "outputs": [
    {
     "data": {
      "image/png": "[encoded data removed]",
      "text/plain": [
       "<matplotlib.figure.Figure at 0x1143614e0>"
      ]
     },
     "metadata": {},
     "output_type": "display_data"
    }
   ],
   "source": [
    "fig, ax = plt.subplots(figsize=(12,10))\n",
    "ax.semilogx(list(scores_dict.keys()),[elem[0][0] for elem in scores_dict.values()], '-', label='Mean 10-Fold Accuracy')\n",
    "ax.semilogx(list(scores_dict.keys()),[elem[0][1] for elem in scores_dict.values()], '-', label='Precision')\n",
    "ax.semilogx(list(scores_dict.keys()),[elem[0][2] for elem in scores_dict.values()], '-', label='Recall')\n",
    "ax.semilogx(list(scores_dict.keys()),[elem[0][3] for elem in scores_dict.values()], '-', label='F1')\n",
    "ax.legend()\n",
    "ax.set_xlabel('Number of Trees')\n",
    "ax.set_ylabel('Measure')\n",
    "# ax.set_ylim(0.89,1.)\n",
    "plt.show()"
   ]
  },
  {
   "cell_type": "markdown",
   "metadata": {},
   "source": [
    "# 낮게 나옴"
   ]
  },
  {
   "cell_type": "code",
   "execution_count": null,
   "metadata": {},
   "outputs": [],
   "source": []
  },
  {
   "cell_type": "code",
   "execution_count": null,
   "metadata": {},
   "outputs": [],
   "source": []
  },
  {
   "cell_type": "code",
   "execution_count": null,
   "metadata": {},
   "outputs": [],
   "source": []
  },
  {
   "cell_type": "code",
   "execution_count": null,
   "metadata": {},
   "outputs": [],
   "source": []
  },
  {
   "cell_type": "code",
   "execution_count": null,
   "metadata": {},
   "outputs": [],
   "source": []
  },
  {
   "cell_type": "code",
   "execution_count": null,
   "metadata": {},
   "outputs": [],
   "source": []
  },
  {
   "cell_type": "code",
   "execution_count": null,
   "metadata": {},
   "outputs": [],
   "source": []
  },
  {
   "cell_type": "code",
   "execution_count": null,
   "metadata": {},
   "outputs": [],
   "source": []
  },
  {
   "cell_type": "code",
   "execution_count": null,
   "metadata": {},
   "outputs": [],
   "source": []
  },
  {
   "cell_type": "code",
   "execution_count": null,
   "metadata": {},
   "outputs": [],
   "source": []
  },
  {
   "cell_type": "code",
   "execution_count": 31,
   "metadata": {},
   "outputs": [],
   "source": [
    "from imblearn.under_sampling import *"
   ]
  },
  {
   "cell_type": "code",
   "execution_count": 41,
   "metadata": {
    "scrolled": false
   },
   "outputs": [
    {
     "name": "stdout",
     "output_type": "stream",
     "text": [
      "<class 'imblearn.under_sampling.prototype_generation.cluster_centroids.ClusterCentroids'> : \n",
      " [[175  83]\n",
      " [ 12  55]]\n",
      "<class 'imblearn.under_sampling.prototype_generation.cluster_centroids.ClusterCentroids'> : \n",
      "              precision    recall  f1-score   support\n",
      "\n",
      "          0       0.94      0.68      0.79       258\n",
      "          1       0.40      0.82      0.54        67\n",
      "\n",
      "avg / total       0.83      0.71      0.73       325\n",
      "\n",
      "0.83819275714451\n",
      "<class 'imblearn.under_sampling.prototype_selection.random_under_sampler.RandomUnderSampler'> : \n",
      " [[227  31]\n",
      " [ 12  55]]\n",
      "<class 'imblearn.under_sampling.prototype_selection.random_under_sampler.RandomUnderSampler'> : \n",
      "              precision    recall  f1-score   support\n",
      "\n",
      "          0       0.95      0.88      0.91       258\n",
      "          1       0.64      0.82      0.72        67\n",
      "\n",
      "avg / total       0.89      0.87      0.87       325\n",
      "\n",
      "0.9300011570056693\n",
      "<class 'imblearn.under_sampling.prototype_selection.condensed_nearest_neighbour.CondensedNearestNeighbour'> : \n",
      " [[237  21]\n",
      " [ 21  46]]\n",
      "<class 'imblearn.under_sampling.prototype_selection.condensed_nearest_neighbour.CondensedNearestNeighbour'> : \n",
      "              precision    recall  f1-score   support\n",
      "\n",
      "          0       0.92      0.92      0.92       258\n",
      "          1       0.69      0.69      0.69        67\n",
      "\n",
      "avg / total       0.87      0.87      0.87       325\n",
      "\n",
      "0.9176790466273285\n",
      "<class 'imblearn.under_sampling.prototype_selection.edited_nearest_neighbours.EditedNearestNeighbours'> : \n",
      " [[227  31]\n",
      " [ 17  50]]\n",
      "<class 'imblearn.under_sampling.prototype_selection.edited_nearest_neighbours.EditedNearestNeighbours'> : \n",
      "              precision    recall  f1-score   support\n",
      "\n",
      "          0       0.93      0.88      0.90       258\n",
      "          1       0.62      0.75      0.68        67\n",
      "\n",
      "avg / total       0.87      0.85      0.86       325\n",
      "\n",
      "0.9023487215087355\n",
      "<class 'imblearn.under_sampling.prototype_selection.edited_nearest_neighbours.RepeatedEditedNearestNeighbours'> : \n",
      " [[213  45]\n",
      " [ 12  55]]\n",
      "<class 'imblearn.under_sampling.prototype_selection.edited_nearest_neighbours.RepeatedEditedNearestNeighbours'> : \n",
      "              precision    recall  f1-score   support\n",
      "\n",
      "          0       0.95      0.83      0.88       258\n",
      "          1       0.55      0.82      0.66        67\n",
      "\n",
      "avg / total       0.86      0.82      0.84       325\n",
      "\n",
      "0.9080180492884414\n",
      "<class 'imblearn.under_sampling.prototype_selection.edited_nearest_neighbours.AllKNN'> : \n",
      " [[220  38]\n",
      " [ 13  54]]\n",
      "<class 'imblearn.under_sampling.prototype_selection.edited_nearest_neighbours.AllKNN'> : \n",
      "              precision    recall  f1-score   support\n",
      "\n",
      "          0       0.94      0.85      0.90       258\n",
      "          1       0.59      0.81      0.68        67\n",
      "\n",
      "avg / total       0.87      0.84      0.85       325\n",
      "\n",
      "0.8989066296424852\n",
      "<class 'imblearn.under_sampling.prototype_selection.instance_hardness_threshold.InstanceHardnessThreshold'> : \n",
      " [[212  46]\n",
      " [  8  59]]\n",
      "<class 'imblearn.under_sampling.prototype_selection.instance_hardness_threshold.InstanceHardnessThreshold'> : \n",
      "              precision    recall  f1-score   support\n",
      "\n",
      "          0       0.96      0.82      0.89       258\n",
      "          1       0.56      0.88      0.69        67\n",
      "\n",
      "avg / total       0.88      0.83      0.85       325\n",
      "\n",
      "0.916579891241467\n",
      "<class 'imblearn.under_sampling.prototype_selection.nearmiss.NearMiss'> : \n",
      " [[114 144]\n",
      " [  4  63]]\n",
      "<class 'imblearn.under_sampling.prototype_selection.nearmiss.NearMiss'> : \n",
      "              precision    recall  f1-score   support\n",
      "\n",
      "          0       0.97      0.44      0.61       258\n",
      "          1       0.30      0.94      0.46        67\n",
      "\n",
      "avg / total       0.83      0.54      0.58       325\n",
      "\n",
      "0.7947471942612518\n",
      "<class 'imblearn.under_sampling.prototype_selection.neighbourhood_cleaning_rule.NeighbourhoodCleaningRule'> : \n",
      " [[228  30]\n",
      " [ 17  50]]\n",
      "<class 'imblearn.under_sampling.prototype_selection.neighbourhood_cleaning_rule.NeighbourhoodCleaningRule'> : \n",
      "              precision    recall  f1-score   support\n",
      "\n",
      "          0       0.93      0.88      0.91       258\n",
      "          1       0.62      0.75      0.68        67\n",
      "\n",
      "avg / total       0.87      0.86      0.86       325\n",
      "\n",
      "0.9052990859655212\n",
      "<class 'imblearn.under_sampling.prototype_selection.one_sided_selection.OneSidedSelection'> : \n",
      " [[242  16]\n",
      " [ 23  44]]\n",
      "<class 'imblearn.under_sampling.prototype_selection.one_sided_selection.OneSidedSelection'> : \n",
      "              precision    recall  f1-score   support\n",
      "\n",
      "          0       0.91      0.94      0.93       258\n",
      "          1       0.73      0.66      0.69        67\n",
      "\n",
      "avg / total       0.88      0.88      0.88       325\n",
      "\n",
      "0.914497281036677\n",
      "<class 'imblearn.under_sampling.prototype_selection.tomek_links.TomekLinks'> : \n",
      " [[242  16]\n",
      " [ 25  42]]\n",
      "<class 'imblearn.under_sampling.prototype_selection.tomek_links.TomekLinks'> : \n",
      "              precision    recall  f1-score   support\n",
      "\n",
      "          0       0.91      0.94      0.92       258\n",
      "          1       0.72      0.63      0.67        67\n",
      "\n",
      "avg / total       0.87      0.87      0.87       325\n",
      "\n",
      "0.9094064560916348\n"
     ]
    },
    {
     "name": "stderr",
     "output_type": "stream",
     "text": [
      "/Library/Frameworks/Python.framework/Versions/3.6/lib/python3.6/site-packages/imblearn/under_sampling/prototype_selection/one_sided_selection.py:197: DeprecationWarning: in the future out of bounds indices will raise an error instead of being ignored by `numpy.delete`.\n",
      "  idx_maj_extracted = np.delete(idx_maj, idx_maj_sample, axis=0)\n"
     ]
    }
   ],
   "source": [
    "for us in [ClusterCentroids, RandomUnderSampler, CondensedNearestNeighbour, EditedNearestNeighbours, RepeatedEditedNearestNeighbours, AllKNN, InstanceHardnessThreshold, NearMiss, NeighbourhoodCleaningRule, OneSidedSelection, TomekLinks]:\n",
    "    rus = us(random_state=0)\n",
    "    X_resampled_rus, y_resampled_rus = rus.fit_sample(X_train, y_train)\n",
    "    model2 = RandomForestClassifier(criterion='entropy', n_estimators=10, max_depth=10,\n",
    "                                min_samples_split=2 , min_samples_leaf=1\n",
    "                                ).fit(X_resampled_rus, y_resampled_rus)\n",
    "    print(\"{} : \\n\".format(str(us)), confusion_matrix(y_test, model2.predict(X_test)))\n",
    "    print(\"{} : \\n\".format(str(us)), classification_report(y_test, model2.predict(X_test)))\n",
    "    fpr, tpr, thresholds = roc_curve(y_test, model2.predict_proba(X_test)[:, 1])\n",
    "    print(auc(fpr, tpr))\n",
    "    \"\\n\""
   ]
  },
  {
   "cell_type": "markdown",
   "metadata": {},
   "source": [
    "### Random Under Sampling"
   ]
  },
  {
   "cell_type": "code",
   "execution_count": 46,
   "metadata": {},
   "outputs": [],
   "source": [
    "from sklearn.model_selection import train_test_split\n",
    "X_train, X_test, y_train, y_test = train_test_split(dfX, dfy, test_size=0.25, random_state=0)"
   ]
  },
  {
   "cell_type": "code",
   "execution_count": 47,
   "metadata": {},
   "outputs": [],
   "source": [
    "rus = RandomUnderSampler(random_state=0)\n",
    "X_resampled_rus, y_resampled_rus = rus.fit_sample(X_train, y_train)"
   ]
  },
  {
   "cell_type": "markdown",
   "metadata": {},
   "source": [
    "### grid search on number of trees"
   ]
  },
  {
   "cell_type": "code",
   "execution_count": 48,
   "metadata": {},
   "outputs": [],
   "source": [
    "scores_dict = {num_trees:[] for num_trees in np.logspace(start=1,stop=3.478,num=20).astype(int)}\n",
    "oob_err_dict = {num_trees:0 for num_trees in np.logspace(start=1,stop=3.478,num=20).astype(int)}\n",
    "k = 10\n",
    "for num_trees in np.logspace(start=1,stop=3.478,num=20).astype(int):\n",
    "    warnings.filterwarnings(\"ignore\")\n",
    "    clf = RandomForestClassifier(n_estimators=num_trees, n_jobs=-1, max_depth=10, oob_score=True)\n",
    "    scores = cross_val_score(clf, X_resampled_rus, y_resampled_rus, cv=k, n_jobs=-1)\n",
    "    model = clf.fit(X_resampled_rus, y_resampled_rus)\n",
    "    preds = model.predict(X_test)\n",
    "    precision = precision_score(y_test, preds)\n",
    "    recall = recall_score(y_test, preds)\n",
    "    f1 = f1_score(y_test, preds)\n",
    "    scores_dict[num_trees].append([scores.mean(), precision, recall, f1])\n",
    "    temp_oob = 1 - clf.oob_score_\n",
    "    oob_err_dict[num_trees] = temp_oob"
   ]
  },
  {
   "cell_type": "code",
   "execution_count": 89,
   "metadata": {},
   "outputs": [
    {
     "data": {
      "image/png": "[encoded data removed]",
      "text/plain": [
       "<matplotlib.figure.Figure at 0x1147467f0>"
      ]
     },
     "metadata": {},
     "output_type": "display_data"
    }
   ],
   "source": [
    "fig, ax = plt.subplots(figsize=(12,10))\n",
    "ax.semilogx(list(scores_dict.keys()),[elem[0][0] for elem in scores_dict.values()], '-', label='Mean 10-Fold Accuracy')\n",
    "ax.semilogx(list(scores_dict.keys()),[elem[0][1] for elem in scores_dict.values()], '-', label='Precision')\n",
    "ax.semilogx(list(scores_dict.keys()),[elem[0][2] for elem in scores_dict.values()], '-', label='Recall')\n",
    "ax.semilogx(list(scores_dict.keys()),[elem[0][3] for elem in scores_dict.values()], '-', label='F1')\n",
    "ax.legend()\n",
    "ax.set_xlabel('Number of trees')\n",
    "ax.set_ylabel('Measure')\n",
    "plt.show()"
   ]
  },
  {
   "cell_type": "markdown",
   "metadata": {},
   "source": [
    "- 80% 이상라는 Recall의 기준은 달성했다.\n",
    "- 다음 단계는 Precision이 최고일 때의 파라미터를 찾는 것이다. 80~90개 사이의 tree에서 precision이 최고치를 나타내는 것을 볼 수 있다."
   ]
  },
  {
   "cell_type": "code",
   "execution_count": null,
   "metadata": {},
   "outputs": [],
   "source": []
  },
  {
   "cell_type": "code",
   "execution_count": null,
   "metadata": {},
   "outputs": [],
   "source": []
  },
  {
   "cell_type": "markdown",
   "metadata": {},
   "source": [
    "# Grid Search"
   ]
  },
  {
   "cell_type": "code",
   "execution_count": 55,
   "metadata": {},
   "outputs": [],
   "source": [
    "from sklearn.model_selection import GridSearchCV"
   ]
  },
  {
   "cell_type": "code",
   "execution_count": 56,
   "metadata": {},
   "outputs": [],
   "source": [
    "rfc = RandomForestClassifier()"
   ]
  },
  {
   "cell_type": "code",
   "execution_count": 60,
   "metadata": {},
   "outputs": [],
   "source": [
    "param_grid = {\n",
    "    'bootstrap': [True],\n",
    "     'class_weight': [None],\n",
    "    'criterion': ['entropy', 'gini'],\n",
    "    'max_depth': [None, 3, 5, 7, 10, 12, 15],\n",
    "    'max_features': ['auto'],\n",
    "    'max_leaf_nodes': [None],\n",
    "    'min_impurity_decrease': [0.0],\n",
    "    'min_impurity_split': [None],\n",
    "    'min_samples_leaf': [1, 2, 3, 4, 5, 7],\n",
    "    'min_samples_split': [2, 3, 4, 5],\n",
    "    'min_weight_fraction_leaf': [0.0],\n",
    "    'n_estimators': [3, 5, 7, 10, 13, 15, 17, 20, 23, 25],\n",
    "    'random_state': [None],\n",
    "     'oob_score': [False],\n",
    "     'verbose': [0],\n",
    "     'warm_start': [False]\n",
    "}"
   ]
  },
  {
   "cell_type": "code",
   "execution_count": 61,
   "metadata": {},
   "outputs": [],
   "source": [
    "gs = GridSearchCV(estimator=rfc, param_grid=param_grid, scoring='recall', cv=10, n_jobs=1)"
   ]
  },
  {
   "cell_type": "code",
   "execution_count": 64,
   "metadata": {},
   "outputs": [
    {
     "name": "stdout",
     "output_type": "stream",
     "text": [
      "CPU times: user 1h 32min 3s, sys: 47.4 s, total: 1h 32min 50s\n",
      "Wall time: 1h 37min 8s\n"
     ]
    }
   ],
   "source": [
    "%%time\n",
    "gs_result = gs.fit(X_resampled_rus, y_resampled_rus)"
   ]
  },
  {
   "cell_type": "code",
   "execution_count": 65,
   "metadata": {},
   "outputs": [
    {
     "data": {
      "text/plain": [
       "0.8888888888888888"
      ]
     },
     "execution_count": 65,
     "metadata": {},
     "output_type": "execute_result"
    }
   ],
   "source": [
    "gs.best_score_"
   ]
  },
  {
   "cell_type": "code",
   "execution_count": 66,
   "metadata": {},
   "outputs": [
    {
     "data": {
      "text/plain": [
       "{'bootstrap': True,\n",
       " 'class_weight': None,\n",
       " 'criterion': 'entropy',\n",
       " 'max_depth': 10,\n",
       " 'max_features': 'auto',\n",
       " 'max_leaf_nodes': None,\n",
       " 'min_impurity_decrease': 0.0,\n",
       " 'min_impurity_split': None,\n",
       " 'min_samples_leaf': 4,\n",
       " 'min_samples_split': 3,\n",
       " 'min_weight_fraction_leaf': 0.0,\n",
       " 'n_estimators': 10,\n",
       " 'oob_score': False,\n",
       " 'random_state': None,\n",
       " 'verbose': 0,\n",
       " 'warm_start': False}"
      ]
     },
     "execution_count": 66,
     "metadata": {},
     "output_type": "execute_result"
    }
   ],
   "source": [
    "gs.best_params_"
   ]
  },
  {
   "cell_type": "code",
   "execution_count": 67,
   "metadata": {},
   "outputs": [
    {
     "data": {
      "text/plain": [
       "0.8928571428571429"
      ]
     },
     "execution_count": 67,
     "metadata": {},
     "output_type": "execute_result"
    }
   ],
   "source": [
    "gs.score(X_test,y_test)"
   ]
  },
  {
   "cell_type": "code",
   "execution_count": null,
   "metadata": {},
   "outputs": [],
   "source": []
  },
  {
   "cell_type": "markdown",
   "metadata": {},
   "source": [
    "# Apply GridSearchCV Best Parameter"
   ]
  },
  {
   "cell_type": "code",
   "execution_count": 84,
   "metadata": {},
   "outputs": [],
   "source": [
    "model = RandomForestClassifier(criterion='entropy', n_estimators=10, max_depth=10,\n",
    "                                min_samples_split=3, min_samples_leaf=4\n",
    "                                ).fit(X_resampled_rus, y_resampled_rus)"
   ]
  },
  {
   "cell_type": "code",
   "execution_count": 85,
   "metadata": {},
   "outputs": [
    {
     "name": "stdout",
     "output_type": "stream",
     "text": [
      "[[154  17]\n",
      " [ 13 158]]\n"
     ]
    }
   ],
   "source": [
    "print(confusion_matrix(y_resampled_rus, model.predict(X_resampled_rus)))"
   ]
  },
  {
   "cell_type": "code",
   "execution_count": 86,
   "metadata": {},
   "outputs": [
    {
     "name": "stdout",
     "output_type": "stream",
     "text": [
      "             precision    recall  f1-score   support\n",
      "\n",
      "          0       0.92      0.90      0.91       171\n",
      "          1       0.90      0.92      0.91       171\n",
      "\n",
      "avg / total       0.91      0.91      0.91       342\n",
      "\n"
     ]
    }
   ],
   "source": [
    "print(classification_report(y_resampled_rus, model.predict(X_resampled_rus)))"
   ]
  },
  {
   "cell_type": "code",
   "execution_count": 87,
   "metadata": {},
   "outputs": [
    {
     "name": "stdout",
     "output_type": "stream",
     "text": [
      "[[179  36]\n",
      " [  5  51]]\n"
     ]
    }
   ],
   "source": [
    "print(confusion_matrix(y_test, model.predict(X_test)))"
   ]
  },
  {
   "cell_type": "code",
   "execution_count": 88,
   "metadata": {},
   "outputs": [
    {
     "name": "stdout",
     "output_type": "stream",
     "text": [
      "             precision    recall  f1-score   support\n",
      "\n",
      "          0       0.97      0.83      0.90       215\n",
      "          1       0.59      0.91      0.71        56\n",
      "\n",
      "avg / total       0.89      0.85      0.86       271\n",
      "\n"
     ]
    }
   ],
   "source": [
    "print(classification_report(y_test, model.predict(X_test)))"
   ]
  },
  {
   "cell_type": "code",
   "execution_count": null,
   "metadata": {},
   "outputs": [],
   "source": []
  },
  {
   "cell_type": "code",
   "execution_count": null,
   "metadata": {},
   "outputs": [],
   "source": []
  },
  {
   "cell_type": "markdown",
   "metadata": {},
   "source": [
    "# Grid Search for Best Precision"
   ]
  },
  {
   "cell_type": "code",
   "execution_count": 90,
   "metadata": {},
   "outputs": [],
   "source": [
    "param_grid = {\n",
    "    'bootstrap': [True],\n",
    "     'class_weight': [None],\n",
    "    'criterion': ['entropy', 'gini'],\n",
    "    'max_depth': [None, 3, 5, 7, 10, 12, 15],\n",
    "    'max_features': ['auto'],\n",
    "    'max_leaf_nodes': [None],\n",
    "    'min_impurity_decrease': [0.0],\n",
    "    'min_impurity_split': [None],\n",
    "    'min_samples_leaf': [1, 2, 3, 4, 5, 7],\n",
    "    'min_samples_split': [2, 3, 4, 5],\n",
    "    'min_weight_fraction_leaf': [0.0],\n",
    "    'n_estimators': [3, 5, 7, 10, 13, 15, 17, 20, 23, 25],\n",
    "    'random_state': [None],\n",
    "     'oob_score': [False],\n",
    "     'verbose': [0],\n",
    "     'warm_start': [False]\n",
    "}"
   ]
  },
  {
   "cell_type": "code",
   "execution_count": 91,
   "metadata": {},
   "outputs": [],
   "source": [
    "gs2 = GridSearchCV(estimator=rfc, param_grid=param_grid, scoring='precision', cv=10, n_jobs=1)"
   ]
  },
  {
   "cell_type": "code",
   "execution_count": null,
   "metadata": {},
   "outputs": [],
   "source": [
    "%%time\n",
    "gs_result = gs.fit(X_resampled_rus, y_resampled_rus)"
   ]
  },
  {
   "cell_type": "code",
   "execution_count": null,
   "metadata": {},
   "outputs": [],
   "source": []
  },
  {
   "cell_type": "code",
   "execution_count": null,
   "metadata": {},
   "outputs": [],
   "source": []
  },
  {
   "cell_type": "code",
   "execution_count": null,
   "metadata": {},
   "outputs": [],
   "source": []
  },
  {
   "cell_type": "code",
   "execution_count": null,
   "metadata": {},
   "outputs": [],
   "source": []
  }
 ],
 "metadata": {
  "kernelspec": {
   "display_name": "Python 3",
   "language": "python",
   "name": "python3"
  },
  "language_info": {
   "codemirror_mode": {
    "name": "ipython",
    "version": 3
   },
   "file_extension": ".py",
   "mimetype": "text/x-python",
   "name": "python",
   "nbconvert_exporter": "python",
   "pygments_lexer": "ipython3",
   "version": "3.6.2"
  }
 },
 "nbformat": 4,
 "nbformat_minor": 2
}
