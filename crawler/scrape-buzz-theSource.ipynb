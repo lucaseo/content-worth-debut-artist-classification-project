{
 "cells": [
  {
   "cell_type": "code",
   "execution_count": null,
   "metadata": {},
   "outputs": [],
   "source": [
    "import pandas as pd\n",
    "\n",
    "import requests\n",
    "from bs4 import BeautifulSoup\n",
    "import json\n",
    "from urllib.request import urlopen\n",
    "\n",
    "from tqdm import tqdm_notebook\n",
    "import unidecode\n",
    "\n",
    "import threading"
   ]
  },
  {
   "cell_type": "code",
   "execution_count": null,
   "metadata": {},
   "outputs": [],
   "source": [
    "df_debut = pd.read_csv(\"../data/debut_album_1118-utf8.csv\")\n",
    "df_debut.tail()"
   ]
  },
  {
   "cell_type": "code",
   "execution_count": null,
   "metadata": {},
   "outputs": [],
   "source": [
    "def get_thesource1():\n",
    "    \n",
    "#     df_articles = pd.DataFrame(columns = ['artist', 'album', 'theSource_frequency'])\n",
    "    \n",
    "    for i in tqdm_notebook(range(len(list(tmp1['artist'])))):\n",
    "    \n",
    "        artist = tmp1['artist'][i]\n",
    "        album = tmp1['album'][i]\n",
    "\n",
    "        artist_ = artist.replace(\" \", \"+\")\n",
    "        album_ = album.replace(\" \", \"+\")\n",
    "\n",
    "        keyword = artist_ + \"+\" + album_\n",
    "\n",
    "        page_num = 1\n",
    "        article_count = 0\n",
    "    \n",
    "        while True:\n",
    "            \n",
    "            url = 'http://thesource.com/page/' + str(page_num) + '/?s=' + keyword\n",
    "            response = requests.get(url)\n",
    "            soup = BeautifulSoup(response.content, \"html.parser\")\n",
    "            tmp_tag = soup.find(id = \"main\")\n",
    "            \n",
    "            if soup.find(id = \"post-not-found\") != None:\n",
    "                break\n",
    "            else:\n",
    "                pass\n",
    "            \n",
    "            count = len(tmp_tag.find_all(\"article\"))\n",
    "            \n",
    "            article_count += count\n",
    "            page_num += 1\n",
    "            \n",
    "            if article_count > 199:\n",
    "                break\n",
    "        \n",
    "        data = {\n",
    "            'artist' : artist,\n",
    "            'album' : album,\n",
    "            'theSource_frequency' : article_count,\n",
    "        }\n",
    "        \n",
    "#         print(data)\n",
    "        \n",
    "        result_1.loc[len(result_1)] = data\n",
    "        \n",
    "    return result_1"
   ]
  },
  {
   "cell_type": "code",
   "execution_count": null,
   "metadata": {},
   "outputs": [],
   "source": [
    "def get_thesource2():\n",
    "    \n",
    "#     df_articles = pd.DataFrame(columns = ['artist', 'album', 'theSource_frequency'])\n",
    "    \n",
    "    for i in tqdm_notebook(range(len(list(tmp2['artist'])))):\n",
    "    \n",
    "        artist = tmp2['artist'][i]\n",
    "        album = tmp2['album'][i]\n",
    "\n",
    "        artist_ = artist.replace(\" \", \"+\")\n",
    "        album_ = album.replace(\" \", \"+\")\n",
    "\n",
    "        keyword = artist_ + \"+\" + album_\n",
    "\n",
    "        page_num = 1\n",
    "        article_count = 0\n",
    "    \n",
    "        while True:\n",
    "            \n",
    "            url = 'http://thesource.com/page/' + str(page_num) + '/?s=' + keyword\n",
    "            response = requests.get(url)\n",
    "            soup = BeautifulSoup(response.content, \"html.parser\")\n",
    "            tmp_tag = soup.find(id = \"main\")\n",
    "            \n",
    "            if soup.find(id = \"post-not-found\") != None:\n",
    "                break\n",
    "            else:\n",
    "                pass\n",
    "            \n",
    "            count = len(tmp_tag.find_all(\"article\"))\n",
    "            \n",
    "            article_count += count\n",
    "            page_num += 1\n",
    "            \n",
    "            if article_count > 199:\n",
    "                break\n",
    "        \n",
    "        data = {\n",
    "            'artist' : artist,\n",
    "            'album' : album,\n",
    "            'theSource_frequency' : article_count,\n",
    "        }\n",
    "        \n",
    "#         print(data)\n",
    "        \n",
    "        result_2.loc[len(result_2)] = data\n",
    "        \n",
    "    return result_2"
   ]
  },
  {
   "cell_type": "code",
   "execution_count": null,
   "metadata": {},
   "outputs": [],
   "source": [
    "def get_thesource3():\n",
    "    \n",
    "#     df_articles = pd.DataFrame(columns = ['artist', 'album', 'theSource_frequency'])\n",
    "    \n",
    "    for i in tqdm_notebook(range(len(list(tmp3['artist'])))):\n",
    "    \n",
    "        artist = tmp3['artist'][i]\n",
    "        album = tmp3['album'][i]\n",
    "\n",
    "        artist_ = artist.replace(\" \", \"+\")\n",
    "        album_ = album.replace(\" \", \"+\")\n",
    "\n",
    "        keyword = artist_ + \"+\" + album_\n",
    "\n",
    "        page_num = 1\n",
    "        article_count = 0\n",
    "    \n",
    "        while True:\n",
    "            \n",
    "            url = 'http://thesource.com/page/' + str(page_num) + '/?s=' + keyword\n",
    "            response = requests.get(url)\n",
    "            soup = BeautifulSoup(response.content, \"html.parser\")\n",
    "            tmp_tag = soup.find(id = \"main\")\n",
    "            \n",
    "            if soup.find(id = \"post-not-found\") != None:\n",
    "                break\n",
    "            else:\n",
    "                pass\n",
    "            \n",
    "            count = len(tmp_tag.find_all(\"article\"))\n",
    "            \n",
    "            article_count += count\n",
    "            page_num += 1\n",
    "            \n",
    "            if article_count > 199:\n",
    "                break\n",
    "        \n",
    "        data = {\n",
    "            'artist' : artist,\n",
    "            'album' : album,\n",
    "            'theSource_frequency' : article_count,\n",
    "        }\n",
    "        \n",
    "#         print(data)\n",
    "        \n",
    "        result_3.loc[len(result_3)] = data\n",
    "        \n",
    "    return result_3"
   ]
  },
  {
   "cell_type": "code",
   "execution_count": null,
   "metadata": {},
   "outputs": [],
   "source": [
    "def get_thesource4():\n",
    "    \n",
    "#     df_articles = pd.DataFrame(columns = ['artist', 'album', 'theSource_frequency'])\n",
    "    \n",
    "    for i in tqdm_notebook(range(len(list(tmp4['artist'])))):\n",
    "    \n",
    "        artist = tmp4['artist'][i]\n",
    "        album = tmp4['album'][i]\n",
    "\n",
    "        artist_ = artist.replace(\" \", \"+\")\n",
    "        album_ = album.replace(\" \", \"+\")\n",
    "\n",
    "        keyword = artist_ + \"+\" + album_\n",
    "\n",
    "        page_num = 1\n",
    "        article_count = 0\n",
    "    \n",
    "        while True:\n",
    "            \n",
    "            url = 'http://thesource.com/page/' + str(page_num) + '/?s=' + keyword\n",
    "            response = requests.get(url)\n",
    "            soup = BeautifulSoup(response.content, \"html.parser\")\n",
    "            tmp_tag = soup.find(id = \"main\")\n",
    "            \n",
    "            if soup.find(id = \"post-not-found\") != None:\n",
    "                break\n",
    "            else:\n",
    "                pass\n",
    "            \n",
    "            count = len(tmp_tag.find_all(\"article\"))\n",
    "            \n",
    "            article_count += count\n",
    "            page_num += 1\n",
    "            \n",
    "            if article_count > 199:\n",
    "                break\n",
    "        \n",
    "        data = {\n",
    "            'artist' : artist,\n",
    "            'album' : album,\n",
    "            'theSource_frequency' : article_count,\n",
    "        }\n",
    "        \n",
    "#         print(data)\n",
    "        \n",
    "        result_4.loc[len(result_4)] = data\n",
    "        \n",
    "    return result_4"
   ]
  },
  {
   "cell_type": "code",
   "execution_count": null,
   "metadata": {},
   "outputs": [],
   "source": [
    "tmp1 = df_debut.loc[:499]\n",
    "tmp2 = df_debut.loc[500:999].reset_index(drop=True)\n",
    "tmp3 = df_debut.loc[1000:1499].reset_index(drop=True)\n",
    "tmp4 = df_debut.loc[1500:1951].reset_index(drop=True)"
   ]
  },
  {
   "cell_type": "code",
   "execution_count": null,
   "metadata": {},
   "outputs": [],
   "source": [
    "result_1 = pd.DataFrame(columns = ['artist', 'album', 'theSource_frequency'])\n",
    "result_2 = pd.DataFrame(columns = ['artist', 'album', 'theSource_frequency'])\n",
    "result_3 = pd.DataFrame(columns = ['artist', 'album', 'theSource_frequency'])\n",
    "result_4 = pd.DataFrame(columns = ['artist', 'album', 'theSource_frequency'])"
   ]
  },
  {
   "cell_type": "code",
   "execution_count": null,
   "metadata": {},
   "outputs": [],
   "source": [
    "th1 = threading.Thread(target=get_thesource1)\n",
    "th1.start()"
   ]
  },
  {
   "cell_type": "code",
   "execution_count": null,
   "metadata": {},
   "outputs": [],
   "source": [
    "th2 = threading.Thread(target=get_thesource2)\n",
    "th2.start()"
   ]
  },
  {
   "cell_type": "code",
   "execution_count": null,
   "metadata": {},
   "outputs": [],
   "source": [
    "th3 = threading.Thread(target=get_thesource3)\n",
    "th3.start()"
   ]
  },
  {
   "cell_type": "code",
   "execution_count": null,
   "metadata": {
    "scrolled": true
   },
   "outputs": [],
   "source": [
    "th4 = threading.Thread(target=get_thesource4)\n",
    "th4.start()"
   ]
  },
  {
   "cell_type": "code",
   "execution_count": null,
   "metadata": {},
   "outputs": [],
   "source": [
    "print(result_1.shape)\n",
    "result_1.head()"
   ]
  },
  {
   "cell_type": "code",
   "execution_count": null,
   "metadata": {},
   "outputs": [],
   "source": [
    "print(result_2.shape)\n",
    "result_2.head()"
   ]
  },
  {
   "cell_type": "code",
   "execution_count": null,
   "metadata": {},
   "outputs": [],
   "source": [
    "print(result_3.shape)\n",
    "result_3.head()"
   ]
  },
  {
   "cell_type": "code",
   "execution_count": null,
   "metadata": {
    "scrolled": false
   },
   "outputs": [],
   "source": [
    "print(result_4.shape)\n",
    "result_4.head()"
   ]
  },
  {
   "cell_type": "code",
   "execution_count": null,
   "metadata": {},
   "outputs": [],
   "source": [
    "thesource_article = pd.concat([result_1, result_2, result_3, result_4], ignore_index=True)"
   ]
  },
  {
   "cell_type": "code",
   "execution_count": null,
   "metadata": {},
   "outputs": [],
   "source": [
    "print(thesource_article.shape)\n",
    "thesource_article.head()"
   ]
  },
  {
   "cell_type": "code",
   "execution_count": null,
   "metadata": {},
   "outputs": [],
   "source": [
    "def decodeuni(str):\n",
    "    return unidecode.unidecode(str)"
   ]
  },
  {
   "cell_type": "code",
   "execution_count": null,
   "metadata": {},
   "outputs": [],
   "source": [
    "thesource_article['artist'] = thesource_article['artist'].apply(lambda x: unidecode.unidecode(x))\n",
    "thesource_article['album'] = thesource_article['album'].apply(lambda x: unidecode.unidecode(x))\n",
    "thesource_article['artist'] = thesource_article['artist'].apply(lambda x : x.replace(\",\", \"\"))\n",
    "thesource_article['album'] = thesource_article['album'].apply(lambda x : x.replace(\",\", \"\"))"
   ]
  },
  {
   "cell_type": "code",
   "execution_count": null,
   "metadata": {},
   "outputs": [],
   "source": [
    "thesource_article.loc[2, 'album'] = '9am to 5pm 5pm to Whenever'\n",
    "thesource_article.loc[529, 'album'] = 'If You Love Me'\n",
    "thesource_article.loc[1143, 'album'] = 'Gover Tela Body Language'\n",
    "thesource_article.loc[1411, 'album'] = 'Fresh Filter Volumn 1'"
   ]
  },
  {
   "cell_type": "code",
   "execution_count": null,
   "metadata": {},
   "outputs": [],
   "source": [
    "thesource_article.shape"
   ]
  },
  {
   "cell_type": "code",
   "execution_count": null,
   "metadata": {},
   "outputs": [],
   "source": [
    "thesource_article.to_csv(\"../data/buzz/buzz_theSource.csv\", index=False, encoding=\"UTF-8\")"
   ]
  },
  {
   "cell_type": "code",
   "execution_count": null,
   "metadata": {},
   "outputs": [],
   "source": [
    "df = pd.read_csv(\"../data/buzz/buzz_theSource.csv\")"
   ]
  },
  {
   "cell_type": "code",
   "execution_count": null,
   "metadata": {},
   "outputs": [],
   "source": [
    "df.shape"
   ]
  },
  {
   "cell_type": "markdown",
   "metadata": {},
   "source": [
    "### add to mysql database"
   ]
  },
  {
   "cell_type": "code",
   "execution_count": null,
   "metadata": {},
   "outputs": [],
   "source": [
    "import sqlalchemy, pickle\n",
    "from sqlalchemy import create_engine"
   ]
  },
  {
   "cell_type": "code",
   "execution_count": null,
   "metadata": {},
   "outputs": [],
   "source": [
    "pw = pickle.load(open(\"mysql_pw.pickle\", \"rb\"))"
   ]
  },
  {
   "cell_type": "code",
   "execution_count": null,
   "metadata": {},
   "outputs": [],
   "source": [
    "engine = sqlalchemy.create_engine(\"mysql+mysqldb://root:\" + pw + \"@52.78.44.120/project_rookie\")"
   ]
  },
  {
   "cell_type": "code",
   "execution_count": null,
   "metadata": {},
   "outputs": [],
   "source": [
    "df.to_sql(name=\"buzz_theSource\", con=engine, if_exists='replace')"
   ]
  },
  {
   "cell_type": "code",
   "execution_count": null,
   "metadata": {},
   "outputs": [],
   "source": []
  }
 ],
 "metadata": {
  "kernelspec": {
   "display_name": "Python 3",
   "language": "python",
   "name": "python3"
  },
  "language_info": {
   "codemirror_mode": {
    "name": "ipython",
    "version": 3
   },
   "file_extension": ".py",
   "mimetype": "text/x-python",
   "name": "python",
   "nbconvert_exporter": "python",
   "pygments_lexer": "ipython3",
   "version": "3.6.2"
  }
 },
 "nbformat": 4,
 "nbformat_minor": 2
}
