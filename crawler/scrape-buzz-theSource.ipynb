{
 "cells": [
  {
   "cell_type": "code",
   "execution_count": 1,
   "metadata": {},
   "outputs": [],
   "source": [
    "import pandas as pd\n",
    "\n",
    "import requests\n",
    "from bs4 import BeautifulSoup\n",
    "import json\n",
    "from urllib.request import urlopen\n",
    "\n",
    "from tqdm import tqdm_notebook\n",
    "import unidecode\n",
    "\n",
    "import threading"
   ]
  },
  {
   "cell_type": "code",
   "execution_count": 2,
   "metadata": {},
   "outputs": [
    {
     "data": {
      "text/html": [
       "<div>\n",
       "<style scoped>\n",
       "    .dataframe tbody tr th:only-of-type {\n",
       "        vertical-align: middle;\n",
       "    }\n",
       "\n",
       "    .dataframe tbody tr th {\n",
       "        vertical-align: top;\n",
       "    }\n",
       "\n",
       "    .dataframe thead th {\n",
       "        text-align: right;\n",
       "    }\n",
       "</style>\n",
       "<table border=\"1\" class=\"dataframe\">\n",
       "  <thead>\n",
       "    <tr style=\"text-align: right;\">\n",
       "      <th></th>\n",
       "      <th>artist</th>\n",
       "      <th>album</th>\n",
       "      <th>genre</th>\n",
       "      <th>single_count</th>\n",
       "      <th>release_date</th>\n",
       "    </tr>\n",
       "  </thead>\n",
       "  <tbody>\n",
       "    <tr>\n",
       "      <th>1946</th>\n",
       "      <td>EDEN</td>\n",
       "      <td>vertigo</td>\n",
       "      <td>NaN</td>\n",
       "      <td>3</td>\n",
       "      <td>19Â JanuaryÂ 2018Â (2018-01-19)</td>\n",
       "    </tr>\n",
       "    <tr>\n",
       "      <th>1947</th>\n",
       "      <td>Nipsey Hussle</td>\n",
       "      <td>Victory Lap</td>\n",
       "      <td>West Coast hip hop</td>\n",
       "      <td>2</td>\n",
       "      <td>February 16, 2018</td>\n",
       "    </tr>\n",
       "    <tr>\n",
       "      <th>1948</th>\n",
       "      <td>Rich the Kid</td>\n",
       "      <td>The World Is Yours</td>\n",
       "      <td>NaN</td>\n",
       "      <td>3</td>\n",
       "      <td>March 30, 2018</td>\n",
       "    </tr>\n",
       "    <tr>\n",
       "      <th>1949</th>\n",
       "      <td>Myles Kennedy</td>\n",
       "      <td>Year of the Tiger</td>\n",
       "      <td>NaN</td>\n",
       "      <td>0</td>\n",
       "      <td>MarchÂ 9,Â 2018Â (2018-03-09)</td>\n",
       "    </tr>\n",
       "    <tr>\n",
       "      <th>1950</th>\n",
       "      <td>Fickle Friends</td>\n",
       "      <td>You Are Someone Else</td>\n",
       "      <td>NaN</td>\n",
       "      <td>6</td>\n",
       "      <td>16 March 2018[1]</td>\n",
       "    </tr>\n",
       "  </tbody>\n",
       "</table>\n",
       "</div>"
      ],
      "text/plain": [
       "              artist                 album               genre  single_count  \\\n",
       "1946            EDEN               vertigo                 NaN             3   \n",
       "1947   Nipsey Hussle           Victory Lap  West Coast hip hop             2   \n",
       "1948    Rich the Kid    The World Is Yours                 NaN             3   \n",
       "1949   Myles Kennedy     Year of the Tiger                 NaN             0   \n",
       "1950  Fickle Friends  You Are Someone Else                 NaN             6   \n",
       "\n",
       "                         release_date  \n",
       "1946  19Â JanuaryÂ 2018Â (2018-01-19)  \n",
       "1947                February 16, 2018  \n",
       "1948                   March 30, 2018  \n",
       "1949    MarchÂ 9,Â 2018Â (2018-03-09)  \n",
       "1950                 16 March 2018[1]  "
      ]
     },
     "execution_count": 2,
     "metadata": {},
     "output_type": "execute_result"
    }
   ],
   "source": [
    "df_debut = pd.read_csv(\"../data/debut_album_1118-utf8.csv\")\n",
    "df_debut.tail()"
   ]
  },
  {
   "cell_type": "code",
   "execution_count": 3,
   "metadata": {},
   "outputs": [],
   "source": [
    "def get_thesource1():\n",
    "    \n",
    "#     df_articles = pd.DataFrame(columns = ['artist', 'album', 'theSource_frequency'])\n",
    "    \n",
    "    for i in tqdm_notebook(range(len(list(tmp1['artist'])))):\n",
    "    \n",
    "        artist = tmp1['artist'][i]\n",
    "        album = tmp1['album'][i]\n",
    "\n",
    "        artist_ = artist.replace(\" \", \"+\")\n",
    "        album_ = album.replace(\" \", \"+\")\n",
    "\n",
    "        keyword = artist_ + \"+\" + album_\n",
    "\n",
    "        page_num = 1\n",
    "        article_count = 0\n",
    "    \n",
    "        while True:\n",
    "            \n",
    "            url = 'http://thesource.com/page/' + str(page_num) + '/?s=' + keyword\n",
    "            response = requests.get(url)\n",
    "            soup = BeautifulSoup(response.content, \"html.parser\")\n",
    "            tmp_tag = soup.find(id = \"main\")\n",
    "            \n",
    "            if soup.find(id = \"post-not-found\") != None:\n",
    "                break\n",
    "            else:\n",
    "                pass\n",
    "            \n",
    "            count = len(tmp_tag.find_all(\"article\"))\n",
    "            \n",
    "            article_count += count\n",
    "            page_num += 1\n",
    "            \n",
    "            if article_count > 199:\n",
    "                break\n",
    "        \n",
    "        data = {\n",
    "            'artist' : artist,\n",
    "            'album' : album,\n",
    "            'theSource_frequency' : article_count,\n",
    "        }\n",
    "        \n",
    "#         print(data)\n",
    "        \n",
    "        result_1.loc[len(result_1)] = data\n",
    "        \n",
    "    return result_1"
   ]
  },
  {
   "cell_type": "code",
   "execution_count": 4,
   "metadata": {},
   "outputs": [],
   "source": [
    "def get_thesource2():\n",
    "    \n",
    "#     df_articles = pd.DataFrame(columns = ['artist', 'album', 'theSource_frequency'])\n",
    "    \n",
    "    for i in tqdm_notebook(range(len(list(tmp2['artist'])))):\n",
    "    \n",
    "        artist = tmp2['artist'][i]\n",
    "        album = tmp2['album'][i]\n",
    "\n",
    "        artist_ = artist.replace(\" \", \"+\")\n",
    "        album_ = album.replace(\" \", \"+\")\n",
    "\n",
    "        keyword = artist_ + \"+\" + album_\n",
    "\n",
    "        page_num = 1\n",
    "        article_count = 0\n",
    "    \n",
    "        while True:\n",
    "            \n",
    "            url = 'http://thesource.com/page/' + str(page_num) + '/?s=' + keyword\n",
    "            response = requests.get(url)\n",
    "            soup = BeautifulSoup(response.content, \"html.parser\")\n",
    "            tmp_tag = soup.find(id = \"main\")\n",
    "            \n",
    "            if soup.find(id = \"post-not-found\") != None:\n",
    "                break\n",
    "            else:\n",
    "                pass\n",
    "            \n",
    "            count = len(tmp_tag.find_all(\"article\"))\n",
    "            \n",
    "            article_count += count\n",
    "            page_num += 1\n",
    "            \n",
    "            if article_count > 199:\n",
    "                break\n",
    "        \n",
    "        data = {\n",
    "            'artist' : artist,\n",
    "            'album' : album,\n",
    "            'theSource_frequency' : article_count,\n",
    "        }\n",
    "        \n",
    "#         print(data)\n",
    "        \n",
    "        result_2.loc[len(result_2)] = data\n",
    "        \n",
    "    return result_2"
   ]
  },
  {
   "cell_type": "code",
   "execution_count": 5,
   "metadata": {},
   "outputs": [],
   "source": [
    "def get_thesource3():\n",
    "    \n",
    "#     df_articles = pd.DataFrame(columns = ['artist', 'album', 'theSource_frequency'])\n",
    "    \n",
    "    for i in tqdm_notebook(range(len(list(tmp3['artist'])))):\n",
    "    \n",
    "        artist = tmp3['artist'][i]\n",
    "        album = tmp3['album'][i]\n",
    "\n",
    "        artist_ = artist.replace(\" \", \"+\")\n",
    "        album_ = album.replace(\" \", \"+\")\n",
    "\n",
    "        keyword = artist_ + \"+\" + album_\n",
    "\n",
    "        page_num = 1\n",
    "        article_count = 0\n",
    "    \n",
    "        while True:\n",
    "            \n",
    "            url = 'http://thesource.com/page/' + str(page_num) + '/?s=' + keyword\n",
    "            response = requests.get(url)\n",
    "            soup = BeautifulSoup(response.content, \"html.parser\")\n",
    "            tmp_tag = soup.find(id = \"main\")\n",
    "            \n",
    "            if soup.find(id = \"post-not-found\") != None:\n",
    "                break\n",
    "            else:\n",
    "                pass\n",
    "            \n",
    "            count = len(tmp_tag.find_all(\"article\"))\n",
    "            \n",
    "            article_count += count\n",
    "            page_num += 1\n",
    "            \n",
    "            if article_count > 199:\n",
    "                break\n",
    "        \n",
    "        data = {\n",
    "            'artist' : artist,\n",
    "            'album' : album,\n",
    "            'theSource_frequency' : article_count,\n",
    "        }\n",
    "        \n",
    "#         print(data)\n",
    "        \n",
    "        result_3.loc[len(result_3)] = data\n",
    "        \n",
    "    return result_3"
   ]
  },
  {
   "cell_type": "code",
   "execution_count": 6,
   "metadata": {},
   "outputs": [],
   "source": [
    "def get_thesource4():\n",
    "    \n",
    "#     df_articles = pd.DataFrame(columns = ['artist', 'album', 'theSource_frequency'])\n",
    "    \n",
    "    for i in tqdm_notebook(range(len(list(tmp4['artist'])))):\n",
    "    \n",
    "        artist = tmp4['artist'][i]\n",
    "        album = tmp4['album'][i]\n",
    "\n",
    "        artist_ = artist.replace(\" \", \"+\")\n",
    "        album_ = album.replace(\" \", \"+\")\n",
    "\n",
    "        keyword = artist_ + \"+\" + album_\n",
    "\n",
    "        page_num = 1\n",
    "        article_count = 0\n",
    "    \n",
    "        while True:\n",
    "            \n",
    "            url = 'http://thesource.com/page/' + str(page_num) + '/?s=' + keyword\n",
    "            response = requests.get(url)\n",
    "            soup = BeautifulSoup(response.content, \"html.parser\")\n",
    "            tmp_tag = soup.find(id = \"main\")\n",
    "            \n",
    "            if soup.find(id = \"post-not-found\") != None:\n",
    "                break\n",
    "            else:\n",
    "                pass\n",
    "            \n",
    "            count = len(tmp_tag.find_all(\"article\"))\n",
    "            \n",
    "            article_count += count\n",
    "            page_num += 1\n",
    "            \n",
    "            if article_count > 199:\n",
    "                break\n",
    "        \n",
    "        data = {\n",
    "            'artist' : artist,\n",
    "            'album' : album,\n",
    "            'theSource_frequency' : article_count,\n",
    "        }\n",
    "        \n",
    "#         print(data)\n",
    "        \n",
    "        result_4.loc[len(result_4)] = data\n",
    "        \n",
    "    return result_4"
   ]
  },
  {
   "cell_type": "code",
   "execution_count": 7,
   "metadata": {},
   "outputs": [],
   "source": [
    "tmp1 = df_debut.loc[:499]\n",
    "tmp2 = df_debut.loc[500:999].reset_index(drop=True)\n",
    "tmp3 = df_debut.loc[1000:1499].reset_index(drop=True)\n",
    "tmp4 = df_debut.loc[1500:1951].reset_index(drop=True)"
   ]
  },
  {
   "cell_type": "code",
   "execution_count": 8,
   "metadata": {},
   "outputs": [],
   "source": [
    "result_1 = pd.DataFrame(columns = ['artist', 'album', 'theSource_frequency'])\n",
    "result_2 = pd.DataFrame(columns = ['artist', 'album', 'theSource_frequency'])\n",
    "result_3 = pd.DataFrame(columns = ['artist', 'album', 'theSource_frequency'])\n",
    "result_4 = pd.DataFrame(columns = ['artist', 'album', 'theSource_frequency'])"
   ]
  },
  {
   "cell_type": "code",
   "execution_count": 9,
   "metadata": {},
   "outputs": [
    {
     "data": {
      "application/vnd.jupyter.widget-view+json": {
       "model_id": "020b05772ae44246a0ff90d9efe7f55d",
       "version_major": 2,
       "version_minor": 0
      },
      "text/html": [
       "<p>Failed to display Jupyter Widget of type <code>HBox</code>.</p>\n",
       "<p>\n",
       "  If you're reading this message in the Jupyter Notebook or JupyterLab Notebook, it may mean\n",
       "  that the widgets JavaScript is still loading. If this message persists, it\n",
       "  likely means that the widgets JavaScript library is either not installed or\n",
       "  not enabled. See the <a href=\"https://ipywidgets.readthedocs.io/en/stable/user_install.html\">Jupyter\n",
       "  Widgets Documentation</a> for setup instructions.\n",
       "</p>\n",
       "<p>\n",
       "  If you're reading this message in another frontend (for example, a static\n",
       "  rendering on GitHub or <a href=\"https://nbviewer.jupyter.org/\">NBViewer</a>),\n",
       "  it may mean that your frontend doesn't currently support widgets.\n",
       "</p>\n"
      ],
      "text/plain": [
       "HBox(children=(IntProgress(value=0, max=500), HTML(value='')))"
      ]
     },
     "metadata": {},
     "output_type": "display_data"
    }
   ],
   "source": [
    "th1 = threading.Thread(target=get_thesource1)\n",
    "th1.start()"
   ]
  },
  {
   "cell_type": "code",
   "execution_count": 10,
   "metadata": {},
   "outputs": [
    {
     "data": {
      "application/vnd.jupyter.widget-view+json": {
       "model_id": "906b6cf667f54b2784411dfa48de7ba7",
       "version_major": 2,
       "version_minor": 0
      },
      "text/html": [
       "<p>Failed to display Jupyter Widget of type <code>HBox</code>.</p>\n",
       "<p>\n",
       "  If you're reading this message in the Jupyter Notebook or JupyterLab Notebook, it may mean\n",
       "  that the widgets JavaScript is still loading. If this message persists, it\n",
       "  likely means that the widgets JavaScript library is either not installed or\n",
       "  not enabled. See the <a href=\"https://ipywidgets.readthedocs.io/en/stable/user_install.html\">Jupyter\n",
       "  Widgets Documentation</a> for setup instructions.\n",
       "</p>\n",
       "<p>\n",
       "  If you're reading this message in another frontend (for example, a static\n",
       "  rendering on GitHub or <a href=\"https://nbviewer.jupyter.org/\">NBViewer</a>),\n",
       "  it may mean that your frontend doesn't currently support widgets.\n",
       "</p>\n"
      ],
      "text/plain": [
       "HBox(children=(IntProgress(value=0, max=500), HTML(value='')))"
      ]
     },
     "metadata": {},
     "output_type": "display_data"
    }
   ],
   "source": [
    "th2 = threading.Thread(target=get_thesource2)\n",
    "th2.start()"
   ]
  },
  {
   "cell_type": "code",
   "execution_count": 11,
   "metadata": {},
   "outputs": [
    {
     "data": {
      "application/vnd.jupyter.widget-view+json": {
       "model_id": "e778f1dc0b524643a7dfb2f4b0d82a9b",
       "version_major": 2,
       "version_minor": 0
      },
      "text/html": [
       "<p>Failed to display Jupyter Widget of type <code>HBox</code>.</p>\n",
       "<p>\n",
       "  If you're reading this message in the Jupyter Notebook or JupyterLab Notebook, it may mean\n",
       "  that the widgets JavaScript is still loading. If this message persists, it\n",
       "  likely means that the widgets JavaScript library is either not installed or\n",
       "  not enabled. See the <a href=\"https://ipywidgets.readthedocs.io/en/stable/user_install.html\">Jupyter\n",
       "  Widgets Documentation</a> for setup instructions.\n",
       "</p>\n",
       "<p>\n",
       "  If you're reading this message in another frontend (for example, a static\n",
       "  rendering on GitHub or <a href=\"https://nbviewer.jupyter.org/\">NBViewer</a>),\n",
       "  it may mean that your frontend doesn't currently support widgets.\n",
       "</p>\n"
      ],
      "text/plain": [
       "HBox(children=(IntProgress(value=0, max=500), HTML(value='')))"
      ]
     },
     "metadata": {},
     "output_type": "display_data"
    }
   ],
   "source": [
    "th3 = threading.Thread(target=get_thesource3)\n",
    "th3.start()"
   ]
  },
  {
   "cell_type": "code",
   "execution_count": 12,
   "metadata": {
    "scrolled": true
   },
   "outputs": [
    {
     "data": {
      "application/vnd.jupyter.widget-view+json": {
       "model_id": "9fe4e995d5224b2dbc2715855495498f",
       "version_major": 2,
       "version_minor": 0
      },
      "text/html": [
       "<p>Failed to display Jupyter Widget of type <code>HBox</code>.</p>\n",
       "<p>\n",
       "  If you're reading this message in the Jupyter Notebook or JupyterLab Notebook, it may mean\n",
       "  that the widgets JavaScript is still loading. If this message persists, it\n",
       "  likely means that the widgets JavaScript library is either not installed or\n",
       "  not enabled. See the <a href=\"https://ipywidgets.readthedocs.io/en/stable/user_install.html\">Jupyter\n",
       "  Widgets Documentation</a> for setup instructions.\n",
       "</p>\n",
       "<p>\n",
       "  If you're reading this message in another frontend (for example, a static\n",
       "  rendering on GitHub or <a href=\"https://nbviewer.jupyter.org/\">NBViewer</a>),\n",
       "  it may mean that your frontend doesn't currently support widgets.\n",
       "</p>\n"
      ],
      "text/plain": [
       "HBox(children=(IntProgress(value=0, max=451), HTML(value='')))"
      ]
     },
     "metadata": {},
     "output_type": "display_data"
    },
    {
     "name": "stdout",
     "output_type": "stream",
     "text": [
      "\n",
      "\n"
     ]
    }
   ],
   "source": [
    "th4 = threading.Thread(target=get_thesource4)\n",
    "th4.start()"
   ]
  },
  {
   "cell_type": "code",
   "execution_count": 13,
   "metadata": {},
   "outputs": [
    {
     "name": "stdout",
     "output_type": "stream",
     "text": [
      "(500, 3)\n"
     ]
    },
    {
     "data": {
      "text/html": [
       "<div>\n",
       "<style scoped>\n",
       "    .dataframe tbody tr th:only-of-type {\n",
       "        vertical-align: middle;\n",
       "    }\n",
       "\n",
       "    .dataframe tbody tr th {\n",
       "        vertical-align: top;\n",
       "    }\n",
       "\n",
       "    .dataframe thead th {\n",
       "        text-align: right;\n",
       "    }\n",
       "</style>\n",
       "<table border=\"1\" class=\"dataframe\">\n",
       "  <thead>\n",
       "    <tr style=\"text-align: right;\">\n",
       "      <th></th>\n",
       "      <th>artist</th>\n",
       "      <th>album</th>\n",
       "      <th>theSource_frequency</th>\n",
       "    </tr>\n",
       "  </thead>\n",
       "  <tbody>\n",
       "    <tr>\n",
       "      <th>0</th>\n",
       "      <td>2Cellos</td>\n",
       "      <td>2Cellos</td>\n",
       "      <td>0</td>\n",
       "    </tr>\n",
       "    <tr>\n",
       "      <th>1</th>\n",
       "      <td>Deep Dark Robot</td>\n",
       "      <td>8 Songs About a Girl</td>\n",
       "      <td>0</td>\n",
       "    </tr>\n",
       "    <tr>\n",
       "      <th>2</th>\n",
       "      <td>The Young Professionals</td>\n",
       "      <td>9am to 5pm 5pm to Whenever\\r(09:00 to 17:00 17...</td>\n",
       "      <td>0</td>\n",
       "    </tr>\n",
       "    <tr>\n",
       "      <th>3</th>\n",
       "      <td>Flash Bang Grenada</td>\n",
       "      <td>10 Haters</td>\n",
       "      <td>0</td>\n",
       "    </tr>\n",
       "    <tr>\n",
       "      <th>4</th>\n",
       "      <td>Her Majesty &amp; the Wolves</td>\n",
       "      <td>111</td>\n",
       "      <td>7</td>\n",
       "    </tr>\n",
       "  </tbody>\n",
       "</table>\n",
       "</div>"
      ],
      "text/plain": [
       "                     artist  \\\n",
       "0                   2Cellos   \n",
       "1           Deep Dark Robot   \n",
       "2   The Young Professionals   \n",
       "3        Flash Bang Grenada   \n",
       "4  Her Majesty & the Wolves   \n",
       "\n",
       "                                               album theSource_frequency  \n",
       "0                                            2Cellos                   0  \n",
       "1                               8 Songs About a Girl                   0  \n",
       "2  9am to 5pm 5pm to Whenever\\r(09:00 to 17:00 17...                   0  \n",
       "3                                          10 Haters                   0  \n",
       "4                                                111                   7  "
      ]
     },
     "execution_count": 13,
     "metadata": {},
     "output_type": "execute_result"
    }
   ],
   "source": [
    "print(result_1.shape)\n",
    "result_1.head()"
   ]
  },
  {
   "cell_type": "code",
   "execution_count": 14,
   "metadata": {},
   "outputs": [
    {
     "name": "stdout",
     "output_type": "stream",
     "text": [
      "(500, 3)\n"
     ]
    },
    {
     "data": {
      "text/html": [
       "<div>\n",
       "<style scoped>\n",
       "    .dataframe tbody tr th:only-of-type {\n",
       "        vertical-align: middle;\n",
       "    }\n",
       "\n",
       "    .dataframe tbody tr th {\n",
       "        vertical-align: top;\n",
       "    }\n",
       "\n",
       "    .dataframe thead th {\n",
       "        text-align: right;\n",
       "    }\n",
       "</style>\n",
       "<table border=\"1\" class=\"dataframe\">\n",
       "  <thead>\n",
       "    <tr style=\"text-align: right;\">\n",
       "      <th></th>\n",
       "      <th>artist</th>\n",
       "      <th>album</th>\n",
       "      <th>theSource_frequency</th>\n",
       "    </tr>\n",
       "  </thead>\n",
       "  <tbody>\n",
       "    <tr>\n",
       "      <th>0</th>\n",
       "      <td>Travis Porter</td>\n",
       "      <td>From Day 1</td>\n",
       "      <td>33</td>\n",
       "    </tr>\n",
       "    <tr>\n",
       "      <th>1</th>\n",
       "      <td>Delilah</td>\n",
       "      <td>From the Roots Up</td>\n",
       "      <td>0</td>\n",
       "    </tr>\n",
       "    <tr>\n",
       "      <th>2</th>\n",
       "      <td>David Lindgren</td>\n",
       "      <td>Get Started</td>\n",
       "      <td>0</td>\n",
       "    </tr>\n",
       "    <tr>\n",
       "      <th>3</th>\n",
       "      <td>Polica</td>\n",
       "      <td>Give You the Ghost</td>\n",
       "      <td>0</td>\n",
       "    </tr>\n",
       "    <tr>\n",
       "      <th>4</th>\n",
       "      <td>Monuments</td>\n",
       "      <td>Gnosis</td>\n",
       "      <td>0</td>\n",
       "    </tr>\n",
       "  </tbody>\n",
       "</table>\n",
       "</div>"
      ],
      "text/plain": [
       "           artist               album theSource_frequency\n",
       "0   Travis Porter          From Day 1                  33\n",
       "1         Delilah   From the Roots Up                   0\n",
       "2  David Lindgren         Get Started                   0\n",
       "3          Polica  Give You the Ghost                   0\n",
       "4       Monuments              Gnosis                   0"
      ]
     },
     "execution_count": 14,
     "metadata": {},
     "output_type": "execute_result"
    }
   ],
   "source": [
    "print(result_2.shape)\n",
    "result_2.head()"
   ]
  },
  {
   "cell_type": "code",
   "execution_count": 15,
   "metadata": {},
   "outputs": [
    {
     "name": "stdout",
     "output_type": "stream",
     "text": [
      "(500, 3)\n"
     ]
    },
    {
     "data": {
      "text/html": [
       "<div>\n",
       "<style scoped>\n",
       "    .dataframe tbody tr th:only-of-type {\n",
       "        vertical-align: middle;\n",
       "    }\n",
       "\n",
       "    .dataframe tbody tr th {\n",
       "        vertical-align: top;\n",
       "    }\n",
       "\n",
       "    .dataframe thead th {\n",
       "        text-align: right;\n",
       "    }\n",
       "</style>\n",
       "<table border=\"1\" class=\"dataframe\">\n",
       "  <thead>\n",
       "    <tr style=\"text-align: right;\">\n",
       "      <th></th>\n",
       "      <th>artist</th>\n",
       "      <th>album</th>\n",
       "      <th>theSource_frequency</th>\n",
       "    </tr>\n",
       "  </thead>\n",
       "  <tbody>\n",
       "    <tr>\n",
       "      <th>0</th>\n",
       "      <td>Tim Hicks</td>\n",
       "      <td>Throw Down</td>\n",
       "      <td>5</td>\n",
       "    </tr>\n",
       "    <tr>\n",
       "      <th>1</th>\n",
       "      <td>Luke Kennedy</td>\n",
       "      <td>A Time for Us</td>\n",
       "      <td>2</td>\n",
       "    </tr>\n",
       "    <tr>\n",
       "      <th>2</th>\n",
       "      <td>Parasite Inc.</td>\n",
       "      <td>Time Tears Down</td>\n",
       "      <td>0</td>\n",
       "    </tr>\n",
       "    <tr>\n",
       "      <th>3</th>\n",
       "      <td>Alex Hepburn</td>\n",
       "      <td>Together Alone</td>\n",
       "      <td>0</td>\n",
       "    </tr>\n",
       "    <tr>\n",
       "      <th>4</th>\n",
       "      <td>Torres</td>\n",
       "      <td>TORRES</td>\n",
       "      <td>45</td>\n",
       "    </tr>\n",
       "  </tbody>\n",
       "</table>\n",
       "</div>"
      ],
      "text/plain": [
       "          artist            album theSource_frequency\n",
       "0      Tim Hicks       Throw Down                   5\n",
       "1   Luke Kennedy    A Time for Us                   2\n",
       "2  Parasite Inc.  Time Tears Down                   0\n",
       "3   Alex Hepburn   Together Alone                   0\n",
       "4         Torres           TORRES                  45"
      ]
     },
     "execution_count": 15,
     "metadata": {},
     "output_type": "execute_result"
    }
   ],
   "source": [
    "print(result_3.shape)\n",
    "result_3.head()"
   ]
  },
  {
   "cell_type": "code",
   "execution_count": 16,
   "metadata": {
    "scrolled": false
   },
   "outputs": [
    {
     "name": "stdout",
     "output_type": "stream",
     "text": [
      "(451, 3)\n"
     ]
    },
    {
     "data": {
      "text/html": [
       "<div>\n",
       "<style scoped>\n",
       "    .dataframe tbody tr th:only-of-type {\n",
       "        vertical-align: middle;\n",
       "    }\n",
       "\n",
       "    .dataframe tbody tr th {\n",
       "        vertical-align: top;\n",
       "    }\n",
       "\n",
       "    .dataframe thead th {\n",
       "        text-align: right;\n",
       "    }\n",
       "</style>\n",
       "<table border=\"1\" class=\"dataframe\">\n",
       "  <thead>\n",
       "    <tr style=\"text-align: right;\">\n",
       "      <th></th>\n",
       "      <th>artist</th>\n",
       "      <th>album</th>\n",
       "      <th>theSource_frequency</th>\n",
       "    </tr>\n",
       "  </thead>\n",
       "  <tbody>\n",
       "    <tr>\n",
       "      <th>0</th>\n",
       "      <td>Raz Fresco</td>\n",
       "      <td>Pablo Frescobar</td>\n",
       "      <td>1</td>\n",
       "    </tr>\n",
       "    <tr>\n",
       "      <th>1</th>\n",
       "      <td>Billy Gibbons and The BFG's</td>\n",
       "      <td>Perfectamundo</td>\n",
       "      <td>0</td>\n",
       "    </tr>\n",
       "    <tr>\n",
       "      <th>2</th>\n",
       "      <td>No Devotion</td>\n",
       "      <td>Permanence</td>\n",
       "      <td>0</td>\n",
       "    </tr>\n",
       "    <tr>\n",
       "      <th>3</th>\n",
       "      <td>Galantis</td>\n",
       "      <td>Pharmacy</td>\n",
       "      <td>1</td>\n",
       "    </tr>\n",
       "    <tr>\n",
       "      <th>4</th>\n",
       "      <td>Apink</td>\n",
       "      <td>Pink Season</td>\n",
       "      <td>0</td>\n",
       "    </tr>\n",
       "  </tbody>\n",
       "</table>\n",
       "</div>"
      ],
      "text/plain": [
       "                        artist            album theSource_frequency\n",
       "0                   Raz Fresco  Pablo Frescobar                   1\n",
       "1  Billy Gibbons and The BFG's    Perfectamundo                   0\n",
       "2                  No Devotion       Permanence                   0\n",
       "3                     Galantis         Pharmacy                   1\n",
       "4                        Apink      Pink Season                   0"
      ]
     },
     "execution_count": 16,
     "metadata": {},
     "output_type": "execute_result"
    }
   ],
   "source": [
    "print(result_4.shape)\n",
    "result_4.head()"
   ]
  },
  {
   "cell_type": "code",
   "execution_count": 85,
   "metadata": {},
   "outputs": [],
   "source": [
    "thesource_article = pd.concat([result_1, result_2, result_3, result_4], ignore_index=True)"
   ]
  },
  {
   "cell_type": "code",
   "execution_count": 86,
   "metadata": {},
   "outputs": [
    {
     "name": "stdout",
     "output_type": "stream",
     "text": [
      "(1951, 3)\n"
     ]
    },
    {
     "data": {
      "text/html": [
       "<div>\n",
       "<style scoped>\n",
       "    .dataframe tbody tr th:only-of-type {\n",
       "        vertical-align: middle;\n",
       "    }\n",
       "\n",
       "    .dataframe tbody tr th {\n",
       "        vertical-align: top;\n",
       "    }\n",
       "\n",
       "    .dataframe thead th {\n",
       "        text-align: right;\n",
       "    }\n",
       "</style>\n",
       "<table border=\"1\" class=\"dataframe\">\n",
       "  <thead>\n",
       "    <tr style=\"text-align: right;\">\n",
       "      <th></th>\n",
       "      <th>artist</th>\n",
       "      <th>album</th>\n",
       "      <th>theSource_frequency</th>\n",
       "    </tr>\n",
       "  </thead>\n",
       "  <tbody>\n",
       "    <tr>\n",
       "      <th>0</th>\n",
       "      <td>2Cellos</td>\n",
       "      <td>2Cellos</td>\n",
       "      <td>0</td>\n",
       "    </tr>\n",
       "    <tr>\n",
       "      <th>1</th>\n",
       "      <td>Deep Dark Robot</td>\n",
       "      <td>8 Songs About a Girl</td>\n",
       "      <td>0</td>\n",
       "    </tr>\n",
       "    <tr>\n",
       "      <th>2</th>\n",
       "      <td>The Young Professionals</td>\n",
       "      <td>9am to 5pm 5pm to Whenever\\r(09:00 to 17:00 17...</td>\n",
       "      <td>0</td>\n",
       "    </tr>\n",
       "    <tr>\n",
       "      <th>3</th>\n",
       "      <td>Flash Bang Grenada</td>\n",
       "      <td>10 Haters</td>\n",
       "      <td>0</td>\n",
       "    </tr>\n",
       "    <tr>\n",
       "      <th>4</th>\n",
       "      <td>Her Majesty &amp; the Wolves</td>\n",
       "      <td>111</td>\n",
       "      <td>7</td>\n",
       "    </tr>\n",
       "  </tbody>\n",
       "</table>\n",
       "</div>"
      ],
      "text/plain": [
       "                     artist  \\\n",
       "0                   2Cellos   \n",
       "1           Deep Dark Robot   \n",
       "2   The Young Professionals   \n",
       "3        Flash Bang Grenada   \n",
       "4  Her Majesty & the Wolves   \n",
       "\n",
       "                                               album theSource_frequency  \n",
       "0                                            2Cellos                   0  \n",
       "1                               8 Songs About a Girl                   0  \n",
       "2  9am to 5pm 5pm to Whenever\\r(09:00 to 17:00 17...                   0  \n",
       "3                                          10 Haters                   0  \n",
       "4                                                111                   7  "
      ]
     },
     "execution_count": 86,
     "metadata": {},
     "output_type": "execute_result"
    }
   ],
   "source": [
    "print(thesource_article.shape)\n",
    "thesource_article.head()"
   ]
  },
  {
   "cell_type": "code",
   "execution_count": 87,
   "metadata": {},
   "outputs": [],
   "source": [
    "def decodeuni(str):\n",
    "    return unidecode.unidecode(str)"
   ]
  },
  {
   "cell_type": "code",
   "execution_count": 88,
   "metadata": {},
   "outputs": [],
   "source": [
    "thesource_article['artist'] = thesource_article['artist'].apply(lambda x: unidecode.unidecode(x))\n",
    "thesource_article['album'] = thesource_article['album'].apply(lambda x: unidecode.unidecode(x))\n",
    "thesource_article['artist'] = thesource_article['artist'].apply(lambda x : x.replace(\",\", \"\"))\n",
    "thesource_article['album'] = thesource_article['album'].apply(lambda x : x.replace(\",\", \"\"))"
   ]
  },
  {
   "cell_type": "code",
   "execution_count": 89,
   "metadata": {},
   "outputs": [],
   "source": [
    "thesource_article.loc[2, 'album'] = '9am to 5pm 5pm to Whenever'\n",
    "thesource_article.loc[529, 'album'] = 'If You Love Me'\n",
    "thesource_article.loc[1143, 'album'] = 'Gover Tela Body Language'\n",
    "thesource_article.loc[1411, 'album'] = 'Fresh Filter Volumn 1'"
   ]
  },
  {
   "cell_type": "code",
   "execution_count": 90,
   "metadata": {},
   "outputs": [
    {
     "data": {
      "text/plain": [
       "(1951, 3)"
      ]
     },
     "execution_count": 90,
     "metadata": {},
     "output_type": "execute_result"
    }
   ],
   "source": [
    "thesource_article.shape"
   ]
  },
  {
   "cell_type": "code",
   "execution_count": 91,
   "metadata": {},
   "outputs": [],
   "source": [
    "thesource_article.to_csv(\"../data/buzz_theSource.csv\", index=False, encoding=\"UTF-8\")"
   ]
  },
  {
   "cell_type": "code",
   "execution_count": 92,
   "metadata": {},
   "outputs": [],
   "source": [
    "df = pd.read_csv(\"../data/buzz_theSource-utf8.csv\")"
   ]
  },
  {
   "cell_type": "code",
   "execution_count": 93,
   "metadata": {},
   "outputs": [
    {
     "data": {
      "text/plain": [
       "(1951, 3)"
      ]
     },
     "execution_count": 93,
     "metadata": {},
     "output_type": "execute_result"
    }
   ],
   "source": [
    "df.shape"
   ]
  },
  {
   "cell_type": "markdown",
   "metadata": {},
   "source": [
    "### add to mysql database"
   ]
  },
  {
   "cell_type": "code",
   "execution_count": 94,
   "metadata": {},
   "outputs": [],
   "source": [
    "import sqlalchemy, pickle\n",
    "from sqlalchemy import create_engine"
   ]
  },
  {
   "cell_type": "code",
   "execution_count": 96,
   "metadata": {},
   "outputs": [],
   "source": [
    "pw = pickle.load(open(\"mysql_pw.pickle\", \"rb\"))"
   ]
  },
  {
   "cell_type": "code",
   "execution_count": 97,
   "metadata": {},
   "outputs": [],
   "source": [
    "engine = sqlalchemy.create_engine(\"mysql+mysqldb://root:\" + pw + \"@52.78.44.120/project_rookie\")"
   ]
  },
  {
   "cell_type": "code",
   "execution_count": 98,
   "metadata": {},
   "outputs": [],
   "source": [
    "df.to_sql(name=\"buzz_theSource\", con=engine, if_exists='replace')"
   ]
  },
  {
   "cell_type": "code",
   "execution_count": null,
   "metadata": {},
   "outputs": [],
   "source": []
  }
 ],
 "metadata": {
  "kernelspec": {
   "display_name": "Python 3",
   "language": "python",
   "name": "python3"
  },
  "language_info": {
   "codemirror_mode": {
    "name": "ipython",
    "version": 3
   },
   "file_extension": ".py",
   "mimetype": "text/x-python",
   "name": "python",
   "nbconvert_exporter": "python",
   "pygments_lexer": "ipython3",
   "version": "3.6.2"
  }
 },
 "nbformat": 4,
 "nbformat_minor": 2
}
