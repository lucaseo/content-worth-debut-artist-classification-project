{
 "cells": [
  {
   "cell_type": "code",
   "execution_count": null,
   "metadata": {},
   "outputs": [],
   "source": [
    "import pandas as pd\n",
    "\n",
    "import requests\n",
    "from bs4 import BeautifulSoup\n",
    "import json\n",
    "from urllib.request import urlopen\n",
    "from tqdm import tqdm_notebook\n",
    "import unidecode\n"
   ]
  },
  {
   "cell_type": "code",
   "execution_count": null,
   "metadata": {},
   "outputs": [],
   "source": [
    "df_debut = pd.read_csv(\"../data/debut_album_1118-utf8.csv\")"
   ]
  },
  {
   "cell_type": "code",
   "execution_count": null,
   "metadata": {},
   "outputs": [],
   "source": [
    "def get_genius(data):\n",
    "    \n",
    "    df_articles = pd.DataFrame(columns = ['artist', 'album', 'genius_frequency'])\n",
    "    \n",
    "    for i in tqdm_notebook(range(len(list(df_debut['artist'])))):\n",
    "\n",
    "        artist = df_debut['artist'][i]\n",
    "        album = df_debut['album'][i]\n",
    "        \n",
    "        artist_ = artist.replace(\" \", \"+\")\n",
    "        album_ = album.replace(\" \", \"+\")\n",
    "        \n",
    "        page_num = 1\n",
    "        articles = 0\n",
    "\n",
    "        while True:\n",
    "\n",
    "            url_ = 'https://genius.com/api/search/article?page=' + str(page_num) + '&q=' + artist_ + \"+\" + album_\n",
    "            response = requests.get(url_).json()\n",
    "\n",
    "            articles += len(response['response']['sections'][0]['hits'])\n",
    "\n",
    "            page_num += 1\n",
    "\n",
    "            if response['response']['next_page'] == None :\n",
    "                break\n",
    "\n",
    "        data = {\n",
    "            'artist': artist,\n",
    "            'album' : album,\n",
    "            'genius_frequency' : articles\n",
    "        }\n",
    "\n",
    "#         print(data)\n",
    "\n",
    "        df_articles.loc[len(df_articles)] = data\n",
    "    \n",
    "    return df_articles"
   ]
  },
  {
   "cell_type": "code",
   "execution_count": null,
   "metadata": {
    "scrolled": true
   },
   "outputs": [],
   "source": [
    "genius_articles = get_genius(df_debut)"
   ]
  },
  {
   "cell_type": "code",
   "execution_count": null,
   "metadata": {},
   "outputs": [],
   "source": [
    "print(genius_articles.shape)\n",
    "genius_articles.tail()"
   ]
  },
  {
   "cell_type": "code",
   "execution_count": null,
   "metadata": {},
   "outputs": [],
   "source": [
    "def decodeuni(str):\n",
    "    return unidecode.unidecode(str)"
   ]
  },
  {
   "cell_type": "code",
   "execution_count": null,
   "metadata": {},
   "outputs": [],
   "source": [
    "genius_articles['artist'] = genius_articles['artist'].apply(decodeuni)\n",
    "genius_articles['album'] = genius_articles['album'].apply(decodeuni)\n",
    "genius_articles['artist'] = genius_articles['artist'].apply(lambda x : x.replace(\",\", \"\"))\n",
    "genius_articles['album'] = genius_articles['album'].apply(lambda x : x.replace(\",\", \"\"))"
   ]
  },
  {
   "cell_type": "code",
   "execution_count": null,
   "metadata": {},
   "outputs": [],
   "source": [
    "genius_articles.loc[2, 'album'] = '9am to 5pm 5pm to Whenever'\n",
    "genius_articles.loc[529, 'album'] = 'If You Love Me'\n",
    "genius_articles.loc[1144, 'album'] = 'Gover Tela Body Language'\n",
    "genius_articles.loc[1413, 'album'] = 'Fresh Filter Volumn 1'"
   ]
  },
  {
   "cell_type": "code",
   "execution_count": null,
   "metadata": {},
   "outputs": [],
   "source": [
    "genius_articles.shape"
   ]
  },
  {
   "cell_type": "code",
   "execution_count": null,
   "metadata": {},
   "outputs": [],
   "source": [
    "genius_articles.to_csv(\"../data/buzz_genius.csv\", index=False, encoding='UTF-8')"
   ]
  },
  {
   "cell_type": "code",
   "execution_count": null,
   "metadata": {},
   "outputs": [],
   "source": []
  },
  {
   "cell_type": "code",
   "execution_count": null,
   "metadata": {},
   "outputs": [],
   "source": [
    "df = pd.read_csv(\"../data/buzz/buzz_genius.csv\")"
   ]
  },
  {
   "cell_type": "code",
   "execution_count": null,
   "metadata": {},
   "outputs": [],
   "source": [
    "df.shape"
   ]
  },
  {
   "cell_type": "raw",
   "metadata": {},
   "source": [
    "# be cautious with the items below\n",
    "\n",
    "set(df['artist'].unique()) - set(genius_articles['artist'].unique())\n",
    "\n",
    "{'Body Language', 'Ru Guo Ni Ai Wo ', 'Volume 1'}"
   ]
  },
  {
   "cell_type": "markdown",
   "metadata": {},
   "source": [
    "### Upload to MySQL database"
   ]
  },
  {
   "cell_type": "code",
   "execution_count": null,
   "metadata": {},
   "outputs": [],
   "source": [
    "import sqlalchemy, pickle\n",
    "from sqlalchemy import create_engine"
   ]
  },
  {
   "cell_type": "code",
   "execution_count": null,
   "metadata": {},
   "outputs": [],
   "source": [
    "pw = pickle.load(open(\"mysql_pw.pickle\", \"rb\"))"
   ]
  },
  {
   "cell_type": "code",
   "execution_count": null,
   "metadata": {},
   "outputs": [],
   "source": [
    "engine = sqlalchemy.create_engine(\"mysql+mysqldb://root:\" + pw + \"@52.78.44.120/project_rookie\")"
   ]
  },
  {
   "cell_type": "code",
   "execution_count": null,
   "metadata": {},
   "outputs": [],
   "source": [
    "df.to_sql(name=\"buzz_genius\", con=engine, if_exists='replace')"
   ]
  },
  {
   "cell_type": "code",
   "execution_count": null,
   "metadata": {},
   "outputs": [],
   "source": []
  }
 ],
 "metadata": {
  "kernelspec": {
   "display_name": "Python 3",
   "language": "python",
   "name": "python3"
  },
  "language_info": {
   "codemirror_mode": {
    "name": "ipython",
    "version": 3
   },
   "file_extension": ".py",
   "mimetype": "text/x-python",
   "name": "python",
   "nbconvert_exporter": "python",
   "pygments_lexer": "ipython3",
   "version": "3.6.2"
  }
 },
 "nbformat": 4,
 "nbformat_minor": 2
}
