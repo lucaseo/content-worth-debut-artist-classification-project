{
 "cells": [
  {
   "cell_type": "code",
   "execution_count": 16,
   "metadata": {},
   "outputs": [],
   "source": [
    "import sqlalchemy, pickle\n",
    "from sqlalchemy import create_engine\n",
    "import pandas as pd\n",
    "import unidecode"
   ]
  },
  {
   "cell_type": "code",
   "execution_count": 17,
   "metadata": {},
   "outputs": [
    {
     "name": "stdout",
     "output_type": "stream",
     "text": [
      "(10200, 5)\n"
     ]
    },
    {
     "data": {
      "text/html": [
       "<div>\n",
       "<style scoped>\n",
       "    .dataframe tbody tr th:only-of-type {\n",
       "        vertical-align: middle;\n",
       "    }\n",
       "\n",
       "    .dataframe tbody tr th {\n",
       "        vertical-align: top;\n",
       "    }\n",
       "\n",
       "    .dataframe thead th {\n",
       "        text-align: right;\n",
       "    }\n",
       "</style>\n",
       "<table border=\"1\" class=\"dataframe\">\n",
       "  <thead>\n",
       "    <tr style=\"text-align: right;\">\n",
       "      <th></th>\n",
       "      <th>artist</th>\n",
       "      <th>album</th>\n",
       "      <th>meta</th>\n",
       "      <th>user</th>\n",
       "      <th>date</th>\n",
       "    </tr>\n",
       "  </thead>\n",
       "  <tbody>\n",
       "    <tr>\n",
       "      <th>10195</th>\n",
       "      <td>Former Ghosts</td>\n",
       "      <td>New Love</td>\n",
       "      <td>67.0</td>\n",
       "      <td>tbd</td>\n",
       "      <td>Nov  9, 2010</td>\n",
       "    </tr>\n",
       "    <tr>\n",
       "      <th>10196</th>\n",
       "      <td>Shipping News</td>\n",
       "      <td>One Less Heartless To Fear</td>\n",
       "      <td>74.0</td>\n",
       "      <td>tbd</td>\n",
       "      <td>Nov  9, 2010</td>\n",
       "    </tr>\n",
       "    <tr>\n",
       "      <th>10197</th>\n",
       "      <td>The Tallest Man on Earth</td>\n",
       "      <td>Sometimes the Blues is Just a Passing Bird</td>\n",
       "      <td>84.0</td>\n",
       "      <td>8.6</td>\n",
       "      <td>Nov  9, 2010</td>\n",
       "    </tr>\n",
       "    <tr>\n",
       "      <th>10198</th>\n",
       "      <td>Robert Wyatt</td>\n",
       "      <td>For the Ghosts Within</td>\n",
       "      <td>82.0</td>\n",
       "      <td>tbd</td>\n",
       "      <td>Nov  9, 2010</td>\n",
       "    </tr>\n",
       "    <tr>\n",
       "      <th>10199</th>\n",
       "      <td>Kid Cudi</td>\n",
       "      <td>Man on the Moon, Vol. 2: The Legend of Mr. Rager</td>\n",
       "      <td>69.0</td>\n",
       "      <td>8.2</td>\n",
       "      <td>Nov  9, 2010</td>\n",
       "    </tr>\n",
       "  </tbody>\n",
       "</table>\n",
       "</div>"
      ],
      "text/plain": [
       "                         artist  \\\n",
       "10195             Former Ghosts   \n",
       "10196             Shipping News   \n",
       "10197  The Tallest Man on Earth   \n",
       "10198              Robert Wyatt   \n",
       "10199                  Kid Cudi   \n",
       "\n",
       "                                                  album  meta user  \\\n",
       "10195                                          New Love  67.0  tbd   \n",
       "10196                        One Less Heartless To Fear  74.0  tbd   \n",
       "10197        Sometimes the Blues is Just a Passing Bird  84.0  8.6   \n",
       "10198                             For the Ghosts Within  82.0  tbd   \n",
       "10199  Man on the Moon, Vol. 2: The Legend of Mr. Rager  69.0  8.2   \n",
       "\n",
       "               date  \n",
       "10195  Nov  9, 2010  \n",
       "10196  Nov  9, 2010  \n",
       "10197  Nov  9, 2010  \n",
       "10198  Nov  9, 2010  \n",
       "10199  Nov  9, 2010  "
      ]
     },
     "execution_count": 17,
     "metadata": {},
     "output_type": "execute_result"
    }
   ],
   "source": [
    "df = pd.read_csv(\"../data/scrapy-metacritic-1118.csv\", encoding='UTF-8')\n",
    "print(df.shape)\n",
    "df.tail()"
   ]
  },
  {
   "cell_type": "code",
   "execution_count": 18,
   "metadata": {},
   "outputs": [],
   "source": [
    "def decodeuni(str):\n",
    "    return unidecode.unidecode(str)"
   ]
  },
  {
   "cell_type": "code",
   "execution_count": 26,
   "metadata": {},
   "outputs": [],
   "source": [
    "df['artist'] = df['artist'].apply(decodeuni)\n",
    "\n",
    "try:\n",
    "    df['album'] = df['album'].apply(decodeuni)\n",
    "except AttributeError:\n",
    "    pass\n",
    "\n",
    "\n",
    "df['artist'] = df['artist'].apply(lambda x : x.replace(\",\", \"\"))\n",
    "\n",
    "# try:\n",
    "df['album'] = df['album'].apply(lambda x : str(x).replace(\",\", \"\"))\n",
    "# except AttributeError:\n",
    "#     pass"
   ]
  },
  {
   "cell_type": "code",
   "execution_count": 27,
   "metadata": {},
   "outputs": [
    {
     "data": {
      "text/plain": [
       "'Standards Vol. IV'"
      ]
     },
     "execution_count": 27,
     "metadata": {},
     "output_type": "execute_result"
    }
   ],
   "source": [
    "df.loc[8, 'album']"
   ]
  },
  {
   "cell_type": "code",
   "execution_count": 28,
   "metadata": {},
   "outputs": [],
   "source": [
    "df.to_csv(\"../data/scrapy-metacritic-1118-utf8.csv\", encoding='utf-8')"
   ]
  },
  {
   "cell_type": "code",
   "execution_count": 29,
   "metadata": {},
   "outputs": [],
   "source": [
    "df_2 = pd.read_csv(\"../data/scrapy-metacritic-1118-utf8.csv\")"
   ]
  },
  {
   "cell_type": "code",
   "execution_count": 30,
   "metadata": {},
   "outputs": [],
   "source": [
    "pw = pickle.load(open(\"mysql_pw.pickle\", \"rb\"))"
   ]
  },
  {
   "cell_type": "code",
   "execution_count": 31,
   "metadata": {},
   "outputs": [],
   "source": [
    "engine = sqlalchemy.create_engine(\"mysql+mysqldb://root:\" + pw + \"@52.78.44.120/project_rookie\")"
   ]
  },
  {
   "cell_type": "code",
   "execution_count": 32,
   "metadata": {},
   "outputs": [],
   "source": [
    "df_2.reset_index().to_sql(name=\"rating_meta\", con=engine, if_exists='replace')"
   ]
  },
  {
   "cell_type": "code",
   "execution_count": null,
   "metadata": {},
   "outputs": [],
   "source": []
  }
 ],
 "metadata": {
  "kernelspec": {
   "display_name": "Python 3",
   "language": "python",
   "name": "python3"
  },
  "language_info": {
   "codemirror_mode": {
    "name": "ipython",
    "version": 3
   },
   "file_extension": ".py",
   "mimetype": "text/x-python",
   "name": "python",
   "nbconvert_exporter": "python",
   "pygments_lexer": "ipython3",
   "version": "3.6.2"
  }
 },
 "nbformat": 4,
 "nbformat_minor": 2
}
