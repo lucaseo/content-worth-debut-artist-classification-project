{
 "cells": [
  {
   "cell_type": "code",
   "execution_count": 1,
   "metadata": {},
   "outputs": [],
   "source": [
    "import pandas as pd\n",
    "import numpy as np\n",
    "\n",
    "from selenium import webdriver\n",
    "from selenium.webdriver.common.keys import Keys\n",
    "\n",
    "import pickle\n",
    "import time"
   ]
  },
  {
   "cell_type": "code",
   "execution_count": 8731,
   "metadata": {},
   "outputs": [],
   "source": [
    "# load webdriver and target webpage\n",
    "driver = webdriver.Chrome()\n",
    "driver.get('https://chartmetric.io/login')"
   ]
  },
  {
   "cell_type": "code",
   "execution_count": 8732,
   "metadata": {},
   "outputs": [],
   "source": [
    "# load password for the website\n",
    "pickle_pw = pickle.load(open(\"chartmetric_pw.pickle\", \"rb\"))"
   ]
  },
  {
   "cell_type": "code",
   "execution_count": 8733,
   "metadata": {},
   "outputs": [],
   "source": [
    "# login\n",
    "driver.find_element_by_css_selector( \"body > div > div:nth-child(2) > div.container.ng-scope > div > div > div > div > form > div:nth-child(4) > div > input\" ).send_keys( \"lucaseo1991@gmail.com\" )\n",
    "driver.find_element_by_css_selector( \"body > div > div:nth-child(2) > div.container.ng-scope > div > div > div > div > form > div:nth-child(5) > div > input\" ).send_keys( pickle_pw )\n",
    "driver.find_element_by_css_selector(\"body > div > div:nth-child(2) > div.container.ng-scope > div > div > div > div > form > div:nth-child(7) > div > button\").click()"
   ]
  },
  {
   "cell_type": "code",
   "execution_count": 8734,
   "metadata": {},
   "outputs": [],
   "source": [
    "debut_df = pd.read_csv(\"../data/final_list_debut_album.csv\")"
   ]
  },
  {
   "cell_type": "code",
   "execution_count": 8735,
   "metadata": {},
   "outputs": [],
   "source": [
    "ls = list(debut_df['artist'])\n",
    "sns_df = pd.DataFrame(columns=['artist', 'twitter', 'instagram', 'facebook', 'spotify', 'soundcloud', 'youtube'])"
   ]
  },
  {
   "cell_type": "code",
   "execution_count": 7,
   "metadata": {},
   "outputs": [
    {
     "data": {
      "text/plain": [
       "1097"
      ]
     },
     "execution_count": 7,
     "metadata": {},
     "output_type": "execute_result"
    }
   ],
   "source": [
    "len(ls)"
   ]
  },
  {
   "cell_type": "code",
   "execution_count": 8723,
   "metadata": {},
   "outputs": [],
   "source": [
    "i = 1097\n"
   ]
  },
  {
   "cell_type": "code",
   "execution_count": 8750,
   "metadata": {},
   "outputs": [],
   "source": [
    "tmp = pd.DataFrame(columns=['artist', 'twitter', 'instagram', 'facebook', 'spotify', 'soundcloud', 'youtube'])"
   ]
  },
  {
   "cell_type": "markdown",
   "metadata": {},
   "source": [
    "* * * *"
   ]
  },
  {
   "cell_type": "code",
   "execution_count": 8793,
   "metadata": {},
   "outputs": [],
   "source": [
    "# browse to search page\n",
    "driver.get('https://chartmetric.io/search')"
   ]
  },
  {
   "cell_type": "code",
   "execution_count": null,
   "metadata": {},
   "outputs": [],
   "source": [
    "print(\"i : {}\".format(i))\n",
    "artist = ls[i]\n",
    "print(\"artist : {}\".format(artist))\n",
    "time.sleep(5)"
   ]
  },
  {
   "cell_type": "code",
   "execution_count": 8794,
   "metadata": {},
   "outputs": [],
   "source": [
    "# input artist name\n",
    "driver.find_element_by_css_selector( \"body > div:nth-child(1) > div:nth-child(2) > div > div > form > input\" ).send_keys(artist)\n",
    "driver.find_element_by_css_selector(\"body > div:nth-child(1) > div:nth-child(2) > div > div > form > input\").send_keys(Keys.ENTER)"
   ]
  },
  {
   "cell_type": "code",
   "execution_count": 8795,
   "metadata": {},
   "outputs": [],
   "source": [
    "\n",
    "artist_id = driver.find_element_by_css_selector(\"#artist > ul > li > div.media-body > div.media-heading > a\").get_attribute(\"href\")[33:]\n",
    "driver.get('https://chartmetric.io/artist?id=' + str(artist_id))"
   ]
  },
  {
   "cell_type": "code",
   "execution_count": 8796,
   "metadata": {},
   "outputs": [],
   "source": [
    "social = driver.find_element_by_id(\"socialStats\")\n",
    "\n",
    "try:\n",
    "    twitter = int(social.find_element_by_id(\"twitterfollowers-total-fans\").text.replace(',', ''))\n",
    "except ValueError:\n",
    "    twitter = 0    \n",
    "    \n",
    "try:\n",
    "    instagram = int(social.find_element_by_id(\"instagram-total-fans\").text.replace(',', ''))\n",
    "except ValueError:\n",
    "    instagram = 0\n",
    "\n",
    "try:\n",
    "    facebook = int(social.find_element_by_id(\"facebooklikes-total-fans\").text.replace(',', ''))\n",
    "except ValueError:\n",
    "    facebook = 0\n",
    "\n",
    "try:\n",
    "    spotify = int(social.find_element_by_id(\"spotify-total-fans\").text.replace(',', ''))\n",
    "except ValueError:\n",
    "    spotify = 0\n",
    "\n",
    "try:\n",
    "    soundcloud = int(social.find_element_by_id(\"soundcloud-total-fans\").text.replace(',', ''))\n",
    "except ValueError:\n",
    "    soundcloud = 0\n",
    "\n",
    "try:\n",
    "    youtube = int(social.find_element_by_id(\"youtubesubscribers-total-fans\").text.replace(',', ''))\n",
    "except ValueError:\n",
    "    youtube = 0\n",
    "\n",
    "\n",
    "data = {\n",
    "    \"artist\": artist, \n",
    "    \"twitter\":twitter, \n",
    "    \"instagram\":instagram, \n",
    "    \"facebook\":facebook,\n",
    "    \"spotify\":spotify, \n",
    "    \"soundcloud\":soundcloud,\n",
    "    \"youtube\":youtube,\n",
    "}    \n",
    "\n"
   ]
  },
  {
   "cell_type": "code",
   "execution_count": 8797,
   "metadata": {},
   "outputs": [
    {
     "data": {
      "text/html": [
       "<div>\n",
       "<style scoped>\n",
       "    .dataframe tbody tr th:only-of-type {\n",
       "        vertical-align: middle;\n",
       "    }\n",
       "\n",
       "    .dataframe tbody tr th {\n",
       "        vertical-align: top;\n",
       "    }\n",
       "\n",
       "    .dataframe thead th {\n",
       "        text-align: right;\n",
       "    }\n",
       "</style>\n",
       "<table border=\"1\" class=\"dataframe\">\n",
       "  <thead>\n",
       "    <tr style=\"text-align: right;\">\n",
       "      <th></th>\n",
       "      <th>artist</th>\n",
       "      <th>twitter</th>\n",
       "      <th>instagram</th>\n",
       "      <th>facebook</th>\n",
       "      <th>spotify</th>\n",
       "      <th>soundcloud</th>\n",
       "      <th>youtube</th>\n",
       "    </tr>\n",
       "  </thead>\n",
       "  <tbody>\n",
       "    <tr>\n",
       "      <th>0</th>\n",
       "      <td>PnB Rock</td>\n",
       "      <td>368414</td>\n",
       "      <td>1357344</td>\n",
       "      <td>148399</td>\n",
       "      <td>1153648</td>\n",
       "      <td>419556</td>\n",
       "      <td>896392</td>\n",
       "    </tr>\n",
       "    <tr>\n",
       "      <th>1</th>\n",
       "      <td>Still Corners</td>\n",
       "      <td>3534</td>\n",
       "      <td>1987</td>\n",
       "      <td>34845</td>\n",
       "      <td>46568</td>\n",
       "      <td>8629</td>\n",
       "      <td>1080</td>\n",
       "    </tr>\n",
       "    <tr>\n",
       "      <th>2</th>\n",
       "      <td>JTR</td>\n",
       "      <td>493</td>\n",
       "      <td>0</td>\n",
       "      <td>0</td>\n",
       "      <td>7320</td>\n",
       "      <td>216</td>\n",
       "      <td>2050</td>\n",
       "    </tr>\n",
       "    <tr>\n",
       "      <th>3</th>\n",
       "      <td>joywave</td>\n",
       "      <td>22278</td>\n",
       "      <td>24393</td>\n",
       "      <td>52421</td>\n",
       "      <td>96922</td>\n",
       "      <td>16648</td>\n",
       "      <td>26380</td>\n",
       "    </tr>\n",
       "    <tr>\n",
       "      <th>4</th>\n",
       "      <td>Swet Shop Boys</td>\n",
       "      <td>9500</td>\n",
       "      <td>2</td>\n",
       "      <td>9000</td>\n",
       "      <td>15564</td>\n",
       "      <td>1949</td>\n",
       "      <td>4665</td>\n",
       "    </tr>\n",
       "    <tr>\n",
       "      <th>5</th>\n",
       "      <td>Shiritsu Ebisu Chugaku</td>\n",
       "      <td>0</td>\n",
       "      <td>0</td>\n",
       "      <td>0</td>\n",
       "      <td>2099</td>\n",
       "      <td>0</td>\n",
       "      <td>0</td>\n",
       "    </tr>\n",
       "    <tr>\n",
       "      <th>6</th>\n",
       "      <td>Dom Kennedy</td>\n",
       "      <td>431742</td>\n",
       "      <td>345196</td>\n",
       "      <td>198970</td>\n",
       "      <td>176886</td>\n",
       "      <td>91896</td>\n",
       "      <td>77999</td>\n",
       "    </tr>\n",
       "  </tbody>\n",
       "</table>\n",
       "</div>"
      ],
      "text/plain": [
       "                   artist twitter instagram facebook  spotify soundcloud  \\\n",
       "0                PnB Rock  368414   1357344   148399  1153648     419556   \n",
       "1           Still Corners    3534      1987    34845    46568       8629   \n",
       "2                     JTR     493         0        0     7320        216   \n",
       "3                 joywave   22278     24393    52421    96922      16648   \n",
       "4          Swet Shop Boys    9500         2     9000    15564       1949   \n",
       "5  Shiritsu Ebisu Chugaku       0         0        0     2099          0   \n",
       "6             Dom Kennedy  431742    345196   198970   176886      91896   \n",
       "\n",
       "  youtube  \n",
       "0  896392  \n",
       "1    1080  \n",
       "2    2050  \n",
       "3   26380  \n",
       "4    4665  \n",
       "5       0  \n",
       "6   77999  "
      ]
     },
     "execution_count": 8797,
     "metadata": {},
     "output_type": "execute_result"
    }
   ],
   "source": [
    "tmp.loc[len(tmp)] = data\n",
    "tmp.head(20)"
   ]
  },
  {
   "cell_type": "code",
   "execution_count": 8719,
   "metadata": {},
   "outputs": [
    {
     "data": {
      "text/html": [
       "<div>\n",
       "<style scoped>\n",
       "    .dataframe tbody tr th:only-of-type {\n",
       "        vertical-align: middle;\n",
       "    }\n",
       "\n",
       "    .dataframe tbody tr th {\n",
       "        vertical-align: top;\n",
       "    }\n",
       "\n",
       "    .dataframe thead th {\n",
       "        text-align: right;\n",
       "    }\n",
       "</style>\n",
       "<table border=\"1\" class=\"dataframe\">\n",
       "  <thead>\n",
       "    <tr style=\"text-align: right;\">\n",
       "      <th></th>\n",
       "      <th>artist</th>\n",
       "      <th>twitter</th>\n",
       "      <th>instagram</th>\n",
       "      <th>facebook</th>\n",
       "      <th>spotify</th>\n",
       "      <th>soundcloud</th>\n",
       "      <th>youtube</th>\n",
       "    </tr>\n",
       "  </thead>\n",
       "  <tbody>\n",
       "    <tr>\n",
       "      <th>1083</th>\n",
       "      <td>Lo Moon</td>\n",
       "      <td>3708</td>\n",
       "      <td>7855</td>\n",
       "      <td>10703</td>\n",
       "      <td>15130</td>\n",
       "      <td>1043</td>\n",
       "      <td>14066</td>\n",
       "    </tr>\n",
       "    <tr>\n",
       "      <th>1084</th>\n",
       "      <td>Calum Scott</td>\n",
       "      <td>600</td>\n",
       "      <td>286554</td>\n",
       "      <td>355355</td>\n",
       "      <td>329507</td>\n",
       "      <td>21954</td>\n",
       "      <td>1728617</td>\n",
       "    </tr>\n",
       "    <tr>\n",
       "      <th>1085</th>\n",
       "      <td>Angie</td>\n",
       "      <td>1913</td>\n",
       "      <td>23837</td>\n",
       "      <td>9187</td>\n",
       "      <td>16544</td>\n",
       "      <td>756</td>\n",
       "      <td>743</td>\n",
       "    </tr>\n",
       "    <tr>\n",
       "      <th>1086</th>\n",
       "      <td>Superorganism</td>\n",
       "      <td>11571</td>\n",
       "      <td>27192</td>\n",
       "      <td>27615</td>\n",
       "      <td>60983</td>\n",
       "      <td>6295</td>\n",
       "      <td>43228</td>\n",
       "    </tr>\n",
       "    <tr>\n",
       "      <th>1087</th>\n",
       "      <td>The Academic</td>\n",
       "      <td>19974</td>\n",
       "      <td>27428</td>\n",
       "      <td>60138</td>\n",
       "      <td>37009</td>\n",
       "      <td>2341</td>\n",
       "      <td>22642</td>\n",
       "    </tr>\n",
       "  </tbody>\n",
       "</table>\n",
       "</div>"
      ],
      "text/plain": [
       "             artist twitter instagram facebook spotify soundcloud  youtube\n",
       "1083        Lo Moon    3708      7855    10703   15130       1043    14066\n",
       "1084    Calum Scott     600    286554   355355  329507      21954  1728617\n",
       "1085          Angie    1913     23837     9187   16544        756      743\n",
       "1086  Superorganism   11571     27192    27615   60983       6295    43228\n",
       "1087   The Academic   19974     27428    60138   37009       2341    22642"
      ]
     },
     "execution_count": 8719,
     "metadata": {},
     "output_type": "execute_result"
    }
   ],
   "source": [
    "sns_df.loc[len(sns_df)] = data\n",
    "sns_df.tail()"
   ]
  },
  {
   "cell_type": "code",
   "execution_count": 8721,
   "metadata": {},
   "outputs": [],
   "source": [
    "i += 1"
   ]
  },
  {
   "cell_type": "code",
   "execution_count": 8800,
   "metadata": {},
   "outputs": [],
   "source": [
    "sns_df = pd.concat([sns_df, tmp])"
   ]
  },
  {
   "cell_type": "code",
   "execution_count": 8801,
   "metadata": {},
   "outputs": [],
   "source": [
    "sns_df.reset_index(drop=True, inplace=True)"
   ]
  },
  {
   "cell_type": "code",
   "execution_count": 8802,
   "metadata": {},
   "outputs": [],
   "source": [
    "sns_df.to_csv(\"../data/sns-followers/sns_followers.csv\", index=False)"
   ]
  },
  {
   "cell_type": "code",
   "execution_count": null,
   "metadata": {},
   "outputs": [],
   "source": []
  },
  {
   "cell_type": "code",
   "execution_count": null,
   "metadata": {},
   "outputs": [],
   "source": []
  },
  {
   "cell_type": "code",
   "execution_count": null,
   "metadata": {},
   "outputs": [],
   "source": []
  },
  {
   "cell_type": "code",
   "execution_count": null,
   "metadata": {},
   "outputs": [],
   "source": []
  },
  {
   "cell_type": "code",
   "execution_count": 8783,
   "metadata": {},
   "outputs": [],
   "source": [
    "df = pd.read_csv(\"../data/sns-followers/sns_followers-utf8.csv\")"
   ]
  },
  {
   "cell_type": "code",
   "execution_count": null,
   "metadata": {},
   "outputs": [],
   "source": []
  },
  {
   "cell_type": "code",
   "execution_count": null,
   "metadata": {},
   "outputs": [],
   "source": []
  },
  {
   "cell_type": "code",
   "execution_count": null,
   "metadata": {},
   "outputs": [],
   "source": []
  },
  {
   "cell_type": "markdown",
   "metadata": {},
   "source": [
    "### add to mysql database"
   ]
  },
  {
   "cell_type": "code",
   "execution_count": 8727,
   "metadata": {},
   "outputs": [],
   "source": [
    "import sqlalchemy, pickle\n",
    "from sqlalchemy import create_engine"
   ]
  },
  {
   "cell_type": "code",
   "execution_count": 8728,
   "metadata": {},
   "outputs": [],
   "source": [
    "pw = pickle.load(open(\"mysql_pw.pickle\", \"rb\"))"
   ]
  },
  {
   "cell_type": "code",
   "execution_count": 8729,
   "metadata": {},
   "outputs": [],
   "source": [
    "engine = sqlalchemy.create_engine(\"mysql+mysqldb://root:\" + pw + \"@52.78.44.120/project_rookie\")"
   ]
  },
  {
   "cell_type": "code",
   "execution_count": 8730,
   "metadata": {},
   "outputs": [],
   "source": [
    "df.to_sql(name=\"sns_followers\", con=engine, if_exists='replace')"
   ]
  },
  {
   "cell_type": "code",
   "execution_count": null,
   "metadata": {},
   "outputs": [],
   "source": []
  }
 ],
 "metadata": {
  "kernelspec": {
   "display_name": "Python 3",
   "language": "python",
   "name": "python3"
  },
  "language_info": {
   "codemirror_mode": {
    "name": "ipython",
    "version": 3
   },
   "file_extension": ".py",
   "mimetype": "text/x-python",
   "name": "python",
   "nbconvert_exporter": "python",
   "pygments_lexer": "ipython3",
   "version": "3.6.2"
  }
 },
 "nbformat": 4,
 "nbformat_minor": 2
}
