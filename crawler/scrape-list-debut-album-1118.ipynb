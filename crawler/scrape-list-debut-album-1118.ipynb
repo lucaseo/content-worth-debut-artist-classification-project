{
 "cells": [
  {
   "cell_type": "code",
   "execution_count": 1,
   "metadata": {},
   "outputs": [],
   "source": [
    "import warnings\n",
    "warnings.simplefilter(action='ignore', category=FutureWarning)\n",
    "\n",
    "import wikipediaapi\n",
    "\n",
    "import requests, re\n",
    "from bs4 import BeautifulSoup\n",
    "import pandas as pd\n",
    "import numpy as np\n",
    "import unidecode\n",
    "\n",
    "from tqdm import tqdm_notebook\n"
   ]
  },
  {
   "cell_type": "code",
   "execution_count": 2,
   "metadata": {},
   "outputs": [],
   "source": [
    "wiki = wikipediaapi.Wikipedia('en')"
   ]
  },
  {
   "cell_type": "code",
   "execution_count": 3,
   "metadata": {},
   "outputs": [],
   "source": [
    "freshmen_1118 = []\n",
    "\n",
    "def get_debut_albums():\n",
    "    \n",
    "    for i in tqdm_notebook(range(1, 8+1)):\n",
    "        result = wiki.page(\"Category:201\"+str(i)+\" debut albums\")\n",
    "        freshmen_1118.extend(list(result.categorymembers))\n",
    "    \n",
    "    print(len(freshmen_1118))"
   ]
  },
  {
   "cell_type": "code",
   "execution_count": 4,
   "metadata": {},
   "outputs": [
    {
     "data": {
      "application/vnd.jupyter.widget-view+json": {
       "model_id": "7224877f93a84564855b35d7d12590ad",
       "version_major": 2,
       "version_minor": 0
      },
      "text/html": [
       "<p>Failed to display Jupyter Widget of type <code>HBox</code>.</p>\n",
       "<p>\n",
       "  If you're reading this message in the Jupyter Notebook or JupyterLab Notebook, it may mean\n",
       "  that the widgets JavaScript is still loading. If this message persists, it\n",
       "  likely means that the widgets JavaScript library is either not installed or\n",
       "  not enabled. See the <a href=\"https://ipywidgets.readthedocs.io/en/stable/user_install.html\">Jupyter\n",
       "  Widgets Documentation</a> for setup instructions.\n",
       "</p>\n",
       "<p>\n",
       "  If you're reading this message in another frontend (for example, a static\n",
       "  rendering on GitHub or <a href=\"https://nbviewer.jupyter.org/\">NBViewer</a>),\n",
       "  it may mean that your frontend doesn't currently support widgets.\n",
       "</p>\n"
      ],
      "text/plain": [
       "HBox(children=(IntProgress(value=0, max=8), HTML(value='')))"
      ]
     },
     "metadata": {},
     "output_type": "display_data"
    },
    {
     "name": "stdout",
     "output_type": "stream",
     "text": [
      "\n",
      "2011\n"
     ]
    }
   ],
   "source": [
    "get_debut_albums()"
   ]
  },
  {
   "cell_type": "code",
   "execution_count": 5,
   "metadata": {},
   "outputs": [],
   "source": [
    "def get_freshmen_data(list):\n",
    "    \n",
    "    df = pd.DataFrame(columns=['artist', 'album', 'genre', 'single_count', 'release_date'])\n",
    "    \n",
    "    for albums in tqdm_notebook(list):\n",
    "        url = \"https://en.wikipedia.org/wiki/\" + str(albums)\n",
    "        response = requests.get(url)\n",
    "        soup = BeautifulSoup(response.content, 'html.parser')\n",
    "        tmp_tag = soup.find(id='content')\n",
    "        \n",
    "        \n",
    "        try:\n",
    "            artist = tmp_tag.find(class_=\"contributor\").get_text()\n",
    "        except AttributeError:\n",
    "            artist = \"N/A\"\n",
    "        \n",
    "        \n",
    "        try:\n",
    "            album = tmp_tag.find(class_=\"summary\").get_text()\n",
    "        except AttributeError:\n",
    "            album = \"N/A\"\n",
    "        \n",
    "        genre_ls = []\n",
    "        try:\n",
    "            for i in range(len(tmp_tag.select('.category a[href*=\"/wiki/\"]'))):\n",
    "                genre = tmp_tag.select('.category a[href*=\"/wiki/\"]')[i].get_text()\n",
    "                genre_ls.append(genre)\n",
    "        except AttributeError:\n",
    "            genre_ls = []\n",
    "        genre_ls = \", \".join(genre_ls)\n",
    "        \n",
    "        try:\n",
    "            single_count = len(tmp_tag.select(\"tr td div ol li\"))\n",
    "        except AttributeError:\n",
    "            single_count = 0\n",
    "            \n",
    "            \n",
    "        try:\n",
    "            release_date = tmp_tag.select('.published')[0].get_text()\n",
    "        except Exception as e:\n",
    "            release_date = \"unknown\"\n",
    "\n",
    "        \n",
    "        \n",
    "        data = {\"artist\" : artist,\n",
    "            \"album\" : album,\n",
    "            \"genre\" : genre_ls,\n",
    "            \"single_count\" : single_count,\n",
    "            \"release_date\" : release_date,\n",
    "               }\n",
    "\n",
    "        df.loc[len(df)] = data\n",
    "    \n",
    "    return df"
   ]
  },
  {
   "cell_type": "code",
   "execution_count": 8,
   "metadata": {},
   "outputs": [
    {
     "data": {
      "application/vnd.jupyter.widget-view+json": {
       "model_id": "8b572779a92a4c9486a58279d904f418",
       "version_major": 2,
       "version_minor": 0
      },
      "text/html": [
       "<p>Failed to display Jupyter Widget of type <code>HBox</code>.</p>\n",
       "<p>\n",
       "  If you're reading this message in the Jupyter Notebook or JupyterLab Notebook, it may mean\n",
       "  that the widgets JavaScript is still loading. If this message persists, it\n",
       "  likely means that the widgets JavaScript library is either not installed or\n",
       "  not enabled. See the <a href=\"https://ipywidgets.readthedocs.io/en/stable/user_install.html\">Jupyter\n",
       "  Widgets Documentation</a> for setup instructions.\n",
       "</p>\n",
       "<p>\n",
       "  If you're reading this message in another frontend (for example, a static\n",
       "  rendering on GitHub or <a href=\"https://nbviewer.jupyter.org/\">NBViewer</a>),\n",
       "  it may mean that your frontend doesn't currently support widgets.\n",
       "</p>\n"
      ],
      "text/plain": [
       "HBox(children=(IntProgress(value=0, max=2011), HTML(value='')))"
      ]
     },
     "metadata": {},
     "output_type": "display_data"
    },
    {
     "name": "stdout",
     "output_type": "stream",
     "text": [
      "\n"
     ]
    }
   ],
   "source": [
    "ls_debut = get_freshmen_data(freshmen_1118)"
   ]
  },
  {
   "cell_type": "code",
   "execution_count": 9,
   "metadata": {},
   "outputs": [
    {
     "name": "stdout",
     "output_type": "stream",
     "text": [
      "(2011, 5)\n"
     ]
    },
    {
     "data": {
      "text/html": [
       "<div>\n",
       "<style scoped>\n",
       "    .dataframe tbody tr th:only-of-type {\n",
       "        vertical-align: middle;\n",
       "    }\n",
       "\n",
       "    .dataframe tbody tr th {\n",
       "        vertical-align: top;\n",
       "    }\n",
       "\n",
       "    .dataframe thead th {\n",
       "        text-align: right;\n",
       "    }\n",
       "</style>\n",
       "<table border=\"1\" class=\"dataframe\">\n",
       "  <thead>\n",
       "    <tr style=\"text-align: right;\">\n",
       "      <th></th>\n",
       "      <th>artist</th>\n",
       "      <th>album</th>\n",
       "      <th>genre</th>\n",
       "      <th>single_count</th>\n",
       "      <th>release_date</th>\n",
       "    </tr>\n",
       "  </thead>\n",
       "  <tbody>\n",
       "    <tr>\n",
       "      <th>2006</th>\n",
       "      <td>EDEN</td>\n",
       "      <td>vertigo</td>\n",
       "      <td></td>\n",
       "      <td>3</td>\n",
       "      <td>19 January 2018 (2018-01-19)</td>\n",
       "    </tr>\n",
       "    <tr>\n",
       "      <th>2007</th>\n",
       "      <td>Nipsey Hussle</td>\n",
       "      <td>Victory Lap</td>\n",
       "      <td>West Coast hip hop</td>\n",
       "      <td>2</td>\n",
       "      <td>February 16, 2018</td>\n",
       "    </tr>\n",
       "    <tr>\n",
       "      <th>2008</th>\n",
       "      <td>Rich the Kid</td>\n",
       "      <td>The World Is Yours</td>\n",
       "      <td></td>\n",
       "      <td>3</td>\n",
       "      <td>March 30, 2018</td>\n",
       "    </tr>\n",
       "    <tr>\n",
       "      <th>2009</th>\n",
       "      <td>Myles Kennedy</td>\n",
       "      <td>Year of the Tiger</td>\n",
       "      <td></td>\n",
       "      <td>0</td>\n",
       "      <td>March 9, 2018 (2018-03-09)</td>\n",
       "    </tr>\n",
       "    <tr>\n",
       "      <th>2010</th>\n",
       "      <td>Fickle Friends</td>\n",
       "      <td>You Are Someone Else</td>\n",
       "      <td></td>\n",
       "      <td>6</td>\n",
       "      <td>16 March 2018[1]</td>\n",
       "    </tr>\n",
       "  </tbody>\n",
       "</table>\n",
       "</div>"
      ],
      "text/plain": [
       "              artist                 album               genre single_count  \\\n",
       "2006            EDEN               vertigo                                3   \n",
       "2007   Nipsey Hussle           Victory Lap  West Coast hip hop            2   \n",
       "2008    Rich the Kid    The World Is Yours                                3   \n",
       "2009   Myles Kennedy     Year of the Tiger                                0   \n",
       "2010  Fickle Friends  You Are Someone Else                                6   \n",
       "\n",
       "                      release_date  \n",
       "2006  19 January 2018 (2018-01-19)  \n",
       "2007             February 16, 2018  \n",
       "2008                March 30, 2018  \n",
       "2009    March 9, 2018 (2018-03-09)  \n",
       "2010              16 March 2018[1]  "
      ]
     },
     "execution_count": 9,
     "metadata": {},
     "output_type": "execute_result"
    }
   ],
   "source": [
    "print(ls_debut.shape)\n",
    "ls_debut.tail()"
   ]
  },
  {
   "cell_type": "markdown",
   "metadata": {},
   "source": [
    "### Examine Scraping Errors"
   ]
  },
  {
   "cell_type": "code",
   "execution_count": 10,
   "metadata": {},
   "outputs": [],
   "source": [
    "ls_debut = ls_debut[ls_debut['album'].isin(['N/A']) == False]"
   ]
  },
  {
   "cell_type": "code",
   "execution_count": 11,
   "metadata": {},
   "outputs": [
    {
     "data": {
      "text/html": [
       "<div>\n",
       "<style scoped>\n",
       "    .dataframe tbody tr th:only-of-type {\n",
       "        vertical-align: middle;\n",
       "    }\n",
       "\n",
       "    .dataframe tbody tr th {\n",
       "        vertical-align: top;\n",
       "    }\n",
       "\n",
       "    .dataframe thead th {\n",
       "        text-align: right;\n",
       "    }\n",
       "</style>\n",
       "<table border=\"1\" class=\"dataframe\">\n",
       "  <thead>\n",
       "    <tr style=\"text-align: right;\">\n",
       "      <th></th>\n",
       "      <th>artist</th>\n",
       "      <th>album</th>\n",
       "      <th>genre</th>\n",
       "      <th>single_count</th>\n",
       "      <th>release_date</th>\n",
       "    </tr>\n",
       "  </thead>\n",
       "  <tbody>\n",
       "    <tr>\n",
       "      <th>319</th>\n",
       "      <td>N/A</td>\n",
       "      <td>Talk About Body</td>\n",
       "      <td>Electropop, Political music</td>\n",
       "      <td>3</td>\n",
       "      <td>February 1, 2011 (February 1, 2011)</td>\n",
       "    </tr>\n",
       "    <tr>\n",
       "      <th>1736</th>\n",
       "      <td>N/A</td>\n",
       "      <td>\"Muses Diary\"</td>\n",
       "      <td></td>\n",
       "      <td>0</td>\n",
       "      <td>unknown</td>\n",
       "    </tr>\n",
       "  </tbody>\n",
       "</table>\n",
       "</div>"
      ],
      "text/plain": [
       "     artist            album                        genre single_count  \\\n",
       "319     N/A  Talk About Body  Electropop, Political music            3   \n",
       "1736    N/A    \"Muses Diary\"                                         0   \n",
       "\n",
       "                             release_date  \n",
       "319   February 1, 2011 (February 1, 2011)  \n",
       "1736                              unknown  "
      ]
     },
     "execution_count": 11,
     "metadata": {},
     "output_type": "execute_result"
    }
   ],
   "source": [
    "# Row 1735 happens to be K-pop group \"Nine Muses\"\n",
    "# Not relevant to the data purpose, thus drop\n",
    "\n",
    "ls_debut[ls_debut['artist'].isin(['N/A'])]"
   ]
  },
  {
   "cell_type": "code",
   "execution_count": 12,
   "metadata": {},
   "outputs": [],
   "source": [
    "ls_debut.drop([1735], inplace=True)"
   ]
  },
  {
   "cell_type": "code",
   "execution_count": 13,
   "metadata": {},
   "outputs": [
    {
     "data": {
      "text/html": [
       "<div>\n",
       "<style scoped>\n",
       "    .dataframe tbody tr th:only-of-type {\n",
       "        vertical-align: middle;\n",
       "    }\n",
       "\n",
       "    .dataframe tbody tr th {\n",
       "        vertical-align: top;\n",
       "    }\n",
       "\n",
       "    .dataframe thead th {\n",
       "        text-align: right;\n",
       "    }\n",
       "</style>\n",
       "<table border=\"1\" class=\"dataframe\">\n",
       "  <thead>\n",
       "    <tr style=\"text-align: right;\">\n",
       "      <th></th>\n",
       "      <th>artist</th>\n",
       "      <th>album</th>\n",
       "      <th>genre</th>\n",
       "      <th>single_count</th>\n",
       "      <th>release_date</th>\n",
       "    </tr>\n",
       "  </thead>\n",
       "  <tbody>\n",
       "    <tr>\n",
       "      <th>319</th>\n",
       "      <td>N/A</td>\n",
       "      <td>Talk About Body</td>\n",
       "      <td>Electropop, Political music</td>\n",
       "      <td>3</td>\n",
       "      <td>February 1, 2011 (February 1, 2011)</td>\n",
       "    </tr>\n",
       "    <tr>\n",
       "      <th>1736</th>\n",
       "      <td>N/A</td>\n",
       "      <td>\"Muses Diary\"</td>\n",
       "      <td></td>\n",
       "      <td>0</td>\n",
       "      <td>unknown</td>\n",
       "    </tr>\n",
       "  </tbody>\n",
       "</table>\n",
       "</div>"
      ],
      "text/plain": [
       "     artist            album                        genre single_count  \\\n",
       "319     N/A  Talk About Body  Electropop, Political music            3   \n",
       "1736    N/A    \"Muses Diary\"                                         0   \n",
       "\n",
       "                             release_date  \n",
       "319   February 1, 2011 (February 1, 2011)  \n",
       "1736                              unknown  "
      ]
     },
     "execution_count": 13,
     "metadata": {},
     "output_type": "execute_result"
    }
   ],
   "source": [
    "# Fill in artist info for row 1735 (https://en.wikipedia.org/wiki/Talk_About_Body)\n",
    "\n",
    "ls_debut[ls_debut['artist'].isin(['N/A'])]"
   ]
  },
  {
   "cell_type": "code",
   "execution_count": 14,
   "metadata": {},
   "outputs": [],
   "source": [
    "ls_debut['artist'][319] = 'MEN'"
   ]
  },
  {
   "cell_type": "code",
   "execution_count": 34,
   "metadata": {},
   "outputs": [
    {
     "data": {
      "text/plain": [
       "'N/A'"
      ]
     },
     "execution_count": 34,
     "metadata": {},
     "output_type": "execute_result"
    }
   ],
   "source": [
    "ls_debut['artist'][1736]"
   ]
  },
  {
   "cell_type": "markdown",
   "metadata": {},
   "source": [
    "### replace accent characters and commas"
   ]
  },
  {
   "cell_type": "code",
   "execution_count": 15,
   "metadata": {},
   "outputs": [],
   "source": [
    "def decodeuni(str):\n",
    "    return unidecode.unidecode(str)"
   ]
  },
  {
   "cell_type": "code",
   "execution_count": 16,
   "metadata": {},
   "outputs": [],
   "source": [
    "ls_debut['artist'] = ls_debut['artist'].apply(decodeuni)\n",
    "ls_debut['album'] = ls_debut['album'].apply(decodeuni)\n",
    "ls_debut['artist'] = ls_debut['artist'].apply(lambda x : x.replace(\",\", \"\"))\n",
    "ls_debut['album'] = ls_debut['album'].apply(lambda x : x.replace(\",\", \"\"))"
   ]
  },
  {
   "cell_type": "code",
   "execution_count": null,
   "metadata": {},
   "outputs": [],
   "source": []
  },
  {
   "cell_type": "markdown",
   "metadata": {},
   "source": [
    "### Drop duplicate entries"
   ]
  },
  {
   "cell_type": "code",
   "execution_count": 63,
   "metadata": {},
   "outputs": [],
   "source": [
    "# Drop duplicate entries. \n",
    "# Keep the earlier debut album, drop the latter ones.\n",
    "\n",
    "ls_debut.drop_duplicates(subset='artist', keep='first', inplace=True)"
   ]
  },
  {
   "cell_type": "code",
   "execution_count": 52,
   "metadata": {},
   "outputs": [],
   "source": [
    "ls_debut.drop(index=1693, inplace=True)"
   ]
  },
  {
   "cell_type": "code",
   "execution_count": 54,
   "metadata": {},
   "outputs": [],
   "source": [
    "ls_debut.reset_index(drop=True, inplace=True)"
   ]
  },
  {
   "cell_type": "code",
   "execution_count": 56,
   "metadata": {},
   "outputs": [],
   "source": [
    "ls_debut.to_csv(\"../data/debut_album_1118.csv\", index=False)"
   ]
  },
  {
   "cell_type": "markdown",
   "metadata": {},
   "source": [
    "### Fill in missing genres my manual imputation"
   ]
  },
  {
   "cell_type": "markdown",
   "metadata": {},
   "source": [
    "* * * *"
   ]
  },
  {
   "cell_type": "markdown",
   "metadata": {},
   "source": [
    "### Load csv file to double check"
   ]
  },
  {
   "cell_type": "code",
   "execution_count": 64,
   "metadata": {},
   "outputs": [],
   "source": [
    "df = pd.read_csv(\"../data/debut_album_1118-utf8.csv\")"
   ]
  },
  {
   "cell_type": "code",
   "execution_count": 65,
   "metadata": {},
   "outputs": [
    {
     "name": "stdout",
     "output_type": "stream",
     "text": [
      "(1951, 5)\n"
     ]
    },
    {
     "data": {
      "text/html": [
       "<div>\n",
       "<style scoped>\n",
       "    .dataframe tbody tr th:only-of-type {\n",
       "        vertical-align: middle;\n",
       "    }\n",
       "\n",
       "    .dataframe tbody tr th {\n",
       "        vertical-align: top;\n",
       "    }\n",
       "\n",
       "    .dataframe thead th {\n",
       "        text-align: right;\n",
       "    }\n",
       "</style>\n",
       "<table border=\"1\" class=\"dataframe\">\n",
       "  <thead>\n",
       "    <tr style=\"text-align: right;\">\n",
       "      <th></th>\n",
       "      <th>artist</th>\n",
       "      <th>album</th>\n",
       "      <th>genre</th>\n",
       "      <th>single_count</th>\n",
       "      <th>release_date</th>\n",
       "    </tr>\n",
       "  </thead>\n",
       "  <tbody>\n",
       "    <tr>\n",
       "      <th>0</th>\n",
       "      <td>2Cellos</td>\n",
       "      <td>2Cellos</td>\n",
       "      <td>Cello rock, classical crossover</td>\n",
       "      <td>3</td>\n",
       "      <td>June 10, 2011</td>\n",
       "    </tr>\n",
       "    <tr>\n",
       "      <th>1</th>\n",
       "      <td>Deep Dark Robot</td>\n",
       "      <td>8 Songs About a Girl</td>\n",
       "      <td>Post-grunge, punk blues</td>\n",
       "      <td>0</td>\n",
       "      <td>MarchÂ 22,Â 2011Â (2011-03-22)</td>\n",
       "    </tr>\n",
       "    <tr>\n",
       "      <th>2</th>\n",
       "      <td>The Young Professionals</td>\n",
       "      <td>9am to 5pm 5pm to Whenever\\r(09:00 to 17:00 17...</td>\n",
       "      <td>Electronic</td>\n",
       "      <td>0</td>\n",
       "      <td>September 12, 2011 (Israel)\\rJune 18, 2012 (in...</td>\n",
       "    </tr>\n",
       "    <tr>\n",
       "      <th>3</th>\n",
       "      <td>Flash Bang Grenada</td>\n",
       "      <td>10 Haters</td>\n",
       "      <td>Alternative hip hop</td>\n",
       "      <td>0</td>\n",
       "      <td>AugustÂ 23,Â 2011Â (2011-08-23)</td>\n",
       "    </tr>\n",
       "    <tr>\n",
       "      <th>4</th>\n",
       "      <td>Her Majesty &amp; the Wolves</td>\n",
       "      <td>111</td>\n",
       "      <td>Dance, pop</td>\n",
       "      <td>3</td>\n",
       "      <td>July 11, 2011 (UK)</td>\n",
       "    </tr>\n",
       "  </tbody>\n",
       "</table>\n",
       "</div>"
      ],
      "text/plain": [
       "                     artist  \\\n",
       "0                   2Cellos   \n",
       "1           Deep Dark Robot   \n",
       "2   The Young Professionals   \n",
       "3        Flash Bang Grenada   \n",
       "4  Her Majesty & the Wolves   \n",
       "\n",
       "                                               album  \\\n",
       "0                                            2Cellos   \n",
       "1                               8 Songs About a Girl   \n",
       "2  9am to 5pm 5pm to Whenever\\r(09:00 to 17:00 17...   \n",
       "3                                          10 Haters   \n",
       "4                                                111   \n",
       "\n",
       "                             genre  single_count  \\\n",
       "0  Cello rock, classical crossover             3   \n",
       "1          Post-grunge, punk blues             0   \n",
       "2                       Electronic             0   \n",
       "3              Alternative hip hop             0   \n",
       "4                       Dance, pop             3   \n",
       "\n",
       "                                        release_date  \n",
       "0                                      June 10, 2011  \n",
       "1                     MarchÂ 22,Â 2011Â (2011-03-22)  \n",
       "2  September 12, 2011 (Israel)\\rJune 18, 2012 (in...  \n",
       "3                    AugustÂ 23,Â 2011Â (2011-08-23)  \n",
       "4                                 July 11, 2011 (UK)  "
      ]
     },
     "execution_count": 65,
     "metadata": {},
     "output_type": "execute_result"
    }
   ],
   "source": [
    "print(df.shape)\n",
    "df.head()"
   ]
  },
  {
   "cell_type": "markdown",
   "metadata": {},
   "source": [
    "### Upload to MySQL database"
   ]
  },
  {
   "cell_type": "code",
   "execution_count": 66,
   "metadata": {},
   "outputs": [],
   "source": [
    "import sqlalchemy, pickle\n",
    "from sqlalchemy import create_engine"
   ]
  },
  {
   "cell_type": "code",
   "execution_count": 67,
   "metadata": {},
   "outputs": [],
   "source": [
    "pw = pickle.load(open(\"mysql_pw.pickle\", \"rb\"))"
   ]
  },
  {
   "cell_type": "code",
   "execution_count": 68,
   "metadata": {},
   "outputs": [],
   "source": [
    "engine = sqlalchemy.create_engine(\"mysql+mysqldb://root:\" + pw + \"@52.78.44.120/project_rookie\")"
   ]
  },
  {
   "cell_type": "code",
   "execution_count": 69,
   "metadata": {},
   "outputs": [],
   "source": [
    "df.to_sql(name=\"debut_album\", con=engine, if_exists='replace')"
   ]
  },
  {
   "cell_type": "code",
   "execution_count": null,
   "metadata": {},
   "outputs": [],
   "source": []
  }
 ],
 "metadata": {
  "kernelspec": {
   "display_name": "Python 3",
   "language": "python",
   "name": "python3"
  },
  "language_info": {
   "codemirror_mode": {
    "name": "ipython",
    "version": 3
   },
   "file_extension": ".py",
   "mimetype": "text/x-python",
   "name": "python",
   "nbconvert_exporter": "python",
   "pygments_lexer": "ipython3",
   "version": "3.6.2"
  }
 },
 "nbformat": 4,
 "nbformat_minor": 2
}
