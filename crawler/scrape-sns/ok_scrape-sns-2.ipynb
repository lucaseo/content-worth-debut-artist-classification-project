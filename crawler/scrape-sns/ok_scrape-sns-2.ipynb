{
 "cells": [
  {
   "cell_type": "code",
   "execution_count": 1,
   "metadata": {},
   "outputs": [],
   "source": [
    "import pandas as pd\n",
    "import numpy as np\n",
    "\n",
    "from selenium import webdriver\n",
    "from selenium.webdriver.common.keys import Keys\n",
    "\n",
    "import pickle\n",
    "import time"
   ]
  },
  {
   "cell_type": "code",
   "execution_count": 2,
   "metadata": {},
   "outputs": [],
   "source": [
    "debut_df = pd.read_csv(\"../data/debut_album_1118.csv\")"
   ]
  },
  {
   "cell_type": "code",
   "execution_count": 3,
   "metadata": {},
   "outputs": [
    {
     "data": {
      "text/plain": [
       "1949"
      ]
     },
     "execution_count": 3,
     "metadata": {},
     "output_type": "execute_result"
    }
   ],
   "source": [
    "debut_df.shape[0]"
   ]
  },
  {
   "cell_type": "code",
   "execution_count": 4,
   "metadata": {},
   "outputs": [],
   "source": [
    "df = debut_df[20:40]"
   ]
  },
  {
   "cell_type": "code",
   "execution_count": null,
   "metadata": {},
   "outputs": [],
   "source": [
    "def get_followers(dataframe):\n",
    "    \n",
    "    ls = list(dataframe['artist'])\n",
    "    sns_df = pd.DataFrame(columns=['artist', 'twitter', 'instagram', 'facebook', 'spotify', 'soundcloud', 'youtube'])\n",
    "    \n",
    "    # load webdriver and target webpage\n",
    "    driver = webdriver.Chrome()\n",
    "    driver.get('https://chartmetric.io/login')\n",
    "    time.sleep(3)\n",
    "    \n",
    "    # load password for the website\n",
    "    pickle_pw = pickle.load(open(\"chartmetric_pw.pickle\", \"rb\"))\n",
    "\n",
    "    # login\n",
    "    driver.find_element_by_css_selector( \"body > div > div:nth-child(2) > div.container.ng-scope > div > div > div > div > form > div:nth-child(4) > div > input\" ).send_keys( \"lucaseo1991@gmail.com\" )\n",
    "    driver.find_element_by_css_selector( \"body > div > div:nth-child(2) > div.container.ng-scope > div > div > div > div > form > div:nth-child(5) > div > input\" ).send_keys( pickle_pw )\n",
    "    driver.find_element_by_css_selector(\"body > div > div:nth-child(2) > div.container.ng-scope > div > div > div > div > form > div:nth-child(7) > div > button\").click()\n",
    "    time.sleep(7)\n",
    "\n",
    "    \n",
    "    \n",
    "    #input artist\n",
    "    for artist in ls:\n",
    "        \n",
    "        # browse to search page\n",
    "        driver.get('https://chartmetric.io/search')\n",
    "        time.sleep(10)\n",
    "\n",
    "        # input artist name\n",
    "        driver.find_element_by_css_selector( \"body > div:nth-child(1) > div:nth-child(2) > div > div > form > input\" ).send_keys(artist)\n",
    "        driver.find_element_by_css_selector(\"body > div:nth-child(1) > div:nth-child(2) > div > div > form > input\").send_keys(Keys.ENTER)\n",
    "        time.sleep(10)\n",
    "\n",
    "        # enter artist info page\n",
    "        keyword = driver.find_element_by_css_selector(\"#artist > ul > li > div.media-body > div.media-heading > a\").text\n",
    "        driver.find_element_by_link_text(keyword).click()\n",
    "        \n",
    "            \n",
    "        time.sleep(10)\n",
    "        \n",
    "        social = driver.find_element_by_id(\"socialStats\")\n",
    "\n",
    "        time.sleep(5)\n",
    "        \n",
    "        twitter = social.find_element_by_id(\"twitterfollowers-total-fans\").text\n",
    "        instagram = social.find_element_by_id(\"instagram-total-fans\").text\n",
    "        facebook = social.find_element_by_id(\"facebooklikes-total-fans\").text\n",
    "        spotify = social.find_element_by_id(\"spotify-total-fans\").text\n",
    "        soundcloud = social.find_element_by_id(\"soundcloud-total-fans\").text\n",
    "        youtube = social.find_element_by_id(\"youtubesubscribers-total-fans\").text\n",
    "\n",
    "        \n",
    "        data = {\n",
    "            \"artist\": artist, \n",
    "            \"twitter\":twitter, \n",
    "            \"instagram\":instagram, \n",
    "            \"facebook\":facebook,\n",
    "            \"spotify\":spotify, \n",
    "            \"soundcloud\":soundcloud,\n",
    "            \"youtube\":youtube,\n",
    "        }    \n",
    "        \n",
    "        sns_df.loc[len(sns_df)] = data\n",
    "        \n",
    "        time.sleep(2)\n",
    "       \n",
    "    driver.close()\n",
    "        \n",
    "    return sns_df\n",
    "        "
   ]
  },
  {
   "cell_type": "code",
   "execution_count": null,
   "metadata": {},
   "outputs": [],
   "source": [
    "df_1 = get_followers(df)"
   ]
  },
  {
   "cell_type": "code",
   "execution_count": null,
   "metadata": {},
   "outputs": [],
   "source": [
    "print(df_1.shape)\n",
    "df_1.head()"
   ]
  },
  {
   "cell_type": "code",
   "execution_count": null,
   "metadata": {},
   "outputs": [],
   "source": [
    "df_1.to_csv('../data/sns/df_20-39.csv', index=False)"
   ]
  },
  {
   "cell_type": "code",
   "execution_count": null,
   "metadata": {},
   "outputs": [],
   "source": []
  }
 ],
 "metadata": {
  "kernelspec": {
   "display_name": "Python 3",
   "language": "python",
   "name": "python3"
  },
  "language_info": {
   "codemirror_mode": {
    "name": "ipython",
    "version": 3
   },
   "file_extension": ".py",
   "mimetype": "text/x-python",
   "name": "python",
   "nbconvert_exporter": "python",
   "pygments_lexer": "ipython3",
   "version": "3.6.2"
  }
 },
 "nbformat": 4,
 "nbformat_minor": 2
}
