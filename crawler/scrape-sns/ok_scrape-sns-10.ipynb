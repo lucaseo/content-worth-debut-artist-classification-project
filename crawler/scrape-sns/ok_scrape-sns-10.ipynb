{
 "cells": [
  {
   "cell_type": "code",
   "execution_count": 1,
   "metadata": {},
   "outputs": [],
   "source": [
    "import pandas as pd\n",
    "import numpy as np\n",
    "\n",
    "from selenium import webdriver\n",
    "from selenium.webdriver.common.keys import Keys\n",
    "\n",
    "import pickle\n",
    "import time"
   ]
  },
  {
   "cell_type": "code",
   "execution_count": 2,
   "metadata": {},
   "outputs": [],
   "source": [
    "debut_df = pd.read_csv(\"../data/debut_album_1118.csv\")"
   ]
  },
  {
   "cell_type": "code",
   "execution_count": 3,
   "metadata": {},
   "outputs": [
    {
     "data": {
      "text/plain": [
       "1949"
      ]
     },
     "execution_count": 3,
     "metadata": {},
     "output_type": "execute_result"
    }
   ],
   "source": [
    "debut_df.shape[0]"
   ]
  },
  {
   "cell_type": "code",
   "execution_count": 4,
   "metadata": {},
   "outputs": [],
   "source": [
    "df = debut_df[180:200]"
   ]
  },
  {
   "cell_type": "code",
   "execution_count": 5,
   "metadata": {},
   "outputs": [],
   "source": [
    "def get_followers(dataframe):\n",
    "    \n",
    "    ls = list(dataframe['artist'])\n",
    "    sns_df = pd.DataFrame(columns=['artist', 'twitter', 'instagram', 'facebook', 'spotify', 'soundcloud', 'youtube'])\n",
    "    \n",
    "    # load webdriver and target webpage\n",
    "    driver = webdriver.Chrome()\n",
    "    driver.get('https://chartmetric.io/login')\n",
    "    time.sleep(10)\n",
    "    \n",
    "    # load password for the website\n",
    "    pickle_pw = pickle.load(open(\"chartmetric_pw.pickle\", \"rb\"))\n",
    "\n",
    "    # login\n",
    "    driver.find_element_by_css_selector( \"body > div > div:nth-child(2) > div.container.ng-scope > div > div > div > div > form > div:nth-child(4) > div > input\" ).send_keys( \"lucaseo1991@gmail.com\" )\n",
    "    driver.find_element_by_css_selector( \"body > div > div:nth-child(2) > div.container.ng-scope > div > div > div > div > form > div:nth-child(5) > div > input\" ).send_keys( pickle_pw )\n",
    "    driver.find_element_by_css_selector(\"body > div > div:nth-child(2) > div.container.ng-scope > div > div > div > div > form > div:nth-child(7) > div > button\").click()\n",
    "    time.sleep(10)\n",
    "\n",
    "    \n",
    "    \n",
    "    #input artist\n",
    "    for artist in ls:\n",
    "        \n",
    "        # browse to search page\n",
    "        driver.get('https://chartmetric.io/search')\n",
    "        time.sleep(10)\n",
    "\n",
    "        # input artist name\n",
    "        driver.find_element_by_css_selector( \"body > div:nth-child(1) > div:nth-child(2) > div > div > form > input\" ).send_keys(artist)\n",
    "        driver.find_element_by_css_selector(\"body > div:nth-child(1) > div:nth-child(2) > div > div > form > input\").send_keys(Keys.ENTER)\n",
    "        time.sleep(10)\n",
    "\n",
    "        # enter artist info page\n",
    "#         keyword = driver.find_element_by_css_selector(\"#artist > ul > li > div.media-body > div.media-heading > a\").text\n",
    "#         driver.find_element_by_link_text(keyword).click()\n",
    "        driver.find_element_by_xpath(\"//*[@id='artist']/ul/li/div[2]/div[1]/a\").click()\n",
    "        \n",
    "            \n",
    "        time.sleep(10)\n",
    "        \n",
    "        social = driver.find_element_by_id(\"socialStats\")\n",
    "\n",
    "        time.sleep(5)\n",
    "        \n",
    "        twitter = social.find_element_by_id(\"twitterfollowers-total-fans\").text\n",
    "        instagram = social.find_element_by_id(\"instagram-total-fans\").text\n",
    "        facebook = social.find_element_by_id(\"facebooklikes-total-fans\").text\n",
    "        spotify = social.find_element_by_id(\"spotify-total-fans\").text\n",
    "        soundcloud = social.find_element_by_id(\"soundcloud-total-fans\").text\n",
    "        youtube = social.find_element_by_id(\"youtubesubscribers-total-fans\").text\n",
    "\n",
    "        \n",
    "        data = {\n",
    "            \"artist\": artist, \n",
    "            \"twitter\":twitter, \n",
    "            \"instagram\":instagram, \n",
    "            \"facebook\":facebook,\n",
    "            \"spotify\":spotify, \n",
    "            \"soundcloud\":soundcloud,\n",
    "            \"youtube\":youtube,\n",
    "        }    \n",
    "        \n",
    "        sns_df.loc[len(sns_df)] = data\n",
    "        \n",
    "        time.sleep(2)\n",
    "       \n",
    "    driver.close()\n",
    "        \n",
    "    return sns_df\n",
    "        "
   ]
  },
  {
   "cell_type": "code",
   "execution_count": 6,
   "metadata": {},
   "outputs": [],
   "source": [
    "df_1 = get_followers(df)"
   ]
  },
  {
   "cell_type": "code",
   "execution_count": 7,
   "metadata": {},
   "outputs": [
    {
     "name": "stdout",
     "output_type": "stream",
     "text": [
      "(20, 7)\n"
     ]
    },
    {
     "data": {
      "text/html": [
       "<div>\n",
       "<style scoped>\n",
       "    .dataframe tbody tr th:only-of-type {\n",
       "        vertical-align: middle;\n",
       "    }\n",
       "\n",
       "    .dataframe tbody tr th {\n",
       "        vertical-align: top;\n",
       "    }\n",
       "\n",
       "    .dataframe thead th {\n",
       "        text-align: right;\n",
       "    }\n",
       "</style>\n",
       "<table border=\"1\" class=\"dataframe\">\n",
       "  <thead>\n",
       "    <tr style=\"text-align: right;\">\n",
       "      <th></th>\n",
       "      <th>artist</th>\n",
       "      <th>twitter</th>\n",
       "      <th>instagram</th>\n",
       "      <th>facebook</th>\n",
       "      <th>spotify</th>\n",
       "      <th>soundcloud</th>\n",
       "      <th>youtube</th>\n",
       "    </tr>\n",
       "  </thead>\n",
       "  <tbody>\n",
       "    <tr>\n",
       "      <th>0</th>\n",
       "      <td>Nicole Scherzinger</td>\n",
       "      <td>5,793,748</td>\n",
       "      <td>3,513,187</td>\n",
       "      <td>7,884,605</td>\n",
       "      <td>713,666</td>\n",
       "      <td></td>\n",
       "      <td>684,543</td>\n",
       "    </tr>\n",
       "    <tr>\n",
       "      <th>1</th>\n",
       "      <td>I Am Empire</td>\n",
       "      <td>14,729</td>\n",
       "      <td>1,353</td>\n",
       "      <td>18,931</td>\n",
       "      <td>6,538</td>\n",
       "      <td>28</td>\n",
       "      <td>156</td>\n",
       "    </tr>\n",
       "    <tr>\n",
       "      <th>2</th>\n",
       "      <td>Vampires Everywhere!</td>\n",
       "      <td>286</td>\n",
       "      <td></td>\n",
       "      <td>177</td>\n",
       "      <td>20,775</td>\n",
       "      <td>46</td>\n",
       "      <td>0</td>\n",
       "    </tr>\n",
       "    <tr>\n",
       "      <th>3</th>\n",
       "      <td>Benjamin Francis Leftwich</td>\n",
       "      <td>29,371</td>\n",
       "      <td>8,383</td>\n",
       "      <td>121,800</td>\n",
       "      <td>223,606</td>\n",
       "      <td>21,560</td>\n",
       "      <td>37,996</td>\n",
       "    </tr>\n",
       "    <tr>\n",
       "      <th>4</th>\n",
       "      <td>Marsha Ambrosius</td>\n",
       "      <td>425,753</td>\n",
       "      <td>337,057</td>\n",
       "      <td>1,219,227</td>\n",
       "      <td>181,327</td>\n",
       "      <td>13,960</td>\n",
       "      <td>77,044</td>\n",
       "    </tr>\n",
       "  </tbody>\n",
       "</table>\n",
       "</div>"
      ],
      "text/plain": [
       "                      artist    twitter  instagram   facebook  spotify  \\\n",
       "0         Nicole Scherzinger  5,793,748  3,513,187  7,884,605  713,666   \n",
       "1                I Am Empire     14,729      1,353     18,931    6,538   \n",
       "2       Vampires Everywhere!        286                   177   20,775   \n",
       "3  Benjamin Francis Leftwich     29,371      8,383    121,800  223,606   \n",
       "4           Marsha Ambrosius    425,753    337,057  1,219,227  181,327   \n",
       "\n",
       "  soundcloud  youtube  \n",
       "0             684,543  \n",
       "1         28      156  \n",
       "2         46        0  \n",
       "3     21,560   37,996  \n",
       "4     13,960   77,044  "
      ]
     },
     "execution_count": 7,
     "metadata": {},
     "output_type": "execute_result"
    }
   ],
   "source": [
    "print(df_1.shape)\n",
    "df_1.head()"
   ]
  },
  {
   "cell_type": "code",
   "execution_count": 8,
   "metadata": {},
   "outputs": [],
   "source": [
    "df_1.to_csv('../data/sns/df_180-199.csv', index=False)"
   ]
  },
  {
   "cell_type": "code",
   "execution_count": null,
   "metadata": {},
   "outputs": [],
   "source": []
  }
 ],
 "metadata": {
  "kernelspec": {
   "display_name": "Python 3",
   "language": "python",
   "name": "python3"
  },
  "language_info": {
   "codemirror_mode": {
    "name": "ipython",
    "version": 3
   },
   "file_extension": ".py",
   "mimetype": "text/x-python",
   "name": "python",
   "nbconvert_exporter": "python",
   "pygments_lexer": "ipython3",
   "version": "3.6.2"
  }
 },
 "nbformat": 4,
 "nbformat_minor": 2
}
