{
 "cells": [
  {
   "cell_type": "code",
   "execution_count": null,
   "metadata": {},
   "outputs": [],
   "source": [
    "import pandas as pd\n",
    "import numpy as np\n",
    "\n",
    "import requests\n",
    "from bs4 import BeautifulSoup\n",
    "import json\n",
    "from urllib.request import urlopen\n",
    "\n",
    "from tqdm import tqdm_notebook\n",
    "import unidecode"
   ]
  },
  {
   "cell_type": "code",
   "execution_count": null,
   "metadata": {},
   "outputs": [],
   "source": [
    "df_debut = pd.read_csv(\"../data/debut_album_1118-utf8.csv\")\n",
    "df_debut.head()"
   ]
  },
  {
   "cell_type": "code",
   "execution_count": null,
   "metadata": {},
   "outputs": [],
   "source": [
    "def get_xxl_articles():\n",
    "    \n",
    "    df_articles = pd.DataFrame(columns = ['artist', 'album', 'xxl_frequency'])\n",
    "    \n",
    "    for i in tqdm_notebook(range(len(list(df_debut['artist'])))):\n",
    "        \n",
    "        artist = df_debut['artist'][i]\n",
    "        album = df_debut['album'][i]\n",
    "\n",
    "        artist_ = artist.replace(\" \", \"%20\")\n",
    "        album_ = album.replace(\" \", \"%20\")\n",
    "\n",
    "        keyword = artist_ + \"%20\" + album_\n",
    "\n",
    "        url = 'http://www.xxlmag.com/rest/carbon/api/searchfor/widgetsearch/?s=' + keyword + '&searchpage=1'\n",
    "        response = requests.get(url).json()\n",
    "\n",
    "        articles = response['data']['carbonwidget/searchnative-1']['params']['total']\n",
    "\n",
    "        data = {\n",
    "                'artist': artist,\n",
    "                'album' : album,\n",
    "                'xxl_frequency' : articles\n",
    "            }\n",
    "\n",
    "#         print(data)\n",
    "\n",
    "        df_articles.loc[len(df_articles)] = data\n",
    "    \n",
    "    return df_articles"
   ]
  },
  {
   "cell_type": "code",
   "execution_count": null,
   "metadata": {
    "scrolled": true
   },
   "outputs": [],
   "source": [
    "xxl_articles = get_xxl_articles()"
   ]
  },
  {
   "cell_type": "code",
   "execution_count": null,
   "metadata": {},
   "outputs": [],
   "source": [
    "print(xxl_articles.shape)\n",
    "xxl_articles.head()"
   ]
  },
  {
   "cell_type": "code",
   "execution_count": null,
   "metadata": {},
   "outputs": [],
   "source": [
    "def decodeuni(str):\n",
    "    return unidecode.unidecode(str)"
   ]
  },
  {
   "cell_type": "code",
   "execution_count": null,
   "metadata": {},
   "outputs": [],
   "source": [
    "xxl_articles['artist'] = xxl_articles['artist'].apply(lambda x: unidecode.unidecode(x))\n",
    "xxl_articles['album'] = xxl_articles['album'].apply(lambda x: unidecode.unidecode(x))\n",
    "xxl_articles['artist'] = xxl_articles['artist'].apply(lambda x : x.replace(\",\", \"\"))\n",
    "xxl_articles['album'] = xxl_articles['album'].apply(lambda x : x.replace(\",\", \"\"))"
   ]
  },
  {
   "cell_type": "code",
   "execution_count": null,
   "metadata": {},
   "outputs": [],
   "source": [
    "xxl_articles.loc[2, 'album'] = '9am to 5pm 5pm to Whenever'\n",
    "xxl_articles.loc[529, 'album'] = 'If You Love Me'\n",
    "xxl_articles.loc[1143, 'album'] = 'Gover Tela Body Language'\n",
    "xxl_articles.loc[1411, 'album'] = 'Fresh Filter Volumn 1'"
   ]
  },
  {
   "cell_type": "code",
   "execution_count": null,
   "metadata": {},
   "outputs": [],
   "source": [
    "xxl_articles.to_csv(\"../data/buzz_xxl.csv\", index=False, encoding='UTF-8')"
   ]
  },
  {
   "cell_type": "code",
   "execution_count": null,
   "metadata": {},
   "outputs": [],
   "source": []
  },
  {
   "cell_type": "code",
   "execution_count": null,
   "metadata": {},
   "outputs": [],
   "source": []
  },
  {
   "cell_type": "code",
   "execution_count": null,
   "metadata": {},
   "outputs": [],
   "source": [
    "df = pd.read_csv(\"../data/buzz/buzz_xxl.csv\", encoding=\"UTF-8\")"
   ]
  },
  {
   "cell_type": "code",
   "execution_count": null,
   "metadata": {},
   "outputs": [],
   "source": [
    "print(df.shape)\n",
    "df.head()"
   ]
  },
  {
   "cell_type": "code",
   "execution_count": null,
   "metadata": {},
   "outputs": [],
   "source": [
    "df.info()"
   ]
  },
  {
   "cell_type": "markdown",
   "metadata": {},
   "source": [
    "### Upload to MySQL database"
   ]
  },
  {
   "cell_type": "code",
   "execution_count": null,
   "metadata": {},
   "outputs": [],
   "source": [
    "import sqlalchemy, pickle\n",
    "from sqlalchemy import create_engine"
   ]
  },
  {
   "cell_type": "code",
   "execution_count": null,
   "metadata": {},
   "outputs": [],
   "source": [
    "pw = pickle.load(open(\"mysql_pw.pickle\", \"rb\"))"
   ]
  },
  {
   "cell_type": "code",
   "execution_count": null,
   "metadata": {},
   "outputs": [],
   "source": [
    "engine = sqlalchemy.create_engine(\"mysql+mysqldb://root:\" + pw + \"@52.78.44.120/project_rookie\")"
   ]
  },
  {
   "cell_type": "code",
   "execution_count": null,
   "metadata": {},
   "outputs": [],
   "source": [
    "df.to_sql(name=\"buzz_xxl\", con=engine, if_exists='replace')"
   ]
  },
  {
   "cell_type": "code",
   "execution_count": null,
   "metadata": {},
   "outputs": [],
   "source": []
  },
  {
   "cell_type": "code",
   "execution_count": null,
   "metadata": {},
   "outputs": [],
   "source": []
  }
 ],
 "metadata": {
  "kernelspec": {
   "display_name": "Python 3",
   "language": "python",
   "name": "python3"
  },
  "language_info": {
   "codemirror_mode": {
    "name": "ipython",
    "version": 3
   },
   "file_extension": ".py",
   "mimetype": "text/x-python",
   "name": "python",
   "nbconvert_exporter": "python",
   "pygments_lexer": "ipython3",
   "version": "3.6.2"
  }
 },
 "nbformat": 4,
 "nbformat_minor": 2
}
