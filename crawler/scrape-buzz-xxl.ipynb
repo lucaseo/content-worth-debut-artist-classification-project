{
 "cells": [
  {
   "cell_type": "code",
   "execution_count": 1,
   "metadata": {},
   "outputs": [],
   "source": [
    "import pandas as pd\n",
    "import numpy as np\n",
    "\n",
    "import requests\n",
    "from bs4 import BeautifulSoup\n",
    "import json\n",
    "from urllib.request import urlopen\n",
    "\n",
    "from tqdm import tqdm_notebook\n",
    "import unidecode"
   ]
  },
  {
   "cell_type": "code",
   "execution_count": 2,
   "metadata": {},
   "outputs": [
    {
     "data": {
      "text/html": [
       "<div>\n",
       "<style scoped>\n",
       "    .dataframe tbody tr th:only-of-type {\n",
       "        vertical-align: middle;\n",
       "    }\n",
       "\n",
       "    .dataframe tbody tr th {\n",
       "        vertical-align: top;\n",
       "    }\n",
       "\n",
       "    .dataframe thead th {\n",
       "        text-align: right;\n",
       "    }\n",
       "</style>\n",
       "<table border=\"1\" class=\"dataframe\">\n",
       "  <thead>\n",
       "    <tr style=\"text-align: right;\">\n",
       "      <th></th>\n",
       "      <th>artist</th>\n",
       "      <th>album</th>\n",
       "      <th>genre</th>\n",
       "      <th>single_count</th>\n",
       "      <th>release_date</th>\n",
       "    </tr>\n",
       "  </thead>\n",
       "  <tbody>\n",
       "    <tr>\n",
       "      <th>0</th>\n",
       "      <td>2Cellos</td>\n",
       "      <td>2Cellos</td>\n",
       "      <td>Cello rock, classical crossover</td>\n",
       "      <td>3</td>\n",
       "      <td>June 10, 2011</td>\n",
       "    </tr>\n",
       "    <tr>\n",
       "      <th>1</th>\n",
       "      <td>Deep Dark Robot</td>\n",
       "      <td>8 Songs About a Girl</td>\n",
       "      <td>Post-grunge, punk blues</td>\n",
       "      <td>0</td>\n",
       "      <td>MarchÂ 22,Â 2011Â (2011-03-22)</td>\n",
       "    </tr>\n",
       "    <tr>\n",
       "      <th>2</th>\n",
       "      <td>The Young Professionals</td>\n",
       "      <td>9am to 5pm 5pm to Whenever\\r(09:00 to 17:00 17...</td>\n",
       "      <td>NaN</td>\n",
       "      <td>0</td>\n",
       "      <td>September 12, 2011 (Israel)\\rJune 18, 2012 (in...</td>\n",
       "    </tr>\n",
       "    <tr>\n",
       "      <th>3</th>\n",
       "      <td>Flash Bang Grenada</td>\n",
       "      <td>10 Haters</td>\n",
       "      <td>Alternative hip hop</td>\n",
       "      <td>0</td>\n",
       "      <td>AugustÂ 23,Â 2011Â (2011-08-23)</td>\n",
       "    </tr>\n",
       "    <tr>\n",
       "      <th>4</th>\n",
       "      <td>Her Majesty &amp; the Wolves</td>\n",
       "      <td>111</td>\n",
       "      <td>Dance, pop</td>\n",
       "      <td>3</td>\n",
       "      <td>July 11, 2011 (UK)</td>\n",
       "    </tr>\n",
       "  </tbody>\n",
       "</table>\n",
       "</div>"
      ],
      "text/plain": [
       "                     artist  \\\n",
       "0                   2Cellos   \n",
       "1           Deep Dark Robot   \n",
       "2   The Young Professionals   \n",
       "3        Flash Bang Grenada   \n",
       "4  Her Majesty & the Wolves   \n",
       "\n",
       "                                               album  \\\n",
       "0                                            2Cellos   \n",
       "1                               8 Songs About a Girl   \n",
       "2  9am to 5pm 5pm to Whenever\\r(09:00 to 17:00 17...   \n",
       "3                                          10 Haters   \n",
       "4                                                111   \n",
       "\n",
       "                             genre  single_count  \\\n",
       "0  Cello rock, classical crossover             3   \n",
       "1          Post-grunge, punk blues             0   \n",
       "2                              NaN             0   \n",
       "3              Alternative hip hop             0   \n",
       "4                       Dance, pop             3   \n",
       "\n",
       "                                        release_date  \n",
       "0                                      June 10, 2011  \n",
       "1                     MarchÂ 22,Â 2011Â (2011-03-22)  \n",
       "2  September 12, 2011 (Israel)\\rJune 18, 2012 (in...  \n",
       "3                    AugustÂ 23,Â 2011Â (2011-08-23)  \n",
       "4                                 July 11, 2011 (UK)  "
      ]
     },
     "execution_count": 2,
     "metadata": {},
     "output_type": "execute_result"
    }
   ],
   "source": [
    "df_debut = pd.read_csv(\"../data/debut_album_1118-utf8.csv\")\n",
    "df_debut.head()"
   ]
  },
  {
   "cell_type": "code",
   "execution_count": 4,
   "metadata": {},
   "outputs": [],
   "source": [
    "def get_xxl_articles():\n",
    "    \n",
    "    df_articles = pd.DataFrame(columns = ['artist', 'album', 'xxl_frequency'])\n",
    "    \n",
    "    for i in tqdm_notebook(range(len(list(df_debut['artist'])))):\n",
    "        \n",
    "        artist = df_debut['artist'][i]\n",
    "        album = df_debut['album'][i]\n",
    "\n",
    "        artist_ = artist.replace(\" \", \"%20\")\n",
    "        album_ = album.replace(\" \", \"%20\")\n",
    "\n",
    "        keyword = artist_ + \"%20\" + album_\n",
    "\n",
    "        url = 'http://www.xxlmag.com/rest/carbon/api/searchfor/widgetsearch/?s=' + keyword + '&searchpage=1'\n",
    "        response = requests.get(url).json()\n",
    "\n",
    "        articles = response['data']['carbonwidget/searchnative-1']['params']['total']\n",
    "\n",
    "        data = {\n",
    "                'artist': artist,\n",
    "                'album' : album,\n",
    "                'xxl_frequency' : articles\n",
    "            }\n",
    "\n",
    "#         print(data)\n",
    "\n",
    "        df_articles.loc[len(df_articles)] = data\n",
    "    \n",
    "    return df_articles"
   ]
  },
  {
   "cell_type": "code",
   "execution_count": 5,
   "metadata": {
    "scrolled": true
   },
   "outputs": [
    {
     "data": {
      "application/vnd.jupyter.widget-view+json": {
       "model_id": "fdb1a097118548aa9a2f091b72b61225",
       "version_major": 2,
       "version_minor": 0
      },
      "text/html": [
       "<p>Failed to display Jupyter Widget of type <code>HBox</code>.</p>\n",
       "<p>\n",
       "  If you're reading this message in the Jupyter Notebook or JupyterLab Notebook, it may mean\n",
       "  that the widgets JavaScript is still loading. If this message persists, it\n",
       "  likely means that the widgets JavaScript library is either not installed or\n",
       "  not enabled. See the <a href=\"https://ipywidgets.readthedocs.io/en/stable/user_install.html\">Jupyter\n",
       "  Widgets Documentation</a> for setup instructions.\n",
       "</p>\n",
       "<p>\n",
       "  If you're reading this message in another frontend (for example, a static\n",
       "  rendering on GitHub or <a href=\"https://nbviewer.jupyter.org/\">NBViewer</a>),\n",
       "  it may mean that your frontend doesn't currently support widgets.\n",
       "</p>\n"
      ],
      "text/plain": [
       "HBox(children=(IntProgress(value=0, max=1951), HTML(value='')))"
      ]
     },
     "metadata": {},
     "output_type": "display_data"
    },
    {
     "name": "stdout",
     "output_type": "stream",
     "text": [
      "\n"
     ]
    }
   ],
   "source": [
    "xxl_articles = get_xxl_articles()"
   ]
  },
  {
   "cell_type": "code",
   "execution_count": 6,
   "metadata": {},
   "outputs": [
    {
     "name": "stdout",
     "output_type": "stream",
     "text": [
      "(1951, 3)\n"
     ]
    },
    {
     "data": {
      "text/html": [
       "<div>\n",
       "<style scoped>\n",
       "    .dataframe tbody tr th:only-of-type {\n",
       "        vertical-align: middle;\n",
       "    }\n",
       "\n",
       "    .dataframe tbody tr th {\n",
       "        vertical-align: top;\n",
       "    }\n",
       "\n",
       "    .dataframe thead th {\n",
       "        text-align: right;\n",
       "    }\n",
       "</style>\n",
       "<table border=\"1\" class=\"dataframe\">\n",
       "  <thead>\n",
       "    <tr style=\"text-align: right;\">\n",
       "      <th></th>\n",
       "      <th>artist</th>\n",
       "      <th>album</th>\n",
       "      <th>xxl_frequency</th>\n",
       "    </tr>\n",
       "  </thead>\n",
       "  <tbody>\n",
       "    <tr>\n",
       "      <th>0</th>\n",
       "      <td>2Cellos</td>\n",
       "      <td>2Cellos</td>\n",
       "      <td>0</td>\n",
       "    </tr>\n",
       "    <tr>\n",
       "      <th>1</th>\n",
       "      <td>Deep Dark Robot</td>\n",
       "      <td>8 Songs About a Girl</td>\n",
       "      <td>14</td>\n",
       "    </tr>\n",
       "    <tr>\n",
       "      <th>2</th>\n",
       "      <td>The Young Professionals</td>\n",
       "      <td>9am to 5pm 5pm to Whenever\\r(09:00 to 17:00 17...</td>\n",
       "      <td>0</td>\n",
       "    </tr>\n",
       "    <tr>\n",
       "      <th>3</th>\n",
       "      <td>Flash Bang Grenada</td>\n",
       "      <td>10 Haters</td>\n",
       "      <td>0</td>\n",
       "    </tr>\n",
       "    <tr>\n",
       "      <th>4</th>\n",
       "      <td>Her Majesty &amp; the Wolves</td>\n",
       "      <td>111</td>\n",
       "      <td>5423</td>\n",
       "    </tr>\n",
       "  </tbody>\n",
       "</table>\n",
       "</div>"
      ],
      "text/plain": [
       "                     artist  \\\n",
       "0                   2Cellos   \n",
       "1           Deep Dark Robot   \n",
       "2   The Young Professionals   \n",
       "3        Flash Bang Grenada   \n",
       "4  Her Majesty & the Wolves   \n",
       "\n",
       "                                               album xxl_frequency  \n",
       "0                                            2Cellos             0  \n",
       "1                               8 Songs About a Girl            14  \n",
       "2  9am to 5pm 5pm to Whenever\\r(09:00 to 17:00 17...             0  \n",
       "3                                          10 Haters             0  \n",
       "4                                                111          5423  "
      ]
     },
     "execution_count": 6,
     "metadata": {},
     "output_type": "execute_result"
    }
   ],
   "source": [
    "print(xxl_articles.shape)\n",
    "xxl_articles.head()"
   ]
  },
  {
   "cell_type": "code",
   "execution_count": 7,
   "metadata": {},
   "outputs": [],
   "source": [
    "def decodeuni(str):\n",
    "    return unidecode.unidecode(str)"
   ]
  },
  {
   "cell_type": "code",
   "execution_count": 9,
   "metadata": {},
   "outputs": [],
   "source": [
    "xxl_articles['artist'] = xxl_articles['artist'].apply(lambda x: unidecode.unidecode(x))\n",
    "xxl_articles['album'] = xxl_articles['album'].apply(lambda x: unidecode.unidecode(x))\n",
    "xxl_articles['artist'] = xxl_articles['artist'].apply(lambda x : x.replace(\",\", \"\"))\n",
    "xxl_articles['album'] = xxl_articles['album'].apply(lambda x : x.replace(\",\", \"\"))"
   ]
  },
  {
   "cell_type": "code",
   "execution_count": 12,
   "metadata": {},
   "outputs": [],
   "source": [
    "xxl_articles.loc[2, 'album'] = '9am to 5pm 5pm to Whenever'\n",
    "xxl_articles.loc[529, 'album'] = 'If You Love Me'\n",
    "xxl_articles.loc[1143, 'album'] = 'Gover Tela Body Language'\n",
    "xxl_articles.loc[1411, 'album'] = 'Fresh Filter Volumn 1'"
   ]
  },
  {
   "cell_type": "code",
   "execution_count": 13,
   "metadata": {},
   "outputs": [],
   "source": [
    "xxl_articles.to_csv(\"../data/buzz_xxl.csv\", index=False, encoding='UTF-8')"
   ]
  },
  {
   "cell_type": "code",
   "execution_count": null,
   "metadata": {},
   "outputs": [],
   "source": []
  },
  {
   "cell_type": "code",
   "execution_count": null,
   "metadata": {},
   "outputs": [],
   "source": []
  },
  {
   "cell_type": "code",
   "execution_count": 14,
   "metadata": {},
   "outputs": [],
   "source": [
    "df = pd.read_csv(\"../data/buzz_xxl-utf8.csv\", encoding=\"UTF-8\")"
   ]
  },
  {
   "cell_type": "code",
   "execution_count": 15,
   "metadata": {},
   "outputs": [
    {
     "name": "stdout",
     "output_type": "stream",
     "text": [
      "(1951, 3)\n"
     ]
    },
    {
     "data": {
      "text/html": [
       "<div>\n",
       "<style scoped>\n",
       "    .dataframe tbody tr th:only-of-type {\n",
       "        vertical-align: middle;\n",
       "    }\n",
       "\n",
       "    .dataframe tbody tr th {\n",
       "        vertical-align: top;\n",
       "    }\n",
       "\n",
       "    .dataframe thead th {\n",
       "        text-align: right;\n",
       "    }\n",
       "</style>\n",
       "<table border=\"1\" class=\"dataframe\">\n",
       "  <thead>\n",
       "    <tr style=\"text-align: right;\">\n",
       "      <th></th>\n",
       "      <th>artist</th>\n",
       "      <th>album</th>\n",
       "      <th>xxl_frequency</th>\n",
       "    </tr>\n",
       "  </thead>\n",
       "  <tbody>\n",
       "    <tr>\n",
       "      <th>0</th>\n",
       "      <td>2Cellos</td>\n",
       "      <td>2Cellos</td>\n",
       "      <td>0</td>\n",
       "    </tr>\n",
       "    <tr>\n",
       "      <th>1</th>\n",
       "      <td>Deep Dark Robot</td>\n",
       "      <td>8 Songs About a Girl</td>\n",
       "      <td>14</td>\n",
       "    </tr>\n",
       "    <tr>\n",
       "      <th>2</th>\n",
       "      <td>The Young Professionals</td>\n",
       "      <td>9am to 5pm 5pm to Whenever</td>\n",
       "      <td>0</td>\n",
       "    </tr>\n",
       "    <tr>\n",
       "      <th>3</th>\n",
       "      <td>Flash Bang Grenada</td>\n",
       "      <td>10 Haters</td>\n",
       "      <td>0</td>\n",
       "    </tr>\n",
       "    <tr>\n",
       "      <th>4</th>\n",
       "      <td>Her Majesty &amp; the Wolves</td>\n",
       "      <td>111</td>\n",
       "      <td>5423</td>\n",
       "    </tr>\n",
       "  </tbody>\n",
       "</table>\n",
       "</div>"
      ],
      "text/plain": [
       "                     artist                       album  xxl_frequency\n",
       "0                   2Cellos                     2Cellos              0\n",
       "1           Deep Dark Robot        8 Songs About a Girl             14\n",
       "2   The Young Professionals  9am to 5pm 5pm to Whenever              0\n",
       "3        Flash Bang Grenada                   10 Haters              0\n",
       "4  Her Majesty & the Wolves                         111           5423"
      ]
     },
     "execution_count": 15,
     "metadata": {},
     "output_type": "execute_result"
    }
   ],
   "source": [
    "print(df.shape)\n",
    "df.head()"
   ]
  },
  {
   "cell_type": "code",
   "execution_count": 16,
   "metadata": {},
   "outputs": [
    {
     "name": "stdout",
     "output_type": "stream",
     "text": [
      "<class 'pandas.core.frame.DataFrame'>\n",
      "RangeIndex: 1951 entries, 0 to 1950\n",
      "Data columns (total 3 columns):\n",
      "artist           1951 non-null object\n",
      "album            1951 non-null object\n",
      "xxl_frequency    1951 non-null int64\n",
      "dtypes: int64(1), object(2)\n",
      "memory usage: 45.8+ KB\n"
     ]
    }
   ],
   "source": [
    "df.info()"
   ]
  },
  {
   "cell_type": "markdown",
   "metadata": {},
   "source": [
    "### Upload to MySQL database"
   ]
  },
  {
   "cell_type": "code",
   "execution_count": 17,
   "metadata": {},
   "outputs": [],
   "source": [
    "import sqlalchemy, pickle\n",
    "from sqlalchemy import create_engine"
   ]
  },
  {
   "cell_type": "code",
   "execution_count": 18,
   "metadata": {},
   "outputs": [],
   "source": [
    "pw = pickle.load(open(\"mysql_pw.pickle\", \"rb\"))"
   ]
  },
  {
   "cell_type": "code",
   "execution_count": 19,
   "metadata": {},
   "outputs": [],
   "source": [
    "engine = sqlalchemy.create_engine(\"mysql+mysqldb://root:\" + pw + \"@52.78.44.120/project_rookie\")"
   ]
  },
  {
   "cell_type": "code",
   "execution_count": 20,
   "metadata": {},
   "outputs": [],
   "source": [
    "df.to_sql(name=\"buzz_xxl\", con=engine, if_exists='replace')"
   ]
  },
  {
   "cell_type": "code",
   "execution_count": null,
   "metadata": {},
   "outputs": [],
   "source": []
  },
  {
   "cell_type": "code",
   "execution_count": null,
   "metadata": {},
   "outputs": [],
   "source": []
  }
 ],
 "metadata": {
  "kernelspec": {
   "display_name": "Python 3",
   "language": "python",
   "name": "python3"
  },
  "language_info": {
   "codemirror_mode": {
    "name": "ipython",
    "version": 3
   },
   "file_extension": ".py",
   "mimetype": "text/x-python",
   "name": "python",
   "nbconvert_exporter": "python",
   "pygments_lexer": "ipython3",
   "version": "3.6.2"
  }
 },
 "nbformat": 4,
 "nbformat_minor": 2
}
