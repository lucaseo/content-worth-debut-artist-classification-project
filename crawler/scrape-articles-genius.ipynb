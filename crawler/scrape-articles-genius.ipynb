{
 "cells": [
  {
   "cell_type": "code",
   "execution_count": 26,
   "metadata": {},
   "outputs": [],
   "source": [
    "import pandas as pd\n",
    "import numpy as np\n",
    "\n",
    "import requests\n",
    "from bs4 import BeautifulSoup\n",
    "import json\n",
    "from urllib.request import urlopen\n",
    "from tqdm import tqdm_notebook\n"
   ]
  },
  {
   "cell_type": "code",
   "execution_count": 27,
   "metadata": {},
   "outputs": [],
   "source": [
    "df_debut = pd.read_csv(\"../data/debut_album_1118.csv\")"
   ]
  },
  {
   "cell_type": "code",
   "execution_count": 28,
   "metadata": {},
   "outputs": [
    {
     "data": {
      "text/html": [
       "<div>\n",
       "<style scoped>\n",
       "    .dataframe tbody tr th:only-of-type {\n",
       "        vertical-align: middle;\n",
       "    }\n",
       "\n",
       "    .dataframe tbody tr th {\n",
       "        vertical-align: top;\n",
       "    }\n",
       "\n",
       "    .dataframe thead th {\n",
       "        text-align: right;\n",
       "    }\n",
       "</style>\n",
       "<table border=\"1\" class=\"dataframe\">\n",
       "  <thead>\n",
       "    <tr style=\"text-align: right;\">\n",
       "      <th></th>\n",
       "      <th>artist</th>\n",
       "      <th>album</th>\n",
       "      <th>genre</th>\n",
       "      <th>single_count</th>\n",
       "    </tr>\n",
       "  </thead>\n",
       "  <tbody>\n",
       "    <tr>\n",
       "      <th>1929</th>\n",
       "      <td>Terror Universal</td>\n",
       "      <td>Make Them Bleed</td>\n",
       "      <td>Heavy metal</td>\n",
       "      <td>0</td>\n",
       "    </tr>\n",
       "    <tr>\n",
       "      <th>1930</th>\n",
       "      <td>NCT</td>\n",
       "      <td>NCT 2018 Empathy</td>\n",
       "      <td>K-pop, hip hop, future bass, R&amp;B, electropop</td>\n",
       "      <td>6</td>\n",
       "    </tr>\n",
       "    <tr>\n",
       "      <th>1931</th>\n",
       "      <td>Calum Scott</td>\n",
       "      <td>Only Human</td>\n",
       "      <td>Pop</td>\n",
       "      <td>3</td>\n",
       "    </tr>\n",
       "    <tr>\n",
       "      <th>1932</th>\n",
       "      <td>Kasbo</td>\n",
       "      <td>Places We Don't Know</td>\n",
       "      <td>Electronic, future bass, house</td>\n",
       "      <td>6</td>\n",
       "    </tr>\n",
       "    <tr>\n",
       "      <th>1933</th>\n",
       "      <td>Mike Shinoda</td>\n",
       "      <td>Post Traumatic</td>\n",
       "      <td>Rap</td>\n",
       "      <td>1</td>\n",
       "    </tr>\n",
       "    <tr>\n",
       "      <th>1934</th>\n",
       "      <td>Maxo Kream</td>\n",
       "      <td>Punken</td>\n",
       "      <td>Trap</td>\n",
       "      <td>0</td>\n",
       "    </tr>\n",
       "    <tr>\n",
       "      <th>1935</th>\n",
       "      <td>Rich Homie Quan</td>\n",
       "      <td>Rich as in Spirit</td>\n",
       "      <td>Hip hop</td>\n",
       "      <td>2</td>\n",
       "    </tr>\n",
       "    <tr>\n",
       "      <th>1936</th>\n",
       "      <td>Shame</td>\n",
       "      <td>Songs of Praise</td>\n",
       "      <td>Post-punk, indie rock</td>\n",
       "      <td>0</td>\n",
       "    </tr>\n",
       "    <tr>\n",
       "      <th>1937</th>\n",
       "      <td>Anne-Marie</td>\n",
       "      <td>Speak Your Mind</td>\n",
       "      <td>R&amp;B</td>\n",
       "      <td>5</td>\n",
       "    </tr>\n",
       "    <tr>\n",
       "      <th>1938</th>\n",
       "      <td>Ã„ngie</td>\n",
       "      <td>Suicidal Since 1995</td>\n",
       "      <td>Pop</td>\n",
       "      <td>2</td>\n",
       "    </tr>\n",
       "    <tr>\n",
       "      <th>1939</th>\n",
       "      <td>Superorganism</td>\n",
       "      <td>Superorganism</td>\n",
       "      <td>Indie pop, psychedelic pop, bedroom pop, indie...</td>\n",
       "      <td>6</td>\n",
       "    </tr>\n",
       "    <tr>\n",
       "      <th>1940</th>\n",
       "      <td>The Academic</td>\n",
       "      <td>Tales from the Backseat</td>\n",
       "      <td>Indie rock, indie pop</td>\n",
       "      <td>4</td>\n",
       "    </tr>\n",
       "    <tr>\n",
       "      <th>1941</th>\n",
       "      <td>MitiS</td>\n",
       "      <td>'Til the End</td>\n",
       "      <td>Electronic, future bass</td>\n",
       "      <td>3</td>\n",
       "    </tr>\n",
       "    <tr>\n",
       "      <th>1942</th>\n",
       "      <td>Lil Xan</td>\n",
       "      <td>Total Xanarchy</td>\n",
       "      <td>Rap</td>\n",
       "      <td>4</td>\n",
       "    </tr>\n",
       "    <tr>\n",
       "      <th>1943</th>\n",
       "      <td>YoungBoy Never Broke Again</td>\n",
       "      <td>Until Death Call My Name</td>\n",
       "      <td>Hip hop, trap</td>\n",
       "      <td>2</td>\n",
       "    </tr>\n",
       "    <tr>\n",
       "      <th>1944</th>\n",
       "      <td>EDEN</td>\n",
       "      <td>vertigo</td>\n",
       "      <td>Rock</td>\n",
       "      <td>3</td>\n",
       "    </tr>\n",
       "    <tr>\n",
       "      <th>1945</th>\n",
       "      <td>Nipsey Hussle</td>\n",
       "      <td>Victory Lap</td>\n",
       "      <td>West Coast hip hop</td>\n",
       "      <td>2</td>\n",
       "    </tr>\n",
       "    <tr>\n",
       "      <th>1946</th>\n",
       "      <td>Rich the Kid</td>\n",
       "      <td>The World Is Yours</td>\n",
       "      <td>Rap</td>\n",
       "      <td>3</td>\n",
       "    </tr>\n",
       "    <tr>\n",
       "      <th>1947</th>\n",
       "      <td>Myles Kennedy</td>\n",
       "      <td>Year of the Tiger</td>\n",
       "      <td>Rock</td>\n",
       "      <td>0</td>\n",
       "    </tr>\n",
       "    <tr>\n",
       "      <th>1948</th>\n",
       "      <td>Fickle Friends</td>\n",
       "      <td>You Are Someone Else</td>\n",
       "      <td>Indie</td>\n",
       "      <td>6</td>\n",
       "    </tr>\n",
       "  </tbody>\n",
       "</table>\n",
       "</div>"
      ],
      "text/plain": [
       "                          artist                     album  \\\n",
       "1929            Terror Universal           Make Them Bleed   \n",
       "1930                         NCT          NCT 2018 Empathy   \n",
       "1931                 Calum Scott                Only Human   \n",
       "1932                       Kasbo      Places We Don't Know   \n",
       "1933                Mike Shinoda            Post Traumatic   \n",
       "1934                  Maxo Kream                    Punken   \n",
       "1935             Rich Homie Quan         Rich as in Spirit   \n",
       "1936                       Shame           Songs of Praise   \n",
       "1937                  Anne-Marie           Speak Your Mind   \n",
       "1938                      Ã„ngie       Suicidal Since 1995   \n",
       "1939               Superorganism             Superorganism   \n",
       "1940                The Academic   Tales from the Backseat   \n",
       "1941                       MitiS              'Til the End   \n",
       "1942                     Lil Xan            Total Xanarchy   \n",
       "1943  YoungBoy Never Broke Again  Until Death Call My Name   \n",
       "1944                        EDEN                   vertigo   \n",
       "1945               Nipsey Hussle               Victory Lap   \n",
       "1946                Rich the Kid        The World Is Yours   \n",
       "1947               Myles Kennedy         Year of the Tiger   \n",
       "1948              Fickle Friends      You Are Someone Else   \n",
       "\n",
       "                                                  genre  single_count  \n",
       "1929                                        Heavy metal             0  \n",
       "1930       K-pop, hip hop, future bass, R&B, electropop             6  \n",
       "1931                                                Pop             3  \n",
       "1932                     Electronic, future bass, house             6  \n",
       "1933                                                Rap             1  \n",
       "1934                                               Trap             0  \n",
       "1935                                            Hip hop             2  \n",
       "1936                              Post-punk, indie rock             0  \n",
       "1937                                                R&B             5  \n",
       "1938                                                Pop             2  \n",
       "1939  Indie pop, psychedelic pop, bedroom pop, indie...             6  \n",
       "1940                              Indie rock, indie pop             4  \n",
       "1941                            Electronic, future bass             3  \n",
       "1942                                                Rap             4  \n",
       "1943                                      Hip hop, trap             2  \n",
       "1944                                               Rock             3  \n",
       "1945                                 West Coast hip hop             2  \n",
       "1946                                                Rap             3  \n",
       "1947                                               Rock             0  \n",
       "1948                                              Indie             6  "
      ]
     },
     "execution_count": 28,
     "metadata": {},
     "output_type": "execute_result"
    }
   ],
   "source": [
    "df_debut.tail(20)"
   ]
  },
  {
   "cell_type": "code",
   "execution_count": 32,
   "metadata": {},
   "outputs": [],
   "source": [
    "def get_genius(data):\n",
    "    \n",
    "    df_articles = pd.DataFrame(columns = ['artist', 'album', 'genius_frequency'])\n",
    "    \n",
    "    for i in tqdm_notebook(range(len(list(df_debut['artist'])))):\n",
    "\n",
    "        artist = df_debut['artist'][i]\n",
    "        album = df_debut['album'][i]\n",
    "        \n",
    "        artist_ = artist.replace(\" \", \"+\")\n",
    "        album_ = album.replace(\" \", \"+\")\n",
    "        \n",
    "        page_num = 1\n",
    "        articles = 0\n",
    "\n",
    "        while True:\n",
    "\n",
    "            url_ = 'https://genius.com/api/search/article?page=' + str(page_num) + '&q=' + artist_ + \"+\" + album_\n",
    "            response = requests.get(url_).json()\n",
    "\n",
    "            articles += len(response['response']['sections'][0]['hits'])\n",
    "\n",
    "            page_num += 1\n",
    "\n",
    "            if response['response']['next_page'] == None :\n",
    "                break\n",
    "\n",
    "        data = {\n",
    "            'artist': artist,\n",
    "            'album' : album,\n",
    "            'genius_frequency' : articles\n",
    "        }\n",
    "\n",
    "#         print(data)\n",
    "\n",
    "        df_articles.loc[len(df_articles)] = data\n",
    "    \n",
    "    return df_articles"
   ]
  },
  {
   "cell_type": "code",
   "execution_count": 33,
   "metadata": {
    "scrolled": true
   },
   "outputs": [
    {
     "data": {
      "application/vnd.jupyter.widget-view+json": {
       "model_id": "b23cae91d2fc44b9902d0cedb75c3be0",
       "version_major": 2,
       "version_minor": 0
      },
      "text/html": [
       "<p>Failed to display Jupyter Widget of type <code>HBox</code>.</p>\n",
       "<p>\n",
       "  If you're reading this message in the Jupyter Notebook or JupyterLab Notebook, it may mean\n",
       "  that the widgets JavaScript is still loading. If this message persists, it\n",
       "  likely means that the widgets JavaScript library is either not installed or\n",
       "  not enabled. See the <a href=\"https://ipywidgets.readthedocs.io/en/stable/user_install.html\">Jupyter\n",
       "  Widgets Documentation</a> for setup instructions.\n",
       "</p>\n",
       "<p>\n",
       "  If you're reading this message in another frontend (for example, a static\n",
       "  rendering on GitHub or <a href=\"https://nbviewer.jupyter.org/\">NBViewer</a>),\n",
       "  it may mean that your frontend doesn't currently support widgets.\n",
       "</p>\n"
      ],
      "text/plain": [
       "HBox(children=(IntProgress(value=0, max=1949), HTML(value='')))"
      ]
     },
     "metadata": {},
     "output_type": "display_data"
    },
    {
     "name": "stdout",
     "output_type": "stream",
     "text": [
      "\n"
     ]
    }
   ],
   "source": [
    "genius_articles = get_genius(df_debut)"
   ]
  },
  {
   "cell_type": "code",
   "execution_count": 34,
   "metadata": {},
   "outputs": [
    {
     "name": "stdout",
     "output_type": "stream",
     "text": [
      "(1949, 3)\n"
     ]
    },
    {
     "data": {
      "text/html": [
       "<div>\n",
       "<style scoped>\n",
       "    .dataframe tbody tr th:only-of-type {\n",
       "        vertical-align: middle;\n",
       "    }\n",
       "\n",
       "    .dataframe tbody tr th {\n",
       "        vertical-align: top;\n",
       "    }\n",
       "\n",
       "    .dataframe thead th {\n",
       "        text-align: right;\n",
       "    }\n",
       "</style>\n",
       "<table border=\"1\" class=\"dataframe\">\n",
       "  <thead>\n",
       "    <tr style=\"text-align: right;\">\n",
       "      <th></th>\n",
       "      <th>artist</th>\n",
       "      <th>album</th>\n",
       "      <th>genius_frequency</th>\n",
       "    </tr>\n",
       "  </thead>\n",
       "  <tbody>\n",
       "    <tr>\n",
       "      <th>1944</th>\n",
       "      <td>EDEN</td>\n",
       "      <td>vertigo</td>\n",
       "      <td>0</td>\n",
       "    </tr>\n",
       "    <tr>\n",
       "      <th>1945</th>\n",
       "      <td>Nipsey Hussle</td>\n",
       "      <td>Victory Lap</td>\n",
       "      <td>1</td>\n",
       "    </tr>\n",
       "    <tr>\n",
       "      <th>1946</th>\n",
       "      <td>Rich the Kid</td>\n",
       "      <td>The World Is Yours</td>\n",
       "      <td>1</td>\n",
       "    </tr>\n",
       "    <tr>\n",
       "      <th>1947</th>\n",
       "      <td>Myles Kennedy</td>\n",
       "      <td>Year of the Tiger</td>\n",
       "      <td>0</td>\n",
       "    </tr>\n",
       "    <tr>\n",
       "      <th>1948</th>\n",
       "      <td>Fickle Friends</td>\n",
       "      <td>You Are Someone Else</td>\n",
       "      <td>0</td>\n",
       "    </tr>\n",
       "  </tbody>\n",
       "</table>\n",
       "</div>"
      ],
      "text/plain": [
       "              artist                 album genius_frequency\n",
       "1944            EDEN               vertigo                0\n",
       "1945   Nipsey Hussle           Victory Lap                1\n",
       "1946    Rich the Kid    The World Is Yours                1\n",
       "1947   Myles Kennedy     Year of the Tiger                0\n",
       "1948  Fickle Friends  You Are Someone Else                0"
      ]
     },
     "execution_count": 34,
     "metadata": {},
     "output_type": "execute_result"
    }
   ],
   "source": [
    "print(genius_articles.shape)\n",
    "genius_articles.tail()"
   ]
  },
  {
   "cell_type": "code",
   "execution_count": 46,
   "metadata": {},
   "outputs": [],
   "source": [
    "genius_articles.loc[528, 'artist'] = 'Eve Ai'\n",
    "genius_articles.loc[528, 'album'] = 'If You Love Me'\n",
    "genius_articles.loc[1142, 'artist'] = 'Milica Pavlovia'\n",
    "genius_articles.loc[1142, 'album'] = 'Gover Tela Body Language'\n",
    "genius_articles.loc[1409, 'artist'] = 'Various Artists'\n",
    "genius_articles.loc[1409, 'album'] = 'Fresh Filter : Volumn 1'"
   ]
  },
  {
   "cell_type": "code",
   "execution_count": 47,
   "metadata": {},
   "outputs": [],
   "source": [
    "genius_articles.to_csv(\"../data/buzz_genius.csv\", index=False, encoding='UTF-8')"
   ]
  },
  {
   "cell_type": "code",
   "execution_count": null,
   "metadata": {},
   "outputs": [],
   "source": []
  },
  {
   "cell_type": "code",
   "execution_count": 48,
   "metadata": {},
   "outputs": [],
   "source": [
    "df = pd.read_csv(\"../data/buzz_genius.csv\")"
   ]
  },
  {
   "cell_type": "code",
   "execution_count": 49,
   "metadata": {},
   "outputs": [
    {
     "data": {
      "text/plain": [
       "(1949, 3)"
      ]
     },
     "execution_count": 49,
     "metadata": {},
     "output_type": "execute_result"
    }
   ],
   "source": [
    "df.shape"
   ]
  },
  {
   "cell_type": "markdown",
   "metadata": {},
   "source": [
    "### Upload to MySQL database"
   ]
  },
  {
   "cell_type": "code",
   "execution_count": 50,
   "metadata": {},
   "outputs": [],
   "source": [
    "import sqlalchemy, pickle\n",
    "from sqlalchemy import create_engine"
   ]
  },
  {
   "cell_type": "code",
   "execution_count": 51,
   "metadata": {},
   "outputs": [],
   "source": [
    "pw = pickle.load(open(\"mysql_pw.pickle\", \"rb\"))"
   ]
  },
  {
   "cell_type": "code",
   "execution_count": 52,
   "metadata": {},
   "outputs": [],
   "source": [
    "engine = sqlalchemy.create_engine(\"mysql+mysqldb://root:\" + pw + \"@52.78.44.120/project_rookie\")"
   ]
  },
  {
   "cell_type": "code",
   "execution_count": 53,
   "metadata": {},
   "outputs": [],
   "source": [
    "df.to_sql(name=\"buzz_genius\", con=engine, if_exists='replace')"
   ]
  },
  {
   "cell_type": "code",
   "execution_count": null,
   "metadata": {},
   "outputs": [],
   "source": []
  }
 ],
 "metadata": {
  "kernelspec": {
   "display_name": "Python 3",
   "language": "python",
   "name": "python3"
  },
  "language_info": {
   "codemirror_mode": {
    "name": "ipython",
    "version": 3
   },
   "file_extension": ".py",
   "mimetype": "text/x-python",
   "name": "python",
   "nbconvert_exporter": "python",
   "pygments_lexer": "ipython3",
   "version": "3.6.2"
  }
 },
 "nbformat": 4,
 "nbformat_minor": 2
}
