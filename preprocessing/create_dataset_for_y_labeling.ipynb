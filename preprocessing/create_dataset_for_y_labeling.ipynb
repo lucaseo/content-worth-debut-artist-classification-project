{
 "cells": [
  {
   "cell_type": "markdown",
   "metadata": {},
   "source": [
    "# Get data via SQLAlchemy"
   ]
  },
  {
   "cell_type": "code",
   "execution_count": 277,
   "metadata": {},
   "outputs": [],
   "source": [
    "import sqlalchemy, pickle\n",
    "from sqlalchemy.ext.declarative import declarative_base\n",
    "from sqlalchemy import Column, Integer, String\n",
    "from sqlalchemy.orm import sessionmaker\n",
    "from sqlalchemy import and_, or_\n",
    "import MySQLdb, pickle"
   ]
  },
  {
   "cell_type": "markdown",
   "metadata": {},
   "source": [
    "### Access to MySQL Server"
   ]
  },
  {
   "cell_type": "code",
   "execution_count": 278,
   "metadata": {},
   "outputs": [],
   "source": [
    "pw = pickle.load(open(\"../mysql_pw.pickle\", \"rb\"))"
   ]
  },
  {
   "cell_type": "code",
   "execution_count": 279,
   "metadata": {},
   "outputs": [],
   "source": [
    "engine = sqlalchemy.create_engine(\"mysql+mysqldb://root:\" + pw + \"@52.78.44.120/project_rookie\")"
   ]
  },
  {
   "cell_type": "markdown",
   "metadata": {},
   "source": [
    "### ORM"
   ]
  },
  {
   "cell_type": "code",
   "execution_count": 66,
   "metadata": {},
   "outputs": [],
   "source": [
    "Base = declarative_base()\n",
    "class Debut(Base):\n",
    "    __tablename__ = 'debut_album'\n",
    "\n",
    "    index = Column(Integer, primary_key=True)\n",
    "    artist = Column(String)\n",
    "    album = Column(String)\n",
    "    genre = Column(String)\n",
    "    single_count = Column(Integer)\n",
    "    \n",
    "    def __init__(self, index, artist, album, genre, single_count):\n",
    "        self.index = index\n",
    "        self.artist = artist\n",
    "        self.album = album\n",
    "        self.genre = genre\n",
    "        self.single_count = single_count\n",
    "    \n",
    "    def __repr__(self):\n",
    "        return \"<index {}, {}, {}, {}, {}>\".format(self.index, self.artist, self.album, self.genre, self.single_count)"
   ]
  },
  {
   "cell_type": "code",
   "execution_count": 67,
   "metadata": {},
   "outputs": [],
   "source": [
    "Base.metadata.create_all(engine)"
   ]
  },
  {
   "cell_type": "code",
   "execution_count": 68,
   "metadata": {},
   "outputs": [],
   "source": [
    "Session = sessionmaker(bind=engine)\n",
    "session = Session()"
   ]
  },
  {
   "cell_type": "code",
   "execution_count": 69,
   "metadata": {},
   "outputs": [],
   "source": [
    "def disp(datas):\n",
    "    for data in datas:\n",
    "        print(data)"
   ]
  },
  {
   "cell_type": "code",
   "execution_count": 276,
   "metadata": {},
   "outputs": [
    {
     "data": {
      "text/plain": [
       "{'_sa_instance_state': <sqlalchemy.orm.state.InstanceState at 0x1131d5ac8>,\n",
       " 'album': '2Cellos',\n",
       " 'artist': '2Cellos',\n",
       " 'genre': 'Cello rock, classical crossover',\n",
       " 'index': 0,\n",
       " 'single_count': 3}"
      ]
     },
     "execution_count": 276,
     "metadata": {},
     "output_type": "execute_result"
    }
   ],
   "source": [
    "results = session.query(Debut).all()\n",
    "results[0].__dict__"
   ]
  },
  {
   "cell_type": "markdown",
   "metadata": {},
   "source": [
    "### Convert data into dataframe"
   ]
  },
  {
   "cell_type": "code",
   "execution_count": 209,
   "metadata": {},
   "outputs": [],
   "source": [
    "def orm_to_df(orm):\n",
    "\n",
    "    df = pd.DataFrame(columns=['artist', 'album', 'genre', 'single_count'])\n",
    "\n",
    "    for i in orm:\n",
    "\n",
    "        data = {\n",
    "            'artist' : i.__dict__['artist'],\n",
    "            'album' : i.__dict__['album'],\n",
    "            'genre' : i.__dict__['genre'],\n",
    "            'single_count' : i.__dict__['single_count'],\n",
    "        }\n",
    "        df.loc[len(df)] = data\n",
    "        \n",
    "    return df"
   ]
  },
  {
   "cell_type": "markdown",
   "metadata": {},
   "source": [
    "### Regroup genres into `hiphop`, `rnb`, `soul`, `funk`, `pop`"
   ]
  },
  {
   "cell_type": "code",
   "execution_count": 237,
   "metadata": {},
   "outputs": [
    {
     "name": "stdout",
     "output_type": "stream",
     "text": [
      "(294, 4)\n"
     ]
    },
    {
     "data": {
      "text/html": [
       "<div>\n",
       "<style scoped>\n",
       "    .dataframe tbody tr th:only-of-type {\n",
       "        vertical-align: middle;\n",
       "    }\n",
       "\n",
       "    .dataframe tbody tr th {\n",
       "        vertical-align: top;\n",
       "    }\n",
       "\n",
       "    .dataframe thead th {\n",
       "        text-align: right;\n",
       "    }\n",
       "</style>\n",
       "<table border=\"1\" class=\"dataframe\">\n",
       "  <thead>\n",
       "    <tr style=\"text-align: right;\">\n",
       "      <th></th>\n",
       "      <th>artist</th>\n",
       "      <th>album</th>\n",
       "      <th>genre</th>\n",
       "      <th>single_count</th>\n",
       "    </tr>\n",
       "  </thead>\n",
       "  <tbody>\n",
       "    <tr>\n",
       "      <th>0</th>\n",
       "      <td>Flash Bang Grenada</td>\n",
       "      <td>10 Haters</td>\n",
       "      <td>Alternative hip hop</td>\n",
       "      <td>0</td>\n",
       "    </tr>\n",
       "    <tr>\n",
       "      <th>1</th>\n",
       "      <td>Aggro Santos</td>\n",
       "      <td>AggroSantos.com</td>\n",
       "      <td>Hip hop, dance</td>\n",
       "      <td>3</td>\n",
       "    </tr>\n",
       "    <tr>\n",
       "      <th>2</th>\n",
       "      <td>AKA</td>\n",
       "      <td>Altar Ego</td>\n",
       "      <td>Hip hop, Rap, English, Setswana, isiZulu</td>\n",
       "      <td>4</td>\n",
       "    </tr>\n",
       "    <tr>\n",
       "      <th>3</th>\n",
       "      <td>Shlohmo</td>\n",
       "      <td>Bad Vibes</td>\n",
       "      <td>Electronic, instrumental hip hop</td>\n",
       "      <td>0</td>\n",
       "    </tr>\n",
       "    <tr>\n",
       "      <th>4</th>\n",
       "      <td>Glasses Malone</td>\n",
       "      <td>Beach Cruiser</td>\n",
       "      <td>Gangsta rap, West Coast hip hop</td>\n",
       "      <td>4</td>\n",
       "    </tr>\n",
       "  </tbody>\n",
       "</table>\n",
       "</div>"
      ],
      "text/plain": [
       "               artist            album  \\\n",
       "0  Flash Bang Grenada        10 Haters   \n",
       "1        Aggro Santos  AggroSantos.com   \n",
       "2                 AKA        Altar Ego   \n",
       "3             Shlohmo        Bad Vibes   \n",
       "4      Glasses Malone    Beach Cruiser   \n",
       "\n",
       "                                      genre single_count  \n",
       "0                       Alternative hip hop            0  \n",
       "1                            Hip hop, dance            3  \n",
       "2  Hip hop, Rap, English, Setswana, isiZulu            4  \n",
       "3          Electronic, instrumental hip hop            0  \n",
       "4           Gangsta rap, West Coast hip hop            4  "
      ]
     },
     "execution_count": 237,
     "metadata": {},
     "output_type": "execute_result"
    }
   ],
   "source": [
    "hiphop = session.query(Debut).filter(and_(~Debut.genre.contains(['K-pop']), Debut.genre.contains([\"hop\"])))\n",
    "hiphop_df = orm_to_df(hiphop)\n",
    "print(hiphop_df.shape)\n",
    "hiphop_df.head()"
   ]
  },
  {
   "cell_type": "code",
   "execution_count": 239,
   "metadata": {},
   "outputs": [
    {
     "name": "stdout",
     "output_type": "stream",
     "text": [
      "(80, 4)\n"
     ]
    },
    {
     "data": {
      "text/html": [
       "<div>\n",
       "<style scoped>\n",
       "    .dataframe tbody tr th:only-of-type {\n",
       "        vertical-align: middle;\n",
       "    }\n",
       "\n",
       "    .dataframe tbody tr th {\n",
       "        vertical-align: top;\n",
       "    }\n",
       "\n",
       "    .dataframe thead th {\n",
       "        text-align: right;\n",
       "    }\n",
       "</style>\n",
       "<table border=\"1\" class=\"dataframe\">\n",
       "  <thead>\n",
       "    <tr style=\"text-align: right;\">\n",
       "      <th></th>\n",
       "      <th>artist</th>\n",
       "      <th>album</th>\n",
       "      <th>genre</th>\n",
       "      <th>single_count</th>\n",
       "    </tr>\n",
       "  </thead>\n",
       "  <tbody>\n",
       "    <tr>\n",
       "      <th>0</th>\n",
       "      <td>AKA</td>\n",
       "      <td>Altar Ego</td>\n",
       "      <td>Hip hop, Rap, English, Setswana, isiZulu</td>\n",
       "      <td>4</td>\n",
       "    </tr>\n",
       "    <tr>\n",
       "      <th>1</th>\n",
       "      <td>Glasses Malone</td>\n",
       "      <td>Beach Cruiser</td>\n",
       "      <td>Gangsta rap, West Coast hip hop</td>\n",
       "      <td>4</td>\n",
       "    </tr>\n",
       "    <tr>\n",
       "      <th>2</th>\n",
       "      <td>Cities Aviv</td>\n",
       "      <td>Digital Lows</td>\n",
       "      <td>Alternative hip hop, cloud rap, experimental h...</td>\n",
       "      <td>0</td>\n",
       "    </tr>\n",
       "    <tr>\n",
       "      <th>3</th>\n",
       "      <td>B.G. Knocc Out</td>\n",
       "      <td>Eazy-E's Protege</td>\n",
       "      <td>G-funk, West Coast hip hop, Gangsta rap</td>\n",
       "      <td>1</td>\n",
       "    </tr>\n",
       "    <tr>\n",
       "      <th>4</th>\n",
       "      <td>Jay Rock</td>\n",
       "      <td>Follow Me Home</td>\n",
       "      <td>West coast hip hop, gangsta rap</td>\n",
       "      <td>2</td>\n",
       "    </tr>\n",
       "  </tbody>\n",
       "</table>\n",
       "</div>"
      ],
      "text/plain": [
       "           artist             album  \\\n",
       "0             AKA         Altar Ego   \n",
       "1  Glasses Malone     Beach Cruiser   \n",
       "2     Cities Aviv      Digital Lows   \n",
       "3  B.G. Knocc Out  Eazy-E's Protege   \n",
       "4        Jay Rock    Follow Me Home   \n",
       "\n",
       "                                               genre single_count  \n",
       "0           Hip hop, Rap, English, Setswana, isiZulu            4  \n",
       "1                    Gangsta rap, West Coast hip hop            4  \n",
       "2  Alternative hip hop, cloud rap, experimental h...            0  \n",
       "3            G-funk, West Coast hip hop, Gangsta rap            1  \n",
       "4                    West coast hip hop, gangsta rap            2  "
      ]
     },
     "execution_count": 239,
     "metadata": {},
     "output_type": "execute_result"
    }
   ],
   "source": [
    "rap = session.query(Debut).filter(and_(~Debut.genre.contains(['K-pop']), Debut.genre.contains([\"Rap\"])))\n",
    "rap_df = orm_to_df(rap)\n",
    "print(rap_df.shape)\n",
    "rap_df.head()"
   ]
  },
  {
   "cell_type": "code",
   "execution_count": 241,
   "metadata": {},
   "outputs": [
    {
     "name": "stdout",
     "output_type": "stream",
     "text": [
      "(28, 4)\n"
     ]
    },
    {
     "data": {
      "text/html": [
       "<div>\n",
       "<style scoped>\n",
       "    .dataframe tbody tr th:only-of-type {\n",
       "        vertical-align: middle;\n",
       "    }\n",
       "\n",
       "    .dataframe tbody tr th {\n",
       "        vertical-align: top;\n",
       "    }\n",
       "\n",
       "    .dataframe thead th {\n",
       "        text-align: right;\n",
       "    }\n",
       "</style>\n",
       "<table border=\"1\" class=\"dataframe\">\n",
       "  <thead>\n",
       "    <tr style=\"text-align: right;\">\n",
       "      <th></th>\n",
       "      <th>artist</th>\n",
       "      <th>album</th>\n",
       "      <th>genre</th>\n",
       "      <th>single_count</th>\n",
       "    </tr>\n",
       "  </thead>\n",
       "  <tbody>\n",
       "    <tr>\n",
       "      <th>0</th>\n",
       "      <td>Joke</td>\n",
       "      <td>Ateyaba</td>\n",
       "      <td>Hip hop, french rap, trap, Hardcore Rap, Dirty...</td>\n",
       "      <td>7</td>\n",
       "    </tr>\n",
       "    <tr>\n",
       "      <th>1</th>\n",
       "      <td>Dillon Francis</td>\n",
       "      <td>Money Sucks, Friends Rule</td>\n",
       "      <td>Electro house, EDM, synth-pop, trap, moombahton</td>\n",
       "      <td>7</td>\n",
       "    </tr>\n",
       "    <tr>\n",
       "      <th>2</th>\n",
       "      <td>Emtee</td>\n",
       "      <td>Avery</td>\n",
       "      <td>Trap, English, Sesotho, Setswana, isiZulu</td>\n",
       "      <td>5</td>\n",
       "    </tr>\n",
       "    <tr>\n",
       "      <th>3</th>\n",
       "      <td>Fetty Wap</td>\n",
       "      <td>Fetty Wap</td>\n",
       "      <td>Hip hop, trap</td>\n",
       "      <td>4</td>\n",
       "    </tr>\n",
       "    <tr>\n",
       "      <th>4</th>\n",
       "      <td>Lil Durk</td>\n",
       "      <td>Remember My Name</td>\n",
       "      <td>Hip hop, trap, drill</td>\n",
       "      <td>1</td>\n",
       "    </tr>\n",
       "  </tbody>\n",
       "</table>\n",
       "</div>"
      ],
      "text/plain": [
       "           artist                      album  \\\n",
       "0            Joke                    Ateyaba   \n",
       "1  Dillon Francis  Money Sucks, Friends Rule   \n",
       "2           Emtee                      Avery   \n",
       "3       Fetty Wap                  Fetty Wap   \n",
       "4        Lil Durk           Remember My Name   \n",
       "\n",
       "                                               genre single_count  \n",
       "0  Hip hop, french rap, trap, Hardcore Rap, Dirty...            7  \n",
       "1    Electro house, EDM, synth-pop, trap, moombahton            7  \n",
       "2          Trap, English, Sesotho, Setswana, isiZulu            5  \n",
       "3                                      Hip hop, trap            4  \n",
       "4                               Hip hop, trap, drill            1  "
      ]
     },
     "execution_count": 241,
     "metadata": {},
     "output_type": "execute_result"
    }
   ],
   "source": [
    "trap = session.query(Debut).filter(and_(~Debut.genre.contains(['K-pop']), Debut.genre.contains([\"trap\"])))\n",
    "trap_df = orm_to_df(trap)\n",
    "print(trap_df.shape)\n",
    "trap_df.head()"
   ]
  },
  {
   "cell_type": "code",
   "execution_count": 253,
   "metadata": {},
   "outputs": [],
   "source": [
    "hiphop_df = pd.concat([hiphop_df, rap_df, trap_df])\n",
    "hiphop_df.drop_duplicates(['artist', 'album'], inplace=True)\n",
    "hiphop_df['genre'] = \"hiphop\"\n",
    "hiphop_df"
   ]
  },
  {
   "cell_type": "code",
   "execution_count": 258,
   "metadata": {},
   "outputs": [
    {
     "name": "stdout",
     "output_type": "stream",
     "text": [
      "(200, 4)\n"
     ]
    },
    {
     "data": {
      "text/html": [
       "<div>\n",
       "<style scoped>\n",
       "    .dataframe tbody tr th:only-of-type {\n",
       "        vertical-align: middle;\n",
       "    }\n",
       "\n",
       "    .dataframe tbody tr th {\n",
       "        vertical-align: top;\n",
       "    }\n",
       "\n",
       "    .dataframe thead th {\n",
       "        text-align: right;\n",
       "    }\n",
       "</style>\n",
       "<table border=\"1\" class=\"dataframe\">\n",
       "  <thead>\n",
       "    <tr style=\"text-align: right;\">\n",
       "      <th></th>\n",
       "      <th>artist</th>\n",
       "      <th>album</th>\n",
       "      <th>genre</th>\n",
       "      <th>single_count</th>\n",
       "    </tr>\n",
       "  </thead>\n",
       "  <tbody>\n",
       "    <tr>\n",
       "      <th>195</th>\n",
       "      <td>Kali Uchis</td>\n",
       "      <td>Isolation</td>\n",
       "      <td>rnb</td>\n",
       "      <td>3</td>\n",
       "    </tr>\n",
       "    <tr>\n",
       "      <th>196</th>\n",
       "      <td>Chloe x Halle</td>\n",
       "      <td>The Kids Are Alright</td>\n",
       "      <td>rnb</td>\n",
       "      <td>2</td>\n",
       "    </tr>\n",
       "    <tr>\n",
       "      <th>197</th>\n",
       "      <td>Jorja Smith</td>\n",
       "      <td>Lost &amp; Found</td>\n",
       "      <td>rnb</td>\n",
       "      <td>3</td>\n",
       "    </tr>\n",
       "    <tr>\n",
       "      <th>198</th>\n",
       "      <td>NCT</td>\n",
       "      <td>NCT 2018 Empathy</td>\n",
       "      <td>rnb</td>\n",
       "      <td>6</td>\n",
       "    </tr>\n",
       "    <tr>\n",
       "      <th>199</th>\n",
       "      <td>Anne-Marie</td>\n",
       "      <td>Speak Your Mind</td>\n",
       "      <td>rnb</td>\n",
       "      <td>5</td>\n",
       "    </tr>\n",
       "  </tbody>\n",
       "</table>\n",
       "</div>"
      ],
      "text/plain": [
       "            artist                 album genre single_count\n",
       "195     Kali Uchis             Isolation   rnb            3\n",
       "196  Chloe x Halle  The Kids Are Alright   rnb            2\n",
       "197    Jorja Smith          Lost & Found   rnb            3\n",
       "198            NCT      NCT 2018 Empathy   rnb            6\n",
       "199     Anne-Marie       Speak Your Mind   rnb            5"
      ]
     },
     "execution_count": 258,
     "metadata": {},
     "output_type": "execute_result"
    }
   ],
   "source": [
    "rnb = session.query(Debut).filter(and_(~Debut.genre.contains(['K-pop']), Debut.genre.contains([\"R&B\"])))\n",
    "rnb_df = orm_to_df(results)\n",
    "rnb_df['genre'] = 'rnb'\n",
    "print(rnb_df.shape)\n",
    "rnb_df.tail()"
   ]
  },
  {
   "cell_type": "code",
   "execution_count": 259,
   "metadata": {},
   "outputs": [
    {
     "name": "stdout",
     "output_type": "stream",
     "text": [
      "(113, 4)\n"
     ]
    },
    {
     "data": {
      "text/html": [
       "<div>\n",
       "<style scoped>\n",
       "    .dataframe tbody tr th:only-of-type {\n",
       "        vertical-align: middle;\n",
       "    }\n",
       "\n",
       "    .dataframe tbody tr th {\n",
       "        vertical-align: top;\n",
       "    }\n",
       "\n",
       "    .dataframe thead th {\n",
       "        text-align: right;\n",
       "    }\n",
       "</style>\n",
       "<table border=\"1\" class=\"dataframe\">\n",
       "  <thead>\n",
       "    <tr style=\"text-align: right;\">\n",
       "      <th></th>\n",
       "      <th>artist</th>\n",
       "      <th>album</th>\n",
       "      <th>genre</th>\n",
       "      <th>single_count</th>\n",
       "    </tr>\n",
       "  </thead>\n",
       "  <tbody>\n",
       "    <tr>\n",
       "      <th>0</th>\n",
       "      <td>Andy Grammer</td>\n",
       "      <td>Andy Grammer</td>\n",
       "      <td>soul</td>\n",
       "      <td>3</td>\n",
       "    </tr>\n",
       "    <tr>\n",
       "      <th>1</th>\n",
       "      <td>Vintage Trouble</td>\n",
       "      <td>The Bomb Shelter Sessions</td>\n",
       "      <td>soul</td>\n",
       "      <td>3</td>\n",
       "    </tr>\n",
       "    <tr>\n",
       "      <th>2</th>\n",
       "      <td>The Horrible Crowes</td>\n",
       "      <td>Elsie</td>\n",
       "      <td>soul</td>\n",
       "      <td>1</td>\n",
       "    </tr>\n",
       "    <tr>\n",
       "      <th>3</th>\n",
       "      <td>Jamala</td>\n",
       "      <td>For Every Heart</td>\n",
       "      <td>soul</td>\n",
       "      <td>3</td>\n",
       "    </tr>\n",
       "    <tr>\n",
       "      <th>4</th>\n",
       "      <td>Graham Alexander</td>\n",
       "      <td>Graham Alexander</td>\n",
       "      <td>soul</td>\n",
       "      <td>0</td>\n",
       "    </tr>\n",
       "  </tbody>\n",
       "</table>\n",
       "</div>"
      ],
      "text/plain": [
       "                artist                      album genre single_count\n",
       "0         Andy Grammer               Andy Grammer  soul            3\n",
       "1      Vintage Trouble  The Bomb Shelter Sessions  soul            3\n",
       "2  The Horrible Crowes                      Elsie  soul            1\n",
       "3               Jamala            For Every Heart  soul            3\n",
       "4     Graham Alexander           Graham Alexander  soul            0"
      ]
     },
     "execution_count": 259,
     "metadata": {},
     "output_type": "execute_result"
    }
   ],
   "source": [
    "soul = session.query(Debut).filter(and_(~Debut.genre.contains(['K-pop']), Debut.genre.contains([\"soul\"])))\n",
    "soul_df = orm_to_df(soul)\n",
    "soul_df['genre'] = 'soul'\n",
    "print(soul_df.shape)\n",
    "soul_df.head()"
   ]
  },
  {
   "cell_type": "code",
   "execution_count": 260,
   "metadata": {},
   "outputs": [
    {
     "name": "stdout",
     "output_type": "stream",
     "text": [
      "(28, 4)\n"
     ]
    },
    {
     "data": {
      "text/html": [
       "<div>\n",
       "<style scoped>\n",
       "    .dataframe tbody tr th:only-of-type {\n",
       "        vertical-align: middle;\n",
       "    }\n",
       "\n",
       "    .dataframe tbody tr th {\n",
       "        vertical-align: top;\n",
       "    }\n",
       "\n",
       "    .dataframe thead th {\n",
       "        text-align: right;\n",
       "    }\n",
       "</style>\n",
       "<table border=\"1\" class=\"dataframe\">\n",
       "  <thead>\n",
       "    <tr style=\"text-align: right;\">\n",
       "      <th></th>\n",
       "      <th>artist</th>\n",
       "      <th>album</th>\n",
       "      <th>genre</th>\n",
       "      <th>single_count</th>\n",
       "    </tr>\n",
       "  </thead>\n",
       "  <tbody>\n",
       "    <tr>\n",
       "      <th>0</th>\n",
       "      <td>Ford &amp; Lopatin</td>\n",
       "      <td>Channel Pressure</td>\n",
       "      <td>funk</td>\n",
       "      <td>2</td>\n",
       "    </tr>\n",
       "    <tr>\n",
       "      <th>1</th>\n",
       "      <td>B.G. Knocc Out</td>\n",
       "      <td>Eazy-E's Protege</td>\n",
       "      <td>funk</td>\n",
       "      <td>1</td>\n",
       "    </tr>\n",
       "    <tr>\n",
       "      <th>2</th>\n",
       "      <td>Graham Alexander</td>\n",
       "      <td>Graham Alexander</td>\n",
       "      <td>funk</td>\n",
       "      <td>0</td>\n",
       "    </tr>\n",
       "    <tr>\n",
       "      <th>3</th>\n",
       "      <td>Katie Waissel</td>\n",
       "      <td>Katie Waissel</td>\n",
       "      <td>funk</td>\n",
       "      <td>0</td>\n",
       "    </tr>\n",
       "    <tr>\n",
       "      <th>4</th>\n",
       "      <td>Charles Bradley</td>\n",
       "      <td>No Time for Dreaming</td>\n",
       "      <td>funk</td>\n",
       "      <td>2</td>\n",
       "    </tr>\n",
       "  </tbody>\n",
       "</table>\n",
       "</div>"
      ],
      "text/plain": [
       "             artist                 album genre single_count\n",
       "0    Ford & Lopatin      Channel Pressure  funk            2\n",
       "1    B.G. Knocc Out      Eazy-E's Protege  funk            1\n",
       "2  Graham Alexander      Graham Alexander  funk            0\n",
       "3     Katie Waissel         Katie Waissel  funk            0\n",
       "4   Charles Bradley  No Time for Dreaming  funk            2"
      ]
     },
     "execution_count": 260,
     "metadata": {},
     "output_type": "execute_result"
    }
   ],
   "source": [
    "funk = session.query(Debut).filter(and_(~Debut.genre.contains(['K-pop']), Debut.genre.contains([\"funk\"])))\n",
    "funk_df = orm_to_df(funk)\n",
    "funk_df['genre'] = 'funk'\n",
    "print(funk_df.shape)\n",
    "funk_df.head()"
   ]
  },
  {
   "cell_type": "code",
   "execution_count": 261,
   "metadata": {},
   "outputs": [
    {
     "name": "stdout",
     "output_type": "stream",
     "text": [
      "(714, 4)\n"
     ]
    },
    {
     "data": {
      "text/html": [
       "<div>\n",
       "<style scoped>\n",
       "    .dataframe tbody tr th:only-of-type {\n",
       "        vertical-align: middle;\n",
       "    }\n",
       "\n",
       "    .dataframe tbody tr th {\n",
       "        vertical-align: top;\n",
       "    }\n",
       "\n",
       "    .dataframe thead th {\n",
       "        text-align: right;\n",
       "    }\n",
       "</style>\n",
       "<table border=\"1\" class=\"dataframe\">\n",
       "  <thead>\n",
       "    <tr style=\"text-align: right;\">\n",
       "      <th></th>\n",
       "      <th>artist</th>\n",
       "      <th>album</th>\n",
       "      <th>genre</th>\n",
       "      <th>single_count</th>\n",
       "    </tr>\n",
       "  </thead>\n",
       "  <tbody>\n",
       "    <tr>\n",
       "      <th>0</th>\n",
       "      <td>Her Majesty &amp; the Wolves</td>\n",
       "      <td>111</td>\n",
       "      <td>pop</td>\n",
       "      <td>3</td>\n",
       "    </tr>\n",
       "    <tr>\n",
       "      <th>1</th>\n",
       "      <td>CocknBullKid</td>\n",
       "      <td>Adulthood</td>\n",
       "      <td>pop</td>\n",
       "      <td>4</td>\n",
       "    </tr>\n",
       "    <tr>\n",
       "      <th>2</th>\n",
       "      <td>The Adults</td>\n",
       "      <td>The Adults</td>\n",
       "      <td>pop</td>\n",
       "      <td>0</td>\n",
       "    </tr>\n",
       "    <tr>\n",
       "      <th>3</th>\n",
       "      <td>Alexis Jordan</td>\n",
       "      <td>Alexis Jordan</td>\n",
       "      <td>pop</td>\n",
       "      <td>3</td>\n",
       "    </tr>\n",
       "    <tr>\n",
       "      <th>4</th>\n",
       "      <td>Amanda Fondell</td>\n",
       "      <td>All This Way</td>\n",
       "      <td>pop</td>\n",
       "      <td>1</td>\n",
       "    </tr>\n",
       "  </tbody>\n",
       "</table>\n",
       "</div>"
      ],
      "text/plain": [
       "                     artist          album genre single_count\n",
       "0  Her Majesty & the Wolves            111   pop            3\n",
       "1              CocknBullKid      Adulthood   pop            4\n",
       "2                The Adults     The Adults   pop            0\n",
       "3             Alexis Jordan  Alexis Jordan   pop            3\n",
       "4            Amanda Fondell   All This Way   pop            1"
      ]
     },
     "execution_count": 261,
     "metadata": {},
     "output_type": "execute_result"
    }
   ],
   "source": [
    "pop = session.query(Debut).filter(and_(~Debut.genre.contains(['K-pop']), Debut.genre.contains([\"pop\"])))\n",
    "pop_df = orm_to_df(pop)\n",
    "pop_df['genre'] = 'pop'\n",
    "print(pop_df.shape)\n",
    "pop_df.head()\n",
    "                                  \n",
    "# 그냥 팝은 731"
   ]
  },
  {
   "cell_type": "markdown",
   "metadata": {},
   "source": [
    "### Concat all genres and drop duplicates rows (overlapping genres)"
   ]
  },
  {
   "cell_type": "code",
   "execution_count": 280,
   "metadata": {},
   "outputs": [
    {
     "data": {
      "text/plain": [
       "1565"
      ]
     },
     "execution_count": 280,
     "metadata": {},
     "output_type": "execute_result"
    }
   ],
   "source": [
    "df_list = pd.concat([hiphop_df, rap_df, trap_df, rnb_df, soul_df, funk_df, pop_df])\n",
    "len(df_list)"
   ]
  },
  {
   "cell_type": "code",
   "execution_count": 281,
   "metadata": {},
   "outputs": [
    {
     "name": "stdout",
     "output_type": "stream",
     "text": [
      "(1098, 4)\n"
     ]
    },
    {
     "data": {
      "text/html": [
       "<div>\n",
       "<style scoped>\n",
       "    .dataframe tbody tr th:only-of-type {\n",
       "        vertical-align: middle;\n",
       "    }\n",
       "\n",
       "    .dataframe tbody tr th {\n",
       "        vertical-align: top;\n",
       "    }\n",
       "\n",
       "    .dataframe thead th {\n",
       "        text-align: right;\n",
       "    }\n",
       "</style>\n",
       "<table border=\"1\" class=\"dataframe\">\n",
       "  <thead>\n",
       "    <tr style=\"text-align: right;\">\n",
       "      <th></th>\n",
       "      <th>artist</th>\n",
       "      <th>album</th>\n",
       "      <th>genre</th>\n",
       "      <th>single_count</th>\n",
       "    </tr>\n",
       "  </thead>\n",
       "  <tbody>\n",
       "    <tr>\n",
       "      <th>0</th>\n",
       "      <td>Flash Bang Grenada</td>\n",
       "      <td>10 Haters</td>\n",
       "      <td>hiphop</td>\n",
       "      <td>0</td>\n",
       "    </tr>\n",
       "    <tr>\n",
       "      <th>1</th>\n",
       "      <td>Aggro Santos</td>\n",
       "      <td>AggroSantos.com</td>\n",
       "      <td>hiphop</td>\n",
       "      <td>3</td>\n",
       "    </tr>\n",
       "    <tr>\n",
       "      <th>2</th>\n",
       "      <td>AKA</td>\n",
       "      <td>Altar Ego</td>\n",
       "      <td>hiphop</td>\n",
       "      <td>4</td>\n",
       "    </tr>\n",
       "    <tr>\n",
       "      <th>3</th>\n",
       "      <td>Shlohmo</td>\n",
       "      <td>Bad Vibes</td>\n",
       "      <td>hiphop</td>\n",
       "      <td>0</td>\n",
       "    </tr>\n",
       "    <tr>\n",
       "      <th>4</th>\n",
       "      <td>Glasses Malone</td>\n",
       "      <td>Beach Cruiser</td>\n",
       "      <td>hiphop</td>\n",
       "      <td>4</td>\n",
       "    </tr>\n",
       "  </tbody>\n",
       "</table>\n",
       "</div>"
      ],
      "text/plain": [
       "               artist            album   genre single_count\n",
       "0  Flash Bang Grenada        10 Haters  hiphop            0\n",
       "1        Aggro Santos  AggroSantos.com  hiphop            3\n",
       "2                 AKA        Altar Ego  hiphop            4\n",
       "3             Shlohmo        Bad Vibes  hiphop            0\n",
       "4      Glasses Malone    Beach Cruiser  hiphop            4"
      ]
     },
     "execution_count": 281,
     "metadata": {},
     "output_type": "execute_result"
    }
   ],
   "source": [
    "df_list = df_list.drop_duplicates(['artist', 'album'])\n",
    "print(df_list.shape)\n",
    "df_list.head()"
   ]
  },
  {
   "cell_type": "markdown",
   "metadata": {},
   "source": [
    "### Save to csv file"
   ]
  },
  {
   "cell_type": "code",
   "execution_count": 283,
   "metadata": {},
   "outputs": [],
   "source": [
    "df_list.to_csv('../data/debut_artist_1118_ver2.csv', index=False)"
   ]
  },
  {
   "cell_type": "code",
   "execution_count": null,
   "metadata": {},
   "outputs": [],
   "source": []
  }
 ],
 "metadata": {
  "kernelspec": {
   "display_name": "Python 3",
   "language": "python",
   "name": "python3"
  },
  "language_info": {
   "codemirror_mode": {
    "name": "ipython",
    "version": 3
   },
   "file_extension": ".py",
   "mimetype": "text/x-python",
   "name": "python",
   "nbconvert_exporter": "python",
   "pygments_lexer": "ipython3",
   "version": "3.6.2"
  }
 },
 "nbformat": 4,
 "nbformat_minor": 2
}
