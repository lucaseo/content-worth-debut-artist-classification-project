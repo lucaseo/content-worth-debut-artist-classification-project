{
 "cells": [
  {
   "cell_type": "code",
   "execution_count": 1,
   "metadata": {},
   "outputs": [],
   "source": [
    "import requests\n",
    "import pandas as pd\n",
    "from bs4 import BeautifulSoup\n",
    "import json\n",
    "from urllib.request import urlopen\n",
    "from tqdm import tqdm_notebook\n",
    "import datetime"
   ]
  },
  {
   "cell_type": "code",
   "execution_count": 2,
   "metadata": {},
   "outputs": [],
   "source": [
    "def get_metacritic():\n",
    "\n",
    "    df_meta = pd.DataFrame(columns=['artist', 'album', 'meta', 'user', 'date'])\n",
    "\n",
    "    for page in tqdm_notebook(range(50+1)):\n",
    "        url = 'http://www.metacritic.com/browse/albums/release-date/available/date?page='+str(page)\n",
    "        headers = {'User-Agent': 'Mozilla/5.0 (Macintosh; Intel Mac OS X 10_13_4) AppleWebKit/537.36 (KHTML, like Gecko) Chrome/65.0.3325.181 Safari/537.36'}\n",
    "        response = requests.get(url, headers=headers)\n",
    "        soup = BeautifulSoup(response.content, 'html.parser')\n",
    "        base = soup.find_all(\"li\", {\"class\": \"product\"})\n",
    "\n",
    "        for i in range(len(base)):\n",
    "\n",
    "            row = base[i]\n",
    "\n",
    "            artist = row.select(\".stat.product_artist span\")[1].get_text()\n",
    "            tmp = row.select(\".basic_stat.product_title > a\")[0].get_text()\n",
    "            album = tmp[29:-53]\n",
    "            date = row.select(\"div.basic_stat.condensed_stats > ul > li.stat.release_date.full_release_date > span.data\")[0].get_text()\n",
    "            meta = float(row.select(\".metascore_w\")[0].get_text())\n",
    "            user = row.select(\".product_avguserscore span\")[1].get_text()\n",
    "\n",
    "            input_data = {\n",
    "                'artist' : artist,\n",
    "                'album' : album,\n",
    "                'date' : date,\n",
    "                'meta' : meta,\n",
    "                'user' : user,\n",
    "            }\n",
    "\n",
    "            df_meta.loc[len(df_meta)] = input_data\n",
    "        \n",
    "    return df_meta"
   ]
  },
  {
   "cell_type": "code",
   "execution_count": 3,
   "metadata": {},
   "outputs": [
    {
     "data": {
      "application/vnd.jupyter.widget-view+json": {
       "model_id": "a7ac7cc02fb24773aebacba0d29a8c07",
       "version_major": 2,
       "version_minor": 0
      },
      "text/html": [
       "<p>Failed to display Jupyter Widget of type <code>HBox</code>.</p>\n",
       "<p>\n",
       "  If you're reading this message in the Jupyter Notebook or JupyterLab Notebook, it may mean\n",
       "  that the widgets JavaScript is still loading. If this message persists, it\n",
       "  likely means that the widgets JavaScript library is either not installed or\n",
       "  not enabled. See the <a href=\"https://ipywidgets.readthedocs.io/en/stable/user_install.html\">Jupyter\n",
       "  Widgets Documentation</a> for setup instructions.\n",
       "</p>\n",
       "<p>\n",
       "  If you're reading this message in another frontend (for example, a static\n",
       "  rendering on GitHub or <a href=\"https://nbviewer.jupyter.org/\">NBViewer</a>),\n",
       "  it may mean that your frontend doesn't currently support widgets.\n",
       "</p>\n"
      ],
      "text/plain": [
       "HBox(children=(IntProgress(value=0, max=51), HTML(value='')))"
      ]
     },
     "metadata": {},
     "output_type": "display_data"
    },
    {
     "name": "stdout",
     "output_type": "stream",
     "text": [
      "\n"
     ]
    }
   ],
   "source": [
    "metacritic_score = get_metacritic()"
   ]
  },
  {
   "cell_type": "code",
   "execution_count": 4,
   "metadata": {},
   "outputs": [
    {
     "name": "stdout",
     "output_type": "stream",
     "text": [
      "(6800, 5)\n"
     ]
    },
    {
     "data": {
      "text/html": [
       "<div>\n",
       "<style scoped>\n",
       "    .dataframe tbody tr th:only-of-type {\n",
       "        vertical-align: middle;\n",
       "    }\n",
       "\n",
       "    .dataframe tbody tr th {\n",
       "        vertical-align: top;\n",
       "    }\n",
       "\n",
       "    .dataframe thead th {\n",
       "        text-align: right;\n",
       "    }\n",
       "</style>\n",
       "<table border=\"1\" class=\"dataframe\">\n",
       "  <thead>\n",
       "    <tr style=\"text-align: right;\">\n",
       "      <th></th>\n",
       "      <th>artist</th>\n",
       "      <th>album</th>\n",
       "      <th>meta</th>\n",
       "      <th>user</th>\n",
       "      <th>date</th>\n",
       "    </tr>\n",
       "  </thead>\n",
       "  <tbody>\n",
       "    <tr>\n",
       "      <th>0</th>\n",
       "      <td>Sleep</td>\n",
       "      <td>The Sciences</td>\n",
       "      <td>86.0</td>\n",
       "      <td>tbd</td>\n",
       "      <td>Apr 20, 2018</td>\n",
       "    </tr>\n",
       "    <tr>\n",
       "      <th>1</th>\n",
       "      <td>Lord Huron</td>\n",
       "      <td>Vide Noir</td>\n",
       "      <td>70.0</td>\n",
       "      <td>8.1</td>\n",
       "      <td>Apr 20, 2018</td>\n",
       "    </tr>\n",
       "    <tr>\n",
       "      <th>2</th>\n",
       "      <td>Alexis Taylor</td>\n",
       "      <td>Beautiful Thing</td>\n",
       "      <td>71.0</td>\n",
       "      <td>tbd</td>\n",
       "      <td>Apr 20, 2018</td>\n",
       "    </tr>\n",
       "    <tr>\n",
       "      <th>3</th>\n",
       "      <td>Old Crow Medicine Show</td>\n",
       "      <td>Volunteer</td>\n",
       "      <td>85.0</td>\n",
       "      <td>tbd</td>\n",
       "      <td>Apr 20, 2018</td>\n",
       "    </tr>\n",
       "    <tr>\n",
       "      <th>4</th>\n",
       "      <td>Drinks</td>\n",
       "      <td>Hippo Lite</td>\n",
       "      <td>74.0</td>\n",
       "      <td>tbd</td>\n",
       "      <td>Apr 20, 2018</td>\n",
       "    </tr>\n",
       "  </tbody>\n",
       "</table>\n",
       "</div>"
      ],
      "text/plain": [
       "                   artist            album  meta user          date\n",
       "0                   Sleep     The Sciences  86.0  tbd  Apr 20, 2018\n",
       "1              Lord Huron        Vide Noir  70.0  8.1  Apr 20, 2018\n",
       "2           Alexis Taylor  Beautiful Thing  71.0  tbd  Apr 20, 2018\n",
       "3  Old Crow Medicine Show        Volunteer  85.0  tbd  Apr 20, 2018\n",
       "4                  Drinks       Hippo Lite  74.0  tbd  Apr 20, 2018"
      ]
     },
     "execution_count": 4,
     "metadata": {},
     "output_type": "execute_result"
    }
   ],
   "source": [
    "print(metacritic_score.shape)\n",
    "metacritic_score.head()"
   ]
  },
  {
   "cell_type": "code",
   "execution_count": 5,
   "metadata": {},
   "outputs": [],
   "source": [
    "metacritic_score.to_csv(\"../data/scrapy-metacritic-1118\", index=False)"
   ]
  },
  {
   "cell_type": "code",
   "execution_count": null,
   "metadata": {},
   "outputs": [],
   "source": []
  }
 ],
 "metadata": {
  "kernelspec": {
   "display_name": "Python 3",
   "language": "python",
   "name": "python3"
  },
  "language_info": {
   "codemirror_mode": {
    "name": "ipython",
    "version": 3
   },
   "file_extension": ".py",
   "mimetype": "text/x-python",
   "name": "python",
   "nbconvert_exporter": "python",
   "pygments_lexer": "ipython3",
   "version": "3.6.2"
  }
 },
 "nbformat": 4,
 "nbformat_minor": 2
}
